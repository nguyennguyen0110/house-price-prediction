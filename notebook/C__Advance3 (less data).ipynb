{
 "cells": [
  {
   "cell_type": "markdown",
   "id": "dc98679c-2ce0-49fc-bcd3-538a78cf3b9e",
   "metadata": {},
   "source": [
    "# 6. Advance"
   ]
  },
  {
   "cell_type": "markdown",
   "id": "d7f01a43-4e70-4c25-aacf-1d3264abcd3a",
   "metadata": {},
   "source": [
    "Load lại data."
   ]
  },
  {
   "cell_type": "code",
   "execution_count": 1,
   "id": "7bb337da-a643-451d-b063-b8a754a200e9",
   "metadata": {},
   "outputs": [],
   "source": [
    "import pandas as pd\n",
    "import matplotlib.pyplot as plt\n",
    "import seaborn as sns\n",
    "import numpy as np\n",
    "import tensorflow as tf\n",
    "import joblib\n",
    "\n",
    "from sklearn.linear_model import LinearRegression, ElasticNet, Lasso, Ridge\n",
    "from sklearn.ensemble import RandomForestRegressor, VotingRegressor\n",
    "from sklearn.svm import SVR\n",
    "from sklearn.metrics import r2_score, mean_absolute_percentage_error\n",
    "from sklearn.model_selection import train_test_split, GridSearchCV\n",
    "from sklearn.preprocessing import MinMaxScaler, RobustScaler\n",
    "from sklearn.pipeline import make_pipeline\n",
    "\n",
    "from lightgbm import LGBMRegressor\n",
    "from scipy.stats import skew\n",
    "\n",
    "pd.options.display.float_format = '{:,.4f}'.format"
   ]
  },
  {
   "cell_type": "code",
   "execution_count": 2,
   "id": "81ceeebf-11fa-4955-a28e-4bd77151d36e",
   "metadata": {},
   "outputs": [
    {
     "data": {
      "text/html": [
       "<div>\n",
       "<style scoped>\n",
       "    .dataframe tbody tr th:only-of-type {\n",
       "        vertical-align: middle;\n",
       "    }\n",
       "\n",
       "    .dataframe tbody tr th {\n",
       "        vertical-align: top;\n",
       "    }\n",
       "\n",
       "    .dataframe thead th {\n",
       "        text-align: right;\n",
       "    }\n",
       "</style>\n",
       "<table border=\"1\" class=\"dataframe\">\n",
       "  <thead>\n",
       "    <tr style=\"text-align: right;\">\n",
       "      <th></th>\n",
       "      <th>Id</th>\n",
       "      <th>MSSubClass</th>\n",
       "      <th>MSZoning</th>\n",
       "      <th>LotFrontage</th>\n",
       "      <th>LotArea</th>\n",
       "      <th>Street</th>\n",
       "      <th>Alley</th>\n",
       "      <th>LotShape</th>\n",
       "      <th>LandContour</th>\n",
       "      <th>Utilities</th>\n",
       "      <th>...</th>\n",
       "      <th>PoolArea</th>\n",
       "      <th>PoolQC</th>\n",
       "      <th>Fence</th>\n",
       "      <th>MiscFeature</th>\n",
       "      <th>MiscVal</th>\n",
       "      <th>MoSold</th>\n",
       "      <th>YrSold</th>\n",
       "      <th>SaleType</th>\n",
       "      <th>SaleCondition</th>\n",
       "      <th>SalePrice</th>\n",
       "    </tr>\n",
       "  </thead>\n",
       "  <tbody>\n",
       "    <tr>\n",
       "      <th>0</th>\n",
       "      <td>1</td>\n",
       "      <td>60</td>\n",
       "      <td>RL</td>\n",
       "      <td>65.0000</td>\n",
       "      <td>8450</td>\n",
       "      <td>Pave</td>\n",
       "      <td>NaN</td>\n",
       "      <td>Reg</td>\n",
       "      <td>Lvl</td>\n",
       "      <td>AllPub</td>\n",
       "      <td>...</td>\n",
       "      <td>0</td>\n",
       "      <td>NaN</td>\n",
       "      <td>NaN</td>\n",
       "      <td>NaN</td>\n",
       "      <td>0</td>\n",
       "      <td>2</td>\n",
       "      <td>2008</td>\n",
       "      <td>WD</td>\n",
       "      <td>Normal</td>\n",
       "      <td>208500</td>\n",
       "    </tr>\n",
       "    <tr>\n",
       "      <th>1</th>\n",
       "      <td>2</td>\n",
       "      <td>20</td>\n",
       "      <td>RL</td>\n",
       "      <td>80.0000</td>\n",
       "      <td>9600</td>\n",
       "      <td>Pave</td>\n",
       "      <td>NaN</td>\n",
       "      <td>Reg</td>\n",
       "      <td>Lvl</td>\n",
       "      <td>AllPub</td>\n",
       "      <td>...</td>\n",
       "      <td>0</td>\n",
       "      <td>NaN</td>\n",
       "      <td>NaN</td>\n",
       "      <td>NaN</td>\n",
       "      <td>0</td>\n",
       "      <td>5</td>\n",
       "      <td>2007</td>\n",
       "      <td>WD</td>\n",
       "      <td>Normal</td>\n",
       "      <td>181500</td>\n",
       "    </tr>\n",
       "    <tr>\n",
       "      <th>2</th>\n",
       "      <td>3</td>\n",
       "      <td>60</td>\n",
       "      <td>RL</td>\n",
       "      <td>68.0000</td>\n",
       "      <td>11250</td>\n",
       "      <td>Pave</td>\n",
       "      <td>NaN</td>\n",
       "      <td>IR1</td>\n",
       "      <td>Lvl</td>\n",
       "      <td>AllPub</td>\n",
       "      <td>...</td>\n",
       "      <td>0</td>\n",
       "      <td>NaN</td>\n",
       "      <td>NaN</td>\n",
       "      <td>NaN</td>\n",
       "      <td>0</td>\n",
       "      <td>9</td>\n",
       "      <td>2008</td>\n",
       "      <td>WD</td>\n",
       "      <td>Normal</td>\n",
       "      <td>223500</td>\n",
       "    </tr>\n",
       "    <tr>\n",
       "      <th>3</th>\n",
       "      <td>4</td>\n",
       "      <td>70</td>\n",
       "      <td>RL</td>\n",
       "      <td>60.0000</td>\n",
       "      <td>9550</td>\n",
       "      <td>Pave</td>\n",
       "      <td>NaN</td>\n",
       "      <td>IR1</td>\n",
       "      <td>Lvl</td>\n",
       "      <td>AllPub</td>\n",
       "      <td>...</td>\n",
       "      <td>0</td>\n",
       "      <td>NaN</td>\n",
       "      <td>NaN</td>\n",
       "      <td>NaN</td>\n",
       "      <td>0</td>\n",
       "      <td>2</td>\n",
       "      <td>2006</td>\n",
       "      <td>WD</td>\n",
       "      <td>Abnorml</td>\n",
       "      <td>140000</td>\n",
       "    </tr>\n",
       "    <tr>\n",
       "      <th>4</th>\n",
       "      <td>5</td>\n",
       "      <td>60</td>\n",
       "      <td>RL</td>\n",
       "      <td>84.0000</td>\n",
       "      <td>14260</td>\n",
       "      <td>Pave</td>\n",
       "      <td>NaN</td>\n",
       "      <td>IR1</td>\n",
       "      <td>Lvl</td>\n",
       "      <td>AllPub</td>\n",
       "      <td>...</td>\n",
       "      <td>0</td>\n",
       "      <td>NaN</td>\n",
       "      <td>NaN</td>\n",
       "      <td>NaN</td>\n",
       "      <td>0</td>\n",
       "      <td>12</td>\n",
       "      <td>2008</td>\n",
       "      <td>WD</td>\n",
       "      <td>Normal</td>\n",
       "      <td>250000</td>\n",
       "    </tr>\n",
       "  </tbody>\n",
       "</table>\n",
       "<p>5 rows × 81 columns</p>\n",
       "</div>"
      ],
      "text/plain": [
       "   Id  MSSubClass MSZoning  LotFrontage  LotArea Street Alley LotShape  \\\n",
       "0   1          60       RL      65.0000     8450   Pave   NaN      Reg   \n",
       "1   2          20       RL      80.0000     9600   Pave   NaN      Reg   \n",
       "2   3          60       RL      68.0000    11250   Pave   NaN      IR1   \n",
       "3   4          70       RL      60.0000     9550   Pave   NaN      IR1   \n",
       "4   5          60       RL      84.0000    14260   Pave   NaN      IR1   \n",
       "\n",
       "  LandContour Utilities  ... PoolArea PoolQC Fence MiscFeature MiscVal MoSold  \\\n",
       "0         Lvl    AllPub  ...        0    NaN   NaN         NaN       0      2   \n",
       "1         Lvl    AllPub  ...        0    NaN   NaN         NaN       0      5   \n",
       "2         Lvl    AllPub  ...        0    NaN   NaN         NaN       0      9   \n",
       "3         Lvl    AllPub  ...        0    NaN   NaN         NaN       0      2   \n",
       "4         Lvl    AllPub  ...        0    NaN   NaN         NaN       0     12   \n",
       "\n",
       "  YrSold  SaleType  SaleCondition  SalePrice  \n",
       "0   2008        WD         Normal     208500  \n",
       "1   2007        WD         Normal     181500  \n",
       "2   2008        WD         Normal     223500  \n",
       "3   2006        WD        Abnorml     140000  \n",
       "4   2008        WD         Normal     250000  \n",
       "\n",
       "[5 rows x 81 columns]"
      ]
     },
     "execution_count": 2,
     "metadata": {},
     "output_type": "execute_result"
    }
   ],
   "source": [
    "data = pd.read_csv(filepath_or_buffer=\"../data/house_price.csv\")\n",
    "data.head()"
   ]
  },
  {
   "cell_type": "markdown",
   "id": "1e8611c4-9f54-448f-9f18-38dfb55dac6f",
   "metadata": {},
   "source": [
    "Chuyển \"YearBuilt\" và \"YearRemodAdd\" thành tuổi"
   ]
  },
  {
   "cell_type": "code",
   "execution_count": 3,
   "id": "e26eda91-a148-4c8e-bb73-93f22cdcf7db",
   "metadata": {},
   "outputs": [],
   "source": [
    "data[\"HouseAge\"] = data[\"YrSold\"] - data[\"YearBuilt\"]\n",
    "data[\"RemodelAge\"] = data[\"YrSold\"] - data[\"YearRemodAdd\"]\n",
    "\n",
    "data = data.drop(columns=[\"YearBuilt\", \"YearRemodAdd\", \"YrSold\"])"
   ]
  },
  {
   "cell_type": "markdown",
   "id": "35370696-1081-48d6-9c63-1796313cd9cb",
   "metadata": {},
   "source": [
    "Lấy các đặc trưng đã chọn"
   ]
  },
  {
   "cell_type": "code",
   "execution_count": 4,
   "id": "5d7f7ad5-a515-4cfb-9fdd-77cc9b42cdce",
   "metadata": {},
   "outputs": [],
   "source": [
    "mi_columns = ['OverallQual', 'GrLivArea', 'GarageCars', 'TotalBsmtSF', 'ExterQual', 'BsmtQual', 'KitchenQual', '1stFlrSF', 'GarageArea', 'HouseAge',\n",
    "              'MSSubClass', 'GarageFinish', 'FullBath', 'LotFrontage', '2ndFlrSF', 'LotArea', 'TotRmsAbvGrd', 'RemodelAge', 'BsmtFinSF1', 'HeatingQC',\n",
    "              'Fireplaces', 'OpenPorchSF', 'BsmtUnfSF', 'OverallCond', 'MasVnrArea',\n",
    "              'Neighborhood', 'GarageType', 'Foundation', 'Exterior2nd', 'BsmtFinType1', 'Exterior1st', 'MSZoning', 'SalePrice']\n",
    "data = data[mi_columns]"
   ]
  },
  {
   "cell_type": "markdown",
   "id": "c72a741a-bea1-4499-8fe6-a1074920d0e8",
   "metadata": {},
   "source": [
    "Xử lý giá trị NaN và các outlier."
   ]
  },
  {
   "cell_type": "code",
   "execution_count": 5,
   "id": "d047d5b4-558e-4ba3-8f99-3720a99092cb",
   "metadata": {},
   "outputs": [],
   "source": [
    "fillna_values = {\n",
    "    \"BsmtQual\": \"No_bsmt\",\n",
    "    \"GarageFinish\": \"No_gara\",\n",
    "    \"LotFrontage\": 0,\n",
    "    \"MasVnrArea\": 0,\n",
    "    \"GarageType\": \"No_gara\",\n",
    "    \"BsmtFinType1\": \"No_bsmt\"\n",
    "}\n",
    "data = data.fillna(value=fillna_values)"
   ]
  },
  {
   "cell_type": "code",
   "execution_count": 6,
   "id": "783ef063-35ee-4d15-852f-3225fdecceb3",
   "metadata": {},
   "outputs": [],
   "source": [
    "# Sort data by \"SalePrice\" then remove 2 largest values\n",
    "data = data.sort_values(by=\"SalePrice\", ascending=False)\n",
    "data = data.drop(index=[data.index[0], data.index[1]])\n",
    "\n",
    "# Sort data by \"SalePrice\" then remove 5 smallest values\n",
    "data = data.sort_values(by=\"SalePrice\", ascending=True)\n",
    "data = data.drop(index=[data.index[0], data.index[1], data.index[2], data.index[3], data.index[4]])\n",
    "\n",
    "# Sort data by \"LotFrontage\" then remove largest value\n",
    "data = data.sort_values(by=\"LotFrontage\", ascending=False)\n",
    "data = data.drop(index=[data.index[0], data.index[1]])\n",
    "\n",
    "# Sort data by \"LotArea\" then remove 4 largest values\n",
    "data = data.sort_values(by=\"LotArea\", ascending=False)\n",
    "data = data.drop(index=[data.index[0], data.index[1], data.index[2], data.index[3]])\n",
    "\n",
    "# Sort data by \"GrLivArea\" then remove largest value\n",
    "data = data.sort_values(by=\"GrLivArea\", ascending=False)\n",
    "data = data.drop(index=[data.index[0]])"
   ]
  },
  {
   "cell_type": "markdown",
   "id": "b282551e-e410-4509-8558-a972ed89c01f",
   "metadata": {},
   "source": [
    "Label Encoding"
   ]
  },
  {
   "cell_type": "code",
   "execution_count": 7,
   "id": "33a8589f-d73f-4aa8-bc29-c7ed75927b0a",
   "metadata": {},
   "outputs": [],
   "source": [
    "data[\"ExterQual\"] = data[\"ExterQual\"].map({\"Po\": 1, \"Fa\": 2, \"TA\": 3, \"Gd\": 4, \"Ex\": 5})\n",
    "data[\"BsmtQual\"] = data[\"BsmtQual\"].map({\"No_bsmt\": 0, \"Po\": 1, \"Fa\": 2, \"TA\": 3, \"Gd\": 4, \"Ex\": 5})\n",
    "data[\"HeatingQC\"] =data[\"HeatingQC\"].map({\"Po\": 1, \"Fa\": 2, \"TA\": 3, \"Gd\": 4, \"Ex\": 5})\n",
    "data[\"KitchenQual\"] = data[\"KitchenQual\"].map({\"Po\": 1, \"Fa\": 2, \"TA\": 3, \"Gd\": 4, \"Ex\": 5})\n",
    "data[\"GarageFinish\"] = data[\"GarageFinish\"].map({\"No_gara\": 0, \"Unf\": 1, \"RFn\": 2, \"Fin\": 3})"
   ]
  },
  {
   "cell_type": "markdown",
   "id": "35f8c16d-e8e8-414c-b1b1-18a09e9ff4b3",
   "metadata": {},
   "source": [
    "Xử lý các cột dạng số không có phân phối đều"
   ]
  },
  {
   "cell_type": "code",
   "execution_count": 8,
   "id": "103f607b-636b-441c-b501-6f2c830d872d",
   "metadata": {},
   "outputs": [],
   "source": [
    "numerical_columns = data.select_dtypes(exclude=[\"object\"]).columns.tolist()\n",
    "\n",
    "skewed_features = data[numerical_columns].apply(lambda x: skew(x.dropna()))\n",
    "skewed_features = skewed_features[skewed_features > 0.75]\n",
    "skewed_features = skewed_features.index\n",
    "\n",
    "for f in skewed_features:\n",
    "    data[f] = np.log1p(data[f])"
   ]
  },
  {
   "cell_type": "markdown",
   "id": "df8fac24-7d9f-4166-acb9-ef8c4fa3b8eb",
   "metadata": {},
   "source": [
    "Mã hóa one-hot cho tát cả các cột dạng category. Sau đó phân chia thành dữ liệu huấn luyện và kiểm tra."
   ]
  },
  {
   "cell_type": "code",
   "execution_count": 9,
   "id": "bd4018d8-f918-495b-8ee1-be5f4e57f853",
   "metadata": {},
   "outputs": [],
   "source": [
    "X = data.drop(columns=[\"SalePrice\"])\n",
    "y = data[\"SalePrice\"]\n",
    "\n",
    "X = pd.get_dummies(data=X)\n",
    "\n",
    "X_train, X_test, y_train, y_test = train_test_split(X, y, test_size=0.2, random_state=10)"
   ]
  },
  {
   "cell_type": "markdown",
   "id": "b4cfdcd7-859a-45a4-be73-11052bb949e4",
   "metadata": {
    "tags": []
   },
   "source": [
    "Chuẩn hóa các cột dạng số về khoảng giá trị 0 đến 1"
   ]
  },
  {
   "cell_type": "code",
   "execution_count": 10,
   "id": "eed89d06-29e5-4b36-8d5b-d6b11a8c0db7",
   "metadata": {},
   "outputs": [],
   "source": [
    "numerical_columns.remove(\"SalePrice\")\n",
    "\n",
    "scaler = MinMaxScaler()\n",
    "scaler.fit(X=X_train[numerical_columns])\n",
    "\n",
    "X_train[numerical_columns] = scaler.transform(X_train[numerical_columns])\n",
    "X_test[numerical_columns] = scaler.transform(X_test[numerical_columns])"
   ]
  },
  {
   "cell_type": "markdown",
   "id": "35a8badf-92cb-4061-9f73-2b48053c8ae9",
   "metadata": {},
   "source": [
    "Lập mô hình"
   ]
  },
  {
   "cell_type": "code",
   "execution_count": 11,
   "id": "443cc253-b7f4-45f0-93ce-9943f10717d9",
   "metadata": {},
   "outputs": [],
   "source": [
    "def get_result(model, X_test, y_test=y_test):\n",
    "    predictions = model.predict(X_test)\n",
    "    r2 = r2_score(y_true=np.expm1(y_test), y_pred=np.expm1(predictions))\n",
    "    mape = mean_absolute_percentage_error(y_true=np.expm1(y_test), y_pred=np.expm1(predictions))\n",
    "    return {\"MAPE\": mape*100, \"R2 score\": r2}"
   ]
  },
  {
   "cell_type": "code",
   "execution_count": 12,
   "id": "cc18f50a-6930-417d-8061-1e8cd7f0ea14",
   "metadata": {},
   "outputs": [],
   "source": [
    "lasso_model = Lasso()\n",
    "lasso_model.fit(X_train, y_train)\n",
    "lasso_result = get_result(lasso_model, X_test=X_test)\n",
    "\n",
    "ridge_model = Ridge()\n",
    "ridge_model.fit(X_train, y_train)\n",
    "ridge_result = get_result(ridge_model, X_test=X_test)\n",
    "\n",
    "elastic_model = ElasticNet()\n",
    "elastic_model.fit(X_train, y_train)\n",
    "elastic_result = get_result(elastic_model, X_test=X_test)\n",
    "\n",
    "random_forest = RandomForestRegressor()\n",
    "random_forest.fit(X_train, y_train)\n",
    "random_forest_result = get_result(random_forest, X_test=X_test)\n",
    "\n",
    "SVR_model = SVR()\n",
    "SVR_model.fit(X_train, y_train)\n",
    "SVR_result = get_result(SVR_model, X_test=X_test)\n",
    "\n",
    "LGBM_model = LGBMRegressor()\n",
    "LGBM_model.fit(X_train, y_train)\n",
    "LGBM_result = get_result(LGBM_model, X_test=X_test)"
   ]
  },
  {
   "cell_type": "code",
   "execution_count": 13,
   "id": "e6a8196a-2bf0-446c-8389-a4ad0d6f708d",
   "metadata": {},
   "outputs": [
    {
     "data": {
      "text/html": [
       "<div>\n",
       "<style scoped>\n",
       "    .dataframe tbody tr th:only-of-type {\n",
       "        vertical-align: middle;\n",
       "    }\n",
       "\n",
       "    .dataframe tbody tr th {\n",
       "        vertical-align: top;\n",
       "    }\n",
       "\n",
       "    .dataframe thead th {\n",
       "        text-align: right;\n",
       "    }\n",
       "</style>\n",
       "<table border=\"1\" class=\"dataframe\">\n",
       "  <thead>\n",
       "    <tr style=\"text-align: right;\">\n",
       "      <th></th>\n",
       "      <th>MAPE</th>\n",
       "      <th>R2 score</th>\n",
       "    </tr>\n",
       "  </thead>\n",
       "  <tbody>\n",
       "    <tr>\n",
       "      <th>Ridge</th>\n",
       "      <td>7.6814</td>\n",
       "      <td>0.9304</td>\n",
       "    </tr>\n",
       "    <tr>\n",
       "      <th>SVR</th>\n",
       "      <td>8.8795</td>\n",
       "      <td>0.9137</td>\n",
       "    </tr>\n",
       "    <tr>\n",
       "      <th>LGBM</th>\n",
       "      <td>8.9778</td>\n",
       "      <td>0.8976</td>\n",
       "    </tr>\n",
       "    <tr>\n",
       "      <th>Random forest</th>\n",
       "      <td>9.6664</td>\n",
       "      <td>0.8820</td>\n",
       "    </tr>\n",
       "    <tr>\n",
       "      <th>Lasso</th>\n",
       "      <td>30.4453</td>\n",
       "      <td>-0.0294</td>\n",
       "    </tr>\n",
       "    <tr>\n",
       "      <th>ElasticNet</th>\n",
       "      <td>30.4453</td>\n",
       "      <td>-0.0294</td>\n",
       "    </tr>\n",
       "  </tbody>\n",
       "</table>\n",
       "</div>"
      ],
      "text/plain": [
       "                 MAPE  R2 score\n",
       "Ridge          7.6814    0.9304\n",
       "SVR            8.8795    0.9137\n",
       "LGBM           8.9778    0.8976\n",
       "Random forest  9.6664    0.8820\n",
       "Lasso         30.4453   -0.0294\n",
       "ElasticNet    30.4453   -0.0294"
      ]
     },
     "execution_count": 13,
     "metadata": {},
     "output_type": "execute_result"
    }
   ],
   "source": [
    "all_results = pd.DataFrame({\n",
    "    \"Lasso\": lasso_result,\n",
    "    \"Ridge\": ridge_result,\n",
    "    \"ElasticNet\": elastic_result,\n",
    "    \"Random forest\": random_forest_result,\n",
    "    \"SVR\": SVR_result,\n",
    "    \"LGBM\": LGBM_result\n",
    "})\n",
    "\n",
    "all_results.transpose().sort_values(by=\"MAPE\", ascending=True)"
   ]
  },
  {
   "cell_type": "markdown",
   "id": "d5e471e0-6ae0-4eb5-a3b8-89d70514e705",
   "metadata": {},
   "source": [
    "Tạo lại các mô hình của chúng ta. Do các mô hình Lasso, Ridge, ElasticNet và SVR không hoạt động tốt với outlier (mà chúng ta lại có khá nhiều outliers trong dữ liệu) nên lần này ta sẽ dùng RobustScaler trước để tăng chất lượng"
   ]
  },
  {
   "cell_type": "code",
   "execution_count": 14,
   "id": "0823d8e6-b9e8-4ea3-8bf9-cdef11c84727",
   "metadata": {},
   "outputs": [
    {
     "data": {
      "text/plain": [
       "{'MAPE': 7.589772900140657, 'R2 score': 0.9306263476062088}"
      ]
     },
     "execution_count": 14,
     "metadata": {},
     "output_type": "execute_result"
    }
   ],
   "source": [
    "ridge_model_2 = make_pipeline(RobustScaler(), Ridge())\n",
    "ridge_model_2.fit(X_train, y_train)\n",
    "ridge_result_2 = get_result(ridge_model_2, X_test=X_test)\n",
    "ridge_result_2"
   ]
  },
  {
   "cell_type": "markdown",
   "id": "7b1d5b09-1321-4614-ab13-fc89afc70844",
   "metadata": {},
   "source": [
    "Chất lượng có cải thiện khi thêm RobustScaler.\n",
    "\n",
    "Để tìm tham số tốt nhất cho các mô hình ta dùng GridSearchCV.\n",
    "\n",
    "Đầu tiên là tìm tham số điều chuẩn \"alpha\" cho mô hình Lasso:"
   ]
  },
  {
   "cell_type": "code",
   "execution_count": 15,
   "id": "5136affb-5b42-4cc1-8543-70bf75bdfeaa",
   "metadata": {},
   "outputs": [
    {
     "data": {
      "text/plain": [
       "{'lasso__alpha': 0.0006}"
      ]
     },
     "execution_count": 15,
     "metadata": {},
     "output_type": "execute_result"
    }
   ],
   "source": [
    "# Tìm tham số alpha cho mô hình Lasso\n",
    "lasso_param = {\"lasso__alpha\": [0.0005, 0.0006, 0.0007]}\n",
    "lasso_model_search = make_pipeline(RobustScaler(), Lasso())\n",
    "lasso_search = GridSearchCV(estimator=lasso_model_search, param_grid=lasso_param)\n",
    "lasso_search.fit(X_train, y_train)\n",
    "lasso_search.best_params_"
   ]
  },
  {
   "cell_type": "code",
   "execution_count": 15,
   "id": "c1b4216d-3ba1-43d5-a373-fab6fe1c33d1",
   "metadata": {},
   "outputs": [
    {
     "data": {
      "text/plain": [
       "{'MAPE': 7.696316031523764, 'R2 score': 0.9294662867703211}"
      ]
     },
     "execution_count": 15,
     "metadata": {},
     "output_type": "execute_result"
    }
   ],
   "source": [
    "# Tạo model Lasso & lấy kết quả\n",
    "lasso_model = make_pipeline(RobustScaler(), Lasso(alpha=0.0006))\n",
    "lasso_model.fit(X_train, y_train)\n",
    "lasso_result_1 = get_result(lasso_model, X_test=X_test)\n",
    "lasso_result_1"
   ]
  },
  {
   "cell_type": "markdown",
   "id": "fcc668ab-068f-4a79-9793-c951ff97d370",
   "metadata": {},
   "source": [
    "Tiếp đến Ridge"
   ]
  },
  {
   "cell_type": "code",
   "execution_count": 17,
   "id": "7c24bddf-bafe-4dfe-8cee-f09d0fe34eef",
   "metadata": {},
   "outputs": [
    {
     "data": {
      "text/plain": [
       "{'ridge__alpha': 11}"
      ]
     },
     "execution_count": 17,
     "metadata": {},
     "output_type": "execute_result"
    }
   ],
   "source": [
    "# Tìm tham số alpha cho mô hình Ridge\n",
    "ridge_param = {\"ridge__alpha\": [10, 11, 12]}\n",
    "ridge_model_search = make_pipeline(RobustScaler(), Ridge())\n",
    "ridge_search = GridSearchCV(estimator=ridge_model_search, param_grid=ridge_param)\n",
    "ridge_search.fit(X_train, y_train)\n",
    "ridge_search.best_params_"
   ]
  },
  {
   "cell_type": "code",
   "execution_count": 16,
   "id": "211ec8cf-b8b3-46da-98e8-82c577424768",
   "metadata": {},
   "outputs": [
    {
     "data": {
      "text/plain": [
       "{'MAPE': 7.663033883902692, 'R2 score': 0.9304851533159764}"
      ]
     },
     "execution_count": 16,
     "metadata": {},
     "output_type": "execute_result"
    }
   ],
   "source": [
    "# Tạo model Ridge & lấy kết quả\n",
    "ridge_model = make_pipeline(RobustScaler(), Ridge(alpha=11))\n",
    "ridge_model.fit(X_train, y_train)\n",
    "ridge_result_1 = get_result(ridge_model, X_test=X_test)\n",
    "ridge_result_1"
   ]
  },
  {
   "cell_type": "markdown",
   "id": "e630bcce-aeba-44e4-8286-2204616742fd",
   "metadata": {},
   "source": [
    "Tiếp tục với ElasticNet. Do ElasticNet kết hợp cả điều chuẩn L1 và L2 nên chúng ta cần khám phá cả tỉ lệ của chúng nữa"
   ]
  },
  {
   "cell_type": "code",
   "execution_count": 19,
   "id": "8ac328da-4ad6-4317-82aa-b6ce59b622dd",
   "metadata": {},
   "outputs": [
    {
     "data": {
      "text/plain": [
       "{'elasticnet__alpha': 0.0008, 'elasticnet__l1_ratio': 0.75}"
      ]
     },
     "execution_count": 19,
     "metadata": {},
     "output_type": "execute_result"
    }
   ],
   "source": [
    "# Tìm tham số cho mô hình ElasticNet\n",
    "elastic_param = {\"elasticnet__alpha\": [0.0007, 0.0008, 0.0009], \"elasticnet__l1_ratio\": [0.74, 0.75, 0.76]}\n",
    "elastic_model_search = make_pipeline(RobustScaler(), ElasticNet())\n",
    "elastic_search = GridSearchCV(estimator=elastic_model_search, param_grid=elastic_param)\n",
    "elastic_search.fit(X_train, y_train)\n",
    "elastic_search.best_params_"
   ]
  },
  {
   "cell_type": "code",
   "execution_count": 17,
   "id": "1d1d5027-c44a-466e-9477-f9478037a8cf",
   "metadata": {},
   "outputs": [
    {
     "data": {
      "text/plain": [
       "{'MAPE': 7.698866196322631, 'R2 score': 0.9294102930519118}"
      ]
     },
     "execution_count": 17,
     "metadata": {},
     "output_type": "execute_result"
    }
   ],
   "source": [
    "# Tạo model ElasticNet & lấy kết quả\n",
    "elastic_model = make_pipeline(RobustScaler(), ElasticNet(alpha=0.0008, l1_ratio=0.75))\n",
    "elastic_model.fit(X_train, y_train)\n",
    "elastic_result_1 = get_result(elastic_model, X_test=X_test)\n",
    "elastic_result_1"
   ]
  },
  {
   "cell_type": "markdown",
   "id": "20e4cde2-bea3-4c3f-a794-59129a5a13cf",
   "metadata": {},
   "source": [
    "Có rất nhiều tham số trong mô hình RandomForestRegressor nhưng chúng ta sẽ chỉ tập trung vào 3 tham số cơ bản sau:\n",
    "- n_estimators: số cây quyết định được dùng\n",
    "- min_samples_split: số mẫu tối thiểu để tiếp tục phân nhánh cho node đó\n",
    "- min_samples_leaf: số mẫu tối thiểu ở một lá (leaf node)"
   ]
  },
  {
   "cell_type": "code",
   "execution_count": 29,
   "id": "aeb1bed1-98a2-41bf-8a84-b2060becc35a",
   "metadata": {
    "scrolled": true,
    "tags": []
   },
   "outputs": [
    {
     "data": {
      "text/plain": [
       "{'min_samples_leaf': 1, 'min_samples_split': 3, 'n_estimators': 120}"
      ]
     },
     "execution_count": 29,
     "metadata": {},
     "output_type": "execute_result"
    }
   ],
   "source": [
    "random_forest_param = {\n",
    "    \"n_estimators\": [100, 120, 140, 160],\n",
    "    \"min_samples_split\": [2, 3, 4],\n",
    "    \"min_samples_leaf\": [1, 2, 3]\n",
    "}\n",
    "random_forest_model = RandomForestRegressor()\n",
    "random_forest_search = GridSearchCV(estimator=random_forest_model, param_grid=random_forest_param)\n",
    "random_forest_search.fit(X_train, y_train)\n",
    "random_forest_search.best_params_\n",
    "\n",
    "# It takes very long to run this cell, below is the result in case Outputs of this cell is cleared\n",
    "# {'min_samples_leaf': 1, 'min_samples_split': 3, 'n_estimators': 120}"
   ]
  },
  {
   "cell_type": "code",
   "execution_count": 19,
   "id": "8befba16-d65b-4290-af5e-6ac6a5a5a64d",
   "metadata": {},
   "outputs": [
    {
     "data": {
      "text/plain": [
       "{'MAPE': 9.659034450063885, 'R2 score': 0.8840350036533203}"
      ]
     },
     "execution_count": 19,
     "metadata": {},
     "output_type": "execute_result"
    }
   ],
   "source": [
    "random_forest = RandomForestRegressor(n_estimators=120, min_samples_split=3)\n",
    "random_forest.fit(X_train, y_train)\n",
    "random_forest_result_1 = get_result(random_forest, X_test=X_test)\n",
    "random_forest_result_1"
   ]
  },
  {
   "cell_type": "markdown",
   "id": "0fd042d3-f420-44c7-9b18-f914acd3cd01",
   "metadata": {},
   "source": [
    "Chất lượng của Random Forest tăng một chút. Lưu ý Random Forest hoạt động dựa trên các cây quyết định, mà decision tree thì mỗi lần chạy sẽ cho kết quả khác nhau (chúng ta được khuyên rằng hãy huấn luyện mô hình decision tree nhiều lần và chọn mô hình có kết quả tốt nhất)."
   ]
  },
  {
   "cell_type": "markdown",
   "id": "d11f3d65-61a1-463c-b99c-ebb424049cd5",
   "metadata": {},
   "source": [
    "Ở mô hình SVR ta cũng sẽ chỉ điều chỉnh 3 tham số cơ bản:\n",
    "- gamma: hệ số cho nhân \"rbf\"\n",
    "- C: chỉ số điều chuẩn (càng lớn thì điều chuẩn càng giảm)\n",
    "- epsilon: nếu dự đoán tại một điểm có sai số nhỏ hơn epsilon thì không áp dụng điều chuẩn tại điểm đó"
   ]
  },
  {
   "cell_type": "code",
   "execution_count": 22,
   "id": "2fbfc3bd-3be3-40ff-a434-a35129f33459",
   "metadata": {},
   "outputs": [
    {
     "data": {
      "text/plain": [
       "{'svr__C': 1.5, 'svr__epsilon': 0.011, 'svr__gamma': 'auto'}"
      ]
     },
     "execution_count": 22,
     "metadata": {},
     "output_type": "execute_result"
    }
   ],
   "source": [
    "# Tìm tham số cho mô hình SVR\n",
    "SVR_param = {\n",
    "    \"svr__gamma\": [\"scale\", \"auto\"],\n",
    "    \"svr__C\": [1.4, 1.5, 1.6],\n",
    "    \"svr__epsilon\": [0.01, 0.011, 0.012]\n",
    "}\n",
    "SVR_model_search = make_pipeline(RobustScaler(), SVR())\n",
    "SVR_search = GridSearchCV(estimator=SVR_model_search, param_grid=SVR_param)\n",
    "SVR_search.fit(X_train, y_train)\n",
    "SVR_search.best_params_\n",
    "\n",
    "# # It takes very long to run this cell, below is the result in case Outputs of this cell is cleared\n",
    "# {'svr__C': 1.5, 'svr__epsilon': 0.011, 'svr__gamma': 'auto'}"
   ]
  },
  {
   "cell_type": "code",
   "execution_count": 20,
   "id": "f0d492c0-e8c2-4b55-be45-11d573bf4d64",
   "metadata": {},
   "outputs": [
    {
     "data": {
      "text/plain": [
       "{'MAPE': 7.683452102986927, 'R2 score': 0.928604939031421}"
      ]
     },
     "execution_count": 20,
     "metadata": {},
     "output_type": "execute_result"
    }
   ],
   "source": [
    "# Tạo model SVR & lấy kết quả\n",
    "SVR_model = make_pipeline(RobustScaler(), SVR(gamma=\"auto\", C=1.5, epsilon=0.011))\n",
    "SVR_model.fit(X_train, y_train)\n",
    "SVR_result_1 = get_result(SVR_model, X_test=X_test)\n",
    "SVR_result_1"
   ]
  },
  {
   "cell_type": "markdown",
   "id": "3d6f08d4-bdd4-4e3e-b7c0-26f8967e450a",
   "metadata": {},
   "source": [
    "Cuối cùng là LGBM, tập trung vào 6 trong số rất nhiều tham số của mô hình:\n",
    "- num_leaves: số \"lá\" tối đa của một \"cây\"\n",
    "- learning_rate: tốc độ học\n",
    "- n_estimators: số lượng cây tăng cường dùng trong mô hình\n",
    "- min_child_samples: số lượng tối thiểu cần có trong 1 lá\n",
    "- reg_alpha: điều chuẩn L1 trên trọng số\n",
    "- reg_lambda: điều chuẩn L2 trên trọng số"
   ]
  },
  {
   "cell_type": "code",
   "execution_count": 21,
   "id": "4c482f22-8173-435c-a08e-5b58bdb2ae56",
   "metadata": {},
   "outputs": [
    {
     "data": {
      "text/plain": [
       "{'learning_rate': 0.04,\n",
       " 'min_child_samples': 15,\n",
       " 'n_estimators': 3200,\n",
       " 'num_leaves': 2,\n",
       " 'reg_alpha': 0.003,\n",
       " 'reg_lambda': 0.002}"
      ]
     },
     "execution_count": 21,
     "metadata": {},
     "output_type": "execute_result"
    }
   ],
   "source": [
    "# Tìm tham số cho mô hình LGBM\n",
    "LGBM_param = {\n",
    "    \"num_leaves\": [2, 3],\n",
    "    \"learning_rate\": [0.03, 0.04, 0.05],\n",
    "    \"n_estimators\": [3100, 3200, 3300],\n",
    "    \"min_child_samples\": [14, 15, 16],\n",
    "    \"reg_alpha\": [0.002, 0.003, 0.004],\n",
    "    \"reg_lambda\": [0.001, 0.002, 0.003]\n",
    "}\n",
    "LGBM_model_search = LGBMRegressor()\n",
    "LGBM_search = GridSearchCV(estimator=LGBM_model_search, param_grid=LGBM_param)\n",
    "LGBM_search.fit(X_train, y_train)\n",
    "LGBM_search.best_params_\n",
    "\n",
    "# It takes very long to run this cell, below is the result in case Outputs of this cell is cleared\n",
    "# {'learning_rate': 0.04, 'min_child_samples': 15, 'n_estimators': 3200, 'num_leaves': 2, 'reg_alpha': 0.003, 'reg_lambda': 0.002}"
   ]
  },
  {
   "cell_type": "code",
   "execution_count": 22,
   "id": "17391abf-7e8d-4c3d-9007-5e90ef2eacfd",
   "metadata": {},
   "outputs": [
    {
     "data": {
      "text/plain": [
       "{'MAPE': 8.269210347369384, 'R2 score': 0.9173471490808951}"
      ]
     },
     "execution_count": 22,
     "metadata": {},
     "output_type": "execute_result"
    }
   ],
   "source": [
    "LGBM_model = LGBMRegressor(num_leaves=2, learning_rate=0.04, n_estimators=3200, min_child_samples=15, reg_alpha=0.003, reg_lambda=0.002)\n",
    "LGBM_model.fit(X_train, y_train)\n",
    "LGBM_result_1 = get_result(LGBM_model, X_test=X_test)\n",
    "LGBM_result_1"
   ]
  },
  {
   "cell_type": "markdown",
   "id": "3d23c028-717f-4501-8155-d4d89575b861",
   "metadata": {},
   "source": [
    "Chất lượng tăng lên so với mặc định. Chú ý là tính chất mô hình LGBM cũng dựa trên các cây quyết định như Random Forest."
   ]
  },
  {
   "cell_type": "markdown",
   "id": "202ad8db-82d1-4ae7-b362-09bc1b6f50da",
   "metadata": {},
   "source": [
    "Ngoài ra ta cũng cần lưu ý là GridSearchCV tim ra giá trị tham số hoạt động tốt nhất dựa trên tập huấn luyện nên rất có khà năng overfitting tập huấn luyện, nghĩa là các tham số đó chỉ cho kết quả tốt nhất khi đánh giá trên tập huấn luyện nhưng khi dùng mô hình đó cho tập kiểm định thì kết quả không tốt.\n",
    "\n",
    "**NOTE:** việc tuning ở trên được thực hiện nhiều lần. Ban đầu chọn một số giá trị xung quanh giá trị mặc định (hoặc nhỏ/lớn hơn giá trị mặc định tùy tham số), sau đó tùy thuộc giá trị tốt nhất tìm được mà xê dịch khoảng giá trị lựa chọn nhỏ/lớn hơn hoặc tập trung vào một khoảng chi tiết hơn (zooming)."
   ]
  },
  {
   "cell_type": "markdown",
   "id": "43e01b2d-f9a9-409e-8e6c-e677fe752223",
   "metadata": {},
   "source": [
    "Hãy xem lại kết quả các mô hình của chúng ta sau khi tuning:"
   ]
  },
  {
   "cell_type": "code",
   "execution_count": 23,
   "id": "9b76d668-2bd4-41d3-92d5-5606d1528032",
   "metadata": {},
   "outputs": [
    {
     "data": {
      "text/html": [
       "<div>\n",
       "<style scoped>\n",
       "    .dataframe tbody tr th:only-of-type {\n",
       "        vertical-align: middle;\n",
       "    }\n",
       "\n",
       "    .dataframe tbody tr th {\n",
       "        vertical-align: top;\n",
       "    }\n",
       "\n",
       "    .dataframe thead th {\n",
       "        text-align: right;\n",
       "    }\n",
       "</style>\n",
       "<table border=\"1\" class=\"dataframe\">\n",
       "  <thead>\n",
       "    <tr style=\"text-align: right;\">\n",
       "      <th></th>\n",
       "      <th>MAPE</th>\n",
       "      <th>R2 score</th>\n",
       "    </tr>\n",
       "  </thead>\n",
       "  <tbody>\n",
       "    <tr>\n",
       "      <th>Ridge</th>\n",
       "      <td>7.6630</td>\n",
       "      <td>0.9305</td>\n",
       "    </tr>\n",
       "    <tr>\n",
       "      <th>SVR</th>\n",
       "      <td>7.6835</td>\n",
       "      <td>0.9286</td>\n",
       "    </tr>\n",
       "    <tr>\n",
       "      <th>Lasso</th>\n",
       "      <td>7.6963</td>\n",
       "      <td>0.9295</td>\n",
       "    </tr>\n",
       "    <tr>\n",
       "      <th>ElasticNet</th>\n",
       "      <td>7.6989</td>\n",
       "      <td>0.9294</td>\n",
       "    </tr>\n",
       "    <tr>\n",
       "      <th>LGBM</th>\n",
       "      <td>8.2692</td>\n",
       "      <td>0.9173</td>\n",
       "    </tr>\n",
       "    <tr>\n",
       "      <th>Random forest</th>\n",
       "      <td>9.6590</td>\n",
       "      <td>0.8840</td>\n",
       "    </tr>\n",
       "  </tbody>\n",
       "</table>\n",
       "</div>"
      ],
      "text/plain": [
       "                MAPE  R2 score\n",
       "Ridge         7.6630    0.9305\n",
       "SVR           7.6835    0.9286\n",
       "Lasso         7.6963    0.9295\n",
       "ElasticNet    7.6989    0.9294\n",
       "LGBM          8.2692    0.9173\n",
       "Random forest 9.6590    0.8840"
      ]
     },
     "execution_count": 23,
     "metadata": {},
     "output_type": "execute_result"
    }
   ],
   "source": [
    "all_results_1 = pd.DataFrame({\n",
    "    \"Lasso\": lasso_result_1,\n",
    "    \"Ridge\": ridge_result_1,\n",
    "    \"ElasticNet\": elastic_result_1,\n",
    "    \"Random forest\": random_forest_result_1,\n",
    "    \"SVR\": SVR_result_1,\n",
    "    \"LGBM\": LGBM_result_1\n",
    "})\n",
    "\n",
    "all_results_1.transpose().sort_values(by=\"MAPE\", ascending=True)"
   ]
  },
  {
   "cell_type": "code",
   "execution_count": 24,
   "id": "b3151a3d-fdb8-4935-a879-f8901f5cc853",
   "metadata": {},
   "outputs": [
    {
     "data": {
      "text/html": [
       "<div>\n",
       "<style scoped>\n",
       "    .dataframe tbody tr th:only-of-type {\n",
       "        vertical-align: middle;\n",
       "    }\n",
       "\n",
       "    .dataframe tbody tr th {\n",
       "        vertical-align: top;\n",
       "    }\n",
       "\n",
       "    .dataframe thead tr th {\n",
       "        text-align: left;\n",
       "    }\n",
       "</style>\n",
       "<table border=\"1\" class=\"dataframe\">\n",
       "  <thead>\n",
       "    <tr>\n",
       "      <th></th>\n",
       "      <th colspan=\"2\" halign=\"left\">Before tuning</th>\n",
       "      <th colspan=\"2\" halign=\"left\">After tuning</th>\n",
       "    </tr>\n",
       "    <tr>\n",
       "      <th></th>\n",
       "      <th>MAPE</th>\n",
       "      <th>R2 score</th>\n",
       "      <th>MAPE</th>\n",
       "      <th>R2 score</th>\n",
       "    </tr>\n",
       "  </thead>\n",
       "  <tbody>\n",
       "    <tr>\n",
       "      <th>Lasso</th>\n",
       "      <td>30.4453</td>\n",
       "      <td>-0.0294</td>\n",
       "      <td>7.6963</td>\n",
       "      <td>0.9295</td>\n",
       "    </tr>\n",
       "    <tr>\n",
       "      <th>Ridge</th>\n",
       "      <td>7.6814</td>\n",
       "      <td>0.9304</td>\n",
       "      <td>7.6630</td>\n",
       "      <td>0.9305</td>\n",
       "    </tr>\n",
       "    <tr>\n",
       "      <th>ElasticNet</th>\n",
       "      <td>30.4453</td>\n",
       "      <td>-0.0294</td>\n",
       "      <td>7.6989</td>\n",
       "      <td>0.9294</td>\n",
       "    </tr>\n",
       "    <tr>\n",
       "      <th>Random forest</th>\n",
       "      <td>9.6664</td>\n",
       "      <td>0.8820</td>\n",
       "      <td>9.6590</td>\n",
       "      <td>0.8840</td>\n",
       "    </tr>\n",
       "    <tr>\n",
       "      <th>SVR</th>\n",
       "      <td>8.8795</td>\n",
       "      <td>0.9137</td>\n",
       "      <td>7.6835</td>\n",
       "      <td>0.9286</td>\n",
       "    </tr>\n",
       "    <tr>\n",
       "      <th>LGBM</th>\n",
       "      <td>8.9778</td>\n",
       "      <td>0.8976</td>\n",
       "      <td>8.2692</td>\n",
       "      <td>0.9173</td>\n",
       "    </tr>\n",
       "  </tbody>\n",
       "</table>\n",
       "</div>"
      ],
      "text/plain": [
       "              Before tuning          After tuning         \n",
       "                       MAPE R2 score         MAPE R2 score\n",
       "Lasso               30.4453  -0.0294       7.6963   0.9295\n",
       "Ridge                7.6814   0.9304       7.6630   0.9305\n",
       "ElasticNet          30.4453  -0.0294       7.6989   0.9294\n",
       "Random forest        9.6664   0.8820       9.6590   0.8840\n",
       "SVR                  8.8795   0.9137       7.6835   0.9286\n",
       "LGBM                 8.9778   0.8976       8.2692   0.9173"
      ]
     },
     "execution_count": 24,
     "metadata": {},
     "output_type": "execute_result"
    }
   ],
   "source": [
    "pd.concat(objs=[all_results.transpose(), all_results_1.transpose()], axis=1, keys=[\"Before tuning\", \"After tuning\"])"
   ]
  },
  {
   "cell_type": "markdown",
   "id": "63cef0b0-7675-45f3-bbc2-a53ac9639d30",
   "metadata": {},
   "source": [
    "Hãy thử mô hình neural network xem sao"
   ]
  },
  {
   "cell_type": "code",
   "execution_count": 25,
   "id": "3d7a5f75-fce9-4a49-863e-d9d56d37ada4",
   "metadata": {},
   "outputs": [
    {
     "data": {
      "text/plain": [
       "(1156, 106)"
      ]
     },
     "execution_count": 25,
     "metadata": {},
     "output_type": "execute_result"
    }
   ],
   "source": [
    "# Create Dataset for faster process with tensorflow\n",
    "train_data = tf.data.Dataset.from_tensor_slices((X_train, y_train))\n",
    "test_data = tf.data.Dataset.from_tensor_slices((X_test, y_test))\n",
    "\n",
    "train_data = train_data.batch(batch_size=64).prefetch(tf.data.AUTOTUNE)\n",
    "test_data = test_data.batch(batch_size=64).prefetch(tf.data.AUTOTUNE)\n",
    "\n",
    "# Create a list of callback functions\n",
    "callbacks_list = [\n",
    "    tf.keras.callbacks.ReduceLROnPlateau(monitor=\"val_loss\", factor=0.5, patience=2, mode=\"min\"),\n",
    "    tf.keras.callbacks.EarlyStopping(monitor=\"val_loss\", patience=9, mode=\"min\")\n",
    "]\n",
    "\n",
    "X_train.shape"
   ]
  },
  {
   "cell_type": "code",
   "execution_count": 26,
   "id": "4014e546-4a8a-448f-862f-106538c60e91",
   "metadata": {},
   "outputs": [],
   "source": [
    "# Create model\n",
    "NN_model = tf.keras.models.Sequential(layers=[\n",
    "    tf.keras.layers.Dense(units=256, activation=\"relu\", input_shape=(106,)),\n",
    "    tf.keras.layers.Dense(units=1, activation=\"relu\")\n",
    "])\n",
    "\n",
    "# Compile model\n",
    "NN_model.compile(loss=\"mse\", optimizer=tf.keras.optimizers.Adam(learning_rate=0.001), metrics=[\"mape\"])"
   ]
  },
  {
   "cell_type": "code",
   "execution_count": 27,
   "id": "7ecf376d-7ecb-43b9-8b6b-ef9bc77a87b7",
   "metadata": {
    "scrolled": true,
    "tags": []
   },
   "outputs": [
    {
     "name": "stdout",
     "output_type": "stream",
     "text": [
      "Epoch 1/500\n",
      "19/19 [==============================] - 1s 11ms/step - loss: 102.7433 - mape: 83.6897 - val_loss: 54.7206 - val_mape: 61.5427 - lr: 0.0010\n",
      "Epoch 2/500\n",
      "19/19 [==============================] - 0s 5ms/step - loss: 25.7565 - mape: 39.6027 - val_loss: 3.1054 - val_mape: 12.6151 - lr: 0.0010\n",
      "Epoch 3/500\n",
      "19/19 [==============================] - 0s 5ms/step - loss: 2.1548 - mape: 9.9262 - val_loss: 2.1850 - val_mape: 10.0187 - lr: 0.0010\n",
      "Epoch 4/500\n",
      "19/19 [==============================] - 0s 5ms/step - loss: 1.3507 - mape: 7.5971 - val_loss: 0.8923 - val_mape: 6.2452 - lr: 0.0010\n",
      "Epoch 5/500\n",
      "19/19 [==============================] - 0s 5ms/step - loss: 0.8125 - mape: 5.9648 - val_loss: 0.7092 - val_mape: 5.5550 - lr: 0.0010\n",
      "Epoch 6/500\n",
      "19/19 [==============================] - 0s 5ms/step - loss: 0.6427 - mape: 5.2671 - val_loss: 0.6172 - val_mape: 5.1449 - lr: 0.0010\n",
      "Epoch 7/500\n",
      "19/19 [==============================] - 0s 5ms/step - loss: 0.5451 - mape: 4.8309 - val_loss: 0.5504 - val_mape: 4.8350 - lr: 0.0010\n",
      "Epoch 8/500\n",
      "19/19 [==============================] - 0s 5ms/step - loss: 0.4780 - mape: 4.5275 - val_loss: 0.4983 - val_mape: 4.5705 - lr: 0.0010\n",
      "Epoch 9/500\n",
      "19/19 [==============================] - 0s 5ms/step - loss: 0.4254 - mape: 4.2646 - val_loss: 0.4544 - val_mape: 4.3638 - lr: 0.0010\n",
      "Epoch 10/500\n",
      "19/19 [==============================] - 0s 5ms/step - loss: 0.3824 - mape: 4.0478 - val_loss: 0.4167 - val_mape: 4.1793 - lr: 0.0010\n",
      "Epoch 11/500\n",
      "19/19 [==============================] - 0s 5ms/step - loss: 0.3472 - mape: 3.8499 - val_loss: 0.3845 - val_mape: 4.0173 - lr: 0.0010\n",
      "Epoch 12/500\n",
      "19/19 [==============================] - 0s 5ms/step - loss: 0.3179 - mape: 3.6786 - val_loss: 0.3566 - val_mape: 3.8650 - lr: 0.0010\n",
      "Epoch 13/500\n",
      "19/19 [==============================] - 0s 5ms/step - loss: 0.2924 - mape: 3.5190 - val_loss: 0.3304 - val_mape: 3.7069 - lr: 0.0010\n",
      "Epoch 14/500\n",
      "19/19 [==============================] - 0s 5ms/step - loss: 0.2692 - mape: 3.3692 - val_loss: 0.3063 - val_mape: 3.5517 - lr: 0.0010\n",
      "Epoch 15/500\n",
      "19/19 [==============================] - 0s 5ms/step - loss: 0.2483 - mape: 3.2292 - val_loss: 0.2842 - val_mape: 3.4052 - lr: 0.0010\n",
      "Epoch 16/500\n",
      "19/19 [==============================] - 0s 5ms/step - loss: 0.2300 - mape: 3.1031 - val_loss: 0.2642 - val_mape: 3.2692 - lr: 0.0010\n",
      "Epoch 17/500\n",
      "19/19 [==============================] - 0s 5ms/step - loss: 0.2139 - mape: 2.9919 - val_loss: 0.2461 - val_mape: 3.1488 - lr: 0.0010\n",
      "Epoch 18/500\n",
      "19/19 [==============================] - 0s 5ms/step - loss: 0.1998 - mape: 2.8909 - val_loss: 0.2299 - val_mape: 3.0409 - lr: 0.0010\n",
      "Epoch 19/500\n",
      "19/19 [==============================] - 0s 5ms/step - loss: 0.1872 - mape: 2.7967 - val_loss: 0.2152 - val_mape: 2.9392 - lr: 0.0010\n",
      "Epoch 20/500\n",
      "19/19 [==============================] - 0s 5ms/step - loss: 0.1761 - mape: 2.7092 - val_loss: 0.2021 - val_mape: 2.8461 - lr: 0.0010\n",
      "Epoch 21/500\n",
      "19/19 [==============================] - 0s 5ms/step - loss: 0.1661 - mape: 2.6304 - val_loss: 0.1901 - val_mape: 2.7625 - lr: 0.0010\n",
      "Epoch 22/500\n",
      "19/19 [==============================] - 0s 5ms/step - loss: 0.1570 - mape: 2.5567 - val_loss: 0.1795 - val_mape: 2.6890 - lr: 0.0010\n",
      "Epoch 23/500\n",
      "19/19 [==============================] - 0s 5ms/step - loss: 0.1488 - mape: 2.4881 - val_loss: 0.1698 - val_mape: 2.6212 - lr: 0.0010\n",
      "Epoch 24/500\n",
      "19/19 [==============================] - 0s 5ms/step - loss: 0.1412 - mape: 2.4239 - val_loss: 0.1610 - val_mape: 2.5566 - lr: 0.0010\n",
      "Epoch 25/500\n",
      "19/19 [==============================] - 0s 5ms/step - loss: 0.1343 - mape: 2.3643 - val_loss: 0.1530 - val_mape: 2.4958 - lr: 0.0010\n",
      "Epoch 26/500\n",
      "19/19 [==============================] - 0s 5ms/step - loss: 0.1279 - mape: 2.3081 - val_loss: 0.1457 - val_mape: 2.4374 - lr: 0.0010\n",
      "Epoch 27/500\n",
      "19/19 [==============================] - 0s 5ms/step - loss: 0.1219 - mape: 2.2546 - val_loss: 0.1389 - val_mape: 2.3820 - lr: 0.0010\n",
      "Epoch 28/500\n",
      "19/19 [==============================] - 0s 5ms/step - loss: 0.1163 - mape: 2.2033 - val_loss: 0.1328 - val_mape: 2.3306 - lr: 0.0010\n",
      "Epoch 29/500\n",
      "19/19 [==============================] - 0s 5ms/step - loss: 0.1110 - mape: 2.1535 - val_loss: 0.1269 - val_mape: 2.2798 - lr: 0.0010\n",
      "Epoch 30/500\n",
      "19/19 [==============================] - 0s 5ms/step - loss: 0.1060 - mape: 2.1043 - val_loss: 0.1215 - val_mape: 2.2325 - lr: 0.0010\n",
      "Epoch 31/500\n",
      "19/19 [==============================] - 0s 5ms/step - loss: 0.1012 - mape: 2.0562 - val_loss: 0.1167 - val_mape: 2.1888 - lr: 0.0010\n",
      "Epoch 32/500\n",
      "19/19 [==============================] - 0s 5ms/step - loss: 0.0966 - mape: 2.0102 - val_loss: 0.1121 - val_mape: 2.1474 - lr: 0.0010\n",
      "Epoch 33/500\n",
      "19/19 [==============================] - 0s 5ms/step - loss: 0.0922 - mape: 1.9644 - val_loss: 0.1075 - val_mape: 2.1055 - lr: 0.0010\n",
      "Epoch 34/500\n",
      "19/19 [==============================] - 0s 5ms/step - loss: 0.0879 - mape: 1.9182 - val_loss: 0.1034 - val_mape: 2.0648 - lr: 0.0010\n",
      "Epoch 35/500\n",
      "19/19 [==============================] - 0s 5ms/step - loss: 0.0837 - mape: 1.8732 - val_loss: 0.0992 - val_mape: 2.0249 - lr: 0.0010\n",
      "Epoch 36/500\n",
      "19/19 [==============================] - 0s 5ms/step - loss: 0.0797 - mape: 1.8281 - val_loss: 0.0955 - val_mape: 1.9885 - lr: 0.0010\n",
      "Epoch 37/500\n",
      "19/19 [==============================] - 0s 5ms/step - loss: 0.0759 - mape: 1.7847 - val_loss: 0.0920 - val_mape: 1.9521 - lr: 0.0010\n",
      "Epoch 38/500\n",
      "19/19 [==============================] - 0s 5ms/step - loss: 0.0724 - mape: 1.7426 - val_loss: 0.0886 - val_mape: 1.9155 - lr: 0.0010\n",
      "Epoch 39/500\n",
      "19/19 [==============================] - 0s 5ms/step - loss: 0.0689 - mape: 1.6992 - val_loss: 0.0851 - val_mape: 1.8763 - lr: 0.0010\n",
      "Epoch 40/500\n",
      "19/19 [==============================] - 0s 5ms/step - loss: 0.0654 - mape: 1.6552 - val_loss: 0.0819 - val_mape: 1.8389 - lr: 0.0010\n",
      "Epoch 41/500\n",
      "19/19 [==============================] - 0s 5ms/step - loss: 0.0621 - mape: 1.6116 - val_loss: 0.0788 - val_mape: 1.8011 - lr: 0.0010\n",
      "Epoch 42/500\n",
      "19/19 [==============================] - 0s 5ms/step - loss: 0.0588 - mape: 1.5674 - val_loss: 0.0759 - val_mape: 1.7660 - lr: 0.0010\n",
      "Epoch 43/500\n",
      "19/19 [==============================] - 0s 5ms/step - loss: 0.0557 - mape: 1.5251 - val_loss: 0.0729 - val_mape: 1.7284 - lr: 0.0010\n",
      "Epoch 44/500\n",
      "19/19 [==============================] - 0s 5ms/step - loss: 0.0528 - mape: 1.4845 - val_loss: 0.0698 - val_mape: 1.6865 - lr: 0.0010\n",
      "Epoch 45/500\n",
      "19/19 [==============================] - 0s 5ms/step - loss: 0.0501 - mape: 1.4455 - val_loss: 0.0671 - val_mape: 1.6488 - lr: 0.0010\n",
      "Epoch 46/500\n",
      "19/19 [==============================] - 0s 6ms/step - loss: 0.0475 - mape: 1.4082 - val_loss: 0.0644 - val_mape: 1.6098 - lr: 0.0010\n",
      "Epoch 47/500\n",
      "19/19 [==============================] - 0s 5ms/step - loss: 0.0452 - mape: 1.3731 - val_loss: 0.0622 - val_mape: 1.5780 - lr: 0.0010\n",
      "Epoch 48/500\n",
      "19/19 [==============================] - 0s 5ms/step - loss: 0.0430 - mape: 1.3387 - val_loss: 0.0599 - val_mape: 1.5434 - lr: 0.0010\n",
      "Epoch 49/500\n",
      "19/19 [==============================] - 0s 5ms/step - loss: 0.0410 - mape: 1.3057 - val_loss: 0.0579 - val_mape: 1.5117 - lr: 0.0010\n",
      "Epoch 50/500\n",
      "19/19 [==============================] - 0s 5ms/step - loss: 0.0391 - mape: 1.2741 - val_loss: 0.0560 - val_mape: 1.4816 - lr: 0.0010\n",
      "Epoch 51/500\n",
      "19/19 [==============================] - 0s 5ms/step - loss: 0.0373 - mape: 1.2437 - val_loss: 0.0541 - val_mape: 1.4517 - lr: 0.0010\n",
      "Epoch 52/500\n",
      "19/19 [==============================] - 0s 5ms/step - loss: 0.0357 - mape: 1.2146 - val_loss: 0.0524 - val_mape: 1.4211 - lr: 0.0010\n",
      "Epoch 53/500\n",
      "19/19 [==============================] - 0s 5ms/step - loss: 0.0342 - mape: 1.1859 - val_loss: 0.0507 - val_mape: 1.3937 - lr: 0.0010\n",
      "Epoch 54/500\n",
      "19/19 [==============================] - 0s 5ms/step - loss: 0.0328 - mape: 1.1596 - val_loss: 0.0494 - val_mape: 1.3696 - lr: 0.0010\n",
      "Epoch 55/500\n",
      "19/19 [==============================] - 0s 5ms/step - loss: 0.0315 - mape: 1.1352 - val_loss: 0.0480 - val_mape: 1.3454 - lr: 0.0010\n",
      "Epoch 56/500\n",
      "19/19 [==============================] - 0s 5ms/step - loss: 0.0303 - mape: 1.1123 - val_loss: 0.0467 - val_mape: 1.3229 - lr: 0.0010\n",
      "Epoch 57/500\n",
      "19/19 [==============================] - 0s 5ms/step - loss: 0.0292 - mape: 1.0912 - val_loss: 0.0455 - val_mape: 1.3016 - lr: 0.0010\n",
      "Epoch 58/500\n",
      "19/19 [==============================] - 0s 5ms/step - loss: 0.0282 - mape: 1.0703 - val_loss: 0.0444 - val_mape: 1.2813 - lr: 0.0010\n",
      "Epoch 59/500\n",
      "19/19 [==============================] - 0s 5ms/step - loss: 0.0273 - mape: 1.0524 - val_loss: 0.0434 - val_mape: 1.2621 - lr: 0.0010\n",
      "Epoch 60/500\n",
      "19/19 [==============================] - 0s 5ms/step - loss: 0.0263 - mape: 1.0326 - val_loss: 0.0423 - val_mape: 1.2425 - lr: 0.0010\n",
      "Epoch 61/500\n",
      "19/19 [==============================] - 0s 6ms/step - loss: 0.0255 - mape: 1.0157 - val_loss: 0.0414 - val_mape: 1.2260 - lr: 0.0010\n",
      "Epoch 62/500\n",
      "19/19 [==============================] - 0s 6ms/step - loss: 0.0247 - mape: 0.9994 - val_loss: 0.0405 - val_mape: 1.2088 - lr: 0.0010\n",
      "Epoch 63/500\n",
      "19/19 [==============================] - 0s 6ms/step - loss: 0.0240 - mape: 0.9849 - val_loss: 0.0397 - val_mape: 1.1936 - lr: 0.0010\n",
      "Epoch 64/500\n",
      "19/19 [==============================] - 0s 9ms/step - loss: 0.0234 - mape: 0.9712 - val_loss: 0.0389 - val_mape: 1.1788 - lr: 0.0010\n",
      "Epoch 65/500\n",
      "19/19 [==============================] - 0s 5ms/step - loss: 0.0227 - mape: 0.9574 - val_loss: 0.0382 - val_mape: 1.1634 - lr: 0.0010\n",
      "Epoch 66/500\n",
      "19/19 [==============================] - 0s 6ms/step - loss: 0.0222 - mape: 0.9445 - val_loss: 0.0375 - val_mape: 1.1494 - lr: 0.0010\n",
      "Epoch 67/500\n",
      "19/19 [==============================] - 0s 6ms/step - loss: 0.0216 - mape: 0.9330 - val_loss: 0.0368 - val_mape: 1.1366 - lr: 0.0010\n",
      "Epoch 68/500\n",
      "19/19 [==============================] - 0s 6ms/step - loss: 0.0211 - mape: 0.9222 - val_loss: 0.0362 - val_mape: 1.1233 - lr: 0.0010\n",
      "Epoch 69/500\n",
      "19/19 [==============================] - 0s 6ms/step - loss: 0.0207 - mape: 0.9123 - val_loss: 0.0355 - val_mape: 1.1098 - lr: 0.0010\n",
      "Epoch 70/500\n",
      "19/19 [==============================] - 0s 5ms/step - loss: 0.0202 - mape: 0.9010 - val_loss: 0.0350 - val_mape: 1.1000 - lr: 0.0010\n",
      "Epoch 71/500\n",
      "19/19 [==============================] - 0s 5ms/step - loss: 0.0198 - mape: 0.8926 - val_loss: 0.0344 - val_mape: 1.0887 - lr: 0.0010\n",
      "Epoch 72/500\n",
      "19/19 [==============================] - 0s 6ms/step - loss: 0.0194 - mape: 0.8827 - val_loss: 0.0338 - val_mape: 1.0776 - lr: 0.0010\n",
      "Epoch 73/500\n",
      "19/19 [==============================] - 0s 6ms/step - loss: 0.0191 - mape: 0.8740 - val_loss: 0.0333 - val_mape: 1.0679 - lr: 0.0010\n",
      "Epoch 74/500\n",
      "19/19 [==============================] - 0s 6ms/step - loss: 0.0187 - mape: 0.8654 - val_loss: 0.0329 - val_mape: 1.0588 - lr: 0.0010\n",
      "Epoch 75/500\n",
      "19/19 [==============================] - 0s 5ms/step - loss: 0.0184 - mape: 0.8574 - val_loss: 0.0323 - val_mape: 1.0459 - lr: 0.0010\n",
      "Epoch 76/500\n",
      "19/19 [==============================] - 0s 6ms/step - loss: 0.0180 - mape: 0.8491 - val_loss: 0.0320 - val_mape: 1.0406 - lr: 0.0010\n",
      "Epoch 77/500\n",
      "19/19 [==============================] - 0s 6ms/step - loss: 0.0177 - mape: 0.8424 - val_loss: 0.0315 - val_mape: 1.0311 - lr: 0.0010\n",
      "Epoch 78/500\n",
      "19/19 [==============================] - 0s 6ms/step - loss: 0.0174 - mape: 0.8342 - val_loss: 0.0311 - val_mape: 1.0223 - lr: 0.0010\n",
      "Epoch 79/500\n",
      "19/19 [==============================] - 0s 6ms/step - loss: 0.0172 - mape: 0.8276 - val_loss: 0.0308 - val_mape: 1.0158 - lr: 0.0010\n",
      "Epoch 80/500\n",
      "19/19 [==============================] - 0s 5ms/step - loss: 0.0169 - mape: 0.8211 - val_loss: 0.0304 - val_mape: 1.0082 - lr: 0.0010\n",
      "Epoch 81/500\n",
      "19/19 [==============================] - 0s 6ms/step - loss: 0.0166 - mape: 0.8140 - val_loss: 0.0300 - val_mape: 1.0010 - lr: 0.0010\n",
      "Epoch 82/500\n",
      "19/19 [==============================] - 0s 6ms/step - loss: 0.0164 - mape: 0.8083 - val_loss: 0.0297 - val_mape: 0.9941 - lr: 0.0010\n",
      "Epoch 83/500\n",
      "19/19 [==============================] - 0s 5ms/step - loss: 0.0162 - mape: 0.8021 - val_loss: 0.0294 - val_mape: 0.9871 - lr: 0.0010\n",
      "Epoch 84/500\n",
      "19/19 [==============================] - 0s 5ms/step - loss: 0.0160 - mape: 0.7972 - val_loss: 0.0291 - val_mape: 0.9823 - lr: 0.0010\n",
      "Epoch 85/500\n",
      "19/19 [==============================] - 0s 5ms/step - loss: 0.0158 - mape: 0.7911 - val_loss: 0.0288 - val_mape: 0.9755 - lr: 0.0010\n",
      "Epoch 86/500\n",
      "19/19 [==============================] - 0s 5ms/step - loss: 0.0156 - mape: 0.7861 - val_loss: 0.0285 - val_mape: 0.9693 - lr: 0.0010\n",
      "Epoch 87/500\n",
      "19/19 [==============================] - 0s 7ms/step - loss: 0.0154 - mape: 0.7814 - val_loss: 0.0284 - val_mape: 0.9661 - lr: 0.0010\n",
      "Epoch 88/500\n",
      "19/19 [==============================] - 0s 6ms/step - loss: 0.0152 - mape: 0.7774 - val_loss: 0.0281 - val_mape: 0.9609 - lr: 0.0010\n",
      "Epoch 89/500\n",
      "19/19 [==============================] - 0s 6ms/step - loss: 0.0150 - mape: 0.7722 - val_loss: 0.0278 - val_mape: 0.9531 - lr: 0.0010\n",
      "Epoch 90/500\n",
      "19/19 [==============================] - 0s 6ms/step - loss: 0.0149 - mape: 0.7676 - val_loss: 0.0276 - val_mape: 0.9478 - lr: 0.0010\n",
      "Epoch 91/500\n",
      "19/19 [==============================] - 0s 5ms/step - loss: 0.0147 - mape: 0.7627 - val_loss: 0.0274 - val_mape: 0.9436 - lr: 0.0010\n",
      "Epoch 92/500\n",
      "19/19 [==============================] - 0s 7ms/step - loss: 0.0145 - mape: 0.7586 - val_loss: 0.0272 - val_mape: 0.9389 - lr: 0.0010\n",
      "Epoch 93/500\n",
      "19/19 [==============================] - 0s 6ms/step - loss: 0.0144 - mape: 0.7550 - val_loss: 0.0270 - val_mape: 0.9351 - lr: 0.0010\n",
      "Epoch 94/500\n",
      "19/19 [==============================] - 0s 5ms/step - loss: 0.0142 - mape: 0.7500 - val_loss: 0.0268 - val_mape: 0.9292 - lr: 0.0010\n",
      "Epoch 95/500\n",
      "19/19 [==============================] - 0s 6ms/step - loss: 0.0141 - mape: 0.7461 - val_loss: 0.0266 - val_mape: 0.9251 - lr: 0.0010\n",
      "Epoch 96/500\n",
      "19/19 [==============================] - 0s 6ms/step - loss: 0.0139 - mape: 0.7417 - val_loss: 0.0264 - val_mape: 0.9212 - lr: 0.0010\n",
      "Epoch 97/500\n",
      "19/19 [==============================] - 0s 6ms/step - loss: 0.0138 - mape: 0.7386 - val_loss: 0.0262 - val_mape: 0.9177 - lr: 0.0010\n",
      "Epoch 98/500\n",
      "19/19 [==============================] - 0s 7ms/step - loss: 0.0137 - mape: 0.7346 - val_loss: 0.0259 - val_mape: 0.9076 - lr: 0.0010\n",
      "Epoch 99/500\n",
      "19/19 [==============================] - 0s 6ms/step - loss: 0.0134 - mape: 0.7253 - val_loss: 0.0258 - val_mape: 0.9086 - lr: 0.0010\n",
      "Epoch 100/500\n",
      "19/19 [==============================] - 0s 6ms/step - loss: 0.0134 - mape: 0.7258 - val_loss: 0.0256 - val_mape: 0.9017 - lr: 0.0010\n",
      "Epoch 101/500\n",
      "19/19 [==============================] - 0s 5ms/step - loss: 0.0133 - mape: 0.7231 - val_loss: 0.0255 - val_mape: 0.8997 - lr: 0.0010\n",
      "Epoch 102/500\n",
      "19/19 [==============================] - 0s 5ms/step - loss: 0.0132 - mape: 0.7194 - val_loss: 0.0253 - val_mape: 0.8960 - lr: 0.0010\n",
      "Epoch 103/500\n",
      "19/19 [==============================] - 0s 6ms/step - loss: 0.0130 - mape: 0.7158 - val_loss: 0.0252 - val_mape: 0.8928 - lr: 0.0010\n",
      "Epoch 104/500\n",
      "19/19 [==============================] - 0s 6ms/step - loss: 0.0129 - mape: 0.7124 - val_loss: 0.0250 - val_mape: 0.8869 - lr: 0.0010\n",
      "Epoch 105/500\n",
      "19/19 [==============================] - 0s 5ms/step - loss: 0.0127 - mape: 0.7059 - val_loss: 0.0249 - val_mape: 0.8883 - lr: 0.0010\n",
      "Epoch 106/500\n",
      "19/19 [==============================] - 0s 5ms/step - loss: 0.0127 - mape: 0.7055 - val_loss: 0.0247 - val_mape: 0.8799 - lr: 0.0010\n",
      "Epoch 107/500\n",
      "19/19 [==============================] - 0s 6ms/step - loss: 0.0126 - mape: 0.7026 - val_loss: 0.0247 - val_mape: 0.8792 - lr: 0.0010\n",
      "Epoch 108/500\n",
      "19/19 [==============================] - 0s 6ms/step - loss: 0.0125 - mape: 0.6998 - val_loss: 0.0245 - val_mape: 0.8765 - lr: 0.0010\n",
      "Epoch 109/500\n",
      "19/19 [==============================] - 0s 5ms/step - loss: 0.0124 - mape: 0.6968 - val_loss: 0.0244 - val_mape: 0.8729 - lr: 0.0010\n",
      "Epoch 110/500\n",
      "19/19 [==============================] - 0s 5ms/step - loss: 0.0122 - mape: 0.6936 - val_loss: 0.0242 - val_mape: 0.8664 - lr: 0.0010\n",
      "Epoch 111/500\n",
      "19/19 [==============================] - 0s 6ms/step - loss: 0.0121 - mape: 0.6874 - val_loss: 0.0242 - val_mape: 0.8699 - lr: 0.0010\n",
      "Epoch 112/500\n",
      "19/19 [==============================] - 0s 6ms/step - loss: 0.0120 - mape: 0.6873 - val_loss: 0.0240 - val_mape: 0.8604 - lr: 0.0010\n",
      "Epoch 113/500\n",
      "19/19 [==============================] - 0s 7ms/step - loss: 0.0119 - mape: 0.6848 - val_loss: 0.0240 - val_mape: 0.8610 - lr: 0.0010\n",
      "Epoch 114/500\n",
      "19/19 [==============================] - 0s 5ms/step - loss: 0.0118 - mape: 0.6818 - val_loss: 0.0239 - val_mape: 0.8583 - lr: 0.0010\n",
      "Epoch 115/500\n",
      "19/19 [==============================] - 0s 6ms/step - loss: 0.0117 - mape: 0.6788 - val_loss: 0.0237 - val_mape: 0.8517 - lr: 0.0010\n",
      "Epoch 116/500\n",
      "19/19 [==============================] - 0s 5ms/step - loss: 0.0115 - mape: 0.6726 - val_loss: 0.0237 - val_mape: 0.8565 - lr: 0.0010\n",
      "Epoch 117/500\n",
      "19/19 [==============================] - 0s 5ms/step - loss: 0.0115 - mape: 0.6721 - val_loss: 0.0235 - val_mape: 0.8477 - lr: 0.0010\n",
      "Epoch 118/500\n",
      "19/19 [==============================] - 0s 6ms/step - loss: 0.0114 - mape: 0.6692 - val_loss: 0.0234 - val_mape: 0.8451 - lr: 0.0010\n",
      "Epoch 119/500\n",
      "19/19 [==============================] - 0s 6ms/step - loss: 0.0113 - mape: 0.6658 - val_loss: 0.0234 - val_mape: 0.8433 - lr: 0.0010\n",
      "Epoch 120/500\n",
      "19/19 [==============================] - 0s 5ms/step - loss: 0.0111 - mape: 0.6619 - val_loss: 0.0233 - val_mape: 0.8385 - lr: 0.0010\n",
      "Epoch 121/500\n",
      "19/19 [==============================] - 0s 5ms/step - loss: 0.0110 - mape: 0.6572 - val_loss: 0.0232 - val_mape: 0.8391 - lr: 0.0010\n",
      "Epoch 122/500\n",
      "19/19 [==============================] - 0s 5ms/step - loss: 0.0109 - mape: 0.6544 - val_loss: 0.0231 - val_mape: 0.8326 - lr: 0.0010\n",
      "Epoch 123/500\n",
      "19/19 [==============================] - 0s 5ms/step - loss: 0.0108 - mape: 0.6516 - val_loss: 0.0230 - val_mape: 0.8309 - lr: 0.0010\n",
      "Epoch 124/500\n",
      "19/19 [==============================] - 0s 7ms/step - loss: 0.0107 - mape: 0.6481 - val_loss: 0.0228 - val_mape: 0.8262 - lr: 0.0010\n",
      "Epoch 125/500\n",
      "19/19 [==============================] - 0s 6ms/step - loss: 0.0106 - mape: 0.6438 - val_loss: 0.0226 - val_mape: 0.8207 - lr: 0.0010\n",
      "Epoch 126/500\n",
      "19/19 [==============================] - 0s 5ms/step - loss: 0.0104 - mape: 0.6379 - val_loss: 0.0227 - val_mape: 0.8242 - lr: 0.0010\n",
      "Epoch 127/500\n",
      "19/19 [==============================] - 0s 6ms/step - loss: 0.0103 - mape: 0.6343 - val_loss: 0.0225 - val_mape: 0.8162 - lr: 0.0010\n",
      "Epoch 128/500\n",
      "19/19 [==============================] - 0s 5ms/step - loss: 0.0102 - mape: 0.6326 - val_loss: 0.0224 - val_mape: 0.8124 - lr: 0.0010\n",
      "Epoch 129/500\n",
      "19/19 [==============================] - 0s 8ms/step - loss: 0.0101 - mape: 0.6273 - val_loss: 0.0223 - val_mape: 0.8110 - lr: 0.0010\n",
      "Epoch 130/500\n",
      "19/19 [==============================] - 0s 7ms/step - loss: 0.0099 - mape: 0.6216 - val_loss: 0.0222 - val_mape: 0.8117 - lr: 0.0010\n",
      "Epoch 131/500\n",
      "19/19 [==============================] - 0s 6ms/step - loss: 0.0099 - mape: 0.6192 - val_loss: 0.0222 - val_mape: 0.8066 - lr: 0.0010\n",
      "Epoch 132/500\n",
      "19/19 [==============================] - 0s 6ms/step - loss: 0.0098 - mape: 0.6152 - val_loss: 0.0221 - val_mape: 0.8042 - lr: 0.0010\n",
      "Epoch 133/500\n",
      "19/19 [==============================] - 0s 5ms/step - loss: 0.0097 - mape: 0.6118 - val_loss: 0.0220 - val_mape: 0.8011 - lr: 0.0010\n",
      "Epoch 134/500\n",
      "19/19 [==============================] - 0s 6ms/step - loss: 0.0095 - mape: 0.6074 - val_loss: 0.0219 - val_mape: 0.8026 - lr: 0.0010\n",
      "Epoch 135/500\n",
      "19/19 [==============================] - 0s 7ms/step - loss: 0.0094 - mape: 0.6038 - val_loss: 0.0219 - val_mape: 0.7970 - lr: 0.0010\n",
      "Epoch 136/500\n",
      "19/19 [==============================] - 0s 5ms/step - loss: 0.0092 - mape: 0.5916 - val_loss: 0.0231 - val_mape: 0.8358 - lr: 5.0000e-04\n",
      "Epoch 137/500\n",
      "19/19 [==============================] - 0s 6ms/step - loss: 0.0092 - mape: 0.5960 - val_loss: 0.0231 - val_mape: 0.8407 - lr: 5.0000e-04\n",
      "Epoch 138/500\n",
      "19/19 [==============================] - 0s 7ms/step - loss: 0.0091 - mape: 0.5897 - val_loss: 0.0224 - val_mape: 0.8132 - lr: 2.5000e-04\n",
      "Epoch 139/500\n",
      "19/19 [==============================] - 0s 6ms/step - loss: 0.0093 - mape: 0.5955 - val_loss: 0.0219 - val_mape: 0.7959 - lr: 2.5000e-04\n",
      "Epoch 140/500\n",
      "19/19 [==============================] - 0s 6ms/step - loss: 0.0090 - mape: 0.5855 - val_loss: 0.0216 - val_mape: 0.7859 - lr: 1.2500e-04\n",
      "Epoch 141/500\n",
      "19/19 [==============================] - 0s 6ms/step - loss: 0.0088 - mape: 0.5801 - val_loss: 0.0218 - val_mape: 0.7927 - lr: 1.2500e-04\n",
      "Epoch 142/500\n",
      "19/19 [==============================] - 0s 7ms/step - loss: 0.0088 - mape: 0.5788 - val_loss: 0.0217 - val_mape: 0.7904 - lr: 1.2500e-04\n",
      "Epoch 143/500\n",
      "19/19 [==============================] - 0s 6ms/step - loss: 0.0087 - mape: 0.5775 - val_loss: 0.0218 - val_mape: 0.7934 - lr: 6.2500e-05\n",
      "Epoch 144/500\n",
      "19/19 [==============================] - 0s 6ms/step - loss: 0.0087 - mape: 0.5769 - val_loss: 0.0218 - val_mape: 0.7922 - lr: 6.2500e-05\n",
      "Epoch 145/500\n",
      "19/19 [==============================] - 0s 6ms/step - loss: 0.0087 - mape: 0.5762 - val_loss: 0.0218 - val_mape: 0.7933 - lr: 3.1250e-05\n",
      "Epoch 146/500\n",
      "19/19 [==============================] - 0s 7ms/step - loss: 0.0087 - mape: 0.5762 - val_loss: 0.0218 - val_mape: 0.7934 - lr: 3.1250e-05\n",
      "Epoch 147/500\n",
      "19/19 [==============================] - 0s 6ms/step - loss: 0.0087 - mape: 0.5758 - val_loss: 0.0218 - val_mape: 0.7936 - lr: 1.5625e-05\n",
      "Epoch 148/500\n",
      "19/19 [==============================] - 0s 6ms/step - loss: 0.0087 - mape: 0.5758 - val_loss: 0.0218 - val_mape: 0.7937 - lr: 1.5625e-05\n",
      "Epoch 149/500\n",
      "19/19 [==============================] - 0s 6ms/step - loss: 0.0087 - mape: 0.5756 - val_loss: 0.0218 - val_mape: 0.7937 - lr: 7.8125e-06\n"
     ]
    }
   ],
   "source": [
    "# Train model\n",
    "history = NN_model.fit(x=train_data,\n",
    "                        epochs=500,\n",
    "                        callbacks=callbacks_list,\n",
    "                        validation_data=test_data,\n",
    "                        steps_per_epoch=len(train_data),\n",
    "                        validation_steps=len(test_data))"
   ]
  },
  {
   "cell_type": "code",
   "execution_count": 28,
   "id": "3da4b4c1-5edf-4c1b-a200-8467f4356fb1",
   "metadata": {},
   "outputs": [
    {
     "data": {
      "text/html": [
       "<div>\n",
       "<style scoped>\n",
       "    .dataframe tbody tr th:only-of-type {\n",
       "        vertical-align: middle;\n",
       "    }\n",
       "\n",
       "    .dataframe tbody tr th {\n",
       "        vertical-align: top;\n",
       "    }\n",
       "\n",
       "    .dataframe thead th {\n",
       "        text-align: right;\n",
       "    }\n",
       "</style>\n",
       "<table border=\"1\" class=\"dataframe\">\n",
       "  <thead>\n",
       "    <tr style=\"text-align: right;\">\n",
       "      <th></th>\n",
       "      <th>MAPE</th>\n",
       "      <th>R2 score</th>\n",
       "    </tr>\n",
       "  </thead>\n",
       "  <tbody>\n",
       "    <tr>\n",
       "      <th>Ridge</th>\n",
       "      <td>7.6630</td>\n",
       "      <td>0.9305</td>\n",
       "    </tr>\n",
       "    <tr>\n",
       "      <th>SVR</th>\n",
       "      <td>7.6835</td>\n",
       "      <td>0.9286</td>\n",
       "    </tr>\n",
       "    <tr>\n",
       "      <th>Lasso</th>\n",
       "      <td>7.6963</td>\n",
       "      <td>0.9295</td>\n",
       "    </tr>\n",
       "    <tr>\n",
       "      <th>ElasticNet</th>\n",
       "      <td>7.6989</td>\n",
       "      <td>0.9294</td>\n",
       "    </tr>\n",
       "    <tr>\n",
       "      <th>LGBM</th>\n",
       "      <td>8.2692</td>\n",
       "      <td>0.9173</td>\n",
       "    </tr>\n",
       "    <tr>\n",
       "      <th>Neural network</th>\n",
       "      <td>9.3141</td>\n",
       "      <td>0.8743</td>\n",
       "    </tr>\n",
       "    <tr>\n",
       "      <th>Random forest</th>\n",
       "      <td>9.6590</td>\n",
       "      <td>0.8840</td>\n",
       "    </tr>\n",
       "  </tbody>\n",
       "</table>\n",
       "</div>"
      ],
      "text/plain": [
       "                 MAPE  R2 score\n",
       "Ridge          7.6630    0.9305\n",
       "SVR            7.6835    0.9286\n",
       "Lasso          7.6963    0.9295\n",
       "ElasticNet     7.6989    0.9294\n",
       "LGBM           8.2692    0.9173\n",
       "Neural network 9.3141    0.8743\n",
       "Random forest  9.6590    0.8840"
      ]
     },
     "execution_count": 28,
     "metadata": {},
     "output_type": "execute_result"
    }
   ],
   "source": [
    "NN_result = get_result(NN_model, X_test=X_test)\n",
    "\n",
    "all_results_1 = pd.DataFrame({\n",
    "    \"Lasso\": lasso_result_1,\n",
    "    \"Ridge\": ridge_result_1,\n",
    "    \"ElasticNet\": elastic_result_1,\n",
    "    \"Random forest\": random_forest_result_1,\n",
    "    \"SVR\": SVR_result_1,\n",
    "    \"LGBM\": LGBM_result_1,\n",
    "    \"Neural network\": NN_result\n",
    "})\n",
    "\n",
    "all_results_1.transpose().sort_values(by=\"MAPE\", ascending=True)"
   ]
  },
  {
   "cell_type": "markdown",
   "id": "6ebf9fbc-603c-426d-ad18-1db5a0e552e9",
   "metadata": {},
   "source": [
    "Cuối cùng chúng ta sẽ thử ensemble learning."
   ]
  },
  {
   "cell_type": "code",
   "execution_count": 33,
   "id": "50ef5e5f-6e76-404d-9394-4a61e8d4e80a",
   "metadata": {},
   "outputs": [],
   "source": [
    "lasso_model_ensemble = make_pipeline(RobustScaler(), Lasso(alpha=0.0006))\n",
    "ridge_model_ensemble = make_pipeline(RobustScaler(), Ridge(alpha=11))\n",
    "elastic_model_ensemble = make_pipeline(RobustScaler(), ElasticNet(alpha=0.0008, l1_ratio=0.75))\n",
    "random_forest_ensemble = RandomForestRegressor(n_estimators=120, min_samples_split=3)\n",
    "SVR_model_ensemble = make_pipeline(RobustScaler(), SVR(gamma=\"auto\", C=1.5, epsilon=0.011))\n",
    "LGBM_model_ensemble = LGBMRegressor(num_leaves=2, learning_rate=0.04, n_estimators=3200, min_child_samples=15, reg_alpha=0.003, reg_lambda=0.002)"
   ]
  },
  {
   "cell_type": "markdown",
   "id": "bff90889-e7bb-4a76-8896-7e92d21d7082",
   "metadata": {},
   "source": [
    "Kết hợp 3 mô hình tốt nhất"
   ]
  },
  {
   "cell_type": "code",
   "execution_count": 34,
   "id": "e6d0b98e-f04a-4358-8ab6-6839eef09b98",
   "metadata": {},
   "outputs": [
    {
     "data": {
      "text/plain": [
       "{'weights': [4, 4, 2]}"
      ]
     },
     "execution_count": 34,
     "metadata": {},
     "output_type": "execute_result"
    }
   ],
   "source": [
    "top_3_param = {\n",
    "    \"weights\": [None, [8, 1, 1], [7, 2, 1], [6, 3, 1], [6, 2, 2], [5, 4, 1], [5, 3, 2], [4, 4, 2], [4, 3, 3]]\n",
    "}\n",
    "\n",
    "top_3_estimators = [(\"Ridge\", ridge_model_ensemble), (\"SVR\", SVR_model_ensemble), (\"Lasso\", lasso_model_ensemble)]\n",
    "\n",
    "top_3_model_search = VotingRegressor(estimators=top_3_estimators)\n",
    "top_3_search = GridSearchCV(estimator=top_3_model_search, param_grid=top_3_param)\n",
    "top_3_search.fit(X_train, y_train)\n",
    "top_3_search.best_params_"
   ]
  },
  {
   "cell_type": "code",
   "execution_count": 35,
   "id": "23f7782c-73e6-464f-90c9-7fe77992f8cb",
   "metadata": {},
   "outputs": [
    {
     "data": {
      "text/plain": [
       "{'MAPE': 7.340104025519062, 'R2 score': 0.9337962789578536}"
      ]
     },
     "execution_count": 35,
     "metadata": {},
     "output_type": "execute_result"
    }
   ],
   "source": [
    "top_3_model = VotingRegressor(estimators=top_3_estimators, weights=[4, 4, 2])\n",
    "top_3_model.fit(X_train, y_train)\n",
    "top_3_result = get_result(top_3_model, X_test=X_test)\n",
    "top_3_result"
   ]
  },
  {
   "cell_type": "markdown",
   "id": "d2720ae8-ac3f-4387-9233-70744a702892",
   "metadata": {},
   "source": [
    "Top 4"
   ]
  },
  {
   "cell_type": "code",
   "execution_count": 36,
   "id": "3ea4f0d6-850a-4ba6-ab3f-789e50fb0dd2",
   "metadata": {},
   "outputs": [
    {
     "data": {
      "text/plain": [
       "{'weights': [4, 4, 1, 1]}"
      ]
     },
     "execution_count": 36,
     "metadata": {},
     "output_type": "execute_result"
    }
   ],
   "source": [
    "top_4_param = {\n",
    "    \"weights\": [None, [7, 1, 1, 1], [6, 2, 1, 1], [5, 3, 1, 1], [5, 2, 2, 1], [4, 4, 1, 1], [4, 3, 2, 1], [4, 2, 2, 2], [3, 3, 3, 1], [3, 3, 2, 2]]\n",
    "}\n",
    "\n",
    "top_4_estimators = [(\"Ridge\", ridge_model_ensemble), (\"SVR\", SVR_model_ensemble), (\"Lasso\", lasso_model_ensemble), (\"Elastic\", elastic_model_ensemble)]\n",
    "\n",
    "top_4_model_search = VotingRegressor(estimators=top_4_estimators)\n",
    "top_4_search = GridSearchCV(estimator=top_4_model_search, param_grid=top_4_param)\n",
    "top_4_search.fit(X_train, y_train)\n",
    "top_4_search.best_params_"
   ]
  },
  {
   "cell_type": "code",
   "execution_count": 37,
   "id": "341daf5f-ed9c-44ba-a4df-03c6a1ad0721",
   "metadata": {},
   "outputs": [
    {
     "data": {
      "text/plain": [
       "{'MAPE': 7.340450479478551, 'R2 score': 0.9337896001269829}"
      ]
     },
     "execution_count": 37,
     "metadata": {},
     "output_type": "execute_result"
    }
   ],
   "source": [
    "top_4_model = VotingRegressor(estimators=top_4_estimators, weights=[4, 4, 1, 1])\n",
    "top_4_model.fit(X_train, y_train)\n",
    "top_4_result = get_result(top_4_model, X_test=X_test)\n",
    "top_4_result"
   ]
  },
  {
   "cell_type": "markdown",
   "id": "53ccbee3-0c7c-4535-a22b-291779c0196c",
   "metadata": {},
   "source": [
    "Top 5"
   ]
  },
  {
   "cell_type": "code",
   "execution_count": 38,
   "id": "f879ae2e-f481-49f3-a056-20fd33d6f656",
   "metadata": {},
   "outputs": [
    {
     "data": {
      "text/plain": [
       "{'weights': [3, 3, 2, 1, 1]}"
      ]
     },
     "execution_count": 38,
     "metadata": {},
     "output_type": "execute_result"
    }
   ],
   "source": [
    "top_5_param = {\n",
    "    \"weights\": [None, [6, 1, 1, 1, 1], [5, 2, 1, 1, 1], [4, 3, 1, 1, 1], [4, 2, 2, 1, 1], [3, 3, 2, 1, 1], [3, 2, 2, 2, 1]]\n",
    "}\n",
    "\n",
    "top_5_estimators = [(\"Ridge\", ridge_model_ensemble), (\"SVR\", SVR_model_ensemble), (\"Lasso\", lasso_model_ensemble), \n",
    "                    (\"Elastic\", elastic_model_ensemble), (\"LGBM\", LGBM_model_ensemble)]\n",
    "\n",
    "top_5_model_search = VotingRegressor(estimators=top_5_estimators)\n",
    "top_5_search = GridSearchCV(estimator=top_5_model_search, param_grid=top_5_param)\n",
    "top_5_search.fit(X_train, y_train)\n",
    "top_5_search.best_params_"
   ]
  },
  {
   "cell_type": "code",
   "execution_count": 39,
   "id": "6f26fc6b-7a95-460a-931a-07351c1e482a",
   "metadata": {},
   "outputs": [
    {
     "data": {
      "text/plain": [
       "{'MAPE': 7.389593078020545, 'R2 score': 0.9330611109124131}"
      ]
     },
     "execution_count": 39,
     "metadata": {},
     "output_type": "execute_result"
    }
   ],
   "source": [
    "top_5_model = VotingRegressor(estimators=top_5_estimators, weights=[3, 3, 2, 1, 1])\n",
    "top_5_model.fit(X_train, y_train)\n",
    "top_5_result = get_result(top_5_model, X_test=X_test)\n",
    "top_5_result"
   ]
  },
  {
   "cell_type": "markdown",
   "id": "4a97887c-b9d5-4875-8ab4-fd87c8ba57db",
   "metadata": {},
   "source": [
    "Kết hợp tất cả 6 mô hình"
   ]
  },
  {
   "cell_type": "code",
   "execution_count": 40,
   "id": "afa85a97-a6db-43d7-a159-b94cfeeb0eff",
   "metadata": {},
   "outputs": [
    {
     "data": {
      "text/plain": [
       "{'weights': [3, 3, 1, 1, 1, 1]}"
      ]
     },
     "execution_count": 40,
     "metadata": {},
     "output_type": "execute_result"
    }
   ],
   "source": [
    "ensemble_param = {\n",
    "    \"weights\": [None, [5, 1, 1, 1, 1, 1], [4, 2, 1, 1, 1, 1], [3, 3, 1, 1, 1, 1], [3, 2, 2, 1, 1, 1], [2, 2, 2, 2, 1, 1]]\n",
    "}\n",
    "\n",
    "ensemble_estimators = [(\"Ridge\", ridge_model_ensemble), (\"SVR\", SVR_model_ensemble), (\"Lasso\", lasso_model_ensemble), \n",
    "                       (\"Elastic\", elastic_model_ensemble), (\"LGBM\", LGBM_model_ensemble), (\"Random Forest\", random_forest_ensemble)]\n",
    "\n",
    "ensemble_model_search = VotingRegressor(estimators=ensemble_estimators)\n",
    "ensemble_search = GridSearchCV(estimator=ensemble_model_search, param_grid=ensemble_param)\n",
    "ensemble_search.fit(X_train, y_train)\n",
    "ensemble_search.best_params_"
   ]
  },
  {
   "cell_type": "code",
   "execution_count": 41,
   "id": "8cf5ad09-db5c-4a80-a823-22662e2881d8",
   "metadata": {},
   "outputs": [
    {
     "data": {
      "text/plain": [
       "{'MAPE': 7.348448056043093, 'R2 score': 0.9324437361979143}"
      ]
     },
     "execution_count": 41,
     "metadata": {},
     "output_type": "execute_result"
    }
   ],
   "source": [
    "ensemble_model = VotingRegressor(estimators=ensemble_estimators, weights=[3, 3, 1, 1, 1, 1])\n",
    "ensemble_model.fit(X_train, y_train)\n",
    "ensemble_result = get_result(ensemble_model, X_test=X_test)\n",
    "ensemble_result"
   ]
  },
  {
   "cell_type": "code",
   "execution_count": 42,
   "id": "8088fed2-fd80-4956-8ef0-9a8761374e84",
   "metadata": {},
   "outputs": [
    {
     "data": {
      "text/html": [
       "<div>\n",
       "<style scoped>\n",
       "    .dataframe tbody tr th:only-of-type {\n",
       "        vertical-align: middle;\n",
       "    }\n",
       "\n",
       "    .dataframe tbody tr th {\n",
       "        vertical-align: top;\n",
       "    }\n",
       "\n",
       "    .dataframe thead th {\n",
       "        text-align: right;\n",
       "    }\n",
       "</style>\n",
       "<table border=\"1\" class=\"dataframe\">\n",
       "  <thead>\n",
       "    <tr style=\"text-align: right;\">\n",
       "      <th></th>\n",
       "      <th>MAPE</th>\n",
       "      <th>R2 score</th>\n",
       "    </tr>\n",
       "  </thead>\n",
       "  <tbody>\n",
       "    <tr>\n",
       "      <th>Top 3</th>\n",
       "      <td>7.3401</td>\n",
       "      <td>0.9338</td>\n",
       "    </tr>\n",
       "    <tr>\n",
       "      <th>Top 4</th>\n",
       "      <td>7.3405</td>\n",
       "      <td>0.9338</td>\n",
       "    </tr>\n",
       "    <tr>\n",
       "      <th>All 6 model</th>\n",
       "      <td>7.3484</td>\n",
       "      <td>0.9324</td>\n",
       "    </tr>\n",
       "    <tr>\n",
       "      <th>Top 5</th>\n",
       "      <td>7.3896</td>\n",
       "      <td>0.9331</td>\n",
       "    </tr>\n",
       "    <tr>\n",
       "      <th>Ridge</th>\n",
       "      <td>7.6630</td>\n",
       "      <td>0.9305</td>\n",
       "    </tr>\n",
       "    <tr>\n",
       "      <th>SVR</th>\n",
       "      <td>7.6835</td>\n",
       "      <td>0.9286</td>\n",
       "    </tr>\n",
       "    <tr>\n",
       "      <th>Lasso</th>\n",
       "      <td>7.6963</td>\n",
       "      <td>0.9295</td>\n",
       "    </tr>\n",
       "    <tr>\n",
       "      <th>ElasticNet</th>\n",
       "      <td>7.6989</td>\n",
       "      <td>0.9294</td>\n",
       "    </tr>\n",
       "    <tr>\n",
       "      <th>LGBM</th>\n",
       "      <td>8.2692</td>\n",
       "      <td>0.9173</td>\n",
       "    </tr>\n",
       "    <tr>\n",
       "      <th>Random forest</th>\n",
       "      <td>9.6590</td>\n",
       "      <td>0.8840</td>\n",
       "    </tr>\n",
       "  </tbody>\n",
       "</table>\n",
       "</div>"
      ],
      "text/plain": [
       "                MAPE  R2 score\n",
       "Top 3         7.3401    0.9338\n",
       "Top 4         7.3405    0.9338\n",
       "All 6 model   7.3484    0.9324\n",
       "Top 5         7.3896    0.9331\n",
       "Ridge         7.6630    0.9305\n",
       "SVR           7.6835    0.9286\n",
       "Lasso         7.6963    0.9295\n",
       "ElasticNet    7.6989    0.9294\n",
       "LGBM          8.2692    0.9173\n",
       "Random forest 9.6590    0.8840"
      ]
     },
     "execution_count": 42,
     "metadata": {},
     "output_type": "execute_result"
    }
   ],
   "source": [
    "all_results_1 = pd.DataFrame({\n",
    "    \"Lasso\": lasso_result_1,\n",
    "    \"Ridge\": ridge_result_1,\n",
    "    \"ElasticNet\": elastic_result_1,\n",
    "    \"Random forest\": random_forest_result_1,\n",
    "    \"SVR\": SVR_result_1,\n",
    "    \"LGBM\": LGBM_result_1,\n",
    "    \"Top 3\": top_3_result,\n",
    "    \"Top 4\": top_4_result,\n",
    "    \"Top 5\": top_5_result,\n",
    "    \"All 6 model\": ensemble_result\n",
    "})\n",
    "\n",
    "all_results_1.transpose().sort_values(by=\"MAPE\", ascending=True)"
   ]
  },
  {
   "cell_type": "markdown",
   "id": "f25ac9ad-8d66-4b0e-928f-6549a5d49147",
   "metadata": {},
   "source": [
    "Hãy lấy ra các dự đoán sai nhất để quan sát"
   ]
  },
  {
   "cell_type": "code",
   "execution_count": 44,
   "id": "b4d55daa-f1b1-41a8-bf38-b232bf310aa0",
   "metadata": {},
   "outputs": [
    {
     "data": {
      "text/html": [
       "<div>\n",
       "<style scoped>\n",
       "    .dataframe tbody tr th:only-of-type {\n",
       "        vertical-align: middle;\n",
       "    }\n",
       "\n",
       "    .dataframe tbody tr th {\n",
       "        vertical-align: top;\n",
       "    }\n",
       "\n",
       "    .dataframe thead th {\n",
       "        text-align: right;\n",
       "    }\n",
       "</style>\n",
       "<table border=\"1\" class=\"dataframe\">\n",
       "  <thead>\n",
       "    <tr style=\"text-align: right;\">\n",
       "      <th></th>\n",
       "      <th>OverallQual</th>\n",
       "      <th>GrLivArea</th>\n",
       "      <th>GarageCars</th>\n",
       "      <th>Neighborhood</th>\n",
       "      <th>ExterQual</th>\n",
       "      <th>BsmtQual</th>\n",
       "      <th>KitchenQual</th>\n",
       "      <th>Price</th>\n",
       "      <th>Predict</th>\n",
       "      <th>Difference</th>\n",
       "    </tr>\n",
       "  </thead>\n",
       "  <tbody>\n",
       "    <tr>\n",
       "      <th>15</th>\n",
       "      <td>3.0000</td>\n",
       "      <td>894.0000</td>\n",
       "      <td>3.0000</td>\n",
       "      <td>IDOTRR</td>\n",
       "      <td>2.0000</td>\n",
       "      <td>3.0000</td>\n",
       "      <td>3.0000</td>\n",
       "      <td>81,000.0000</td>\n",
       "      <td>99,349.2891</td>\n",
       "      <td>22.6534</td>\n",
       "    </tr>\n",
       "    <tr>\n",
       "      <th>243</th>\n",
       "      <td>6.0000</td>\n",
       "      <td>1,632.0000</td>\n",
       "      <td>1.0000</td>\n",
       "      <td>NAmes</td>\n",
       "      <td>3.0000</td>\n",
       "      <td>3.0000</td>\n",
       "      <td>3.0000</td>\n",
       "      <td>139,000.0000</td>\n",
       "      <td>171,361.9398</td>\n",
       "      <td>23.2820</td>\n",
       "    </tr>\n",
       "    <tr>\n",
       "      <th>69</th>\n",
       "      <td>9.0000</td>\n",
       "      <td>1,980.0000</td>\n",
       "      <td>3.0000</td>\n",
       "      <td>NridgHt</td>\n",
       "      <td>4.0000</td>\n",
       "      <td>5.0000</td>\n",
       "      <td>5.0000</td>\n",
       "      <td>315,000.0000</td>\n",
       "      <td>388,935.1811</td>\n",
       "      <td>23.4715</td>\n",
       "    </tr>\n",
       "    <tr>\n",
       "      <th>277</th>\n",
       "      <td>4.0000</td>\n",
       "      <td>960.0000</td>\n",
       "      <td>1.0000</td>\n",
       "      <td>Edwards</td>\n",
       "      <td>3.0000</td>\n",
       "      <td>3.0000</td>\n",
       "      <td>3.0000</td>\n",
       "      <td>112,000.0000</td>\n",
       "      <td>84,302.0633</td>\n",
       "      <td>24.7303</td>\n",
       "    </tr>\n",
       "    <tr>\n",
       "      <th>35</th>\n",
       "      <td>4.0000</td>\n",
       "      <td>864.0000</td>\n",
       "      <td>2.0000</td>\n",
       "      <td>NAmes</td>\n",
       "      <td>3.0000</td>\n",
       "      <td>3.0000</td>\n",
       "      <td>3.0000</td>\n",
       "      <td>97,000.0000</td>\n",
       "      <td>121,640.3438</td>\n",
       "      <td>25.4024</td>\n",
       "    </tr>\n",
       "    <tr>\n",
       "      <th>115</th>\n",
       "      <td>6.0000</td>\n",
       "      <td>2,201.0000</td>\n",
       "      <td>2.0000</td>\n",
       "      <td>Edwards</td>\n",
       "      <td>4.0000</td>\n",
       "      <td>4.0000</td>\n",
       "      <td>4.0000</td>\n",
       "      <td>274,970.0000</td>\n",
       "      <td>194,270.2849</td>\n",
       "      <td>29.3486</td>\n",
       "    </tr>\n",
       "    <tr>\n",
       "      <th>54</th>\n",
       "      <td>6.0000</td>\n",
       "      <td>1,392.0000</td>\n",
       "      <td>2.0000</td>\n",
       "      <td>NAmes</td>\n",
       "      <td>3.0000</td>\n",
       "      <td>2.0000</td>\n",
       "      <td>3.0000</td>\n",
       "      <td>110,000.0000</td>\n",
       "      <td>144,292.4906</td>\n",
       "      <td>31.1750</td>\n",
       "    </tr>\n",
       "    <tr>\n",
       "      <th>24</th>\n",
       "      <td>8.0000</td>\n",
       "      <td>1,752.0000</td>\n",
       "      <td>2.0000</td>\n",
       "      <td>Gilbert</td>\n",
       "      <td>4.0000</td>\n",
       "      <td>4.0000</td>\n",
       "      <td>3.0000</td>\n",
       "      <td>164,000.0000</td>\n",
       "      <td>215,155.9803</td>\n",
       "      <td>31.1927</td>\n",
       "    </tr>\n",
       "    <tr>\n",
       "      <th>156</th>\n",
       "      <td>5.0000</td>\n",
       "      <td>1,140.0000</td>\n",
       "      <td>0.0000</td>\n",
       "      <td>Mitchel</td>\n",
       "      <td>3.0000</td>\n",
       "      <td>4.0000</td>\n",
       "      <td>3.0000</td>\n",
       "      <td>84,500.0000</td>\n",
       "      <td>140,963.9883</td>\n",
       "      <td>66.8213</td>\n",
       "    </tr>\n",
       "    <tr>\n",
       "      <th>158</th>\n",
       "      <td>8.0000</td>\n",
       "      <td>1,795.0000</td>\n",
       "      <td>3.0000</td>\n",
       "      <td>Somerst</td>\n",
       "      <td>4.0000</td>\n",
       "      <td>5.0000</td>\n",
       "      <td>4.0000</td>\n",
       "      <td>147,000.0000</td>\n",
       "      <td>279,493.2053</td>\n",
       "      <td>90.1314</td>\n",
       "    </tr>\n",
       "  </tbody>\n",
       "</table>\n",
       "</div>"
      ],
      "text/plain": [
       "     OverallQual  GrLivArea  GarageCars Neighborhood  ExterQual  BsmtQual  \\\n",
       "15        3.0000   894.0000      3.0000       IDOTRR     2.0000    3.0000   \n",
       "243       6.0000 1,632.0000      1.0000        NAmes     3.0000    3.0000   \n",
       "69        9.0000 1,980.0000      3.0000      NridgHt     4.0000    5.0000   \n",
       "277       4.0000   960.0000      1.0000      Edwards     3.0000    3.0000   \n",
       "35        4.0000   864.0000      2.0000        NAmes     3.0000    3.0000   \n",
       "115       6.0000 2,201.0000      2.0000      Edwards     4.0000    4.0000   \n",
       "54        6.0000 1,392.0000      2.0000        NAmes     3.0000    2.0000   \n",
       "24        8.0000 1,752.0000      2.0000      Gilbert     4.0000    4.0000   \n",
       "156       5.0000 1,140.0000      0.0000      Mitchel     3.0000    4.0000   \n",
       "158       8.0000 1,795.0000      3.0000      Somerst     4.0000    5.0000   \n",
       "\n",
       "     KitchenQual        Price      Predict  Difference  \n",
       "15        3.0000  81,000.0000  99,349.2891     22.6534  \n",
       "243       3.0000 139,000.0000 171,361.9398     23.2820  \n",
       "69        5.0000 315,000.0000 388,935.1811     23.4715  \n",
       "277       3.0000 112,000.0000  84,302.0633     24.7303  \n",
       "35        3.0000  97,000.0000 121,640.3438     25.4024  \n",
       "115       4.0000 274,970.0000 194,270.2849     29.3486  \n",
       "54        3.0000 110,000.0000 144,292.4906     31.1750  \n",
       "24        3.0000 164,000.0000 215,155.9803     31.1927  \n",
       "156       3.0000  84,500.0000 140,963.9883     66.8213  \n",
       "158       4.0000 147,000.0000 279,493.2053     90.1314  "
      ]
     },
     "execution_count": 44,
     "metadata": {},
     "output_type": "execute_result"
    }
   ],
   "source": [
    "columns = X_test.columns.to_list()\n",
    "dummy_columns = [x for x in columns if x not in numerical_columns]\n",
    "\n",
    "check_error_1 = pd.from_dummies(data=X_test[dummy_columns], sep=\"_\")\n",
    "check_error_1.reset_index(drop=True, inplace=True)\n",
    "\n",
    "check_error_2 = X_test[numerical_columns].reset_index(drop=True)\n",
    "\n",
    "check_error = pd.concat(objs=[check_error_2, check_error_1], axis=1)\n",
    "check_error[numerical_columns] = scaler.inverse_transform(check_error[numerical_columns])\n",
    "\n",
    "for f in skewed_features:\n",
    "    if f == \"SalePrice\":\n",
    "        continue\n",
    "    check_error[f] = np.expm1(check_error[f])\n",
    "    \n",
    "check_error[\"Price\"] = y_test.reset_index(drop=True)\n",
    "check_error[\"Predict\"] = top_3_model.predict(X=X_test)\n",
    "\n",
    "check_error[\"Price\"] = np.expm1(check_error[\"Price\"])\n",
    "check_error[\"Predict\"] = np.expm1(check_error[\"Predict\"])\n",
    "\n",
    "check_error[\"Difference\"] = (check_error[\"Predict\"] - check_error[\"Price\"]) / check_error[\"Price\"] * 100\n",
    "check_error[\"Difference\"] = check_error[\"Difference\"].abs()\n",
    "\n",
    "check_error.sort_values(by=\"Difference\", inplace=True)\n",
    "show_columns = [\"OverallQual\", \"GrLivArea\", \"GarageCars\", \"Neighborhood\", \"ExterQual\", \"BsmtQual\", \"KitchenQual\", \"Price\", \"Predict\", \"Difference\"]\n",
    "check_error[show_columns].tail(10)"
   ]
  },
  {
   "cell_type": "markdown",
   "id": "88e82ea7-fadf-417a-a02f-8cf57b1f2975",
   "metadata": {},
   "source": [
    "Dự đoán sai nhất của mô hình có vẻ là một điểm dữ liệu không chính xác. Tất cả các đặc trưng đều cho thấy đây là ngôi nhà tốt nhưng giá lại thấp hơn gần một nửa so với dự đoán.\n",
    "\n",
    "Thử nhóm dữ liệu theo 2 trường có ảnh hưởng lớn nhất là \"OverallQual\" và \"Neighborhood\""
   ]
  },
  {
   "cell_type": "code",
   "execution_count": 45,
   "id": "f0ce5400-53de-4b27-8d8f-7d87a8b892c9",
   "metadata": {},
   "outputs": [
    {
     "data": {
      "text/html": [
       "<div>\n",
       "<style scoped>\n",
       "    .dataframe tbody tr th:only-of-type {\n",
       "        vertical-align: middle;\n",
       "    }\n",
       "\n",
       "    .dataframe tbody tr th {\n",
       "        vertical-align: top;\n",
       "    }\n",
       "\n",
       "    .dataframe thead th {\n",
       "        text-align: right;\n",
       "    }\n",
       "</style>\n",
       "<table border=\"1\" class=\"dataframe\">\n",
       "  <thead>\n",
       "    <tr style=\"text-align: right;\">\n",
       "      <th></th>\n",
       "      <th>OverallQual</th>\n",
       "      <th>Neighborhood</th>\n",
       "      <th>Price</th>\n",
       "      <th>Predict</th>\n",
       "      <th>Difference</th>\n",
       "    </tr>\n",
       "  </thead>\n",
       "  <tbody>\n",
       "    <tr>\n",
       "      <th>29</th>\n",
       "      <td>6.0000</td>\n",
       "      <td>BrDale</td>\n",
       "      <td>89,466.6667</td>\n",
       "      <td>99,235.1560</td>\n",
       "      <td>12.7078</td>\n",
       "    </tr>\n",
       "    <tr>\n",
       "      <th>9</th>\n",
       "      <td>4.0000</td>\n",
       "      <td>NAmes</td>\n",
       "      <td>120,062.5000</td>\n",
       "      <td>117,111.7474</td>\n",
       "      <td>13.3686</td>\n",
       "    </tr>\n",
       "    <tr>\n",
       "      <th>33</th>\n",
       "      <td>6.0000</td>\n",
       "      <td>Edwards</td>\n",
       "      <td>186,995.7143</td>\n",
       "      <td>164,429.8341</td>\n",
       "      <td>13.4113</td>\n",
       "    </tr>\n",
       "    <tr>\n",
       "      <th>10</th>\n",
       "      <td>4.0000</td>\n",
       "      <td>OldTown</td>\n",
       "      <td>106,237.5000</td>\n",
       "      <td>91,091.9599</td>\n",
       "      <td>14.2058</td>\n",
       "    </tr>\n",
       "    <tr>\n",
       "      <th>76</th>\n",
       "      <td>9.0000</td>\n",
       "      <td>Timber</td>\n",
       "      <td>378,500.0000</td>\n",
       "      <td>323,260.1345</td>\n",
       "      <td>14.5944</td>\n",
       "    </tr>\n",
       "    <tr>\n",
       "      <th>21</th>\n",
       "      <td>5.0000</td>\n",
       "      <td>Mitchel</td>\n",
       "      <td>132,650.0000</td>\n",
       "      <td>140,678.1463</td>\n",
       "      <td>14.7155</td>\n",
       "    </tr>\n",
       "    <tr>\n",
       "      <th>65</th>\n",
       "      <td>8.0000</td>\n",
       "      <td>NAmes</td>\n",
       "      <td>235,000.0000</td>\n",
       "      <td>276,371.3882</td>\n",
       "      <td>17.6048</td>\n",
       "    </tr>\n",
       "    <tr>\n",
       "      <th>6</th>\n",
       "      <td>4.0000</td>\n",
       "      <td>IDOTRR</td>\n",
       "      <td>55,000.0000</td>\n",
       "      <td>65,064.0496</td>\n",
       "      <td>18.2983</td>\n",
       "    </tr>\n",
       "    <tr>\n",
       "      <th>2</th>\n",
       "      <td>3.0000</td>\n",
       "      <td>IDOTRR</td>\n",
       "      <td>81,000.0000</td>\n",
       "      <td>99,349.2891</td>\n",
       "      <td>22.6534</td>\n",
       "    </tr>\n",
       "    <tr>\n",
       "      <th>64</th>\n",
       "      <td>8.0000</td>\n",
       "      <td>Gilbert</td>\n",
       "      <td>164,000.0000</td>\n",
       "      <td>215,155.9803</td>\n",
       "      <td>31.1927</td>\n",
       "    </tr>\n",
       "  </tbody>\n",
       "</table>\n",
       "</div>"
      ],
      "text/plain": [
       "    OverallQual Neighborhood        Price      Predict  Difference\n",
       "29       6.0000       BrDale  89,466.6667  99,235.1560     12.7078\n",
       "9        4.0000        NAmes 120,062.5000 117,111.7474     13.3686\n",
       "33       6.0000      Edwards 186,995.7143 164,429.8341     13.4113\n",
       "10       4.0000      OldTown 106,237.5000  91,091.9599     14.2058\n",
       "76       9.0000       Timber 378,500.0000 323,260.1345     14.5944\n",
       "21       5.0000      Mitchel 132,650.0000 140,678.1463     14.7155\n",
       "65       8.0000        NAmes 235,000.0000 276,371.3882     17.6048\n",
       "6        4.0000       IDOTRR  55,000.0000  65,064.0496     18.2983\n",
       "2        3.0000       IDOTRR  81,000.0000  99,349.2891     22.6534\n",
       "64       8.0000      Gilbert 164,000.0000 215,155.9803     31.1927"
      ]
     },
     "execution_count": 45,
     "metadata": {},
     "output_type": "execute_result"
    }
   ],
   "source": [
    "check_mean_columns = [\"OverallQual\", \"Neighborhood\", \"Price\", \"Predict\", \"Difference\"]\n",
    "check_mean = check_error[check_mean_columns].groupby(by=[\"OverallQual\", \"Neighborhood\"], as_index=False).mean()\n",
    "\n",
    "check_mean.sort_values(by=\"Difference\", inplace=True)\n",
    "check_mean.tail(10)"
   ]
  },
  {
   "cell_type": "markdown",
   "id": "8b6fa589-573a-4b38-af73-091df2bc40d8",
   "metadata": {},
   "source": [
    "Dự đoán sai lệch thế nào với các nhóm \"OverallQual\""
   ]
  },
  {
   "cell_type": "code",
   "execution_count": 46,
   "id": "610d60b4-e602-448c-8112-01e8755f997e",
   "metadata": {},
   "outputs": [
    {
     "data": {
      "text/html": [
       "<div>\n",
       "<style scoped>\n",
       "    .dataframe tbody tr th:only-of-type {\n",
       "        vertical-align: middle;\n",
       "    }\n",
       "\n",
       "    .dataframe tbody tr th {\n",
       "        vertical-align: top;\n",
       "    }\n",
       "\n",
       "    .dataframe thead th {\n",
       "        text-align: right;\n",
       "    }\n",
       "</style>\n",
       "<table border=\"1\" class=\"dataframe\">\n",
       "  <thead>\n",
       "    <tr style=\"text-align: right;\">\n",
       "      <th></th>\n",
       "      <th>OverallQual</th>\n",
       "      <th>Price</th>\n",
       "      <th>Predict</th>\n",
       "      <th>Difference</th>\n",
       "    </tr>\n",
       "  </thead>\n",
       "  <tbody>\n",
       "    <tr>\n",
       "      <th>0</th>\n",
       "      <td>2.0000</td>\n",
       "      <td>60,000.0000</td>\n",
       "      <td>62,940.7107</td>\n",
       "      <td>4.9012</td>\n",
       "    </tr>\n",
       "    <tr>\n",
       "      <th>1</th>\n",
       "      <td>3.0000</td>\n",
       "      <td>88,000.0000</td>\n",
       "      <td>102,537.5024</td>\n",
       "      <td>16.9718</td>\n",
       "    </tr>\n",
       "    <tr>\n",
       "      <th>2</th>\n",
       "      <td>4.0000</td>\n",
       "      <td>109,885.0000</td>\n",
       "      <td>102,783.7412</td>\n",
       "      <td>10.9118</td>\n",
       "    </tr>\n",
       "    <tr>\n",
       "      <th>3</th>\n",
       "      <td>5.0000</td>\n",
       "      <td>134,381.8000</td>\n",
       "      <td>132,911.5834</td>\n",
       "      <td>5.7959</td>\n",
       "    </tr>\n",
       "    <tr>\n",
       "      <th>4</th>\n",
       "      <td>6.0000</td>\n",
       "      <td>161,409.4493</td>\n",
       "      <td>159,334.5410</td>\n",
       "      <td>8.3362</td>\n",
       "    </tr>\n",
       "    <tr>\n",
       "      <th>5</th>\n",
       "      <td>7.0000</td>\n",
       "      <td>197,990.7049</td>\n",
       "      <td>197,752.6910</td>\n",
       "      <td>6.1617</td>\n",
       "    </tr>\n",
       "    <tr>\n",
       "      <th>6</th>\n",
       "      <td>8.0000</td>\n",
       "      <td>266,853.6667</td>\n",
       "      <td>268,560.4673</td>\n",
       "      <td>8.3783</td>\n",
       "    </tr>\n",
       "    <tr>\n",
       "      <th>7</th>\n",
       "      <td>9.0000</td>\n",
       "      <td>363,897.6000</td>\n",
       "      <td>364,903.5523</td>\n",
       "      <td>8.1676</td>\n",
       "    </tr>\n",
       "    <tr>\n",
       "      <th>8</th>\n",
       "      <td>10.0000</td>\n",
       "      <td>458,475.0000</td>\n",
       "      <td>424,950.8921</td>\n",
       "      <td>7.2500</td>\n",
       "    </tr>\n",
       "  </tbody>\n",
       "</table>\n",
       "</div>"
      ],
      "text/plain": [
       "   OverallQual        Price      Predict  Difference\n",
       "0       2.0000  60,000.0000  62,940.7107      4.9012\n",
       "1       3.0000  88,000.0000 102,537.5024     16.9718\n",
       "2       4.0000 109,885.0000 102,783.7412     10.9118\n",
       "3       5.0000 134,381.8000 132,911.5834      5.7959\n",
       "4       6.0000 161,409.4493 159,334.5410      8.3362\n",
       "5       7.0000 197,990.7049 197,752.6910      6.1617\n",
       "6       8.0000 266,853.6667 268,560.4673      8.3783\n",
       "7       9.0000 363,897.6000 364,903.5523      8.1676\n",
       "8      10.0000 458,475.0000 424,950.8921      7.2500"
      ]
     },
     "execution_count": 46,
     "metadata": {},
     "output_type": "execute_result"
    }
   ],
   "source": [
    "check_error[[\"OverallQual\", \"Price\", \"Predict\", \"Difference\"]].groupby(by=[\"OverallQual\"], as_index=False).mean()"
   ]
  },
  {
   "cell_type": "markdown",
   "id": "f95c2d14-81df-45e2-b056-040aa2b062b4",
   "metadata": {},
   "source": [
    "Các ngôi nhà chất lượng thấp có dự đoán sai nhiều hơn"
   ]
  },
  {
   "cell_type": "code",
   "execution_count": 47,
   "id": "c4681c83-e95e-486c-bc25-f3b4ec5e3a05",
   "metadata": {},
   "outputs": [
    {
     "data": {
      "image/png": "[encoded data removed]",
      "text/plain": [
       "<Figure size 640x480 with 1 Axes>"
      ]
     },
     "metadata": {},
     "output_type": "display_data"
    }
   ],
   "source": [
    "sns.histplot(data[\"OverallQual\"])\n",
    "plt.show()"
   ]
  },
  {
   "cell_type": "markdown",
   "id": "e4835aa6-48bc-4076-acf0-adada7eae0b9",
   "metadata": {},
   "source": [
    "Ta sẽ cần thu thập thêm dữ liệu cho các ngôi nhà có chất lượng thấp < 4 và cao > 8\n",
    "\n",
    "Xem xét nhóm có dự đoán sai nhất \"OverallQual\" = 3 & \"Neighborhood\" = \"IDOTRR\""
   ]
  },
  {
   "cell_type": "code",
   "execution_count": 48,
   "id": "e40e7bd5-f3ce-40cb-a0c4-f3e9fd77469c",
   "metadata": {},
   "outputs": [
    {
     "data": {
      "text/html": [
       "<div>\n",
       "<style scoped>\n",
       "    .dataframe tbody tr th:only-of-type {\n",
       "        vertical-align: middle;\n",
       "    }\n",
       "\n",
       "    .dataframe tbody tr th {\n",
       "        vertical-align: top;\n",
       "    }\n",
       "\n",
       "    .dataframe thead th {\n",
       "        text-align: right;\n",
       "    }\n",
       "</style>\n",
       "<table border=\"1\" class=\"dataframe\">\n",
       "  <thead>\n",
       "    <tr style=\"text-align: right;\">\n",
       "      <th></th>\n",
       "      <th>OverallQual</th>\n",
       "      <th>GrLivArea</th>\n",
       "      <th>GarageCars</th>\n",
       "      <th>Neighborhood</th>\n",
       "      <th>ExterQual</th>\n",
       "      <th>BsmtQual</th>\n",
       "      <th>KitchenQual</th>\n",
       "      <th>SalePrice</th>\n",
       "    </tr>\n",
       "  </thead>\n",
       "  <tbody>\n",
       "    <tr>\n",
       "      <th>88</th>\n",
       "      <td>3</td>\n",
       "      <td>1,526.0000</td>\n",
       "      <td>0</td>\n",
       "      <td>IDOTRR</td>\n",
       "      <td>2.0000</td>\n",
       "      <td>3</td>\n",
       "      <td>2</td>\n",
       "      <td>85,000.0000</td>\n",
       "    </tr>\n",
       "    <tr>\n",
       "      <th>998</th>\n",
       "      <td>3</td>\n",
       "      <td>1,077.0000</td>\n",
       "      <td>1</td>\n",
       "      <td>IDOTRR</td>\n",
       "      <td>3.0000</td>\n",
       "      <td>3</td>\n",
       "      <td>3</td>\n",
       "      <td>91,000.0000</td>\n",
       "    </tr>\n",
       "    <tr>\n",
       "      <th>1061</th>\n",
       "      <td>3</td>\n",
       "      <td>894.0000</td>\n",
       "      <td>3</td>\n",
       "      <td>IDOTRR</td>\n",
       "      <td>2.0000</td>\n",
       "      <td>3</td>\n",
       "      <td>3</td>\n",
       "      <td>81,000.0000</td>\n",
       "    </tr>\n",
       "  </tbody>\n",
       "</table>\n",
       "</div>"
      ],
      "text/plain": [
       "      OverallQual  GrLivArea  GarageCars Neighborhood  ExterQual  BsmtQual  \\\n",
       "88              3 1,526.0000           0       IDOTRR     2.0000         3   \n",
       "998             3 1,077.0000           1       IDOTRR     3.0000         3   \n",
       "1061            3   894.0000           3       IDOTRR     2.0000         3   \n",
       "\n",
       "      KitchenQual   SalePrice  \n",
       "88              2 85,000.0000  \n",
       "998             3 91,000.0000  \n",
       "1061            3 81,000.0000  "
      ]
     },
     "execution_count": 48,
     "metadata": {},
     "output_type": "execute_result"
    }
   ],
   "source": [
    "check_price = data[[\"OverallQual\", \"GrLivArea\", \"GarageCars\", \"Neighborhood\", \"ExterQual\", \"BsmtQual\", \"KitchenQual\", \"SalePrice\"]].copy()\n",
    "\n",
    "for f in skewed_features:\n",
    "    if f in check_price.columns:\n",
    "        check_price[f] = np.expm1(check_price[f])\n",
    "\n",
    "check_price[(check_price[\"OverallQual\"] == 3) & (check_price[\"Neighborhood\"] == \"IDOTRR\")]"
   ]
  },
  {
   "cell_type": "markdown",
   "id": "01d4ce9b-7e44-4720-95c5-4e7184ad74f2",
   "metadata": {},
   "source": [
    "Chỉ có 3 điểm dữ liệu, điều này khiến mô hình dự đoán chưa chính xác\n",
    "\n",
    "Kiểm tra nhóm mà dự đoán sai nhất nằm trong đó"
   ]
  },
  {
   "cell_type": "code",
   "execution_count": 49,
   "id": "241f7125-cc62-4c55-8bb7-b5a05671d235",
   "metadata": {},
   "outputs": [
    {
     "data": {
      "text/html": [
       "<div>\n",
       "<style scoped>\n",
       "    .dataframe tbody tr th:only-of-type {\n",
       "        vertical-align: middle;\n",
       "    }\n",
       "\n",
       "    .dataframe tbody tr th {\n",
       "        vertical-align: top;\n",
       "    }\n",
       "\n",
       "    .dataframe thead th {\n",
       "        text-align: right;\n",
       "    }\n",
       "</style>\n",
       "<table border=\"1\" class=\"dataframe\">\n",
       "  <thead>\n",
       "    <tr style=\"text-align: right;\">\n",
       "      <th></th>\n",
       "      <th>OverallQual</th>\n",
       "      <th>GrLivArea</th>\n",
       "      <th>GarageCars</th>\n",
       "      <th>Neighborhood</th>\n",
       "      <th>ExterQual</th>\n",
       "      <th>BsmtQual</th>\n",
       "      <th>KitchenQual</th>\n",
       "      <th>Price</th>\n",
       "      <th>Predict</th>\n",
       "      <th>Difference</th>\n",
       "    </tr>\n",
       "  </thead>\n",
       "  <tbody>\n",
       "    <tr>\n",
       "      <th>158</th>\n",
       "      <td>8.0000</td>\n",
       "      <td>1,795.0000</td>\n",
       "      <td>3.0000</td>\n",
       "      <td>Somerst</td>\n",
       "      <td>4.0000</td>\n",
       "      <td>5.0000</td>\n",
       "      <td>4.0000</td>\n",
       "      <td>147,000.0000</td>\n",
       "      <td>279,493.2053</td>\n",
       "      <td>90.1314</td>\n",
       "    </tr>\n",
       "  </tbody>\n",
       "</table>\n",
       "</div>"
      ],
      "text/plain": [
       "     OverallQual  GrLivArea  GarageCars Neighborhood  ExterQual  BsmtQual  \\\n",
       "158       8.0000 1,795.0000      3.0000      Somerst     4.0000    5.0000   \n",
       "\n",
       "     KitchenQual        Price      Predict  Difference  \n",
       "158       4.0000 147,000.0000 279,493.2053     90.1314  "
      ]
     },
     "execution_count": 49,
     "metadata": {},
     "output_type": "execute_result"
    }
   ],
   "source": [
    "check_error[show_columns].tail(1)"
   ]
  },
  {
   "cell_type": "code",
   "execution_count": 50,
   "id": "c7d31820-96d9-4ec3-9b72-ed6331fb4109",
   "metadata": {},
   "outputs": [
    {
     "data": {
      "text/html": [
       "<div>\n",
       "<style scoped>\n",
       "    .dataframe tbody tr th:only-of-type {\n",
       "        vertical-align: middle;\n",
       "    }\n",
       "\n",
       "    .dataframe tbody tr th {\n",
       "        vertical-align: top;\n",
       "    }\n",
       "\n",
       "    .dataframe thead th {\n",
       "        text-align: right;\n",
       "    }\n",
       "</style>\n",
       "<table border=\"1\" class=\"dataframe\">\n",
       "  <thead>\n",
       "    <tr style=\"text-align: right;\">\n",
       "      <th></th>\n",
       "      <th>OverallQual</th>\n",
       "      <th>GrLivArea</th>\n",
       "      <th>GarageCars</th>\n",
       "      <th>ExterQual</th>\n",
       "      <th>BsmtQual</th>\n",
       "      <th>KitchenQual</th>\n",
       "      <th>SalePrice</th>\n",
       "    </tr>\n",
       "  </thead>\n",
       "  <tbody>\n",
       "    <tr>\n",
       "      <th>count</th>\n",
       "      <td>29.0000</td>\n",
       "      <td>29.0000</td>\n",
       "      <td>29.0000</td>\n",
       "      <td>29.0000</td>\n",
       "      <td>29.0000</td>\n",
       "      <td>29.0000</td>\n",
       "      <td>29.0000</td>\n",
       "    </tr>\n",
       "    <tr>\n",
       "      <th>mean</th>\n",
       "      <td>8.0000</td>\n",
       "      <td>1,729.8966</td>\n",
       "      <td>2.5172</td>\n",
       "      <td>3.9655</td>\n",
       "      <td>4.2069</td>\n",
       "      <td>4.1034</td>\n",
       "      <td>255,626.1379</td>\n",
       "    </tr>\n",
       "    <tr>\n",
       "      <th>std</th>\n",
       "      <td>0.0000</td>\n",
       "      <td>313.9503</td>\n",
       "      <td>0.5085</td>\n",
       "      <td>0.1857</td>\n",
       "      <td>0.4123</td>\n",
       "      <td>0.4093</td>\n",
       "      <td>55,302.6318</td>\n",
       "    </tr>\n",
       "    <tr>\n",
       "      <th>min</th>\n",
       "      <td>8.0000</td>\n",
       "      <td>1,247.0000</td>\n",
       "      <td>2.0000</td>\n",
       "      <td>3.0000</td>\n",
       "      <td>4.0000</td>\n",
       "      <td>3.0000</td>\n",
       "      <td>147,000.0000</td>\n",
       "    </tr>\n",
       "    <tr>\n",
       "      <th>25%</th>\n",
       "      <td>8.0000</td>\n",
       "      <td>1,563.0000</td>\n",
       "      <td>2.0000</td>\n",
       "      <td>4.0000</td>\n",
       "      <td>4.0000</td>\n",
       "      <td>4.0000</td>\n",
       "      <td>229,456.0000</td>\n",
       "    </tr>\n",
       "    <tr>\n",
       "      <th>50%</th>\n",
       "      <td>8.0000</td>\n",
       "      <td>1,636.0000</td>\n",
       "      <td>3.0000</td>\n",
       "      <td>4.0000</td>\n",
       "      <td>4.0000</td>\n",
       "      <td>4.0000</td>\n",
       "      <td>250,000.0000</td>\n",
       "    </tr>\n",
       "    <tr>\n",
       "      <th>75%</th>\n",
       "      <td>8.0000</td>\n",
       "      <td>1,939.0000</td>\n",
       "      <td>3.0000</td>\n",
       "      <td>4.0000</td>\n",
       "      <td>4.0000</td>\n",
       "      <td>4.0000</td>\n",
       "      <td>282,922.0000</td>\n",
       "    </tr>\n",
       "    <tr>\n",
       "      <th>max</th>\n",
       "      <td>8.0000</td>\n",
       "      <td>2,610.0000</td>\n",
       "      <td>3.0000</td>\n",
       "      <td>4.0000</td>\n",
       "      <td>5.0000</td>\n",
       "      <td>5.0000</td>\n",
       "      <td>423,000.0000</td>\n",
       "    </tr>\n",
       "  </tbody>\n",
       "</table>\n",
       "</div>"
      ],
      "text/plain": [
       "       OverallQual  GrLivArea  GarageCars  ExterQual  BsmtQual  KitchenQual  \\\n",
       "count      29.0000    29.0000     29.0000    29.0000   29.0000      29.0000   \n",
       "mean        8.0000 1,729.8966      2.5172     3.9655    4.2069       4.1034   \n",
       "std         0.0000   313.9503      0.5085     0.1857    0.4123       0.4093   \n",
       "min         8.0000 1,247.0000      2.0000     3.0000    4.0000       3.0000   \n",
       "25%         8.0000 1,563.0000      2.0000     4.0000    4.0000       4.0000   \n",
       "50%         8.0000 1,636.0000      3.0000     4.0000    4.0000       4.0000   \n",
       "75%         8.0000 1,939.0000      3.0000     4.0000    4.0000       4.0000   \n",
       "max         8.0000 2,610.0000      3.0000     4.0000    5.0000       5.0000   \n",
       "\n",
       "         SalePrice  \n",
       "count      29.0000  \n",
       "mean  255,626.1379  \n",
       "std    55,302.6318  \n",
       "min   147,000.0000  \n",
       "25%   229,456.0000  \n",
       "50%   250,000.0000  \n",
       "75%   282,922.0000  \n",
       "max   423,000.0000  "
      ]
     },
     "execution_count": 50,
     "metadata": {},
     "output_type": "execute_result"
    }
   ],
   "source": [
    "check_price[(check_price[\"OverallQual\"] == 8) & (check_price[\"Neighborhood\"] == \"Somerst\")].describe()"
   ]
  },
  {
   "cell_type": "markdown",
   "id": "e7160925-0171-4dbc-9910-c508f72d313c",
   "metadata": {},
   "source": [
    "Nhóm này có giá dao động khá lớn từ 147,000 tới 423,000. Nhưng các điểm dữ liệu khác được dự đoán không sai quá nhiều (trung bình dự đoán sao của nhóm là 13.32% so với điểm dữ liệu sai nhất là 96.04%), khả năng cao đây là điểm dữ liệu bất thường, sai sót."
   ]
  },
  {
   "cell_type": "code",
   "execution_count": 51,
   "id": "d4a07b11-bfb1-4892-84e4-64f29127ea95",
   "metadata": {},
   "outputs": [
    {
     "data": {
      "text/plain": [
       "[<matplotlib.lines.Line2D at 0x13118ede6d0>]"
      ]
     },
     "execution_count": 51,
     "metadata": {},
     "output_type": "execute_result"
    },
    {
     "data": {
      "image/png": "[encoded data removed]",
      "text/plain": [
       "<Figure size 640x480 with 1 Axes>"
      ]
     },
     "metadata": {},
     "output_type": "display_data"
    }
   ],
   "source": [
    "sns.scatterplot(x=np.expm1(y_test), y=np.expm1(top_3_model.predict(X=X_test)))\n",
    "plt.plot([0, 500000], [0, 500000], \"r\")"
   ]
  },
  {
   "cell_type": "markdown",
   "id": "36264aeb-b72b-4ab1-bac9-d46f7338768b",
   "metadata": {},
   "source": [
    "Một số dữ liệu giá nhà có giá dao động lớn, hoặc chỉ có 1 vài ngôi nhà có đặc trưng như thế khiến mô hình dự đoán không được tốt lắm. Tuy nhiên số này không nhiều và nhìn chung mô hình học kết hợp của chúng ta làm việc khá tốt trên hầu hết dữ liệu.\n",
    "\n",
    "Muốn cải thiện ta sẽ cần thu thập thêm dữ liệu về các ngôi nhà có chất lượng thấp dưới 4 và cao trên 8 để mô hình của chúng ta có thể học hết được các thông tin giá nhà."
   ]
  }
 ],
 "metadata": {
  "kernelspec": {
   "display_name": "Python 3 (ipykernel)",
   "language": "python",
   "name": "python3"
  },
  "language_info": {
   "codemirror_mode": {
    "name": "ipython",
    "version": 3
   },
   "file_extension": ".py",
   "mimetype": "text/x-python",
   "name": "python",
   "nbconvert_exporter": "python",
   "pygments_lexer": "ipython3",
   "version": "3.9.7"
  }
 },
 "nbformat": 4,
 "nbformat_minor": 5
}
