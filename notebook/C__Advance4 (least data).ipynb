{
 "cells": [
  {
   "cell_type": "markdown",
   "id": "dc98679c-2ce0-49fc-bcd3-538a78cf3b9e",
   "metadata": {},
   "source": [
    "# 6. Advance"
   ]
  },
  {
   "cell_type": "markdown",
   "id": "d7f01a43-4e70-4c25-aacf-1d3264abcd3a",
   "metadata": {},
   "source": [
    "Load lại data."
   ]
  },
  {
   "cell_type": "code",
   "execution_count": 1,
   "id": "7bb337da-a643-451d-b063-b8a754a200e9",
   "metadata": {},
   "outputs": [],
   "source": [
    "import pandas as pd\n",
    "import matplotlib.pyplot as plt\n",
    "import seaborn as sns\n",
    "import numpy as np\n",
    "import tensorflow as tf\n",
    "import joblib\n",
    "\n",
    "from sklearn.linear_model import LinearRegression, ElasticNet, Lasso, Ridge\n",
    "from sklearn.ensemble import RandomForestRegressor, VotingRegressor\n",
    "from sklearn.svm import SVR\n",
    "from sklearn.metrics import r2_score, mean_absolute_percentage_error\n",
    "from sklearn.model_selection import train_test_split, GridSearchCV\n",
    "from sklearn.preprocessing import MinMaxScaler, RobustScaler\n",
    "from sklearn.pipeline import make_pipeline\n",
    "\n",
    "from lightgbm import LGBMRegressor\n",
    "from scipy.stats import skew\n",
    "\n",
    "pd.options.display.float_format = '{:,.4f}'.format"
   ]
  },
  {
   "cell_type": "code",
   "execution_count": 2,
   "id": "81ceeebf-11fa-4955-a28e-4bd77151d36e",
   "metadata": {},
   "outputs": [
    {
     "data": {
      "text/html": [
       "<div>\n",
       "<style scoped>\n",
       "    .dataframe tbody tr th:only-of-type {\n",
       "        vertical-align: middle;\n",
       "    }\n",
       "\n",
       "    .dataframe tbody tr th {\n",
       "        vertical-align: top;\n",
       "    }\n",
       "\n",
       "    .dataframe thead th {\n",
       "        text-align: right;\n",
       "    }\n",
       "</style>\n",
       "<table border=\"1\" class=\"dataframe\">\n",
       "  <thead>\n",
       "    <tr style=\"text-align: right;\">\n",
       "      <th></th>\n",
       "      <th>Id</th>\n",
       "      <th>MSSubClass</th>\n",
       "      <th>MSZoning</th>\n",
       "      <th>LotFrontage</th>\n",
       "      <th>LotArea</th>\n",
       "      <th>Street</th>\n",
       "      <th>Alley</th>\n",
       "      <th>LotShape</th>\n",
       "      <th>LandContour</th>\n",
       "      <th>Utilities</th>\n",
       "      <th>...</th>\n",
       "      <th>PoolArea</th>\n",
       "      <th>PoolQC</th>\n",
       "      <th>Fence</th>\n",
       "      <th>MiscFeature</th>\n",
       "      <th>MiscVal</th>\n",
       "      <th>MoSold</th>\n",
       "      <th>YrSold</th>\n",
       "      <th>SaleType</th>\n",
       "      <th>SaleCondition</th>\n",
       "      <th>SalePrice</th>\n",
       "    </tr>\n",
       "  </thead>\n",
       "  <tbody>\n",
       "    <tr>\n",
       "      <th>0</th>\n",
       "      <td>1</td>\n",
       "      <td>60</td>\n",
       "      <td>RL</td>\n",
       "      <td>65.0000</td>\n",
       "      <td>8450</td>\n",
       "      <td>Pave</td>\n",
       "      <td>NaN</td>\n",
       "      <td>Reg</td>\n",
       "      <td>Lvl</td>\n",
       "      <td>AllPub</td>\n",
       "      <td>...</td>\n",
       "      <td>0</td>\n",
       "      <td>NaN</td>\n",
       "      <td>NaN</td>\n",
       "      <td>NaN</td>\n",
       "      <td>0</td>\n",
       "      <td>2</td>\n",
       "      <td>2008</td>\n",
       "      <td>WD</td>\n",
       "      <td>Normal</td>\n",
       "      <td>208500</td>\n",
       "    </tr>\n",
       "    <tr>\n",
       "      <th>1</th>\n",
       "      <td>2</td>\n",
       "      <td>20</td>\n",
       "      <td>RL</td>\n",
       "      <td>80.0000</td>\n",
       "      <td>9600</td>\n",
       "      <td>Pave</td>\n",
       "      <td>NaN</td>\n",
       "      <td>Reg</td>\n",
       "      <td>Lvl</td>\n",
       "      <td>AllPub</td>\n",
       "      <td>...</td>\n",
       "      <td>0</td>\n",
       "      <td>NaN</td>\n",
       "      <td>NaN</td>\n",
       "      <td>NaN</td>\n",
       "      <td>0</td>\n",
       "      <td>5</td>\n",
       "      <td>2007</td>\n",
       "      <td>WD</td>\n",
       "      <td>Normal</td>\n",
       "      <td>181500</td>\n",
       "    </tr>\n",
       "    <tr>\n",
       "      <th>2</th>\n",
       "      <td>3</td>\n",
       "      <td>60</td>\n",
       "      <td>RL</td>\n",
       "      <td>68.0000</td>\n",
       "      <td>11250</td>\n",
       "      <td>Pave</td>\n",
       "      <td>NaN</td>\n",
       "      <td>IR1</td>\n",
       "      <td>Lvl</td>\n",
       "      <td>AllPub</td>\n",
       "      <td>...</td>\n",
       "      <td>0</td>\n",
       "      <td>NaN</td>\n",
       "      <td>NaN</td>\n",
       "      <td>NaN</td>\n",
       "      <td>0</td>\n",
       "      <td>9</td>\n",
       "      <td>2008</td>\n",
       "      <td>WD</td>\n",
       "      <td>Normal</td>\n",
       "      <td>223500</td>\n",
       "    </tr>\n",
       "    <tr>\n",
       "      <th>3</th>\n",
       "      <td>4</td>\n",
       "      <td>70</td>\n",
       "      <td>RL</td>\n",
       "      <td>60.0000</td>\n",
       "      <td>9550</td>\n",
       "      <td>Pave</td>\n",
       "      <td>NaN</td>\n",
       "      <td>IR1</td>\n",
       "      <td>Lvl</td>\n",
       "      <td>AllPub</td>\n",
       "      <td>...</td>\n",
       "      <td>0</td>\n",
       "      <td>NaN</td>\n",
       "      <td>NaN</td>\n",
       "      <td>NaN</td>\n",
       "      <td>0</td>\n",
       "      <td>2</td>\n",
       "      <td>2006</td>\n",
       "      <td>WD</td>\n",
       "      <td>Abnorml</td>\n",
       "      <td>140000</td>\n",
       "    </tr>\n",
       "    <tr>\n",
       "      <th>4</th>\n",
       "      <td>5</td>\n",
       "      <td>60</td>\n",
       "      <td>RL</td>\n",
       "      <td>84.0000</td>\n",
       "      <td>14260</td>\n",
       "      <td>Pave</td>\n",
       "      <td>NaN</td>\n",
       "      <td>IR1</td>\n",
       "      <td>Lvl</td>\n",
       "      <td>AllPub</td>\n",
       "      <td>...</td>\n",
       "      <td>0</td>\n",
       "      <td>NaN</td>\n",
       "      <td>NaN</td>\n",
       "      <td>NaN</td>\n",
       "      <td>0</td>\n",
       "      <td>12</td>\n",
       "      <td>2008</td>\n",
       "      <td>WD</td>\n",
       "      <td>Normal</td>\n",
       "      <td>250000</td>\n",
       "    </tr>\n",
       "  </tbody>\n",
       "</table>\n",
       "<p>5 rows × 81 columns</p>\n",
       "</div>"
      ],
      "text/plain": [
       "   Id  MSSubClass MSZoning  LotFrontage  LotArea Street Alley LotShape  \\\n",
       "0   1          60       RL      65.0000     8450   Pave   NaN      Reg   \n",
       "1   2          20       RL      80.0000     9600   Pave   NaN      Reg   \n",
       "2   3          60       RL      68.0000    11250   Pave   NaN      IR1   \n",
       "3   4          70       RL      60.0000     9550   Pave   NaN      IR1   \n",
       "4   5          60       RL      84.0000    14260   Pave   NaN      IR1   \n",
       "\n",
       "  LandContour Utilities  ... PoolArea PoolQC Fence MiscFeature MiscVal MoSold  \\\n",
       "0         Lvl    AllPub  ...        0    NaN   NaN         NaN       0      2   \n",
       "1         Lvl    AllPub  ...        0    NaN   NaN         NaN       0      5   \n",
       "2         Lvl    AllPub  ...        0    NaN   NaN         NaN       0      9   \n",
       "3         Lvl    AllPub  ...        0    NaN   NaN         NaN       0      2   \n",
       "4         Lvl    AllPub  ...        0    NaN   NaN         NaN       0     12   \n",
       "\n",
       "  YrSold  SaleType  SaleCondition  SalePrice  \n",
       "0   2008        WD         Normal     208500  \n",
       "1   2007        WD         Normal     181500  \n",
       "2   2008        WD         Normal     223500  \n",
       "3   2006        WD        Abnorml     140000  \n",
       "4   2008        WD         Normal     250000  \n",
       "\n",
       "[5 rows x 81 columns]"
      ]
     },
     "execution_count": 2,
     "metadata": {},
     "output_type": "execute_result"
    }
   ],
   "source": [
    "data = pd.read_csv(filepath_or_buffer=\"../data/house_price.csv\")\n",
    "data.head()"
   ]
  },
  {
   "cell_type": "markdown",
   "id": "1e8611c4-9f54-448f-9f18-38dfb55dac6f",
   "metadata": {},
   "source": [
    "Chuyển \"YearBuilt\" và \"YearRemodAdd\" thành tuổi"
   ]
  },
  {
   "cell_type": "code",
   "execution_count": 3,
   "id": "e26eda91-a148-4c8e-bb73-93f22cdcf7db",
   "metadata": {},
   "outputs": [],
   "source": [
    "data[\"HouseAge\"] = data[\"YrSold\"] - data[\"YearBuilt\"]\n",
    "data[\"RemodelAge\"] = data[\"YrSold\"] - data[\"YearRemodAdd\"]\n",
    "\n",
    "data = data.drop(columns=[\"YearBuilt\", \"YearRemodAdd\", \"YrSold\"])"
   ]
  },
  {
   "cell_type": "markdown",
   "id": "35370696-1081-48d6-9c63-1796313cd9cb",
   "metadata": {},
   "source": [
    "Lấy các đặc trưng đã chọn"
   ]
  },
  {
   "cell_type": "code",
   "execution_count": 4,
   "id": "5d7f7ad5-a515-4cfb-9fdd-77cc9b42cdce",
   "metadata": {},
   "outputs": [],
   "source": [
    "mi_columns = ['OverallQual', 'GrLivArea', 'GarageCars', 'TotalBsmtSF', 'ExterQual', 'BsmtQual', 'KitchenQual', '1stFlrSF', 'GarageArea', 'HouseAge',\n",
    "              'MSSubClass', 'GarageFinish', 'FullBath', 'LotFrontage', '2ndFlrSF', 'LotArea',\n",
    "              'Neighborhood', 'GarageType', 'SalePrice']\n",
    "data = data[mi_columns]"
   ]
  },
  {
   "cell_type": "markdown",
   "id": "c72a741a-bea1-4499-8fe6-a1074920d0e8",
   "metadata": {},
   "source": [
    "Xử lý giá trị NaN và các outlier."
   ]
  },
  {
   "cell_type": "code",
   "execution_count": 5,
   "id": "d047d5b4-558e-4ba3-8f99-3720a99092cb",
   "metadata": {},
   "outputs": [],
   "source": [
    "fillna_values = {\n",
    "    \"BsmtQual\": \"No_bsmt\",\n",
    "    \"GarageFinish\": \"No_gara\",\n",
    "    \"LotFrontage\": 0,\n",
    "    \"GarageType\": \"No_gara\"\n",
    "}\n",
    "data = data.fillna(value=fillna_values)"
   ]
  },
  {
   "cell_type": "code",
   "execution_count": 6,
   "id": "783ef063-35ee-4d15-852f-3225fdecceb3",
   "metadata": {},
   "outputs": [],
   "source": [
    "# Sort data by \"SalePrice\" then remove 2 largest values\n",
    "data = data.sort_values(by=\"SalePrice\", ascending=False)\n",
    "data = data.drop(index=[data.index[0], data.index[1]])\n",
    "\n",
    "# Sort data by \"SalePrice\" then remove 5 smallest values\n",
    "data = data.sort_values(by=\"SalePrice\", ascending=True)\n",
    "data = data.drop(index=[data.index[0], data.index[1], data.index[2], data.index[3], data.index[4]])\n",
    "\n",
    "# Sort data by \"LotFrontage\" then remove largest value\n",
    "data = data.sort_values(by=\"LotFrontage\", ascending=False)\n",
    "data = data.drop(index=[data.index[0], data.index[1]])\n",
    "\n",
    "# Sort data by \"LotArea\" then remove 4 largest values\n",
    "data = data.sort_values(by=\"LotArea\", ascending=False)\n",
    "data = data.drop(index=[data.index[0], data.index[1], data.index[2], data.index[3]])\n",
    "\n",
    "# Sort data by \"GrLivArea\" then remove largest value\n",
    "data = data.sort_values(by=\"GrLivArea\", ascending=False)\n",
    "data = data.drop(index=[data.index[0]])"
   ]
  },
  {
   "cell_type": "markdown",
   "id": "b282551e-e410-4509-8558-a972ed89c01f",
   "metadata": {},
   "source": [
    "Label Encoding"
   ]
  },
  {
   "cell_type": "code",
   "execution_count": 7,
   "id": "33a8589f-d73f-4aa8-bc29-c7ed75927b0a",
   "metadata": {},
   "outputs": [],
   "source": [
    "data[\"ExterQual\"] = data[\"ExterQual\"].map({\"Po\": 1, \"Fa\": 2, \"TA\": 3, \"Gd\": 4, \"Ex\": 5})\n",
    "data[\"BsmtQual\"] = data[\"BsmtQual\"].map({\"No_bsmt\": 0, \"Po\": 1, \"Fa\": 2, \"TA\": 3, \"Gd\": 4, \"Ex\": 5})\n",
    "data[\"KitchenQual\"] = data[\"KitchenQual\"].map({\"Po\": 1, \"Fa\": 2, \"TA\": 3, \"Gd\": 4, \"Ex\": 5})\n",
    "data[\"GarageFinish\"] = data[\"GarageFinish\"].map({\"No_gara\": 0, \"Unf\": 1, \"RFn\": 2, \"Fin\": 3})"
   ]
  },
  {
   "cell_type": "markdown",
   "id": "35f8c16d-e8e8-414c-b1b1-18a09e9ff4b3",
   "metadata": {},
   "source": [
    "Xử lý các cột dạng số không có phân phối đều"
   ]
  },
  {
   "cell_type": "code",
   "execution_count": 8,
   "id": "103f607b-636b-441c-b501-6f2c830d872d",
   "metadata": {},
   "outputs": [],
   "source": [
    "numerical_columns = data.select_dtypes(exclude=[\"object\"]).columns.tolist()\n",
    "\n",
    "skewed_features = data[numerical_columns].apply(lambda x: skew(x.dropna()))\n",
    "skewed_features = skewed_features[skewed_features > 0.75]\n",
    "skewed_features = skewed_features.index\n",
    "\n",
    "for f in skewed_features:\n",
    "    data[f] = np.log1p(data[f])"
   ]
  },
  {
   "cell_type": "markdown",
   "id": "df8fac24-7d9f-4166-acb9-ef8c4fa3b8eb",
   "metadata": {},
   "source": [
    "Mã hóa one-hot cho tát cả các cột dạng category. Sau đó phân chia thành dữ liệu huấn luyện và kiểm tra."
   ]
  },
  {
   "cell_type": "code",
   "execution_count": 9,
   "id": "bd4018d8-f918-495b-8ee1-be5f4e57f853",
   "metadata": {},
   "outputs": [],
   "source": [
    "X = data.drop(columns=[\"SalePrice\"])\n",
    "y = data[\"SalePrice\"]\n",
    "\n",
    "X = pd.get_dummies(data=X)\n",
    "\n",
    "X_train, X_test, y_train, y_test = train_test_split(X, y, test_size=0.2, random_state=10)"
   ]
  },
  {
   "cell_type": "markdown",
   "id": "b4cfdcd7-859a-45a4-be73-11052bb949e4",
   "metadata": {
    "tags": []
   },
   "source": [
    "Chuẩn hóa các cột dạng số về khoảng giá trị 0 đến 1"
   ]
  },
  {
   "cell_type": "code",
   "execution_count": 10,
   "id": "eed89d06-29e5-4b36-8d5b-d6b11a8c0db7",
   "metadata": {},
   "outputs": [],
   "source": [
    "numerical_columns.remove(\"SalePrice\")\n",
    "\n",
    "scaler = MinMaxScaler()\n",
    "scaler.fit(X=X_train[numerical_columns])\n",
    "\n",
    "X_train[numerical_columns] = scaler.transform(X_train[numerical_columns])\n",
    "X_test[numerical_columns] = scaler.transform(X_test[numerical_columns])"
   ]
  },
  {
   "cell_type": "markdown",
   "id": "35a8badf-92cb-4061-9f73-2b48053c8ae9",
   "metadata": {},
   "source": [
    "Lập mô hình"
   ]
  },
  {
   "cell_type": "code",
   "execution_count": 11,
   "id": "443cc253-b7f4-45f0-93ce-9943f10717d9",
   "metadata": {},
   "outputs": [],
   "source": [
    "def get_result(model, X_test, y_test=y_test):\n",
    "    predictions = model.predict(X_test)\n",
    "    r2 = r2_score(y_true=np.expm1(y_test), y_pred=np.expm1(predictions))\n",
    "    mape = mean_absolute_percentage_error(y_true=np.expm1(y_test), y_pred=np.expm1(predictions))\n",
    "    return {\"MAPE\": mape*100, \"R2 score\": r2}"
   ]
  },
  {
   "cell_type": "code",
   "execution_count": 12,
   "id": "cc18f50a-6930-417d-8061-1e8cd7f0ea14",
   "metadata": {},
   "outputs": [],
   "source": [
    "lasso_model = Lasso()\n",
    "lasso_model.fit(X_train, y_train)\n",
    "lasso_result = get_result(lasso_model, X_test=X_test)\n",
    "\n",
    "ridge_model = Ridge()\n",
    "ridge_model.fit(X_train, y_train)\n",
    "ridge_result = get_result(ridge_model, X_test=X_test)\n",
    "\n",
    "elastic_model = ElasticNet()\n",
    "elastic_model.fit(X_train, y_train)\n",
    "elastic_result = get_result(elastic_model, X_test=X_test)\n",
    "\n",
    "random_forest = RandomForestRegressor()\n",
    "random_forest.fit(X_train, y_train)\n",
    "random_forest_result = get_result(random_forest, X_test=X_test)\n",
    "\n",
    "SVR_model = SVR()\n",
    "SVR_model.fit(X_train, y_train)\n",
    "SVR_result = get_result(SVR_model, X_test=X_test)\n",
    "\n",
    "LGBM_model = LGBMRegressor()\n",
    "LGBM_model.fit(X_train, y_train)\n",
    "LGBM_result = get_result(LGBM_model, X_test=X_test)"
   ]
  },
  {
   "cell_type": "code",
   "execution_count": 13,
   "id": "e6a8196a-2bf0-446c-8389-a4ad0d6f708d",
   "metadata": {},
   "outputs": [
    {
     "data": {
      "text/html": [
       "<div>\n",
       "<style scoped>\n",
       "    .dataframe tbody tr th:only-of-type {\n",
       "        vertical-align: middle;\n",
       "    }\n",
       "\n",
       "    .dataframe tbody tr th {\n",
       "        vertical-align: top;\n",
       "    }\n",
       "\n",
       "    .dataframe thead th {\n",
       "        text-align: right;\n",
       "    }\n",
       "</style>\n",
       "<table border=\"1\" class=\"dataframe\">\n",
       "  <thead>\n",
       "    <tr style=\"text-align: right;\">\n",
       "      <th></th>\n",
       "      <th>MAPE</th>\n",
       "      <th>R2 score</th>\n",
       "    </tr>\n",
       "  </thead>\n",
       "  <tbody>\n",
       "    <tr>\n",
       "      <th>SVR</th>\n",
       "      <td>9.2312</td>\n",
       "      <td>0.9117</td>\n",
       "    </tr>\n",
       "    <tr>\n",
       "      <th>Ridge</th>\n",
       "      <td>9.6446</td>\n",
       "      <td>0.9112</td>\n",
       "    </tr>\n",
       "    <tr>\n",
       "      <th>LGBM</th>\n",
       "      <td>10.3753</td>\n",
       "      <td>0.8822</td>\n",
       "    </tr>\n",
       "    <tr>\n",
       "      <th>Random forest</th>\n",
       "      <td>10.8295</td>\n",
       "      <td>0.8635</td>\n",
       "    </tr>\n",
       "    <tr>\n",
       "      <th>Lasso</th>\n",
       "      <td>30.4453</td>\n",
       "      <td>-0.0294</td>\n",
       "    </tr>\n",
       "    <tr>\n",
       "      <th>ElasticNet</th>\n",
       "      <td>30.4453</td>\n",
       "      <td>-0.0294</td>\n",
       "    </tr>\n",
       "  </tbody>\n",
       "</table>\n",
       "</div>"
      ],
      "text/plain": [
       "                 MAPE  R2 score\n",
       "SVR            9.2312    0.9117\n",
       "Ridge          9.6446    0.9112\n",
       "LGBM          10.3753    0.8822\n",
       "Random forest 10.8295    0.8635\n",
       "Lasso         30.4453   -0.0294\n",
       "ElasticNet    30.4453   -0.0294"
      ]
     },
     "execution_count": 13,
     "metadata": {},
     "output_type": "execute_result"
    }
   ],
   "source": [
    "all_results = pd.DataFrame({\n",
    "    \"Lasso\": lasso_result,\n",
    "    \"Ridge\": ridge_result,\n",
    "    \"ElasticNet\": elastic_result,\n",
    "    \"Random forest\": random_forest_result,\n",
    "    \"SVR\": SVR_result,\n",
    "    \"LGBM\": LGBM_result\n",
    "})\n",
    "\n",
    "all_results.transpose().sort_values(by=\"MAPE\", ascending=True)"
   ]
  },
  {
   "cell_type": "markdown",
   "id": "7b1d5b09-1321-4614-ab13-fc89afc70844",
   "metadata": {},
   "source": [
    "Để tìm tham số tốt nhất cho các mô hình ta dùng GridSearchCV.\n",
    "\n",
    "Đầu tiên là tìm tham số điều chuẩn \"alpha\" cho mô hình Lasso:"
   ]
  },
  {
   "cell_type": "code",
   "execution_count": 21,
   "id": "5136affb-5b42-4cc1-8543-70bf75bdfeaa",
   "metadata": {},
   "outputs": [
    {
     "data": {
      "text/plain": [
       "{'alpha': 0.0004}"
      ]
     },
     "execution_count": 21,
     "metadata": {},
     "output_type": "execute_result"
    }
   ],
   "source": [
    "# Tìm tham số alpha cho mô hình Lasso\n",
    "lasso_param = {\"alpha\": [0.0003, 0.0004, 0.0005]}\n",
    "lasso_model_search = Lasso()\n",
    "lasso_search = GridSearchCV(estimator=lasso_model_search, param_grid=lasso_param)\n",
    "lasso_search.fit(X_train, y_train)\n",
    "lasso_search.best_params_"
   ]
  },
  {
   "cell_type": "code",
   "execution_count": 14,
   "id": "c1b4216d-3ba1-43d5-a373-fab6fe1c33d1",
   "metadata": {},
   "outputs": [
    {
     "data": {
      "text/plain": [
       "{'MAPE': 9.800337517304877, 'R2 score': 0.9083322986360098}"
      ]
     },
     "execution_count": 14,
     "metadata": {},
     "output_type": "execute_result"
    }
   ],
   "source": [
    "# Tạo model Lasso & lấy kết quả\n",
    "lasso_model = Lasso(alpha=0.0004)\n",
    "lasso_model.fit(X_train, y_train)\n",
    "lasso_result_1 = get_result(lasso_model, X_test=X_test)\n",
    "lasso_result_1"
   ]
  },
  {
   "cell_type": "markdown",
   "id": "fcc668ab-068f-4a79-9793-c951ff97d370",
   "metadata": {},
   "source": [
    "Tiếp đến Ridge"
   ]
  },
  {
   "cell_type": "code",
   "execution_count": 26,
   "id": "7c24bddf-bafe-4dfe-8cee-f09d0fe34eef",
   "metadata": {},
   "outputs": [
    {
     "data": {
      "text/plain": [
       "{'alpha': 0.4}"
      ]
     },
     "execution_count": 26,
     "metadata": {},
     "output_type": "execute_result"
    }
   ],
   "source": [
    "# Tìm tham số alpha cho mô hình Ridge\n",
    "ridge_param = {\"alpha\": [0.3, 0.4, 0.5]}\n",
    "ridge_model_search = Ridge()\n",
    "ridge_search = GridSearchCV(estimator=ridge_model_search, param_grid=ridge_param)\n",
    "ridge_search.fit(X_train, y_train)\n",
    "ridge_search.best_params_"
   ]
  },
  {
   "cell_type": "code",
   "execution_count": 23,
   "id": "211ec8cf-b8b3-46da-98e8-82c577424768",
   "metadata": {},
   "outputs": [
    {
     "data": {
      "text/plain": [
       "{'MAPE': 9.688547744466982, 'R2 score': 0.9107565590765029}"
      ]
     },
     "execution_count": 23,
     "metadata": {},
     "output_type": "execute_result"
    }
   ],
   "source": [
    "# Tạo model Ridge & lấy kết quả\n",
    "ridge_model = Ridge(alpha=0.4)\n",
    "ridge_model.fit(X_train, y_train)\n",
    "ridge_result_1 = get_result(ridge_model, X_test=X_test)\n",
    "ridge_result_1"
   ]
  },
  {
   "cell_type": "markdown",
   "id": "e630bcce-aeba-44e4-8286-2204616742fd",
   "metadata": {},
   "source": [
    "Tiếp tục với ElasticNet. Do ElasticNet kết hợp cả điều chuẩn L1 và L2 nên chúng ta cần khám phá cả tỉ lệ của chúng nữa"
   ]
  },
  {
   "cell_type": "code",
   "execution_count": 38,
   "id": "8ac328da-4ad6-4317-82aa-b6ce59b622dd",
   "metadata": {},
   "outputs": [
    {
     "data": {
      "text/plain": [
       "{'alpha': 0.0006, 'l1_ratio': 0.71}"
      ]
     },
     "execution_count": 38,
     "metadata": {},
     "output_type": "execute_result"
    }
   ],
   "source": [
    "# Tìm tham số cho mô hình ElasticNet\n",
    "elastic_param = {\"alpha\": [0.0005, 0.0006, 0.0007], \"l1_ratio\": [0.7, 0.71, 0.72]}\n",
    "elastic_model_search = ElasticNet()\n",
    "elastic_search = GridSearchCV(estimator=elastic_model_search, param_grid=elastic_param)\n",
    "elastic_search.fit(X_train, y_train)\n",
    "elastic_search.best_params_"
   ]
  },
  {
   "cell_type": "code",
   "execution_count": 16,
   "id": "1d1d5027-c44a-466e-9477-f9478037a8cf",
   "metadata": {},
   "outputs": [
    {
     "data": {
      "text/plain": [
       "{'MAPE': 9.766095230300724, 'R2 score': 0.9087349194571922}"
      ]
     },
     "execution_count": 16,
     "metadata": {},
     "output_type": "execute_result"
    }
   ],
   "source": [
    "# Tạo model ElasticNet & lấy kết quả\n",
    "elastic_model = ElasticNet(alpha=0.0006, l1_ratio=0.71)\n",
    "elastic_model.fit(X_train, y_train)\n",
    "elastic_result_1 = get_result(elastic_model, X_test=X_test)\n",
    "elastic_result_1"
   ]
  },
  {
   "cell_type": "markdown",
   "id": "20e4cde2-bea3-4c3f-a794-59129a5a13cf",
   "metadata": {},
   "source": [
    "Có rất nhiều tham số trong mô hình RandomForestRegressor nhưng chúng ta sẽ chỉ tập trung vào 3 tham số cơ bản sau:\n",
    "- n_estimators: số cây quyết định được dùng\n",
    "- min_samples_split: số mẫu tối thiểu để tiếp tục phân nhánh cho node đó\n",
    "- min_samples_leaf: số mẫu tối thiểu ở một lá (leaf node)"
   ]
  },
  {
   "cell_type": "code",
   "execution_count": 45,
   "id": "aeb1bed1-98a2-41bf-8a84-b2060becc35a",
   "metadata": {
    "scrolled": true,
    "tags": []
   },
   "outputs": [
    {
     "data": {
      "text/plain": [
       "{'min_samples_leaf': 1, 'min_samples_split': 2, 'n_estimators': 500}"
      ]
     },
     "execution_count": 45,
     "metadata": {},
     "output_type": "execute_result"
    }
   ],
   "source": [
    "random_forest_param = {\n",
    "    \"n_estimators\": [400, 500, 600],\n",
    "    \"min_samples_split\": [2, 3, 4],\n",
    "    \"min_samples_leaf\": [1, 2, 3]\n",
    "}\n",
    "random_forest_model = RandomForestRegressor()\n",
    "random_forest_search = GridSearchCV(estimator=random_forest_model, param_grid=random_forest_param)\n",
    "random_forest_search.fit(X_train, y_train)\n",
    "random_forest_search.best_params_\n",
    "\n",
    "# It takes very long to run this cell, below is the result in case Outputs of this cell is cleared\n",
    "# {'min_samples_leaf': 1, 'min_samples_split': 2, 'n_estimators': 500}"
   ]
  },
  {
   "cell_type": "code",
   "execution_count": 17,
   "id": "8befba16-d65b-4290-af5e-6ac6a5a5a64d",
   "metadata": {},
   "outputs": [
    {
     "data": {
      "text/plain": [
       "{'MAPE': 10.747895160438004, 'R2 score': 0.8643503599273235}"
      ]
     },
     "execution_count": 17,
     "metadata": {},
     "output_type": "execute_result"
    }
   ],
   "source": [
    "random_forest = RandomForestRegressor(n_estimators=500)\n",
    "random_forest.fit(X_train, y_train)\n",
    "random_forest_result_1 = get_result(random_forest, X_test=X_test)\n",
    "random_forest_result_1"
   ]
  },
  {
   "cell_type": "markdown",
   "id": "0fd042d3-f420-44c7-9b18-f914acd3cd01",
   "metadata": {},
   "source": [
    "Chất lượng của Random Forest tăng một chút. Lưu ý Random Forest hoạt động dựa trên các cây quyết định, mà decision tree thì mỗi lần chạy sẽ cho kết quả khác nhau (chúng ta được khuyên rằng hãy huấn luyện mô hình decision tree nhiều lần và chọn mô hình có kết quả tốt nhất)."
   ]
  },
  {
   "cell_type": "markdown",
   "id": "d11f3d65-61a1-463c-b99c-ebb424049cd5",
   "metadata": {},
   "source": [
    "Ở mô hình SVR ta cũng sẽ chỉ điều chỉnh 3 tham số cơ bản:\n",
    "- gamma: hệ số cho nhân \"rbf\"\n",
    "- C: chỉ số điều chuẩn (càng lớn thì điều chuẩn càng giảm)\n",
    "- epsilon: nếu dự đoán tại một điểm có sai số nhỏ hơn epsilon thì không áp dụng điều chuẩn tại điểm đó"
   ]
  },
  {
   "cell_type": "code",
   "execution_count": 65,
   "id": "2fbfc3bd-3be3-40ff-a434-a35129f33459",
   "metadata": {},
   "outputs": [
    {
     "data": {
      "text/plain": [
       "{'C': 15, 'epsilon': 0.06, 'gamma': 'auto'}"
      ]
     },
     "execution_count": 65,
     "metadata": {},
     "output_type": "execute_result"
    }
   ],
   "source": [
    "# Tìm tham số cho mô hình SVR\n",
    "SVR_param = {\n",
    "    \"gamma\": [\"scale\", \"auto\"],\n",
    "    \"C\": [14, 15, 16],\n",
    "    \"epsilon\": [0.05, 0.06, 0.07]\n",
    "}\n",
    "SVR_model_search = SVR()\n",
    "SVR_search = GridSearchCV(estimator=SVR_model_search, param_grid=SVR_param)\n",
    "SVR_search.fit(X_train, y_train)\n",
    "SVR_search.best_params_\n",
    "\n",
    "# # It takes very long to run this cell, below is the result in case Outputs of this cell is cleared\n",
    "# {'C': 15, 'epsilon': 0.06, 'gamma': 'auto'}"
   ]
  },
  {
   "cell_type": "code",
   "execution_count": 18,
   "id": "f0d492c0-e8c2-4b55-be45-11d573bf4d64",
   "metadata": {},
   "outputs": [
    {
     "data": {
      "text/plain": [
       "{'MAPE': 9.092167523556542, 'R2 score': 0.9179699043575434}"
      ]
     },
     "execution_count": 18,
     "metadata": {},
     "output_type": "execute_result"
    }
   ],
   "source": [
    "# Tạo model SVR & lấy kết quả\n",
    "SVR_model = SVR(gamma=\"auto\", C=15, epsilon=0.06)\n",
    "SVR_model.fit(X_train, y_train)\n",
    "SVR_result_1 = get_result(SVR_model, X_test=X_test)\n",
    "SVR_result_1"
   ]
  },
  {
   "cell_type": "markdown",
   "id": "3d6f08d4-bdd4-4e3e-b7c0-26f8967e450a",
   "metadata": {},
   "source": [
    "Cuối cùng là LGBM, tập trung vào 6 trong số rất nhiều tham số của mô hình:\n",
    "- num_leaves: số \"lá\" tối đa của một \"cây\"\n",
    "- learning_rate: tốc độ học\n",
    "- n_estimators: số lượng cây tăng cường dùng trong mô hình\n",
    "- min_child_samples: số lượng tối thiểu cần có trong 1 lá\n",
    "- reg_alpha: điều chuẩn L1 trên trọng số\n",
    "- reg_lambda: điều chuẩn L2 trên trọng số"
   ]
  },
  {
   "cell_type": "code",
   "execution_count": 81,
   "id": "4c482f22-8173-435c-a08e-5b58bdb2ae56",
   "metadata": {},
   "outputs": [
    {
     "data": {
      "text/plain": [
       "{'learning_rate': 0.007,\n",
       " 'min_child_samples': 11,\n",
       " 'n_estimators': 3300,\n",
       " 'num_leaves': 4,\n",
       " 'reg_alpha': 0.011,\n",
       " 'reg_lambda': 0}"
      ]
     },
     "execution_count": 81,
     "metadata": {},
     "output_type": "execute_result"
    }
   ],
   "source": [
    "# Tìm tham số cho mô hình LGBM\n",
    "LGBM_param = {\n",
    "    \"num_leaves\": [3, 4, 5],\n",
    "    \"learning_rate\": [0.006, 0.007, 0.008],\n",
    "    \"n_estimators\": [3200, 3300, 3400],\n",
    "    \"min_child_samples\": [10, 11, 12],\n",
    "    \"reg_alpha\": [0.01, 0.011, 0.012],\n",
    "    \"reg_lambda\": [0, 0.0001]\n",
    "}\n",
    "LGBM_model_search = LGBMRegressor()\n",
    "LGBM_search = GridSearchCV(estimator=LGBM_model_search, param_grid=LGBM_param)\n",
    "LGBM_search.fit(X_train, y_train)\n",
    "LGBM_search.best_params_\n",
    "\n",
    "# It takes very long to run this cell, below is the result in case Outputs of this cell is cleared\n",
    "# {'learning_rate': 0.007, 'min_child_samples': 11, 'n_estimators': 3300, 'num_leaves': 4, 'reg_alpha': 0.011, 'reg_lambda': 0}"
   ]
  },
  {
   "cell_type": "code",
   "execution_count": 19,
   "id": "17391abf-7e8d-4c3d-9007-5e90ef2eacfd",
   "metadata": {},
   "outputs": [
    {
     "data": {
      "text/plain": [
       "{'MAPE': 10.164419063452073, 'R2 score': 0.8869328016762419}"
      ]
     },
     "execution_count": 19,
     "metadata": {},
     "output_type": "execute_result"
    }
   ],
   "source": [
    "LGBM_model = LGBMRegressor(num_leaves=4, learning_rate=0.007, n_estimators=3300, min_child_samples=11, reg_alpha=0.011, reg_lambda=0)\n",
    "LGBM_model.fit(X_train, y_train)\n",
    "LGBM_result_1 = get_result(LGBM_model, X_test=X_test)\n",
    "LGBM_result_1"
   ]
  },
  {
   "cell_type": "markdown",
   "id": "3d23c028-717f-4501-8155-d4d89575b861",
   "metadata": {},
   "source": [
    "Chất lượng tăng lên so với mặc định. Chú ý là tính chất mô hình LGBM cũng dựa trên các cây quyết định như Random Forest."
   ]
  },
  {
   "cell_type": "markdown",
   "id": "202ad8db-82d1-4ae7-b362-09bc1b6f50da",
   "metadata": {},
   "source": [
    "Ngoài ra ta cũng cần lưu ý là GridSearchCV tim ra giá trị tham số hoạt động tốt nhất dựa trên tập huấn luyện nên rất có khà năng overfitting tập huấn luyện, nghĩa là các tham số đó chỉ cho kết quả tốt nhất khi đánh giá trên tập huấn luyện nhưng khi dùng mô hình đó cho tập kiểm định thì kết quả không tốt.\n",
    "\n",
    "**NOTE:** việc tuning ở trên được thực hiện nhiều lần. Ban đầu chọn một số giá trị xung quanh giá trị mặc định (hoặc nhỏ/lớn hơn giá trị mặc định tùy tham số), sau đó tùy thuộc giá trị tốt nhất tìm được mà xê dịch khoảng giá trị lựa chọn nhỏ/lớn hơn hoặc tập trung vào một khoảng chi tiết hơn (zooming)."
   ]
  },
  {
   "cell_type": "markdown",
   "id": "43e01b2d-f9a9-409e-8e6c-e677fe752223",
   "metadata": {},
   "source": [
    "Hãy xem lại kết quả các mô hình của chúng ta sau khi tuning:"
   ]
  },
  {
   "cell_type": "code",
   "execution_count": 20,
   "id": "9b76d668-2bd4-41d3-92d5-5606d1528032",
   "metadata": {},
   "outputs": [
    {
     "data": {
      "text/html": [
       "<div>\n",
       "<style scoped>\n",
       "    .dataframe tbody tr th:only-of-type {\n",
       "        vertical-align: middle;\n",
       "    }\n",
       "\n",
       "    .dataframe tbody tr th {\n",
       "        vertical-align: top;\n",
       "    }\n",
       "\n",
       "    .dataframe thead th {\n",
       "        text-align: right;\n",
       "    }\n",
       "</style>\n",
       "<table border=\"1\" class=\"dataframe\">\n",
       "  <thead>\n",
       "    <tr style=\"text-align: right;\">\n",
       "      <th></th>\n",
       "      <th>MAPE</th>\n",
       "      <th>R2 score</th>\n",
       "    </tr>\n",
       "  </thead>\n",
       "  <tbody>\n",
       "    <tr>\n",
       "      <th>SVR</th>\n",
       "      <td>9.0922</td>\n",
       "      <td>0.9180</td>\n",
       "    </tr>\n",
       "    <tr>\n",
       "      <th>Ridge</th>\n",
       "      <td>9.6885</td>\n",
       "      <td>0.9108</td>\n",
       "    </tr>\n",
       "    <tr>\n",
       "      <th>ElasticNet</th>\n",
       "      <td>9.7661</td>\n",
       "      <td>0.9087</td>\n",
       "    </tr>\n",
       "    <tr>\n",
       "      <th>Lasso</th>\n",
       "      <td>9.8003</td>\n",
       "      <td>0.9083</td>\n",
       "    </tr>\n",
       "    <tr>\n",
       "      <th>LGBM</th>\n",
       "      <td>10.1644</td>\n",
       "      <td>0.8869</td>\n",
       "    </tr>\n",
       "    <tr>\n",
       "      <th>Random forest</th>\n",
       "      <td>10.7479</td>\n",
       "      <td>0.8644</td>\n",
       "    </tr>\n",
       "  </tbody>\n",
       "</table>\n",
       "</div>"
      ],
      "text/plain": [
       "                 MAPE  R2 score\n",
       "SVR            9.0922    0.9180\n",
       "Ridge          9.6885    0.9108\n",
       "ElasticNet     9.7661    0.9087\n",
       "Lasso          9.8003    0.9083\n",
       "LGBM          10.1644    0.8869\n",
       "Random forest 10.7479    0.8644"
      ]
     },
     "execution_count": 20,
     "metadata": {},
     "output_type": "execute_result"
    }
   ],
   "source": [
    "all_results_1 = pd.DataFrame({\n",
    "    \"Lasso\": lasso_result_1,\n",
    "    \"Ridge\": ridge_result_1,\n",
    "    \"ElasticNet\": elastic_result_1,\n",
    "    \"Random forest\": random_forest_result_1,\n",
    "    \"SVR\": SVR_result_1,\n",
    "    \"LGBM\": LGBM_result_1\n",
    "})\n",
    "\n",
    "all_results_1.transpose().sort_values(by=\"MAPE\", ascending=True)"
   ]
  },
  {
   "cell_type": "code",
   "execution_count": 21,
   "id": "b3151a3d-fdb8-4935-a879-f8901f5cc853",
   "metadata": {},
   "outputs": [
    {
     "data": {
      "text/html": [
       "<div>\n",
       "<style scoped>\n",
       "    .dataframe tbody tr th:only-of-type {\n",
       "        vertical-align: middle;\n",
       "    }\n",
       "\n",
       "    .dataframe tbody tr th {\n",
       "        vertical-align: top;\n",
       "    }\n",
       "\n",
       "    .dataframe thead tr th {\n",
       "        text-align: left;\n",
       "    }\n",
       "</style>\n",
       "<table border=\"1\" class=\"dataframe\">\n",
       "  <thead>\n",
       "    <tr>\n",
       "      <th></th>\n",
       "      <th colspan=\"2\" halign=\"left\">Before tuning</th>\n",
       "      <th colspan=\"2\" halign=\"left\">After tuning</th>\n",
       "    </tr>\n",
       "    <tr>\n",
       "      <th></th>\n",
       "      <th>MAPE</th>\n",
       "      <th>R2 score</th>\n",
       "      <th>MAPE</th>\n",
       "      <th>R2 score</th>\n",
       "    </tr>\n",
       "  </thead>\n",
       "  <tbody>\n",
       "    <tr>\n",
       "      <th>Lasso</th>\n",
       "      <td>30.4453</td>\n",
       "      <td>-0.0294</td>\n",
       "      <td>9.8003</td>\n",
       "      <td>0.9083</td>\n",
       "    </tr>\n",
       "    <tr>\n",
       "      <th>Ridge</th>\n",
       "      <td>9.6446</td>\n",
       "      <td>0.9112</td>\n",
       "      <td>9.6885</td>\n",
       "      <td>0.9108</td>\n",
       "    </tr>\n",
       "    <tr>\n",
       "      <th>ElasticNet</th>\n",
       "      <td>30.4453</td>\n",
       "      <td>-0.0294</td>\n",
       "      <td>9.7661</td>\n",
       "      <td>0.9087</td>\n",
       "    </tr>\n",
       "    <tr>\n",
       "      <th>Random forest</th>\n",
       "      <td>10.8295</td>\n",
       "      <td>0.8635</td>\n",
       "      <td>10.7479</td>\n",
       "      <td>0.8644</td>\n",
       "    </tr>\n",
       "    <tr>\n",
       "      <th>SVR</th>\n",
       "      <td>9.2312</td>\n",
       "      <td>0.9117</td>\n",
       "      <td>9.0922</td>\n",
       "      <td>0.9180</td>\n",
       "    </tr>\n",
       "    <tr>\n",
       "      <th>LGBM</th>\n",
       "      <td>10.3753</td>\n",
       "      <td>0.8822</td>\n",
       "      <td>10.1644</td>\n",
       "      <td>0.8869</td>\n",
       "    </tr>\n",
       "  </tbody>\n",
       "</table>\n",
       "</div>"
      ],
      "text/plain": [
       "              Before tuning          After tuning         \n",
       "                       MAPE R2 score         MAPE R2 score\n",
       "Lasso               30.4453  -0.0294       9.8003   0.9083\n",
       "Ridge                9.6446   0.9112       9.6885   0.9108\n",
       "ElasticNet          30.4453  -0.0294       9.7661   0.9087\n",
       "Random forest       10.8295   0.8635      10.7479   0.8644\n",
       "SVR                  9.2312   0.9117       9.0922   0.9180\n",
       "LGBM                10.3753   0.8822      10.1644   0.8869"
      ]
     },
     "execution_count": 21,
     "metadata": {},
     "output_type": "execute_result"
    }
   ],
   "source": [
    "pd.concat(objs=[all_results.transpose(), all_results_1.transpose()], axis=1, keys=[\"Before tuning\", \"After tuning\"])"
   ]
  },
  {
   "cell_type": "markdown",
   "id": "63cef0b0-7675-45f3-bbc2-a53ac9639d30",
   "metadata": {},
   "source": [
    "Hãy thử mô hình neural network xem sao"
   ]
  },
  {
   "cell_type": "code",
   "execution_count": 27,
   "id": "3d7a5f75-fce9-4a49-863e-d9d56d37ada4",
   "metadata": {},
   "outputs": [
    {
     "data": {
      "text/plain": [
       "(1156, 48)"
      ]
     },
     "execution_count": 27,
     "metadata": {},
     "output_type": "execute_result"
    }
   ],
   "source": [
    "# Create Dataset for faster process with tensorflow\n",
    "train_data = tf.data.Dataset.from_tensor_slices((X_train, y_train))\n",
    "test_data = tf.data.Dataset.from_tensor_slices((X_test, y_test))\n",
    "\n",
    "train_data = train_data.batch(batch_size=64).prefetch(tf.data.AUTOTUNE)\n",
    "test_data = test_data.batch(batch_size=64).prefetch(tf.data.AUTOTUNE)\n",
    "\n",
    "# Create a list of callback functions\n",
    "callbacks_list = [\n",
    "    tf.keras.callbacks.ReduceLROnPlateau(monitor=\"val_loss\", factor=0.5, patience=2, mode=\"min\"),\n",
    "    tf.keras.callbacks.EarlyStopping(monitor=\"val_loss\", patience=9, mode=\"min\")\n",
    "]\n",
    "\n",
    "X_train.shape"
   ]
  },
  {
   "cell_type": "code",
   "execution_count": 28,
   "id": "4014e546-4a8a-448f-862f-106538c60e91",
   "metadata": {},
   "outputs": [],
   "source": [
    "# Create model\n",
    "NN_model = tf.keras.models.Sequential(layers=[\n",
    "    tf.keras.layers.Dense(units=256, activation=\"relu\", input_shape=(48,)),\n",
    "    tf.keras.layers.Dense(units=1, activation=\"relu\")\n",
    "])\n",
    "\n",
    "# Compile model\n",
    "NN_model.compile(loss=\"mse\", optimizer=tf.keras.optimizers.Adam(learning_rate=0.001), metrics=[\"mape\"])"
   ]
  },
  {
   "cell_type": "code",
   "execution_count": 29,
   "id": "7ecf376d-7ecb-43b9-8b6b-ef9bc77a87b7",
   "metadata": {
    "scrolled": true,
    "tags": []
   },
   "outputs": [
    {
     "name": "stdout",
     "output_type": "stream",
     "text": [
      "Epoch 1/500\n",
      "19/19 [==============================] - 4s 11ms/step - loss: 122.5878 - mape: 91.9204 - val_loss: 93.6853 - val_mape: 80.5342 - lr: 0.0010\n",
      "Epoch 2/500\n",
      "19/19 [==============================] - 0s 5ms/step - loss: 68.8614 - mape: 68.5858 - val_loss: 39.1704 - val_mape: 51.9193 - lr: 0.0010\n",
      "Epoch 3/500\n",
      "19/19 [==============================] - 0s 4ms/step - loss: 20.4881 - mape: 35.6293 - val_loss: 5.3681 - val_mape: 16.6688 - lr: 0.0010\n",
      "Epoch 4/500\n",
      "19/19 [==============================] - 0s 6ms/step - loss: 2.8970 - mape: 11.7936 - val_loss: 2.5893 - val_mape: 11.1327 - lr: 0.0010\n",
      "Epoch 5/500\n",
      "19/19 [==============================] - 0s 4ms/step - loss: 2.2652 - mape: 10.1847 - val_loss: 1.8754 - val_mape: 9.3667 - lr: 0.0010\n",
      "Epoch 6/500\n",
      "19/19 [==============================] - 0s 4ms/step - loss: 1.6262 - mape: 8.6322 - val_loss: 1.5763 - val_mape: 8.3975 - lr: 0.0010\n",
      "Epoch 7/500\n",
      "19/19 [==============================] - 0s 5ms/step - loss: 1.3702 - mape: 7.8746 - val_loss: 1.3335 - val_mape: 7.7022 - lr: 0.0010\n",
      "Epoch 8/500\n",
      "19/19 [==============================] - 0s 4ms/step - loss: 1.1682 - mape: 7.1981 - val_loss: 1.1562 - val_mape: 7.1309 - lr: 0.0010\n",
      "Epoch 9/500\n",
      "19/19 [==============================] - 0s 4ms/step - loss: 1.0127 - mape: 6.6463 - val_loss: 1.0246 - val_mape: 6.6768 - lr: 0.0010\n",
      "Epoch 10/500\n",
      "19/19 [==============================] - 0s 5ms/step - loss: 0.8988 - mape: 6.2042 - val_loss: 0.9269 - val_mape: 6.3312 - lr: 0.0010\n",
      "Epoch 11/500\n",
      "19/19 [==============================] - 0s 5ms/step - loss: 0.8136 - mape: 5.8578 - val_loss: 0.8541 - val_mape: 6.0686 - lr: 0.0010\n",
      "Epoch 12/500\n",
      "19/19 [==============================] - 0s 5ms/step - loss: 0.7495 - mape: 5.5890 - val_loss: 0.7978 - val_mape: 5.8588 - lr: 0.0010\n",
      "Epoch 13/500\n",
      "19/19 [==============================] - 0s 5ms/step - loss: 0.6996 - mape: 5.3719 - val_loss: 0.7522 - val_mape: 5.6767 - lr: 0.0010\n",
      "Epoch 14/500\n",
      "19/19 [==============================] - 0s 4ms/step - loss: 0.6592 - mape: 5.1956 - val_loss: 0.7135 - val_mape: 5.5086 - lr: 0.0010\n",
      "Epoch 15/500\n",
      "19/19 [==============================] - 0s 5ms/step - loss: 0.6254 - mape: 5.0451 - val_loss: 0.6800 - val_mape: 5.3595 - lr: 0.0010\n",
      "Epoch 16/500\n",
      "19/19 [==============================] - 0s 5ms/step - loss: 0.5962 - mape: 4.9195 - val_loss: 0.6501 - val_mape: 5.2282 - lr: 0.0010\n",
      "Epoch 17/500\n",
      "19/19 [==============================] - 0s 4ms/step - loss: 0.5703 - mape: 4.8091 - val_loss: 0.6228 - val_mape: 5.1068 - lr: 0.0010\n",
      "Epoch 18/500\n",
      "19/19 [==============================] - 0s 5ms/step - loss: 0.5464 - mape: 4.7066 - val_loss: 0.5966 - val_mape: 4.9860 - lr: 0.0010\n",
      "Epoch 19/500\n",
      "19/19 [==============================] - 0s 5ms/step - loss: 0.5240 - mape: 4.6077 - val_loss: 0.5716 - val_mape: 4.8762 - lr: 0.0010\n",
      "Epoch 20/500\n",
      "19/19 [==============================] - 0s 4ms/step - loss: 0.5028 - mape: 4.5110 - val_loss: 0.5470 - val_mape: 4.7657 - lr: 0.0010\n",
      "Epoch 21/500\n",
      "19/19 [==============================] - 0s 6ms/step - loss: 0.4825 - mape: 4.4193 - val_loss: 0.5242 - val_mape: 4.6672 - lr: 0.0010\n",
      "Epoch 22/500\n",
      "19/19 [==============================] - 0s 6ms/step - loss: 0.4630 - mape: 4.3318 - val_loss: 0.5015 - val_mape: 4.5648 - lr: 0.0010\n",
      "Epoch 23/500\n",
      "19/19 [==============================] - 0s 5ms/step - loss: 0.4441 - mape: 4.2439 - val_loss: 0.4803 - val_mape: 4.4713 - lr: 0.0010\n",
      "Epoch 24/500\n",
      "19/19 [==============================] - 0s 6ms/step - loss: 0.4260 - mape: 4.1584 - val_loss: 0.4594 - val_mape: 4.3736 - lr: 0.0010\n",
      "Epoch 25/500\n",
      "19/19 [==============================] - 0s 5ms/step - loss: 0.4084 - mape: 4.0730 - val_loss: 0.4393 - val_mape: 4.2771 - lr: 0.0010\n",
      "Epoch 26/500\n",
      "19/19 [==============================] - 0s 5ms/step - loss: 0.3913 - mape: 3.9880 - val_loss: 0.4200 - val_mape: 4.1869 - lr: 0.0010\n",
      "Epoch 27/500\n",
      "19/19 [==============================] - 0s 5ms/step - loss: 0.3748 - mape: 3.9037 - val_loss: 0.4010 - val_mape: 4.0944 - lr: 0.0010\n",
      "Epoch 28/500\n",
      "19/19 [==============================] - 0s 5ms/step - loss: 0.3588 - mape: 3.8201 - val_loss: 0.3832 - val_mape: 4.0076 - lr: 0.0010\n",
      "Epoch 29/500\n",
      "19/19 [==============================] - 0s 5ms/step - loss: 0.3435 - mape: 3.7378 - val_loss: 0.3657 - val_mape: 3.9212 - lr: 0.0010\n",
      "Epoch 30/500\n",
      "19/19 [==============================] - 0s 5ms/step - loss: 0.3285 - mape: 3.6558 - val_loss: 0.3488 - val_mape: 3.8338 - lr: 0.0010\n",
      "Epoch 31/500\n",
      "19/19 [==============================] - 0s 5ms/step - loss: 0.3141 - mape: 3.5745 - val_loss: 0.3323 - val_mape: 3.7438 - lr: 0.0010\n",
      "Epoch 32/500\n",
      "19/19 [==============================] - 0s 5ms/step - loss: 0.3001 - mape: 3.4942 - val_loss: 0.3167 - val_mape: 3.6579 - lr: 0.0010\n",
      "Epoch 33/500\n",
      "19/19 [==============================] - 0s 5ms/step - loss: 0.2866 - mape: 3.4142 - val_loss: 0.3014 - val_mape: 3.5702 - lr: 0.0010\n",
      "Epoch 34/500\n",
      "19/19 [==============================] - 0s 5ms/step - loss: 0.2735 - mape: 3.3352 - val_loss: 0.2872 - val_mape: 3.4869 - lr: 0.0010\n",
      "Epoch 35/500\n",
      "19/19 [==============================] - 0s 5ms/step - loss: 0.2609 - mape: 3.2580 - val_loss: 0.2731 - val_mape: 3.3997 - lr: 0.0010\n",
      "Epoch 36/500\n",
      "19/19 [==============================] - 0s 5ms/step - loss: 0.2487 - mape: 3.1812 - val_loss: 0.2602 - val_mape: 3.3189 - lr: 0.0010\n",
      "Epoch 37/500\n",
      "19/19 [==============================] - 0s 5ms/step - loss: 0.2372 - mape: 3.1059 - val_loss: 0.2475 - val_mape: 3.2342 - lr: 0.0010\n",
      "Epoch 38/500\n",
      "19/19 [==============================] - 0s 5ms/step - loss: 0.2262 - mape: 3.0316 - val_loss: 0.2357 - val_mape: 3.1537 - lr: 0.0010\n",
      "Epoch 39/500\n",
      "19/19 [==============================] - 0s 5ms/step - loss: 0.2157 - mape: 2.9598 - val_loss: 0.2243 - val_mape: 3.0732 - lr: 0.0010\n",
      "Epoch 40/500\n",
      "19/19 [==============================] - 0s 5ms/step - loss: 0.2057 - mape: 2.8893 - val_loss: 0.2137 - val_mape: 2.9969 - lr: 0.0010\n",
      "Epoch 41/500\n",
      "19/19 [==============================] - 0s 5ms/step - loss: 0.1962 - mape: 2.8207 - val_loss: 0.2036 - val_mape: 2.9223 - lr: 0.0010\n",
      "Epoch 42/500\n",
      "19/19 [==============================] - 0s 5ms/step - loss: 0.1873 - mape: 2.7545 - val_loss: 0.1940 - val_mape: 2.8488 - lr: 0.0010\n",
      "Epoch 43/500\n",
      "19/19 [==============================] - 0s 5ms/step - loss: 0.1787 - mape: 2.6912 - val_loss: 0.1852 - val_mape: 2.7792 - lr: 0.0010\n",
      "Epoch 44/500\n",
      "19/19 [==============================] - 0s 5ms/step - loss: 0.1706 - mape: 2.6298 - val_loss: 0.1768 - val_mape: 2.7118 - lr: 0.0010\n",
      "Epoch 45/500\n",
      "19/19 [==============================] - 0s 5ms/step - loss: 0.1630 - mape: 2.5704 - val_loss: 0.1687 - val_mape: 2.6465 - lr: 0.0010\n",
      "Epoch 46/500\n",
      "19/19 [==============================] - 0s 5ms/step - loss: 0.1558 - mape: 2.5141 - val_loss: 0.1615 - val_mape: 2.5865 - lr: 0.0010\n",
      "Epoch 47/500\n",
      "19/19 [==============================] - 0s 5ms/step - loss: 0.1491 - mape: 2.4601 - val_loss: 0.1546 - val_mape: 2.5278 - lr: 0.0010\n",
      "Epoch 48/500\n",
      "19/19 [==============================] - 0s 5ms/step - loss: 0.1428 - mape: 2.4082 - val_loss: 0.1480 - val_mape: 2.4704 - lr: 0.0010\n",
      "Epoch 49/500\n",
      "19/19 [==============================] - 0s 5ms/step - loss: 0.1368 - mape: 2.3581 - val_loss: 0.1419 - val_mape: 2.4151 - lr: 0.0010\n",
      "Epoch 50/500\n",
      "19/19 [==============================] - 0s 5ms/step - loss: 0.1312 - mape: 2.3101 - val_loss: 0.1365 - val_mape: 2.3676 - lr: 0.0010\n",
      "Epoch 51/500\n",
      "19/19 [==============================] - 0s 5ms/step - loss: 0.1259 - mape: 2.2630 - val_loss: 0.1311 - val_mape: 2.3179 - lr: 0.0010\n",
      "Epoch 52/500\n",
      "19/19 [==============================] - 0s 5ms/step - loss: 0.1208 - mape: 2.2161 - val_loss: 0.1260 - val_mape: 2.2694 - lr: 0.0010\n",
      "Epoch 53/500\n",
      "19/19 [==============================] - 0s 5ms/step - loss: 0.1160 - mape: 2.1713 - val_loss: 0.1212 - val_mape: 2.2245 - lr: 0.0010\n",
      "Epoch 54/500\n",
      "19/19 [==============================] - 0s 5ms/step - loss: 0.1115 - mape: 2.1284 - val_loss: 0.1166 - val_mape: 2.1788 - lr: 0.0010\n",
      "Epoch 55/500\n",
      "19/19 [==============================] - 0s 5ms/step - loss: 0.1071 - mape: 2.0867 - val_loss: 0.1125 - val_mape: 2.1371 - lr: 0.0010\n",
      "Epoch 56/500\n",
      "19/19 [==============================] - 0s 4ms/step - loss: 0.1030 - mape: 2.0457 - val_loss: 0.1083 - val_mape: 2.0950 - lr: 0.0010\n",
      "Epoch 57/500\n",
      "19/19 [==============================] - 0s 5ms/step - loss: 0.0989 - mape: 2.0054 - val_loss: 0.1045 - val_mape: 2.0574 - lr: 0.0010\n",
      "Epoch 58/500\n",
      "19/19 [==============================] - 0s 5ms/step - loss: 0.0951 - mape: 1.9669 - val_loss: 0.1005 - val_mape: 2.0173 - lr: 0.0010\n",
      "Epoch 59/500\n",
      "19/19 [==============================] - 0s 5ms/step - loss: 0.0915 - mape: 1.9302 - val_loss: 0.0971 - val_mape: 1.9825 - lr: 0.0010\n",
      "Epoch 60/500\n",
      "19/19 [==============================] - 0s 5ms/step - loss: 0.0882 - mape: 1.8957 - val_loss: 0.0937 - val_mape: 1.9465 - lr: 0.0010\n",
      "Epoch 61/500\n",
      "19/19 [==============================] - 0s 5ms/step - loss: 0.0850 - mape: 1.8620 - val_loss: 0.0906 - val_mape: 1.9145 - lr: 0.0010\n",
      "Epoch 62/500\n",
      "19/19 [==============================] - 0s 5ms/step - loss: 0.0821 - mape: 1.8299 - val_loss: 0.0875 - val_mape: 1.8801 - lr: 0.0010\n",
      "Epoch 63/500\n",
      "19/19 [==============================] - 0s 5ms/step - loss: 0.0793 - mape: 1.7989 - val_loss: 0.0847 - val_mape: 1.8494 - lr: 0.0010\n",
      "Epoch 64/500\n",
      "19/19 [==============================] - 0s 5ms/step - loss: 0.0765 - mape: 1.7679 - val_loss: 0.0819 - val_mape: 1.8178 - lr: 0.0010\n",
      "Epoch 65/500\n",
      "19/19 [==============================] - 0s 5ms/step - loss: 0.0739 - mape: 1.7384 - val_loss: 0.0793 - val_mape: 1.7892 - lr: 0.0010\n",
      "Epoch 66/500\n",
      "19/19 [==============================] - 0s 5ms/step - loss: 0.0714 - mape: 1.7098 - val_loss: 0.0768 - val_mape: 1.7615 - lr: 0.0010\n",
      "Epoch 67/500\n",
      "19/19 [==============================] - 0s 7ms/step - loss: 0.0691 - mape: 1.6813 - val_loss: 0.0743 - val_mape: 1.7309 - lr: 0.0010\n",
      "Epoch 68/500\n",
      "19/19 [==============================] - 0s 5ms/step - loss: 0.0668 - mape: 1.6538 - val_loss: 0.0719 - val_mape: 1.7042 - lr: 0.0010\n",
      "Epoch 69/500\n",
      "19/19 [==============================] - 0s 6ms/step - loss: 0.0646 - mape: 1.6267 - val_loss: 0.0696 - val_mape: 1.6771 - lr: 0.0010\n",
      "Epoch 70/500\n",
      "19/19 [==============================] - 0s 5ms/step - loss: 0.0626 - mape: 1.6007 - val_loss: 0.0676 - val_mape: 1.6525 - lr: 0.0010\n",
      "Epoch 71/500\n",
      "19/19 [==============================] - 0s 5ms/step - loss: 0.0606 - mape: 1.5751 - val_loss: 0.0656 - val_mape: 1.6292 - lr: 0.0010\n",
      "Epoch 72/500\n",
      "19/19 [==============================] - 0s 5ms/step - loss: 0.0587 - mape: 1.5500 - val_loss: 0.0635 - val_mape: 1.6042 - lr: 0.0010\n",
      "Epoch 73/500\n",
      "19/19 [==============================] - 0s 4ms/step - loss: 0.0568 - mape: 1.5256 - val_loss: 0.0616 - val_mape: 1.5811 - lr: 0.0010\n",
      "Epoch 74/500\n",
      "19/19 [==============================] - 0s 5ms/step - loss: 0.0551 - mape: 1.5015 - val_loss: 0.0599 - val_mape: 1.5609 - lr: 0.0010\n",
      "Epoch 75/500\n",
      "19/19 [==============================] - 0s 5ms/step - loss: 0.0534 - mape: 1.4780 - val_loss: 0.0581 - val_mape: 1.5368 - lr: 0.0010\n",
      "Epoch 76/500\n",
      "19/19 [==============================] - 0s 5ms/step - loss: 0.0518 - mape: 1.4562 - val_loss: 0.0564 - val_mape: 1.5151 - lr: 0.0010\n",
      "Epoch 77/500\n",
      "19/19 [==============================] - 0s 5ms/step - loss: 0.0502 - mape: 1.4336 - val_loss: 0.0547 - val_mape: 1.4925 - lr: 0.0010\n",
      "Epoch 78/500\n",
      "19/19 [==============================] - 0s 5ms/step - loss: 0.0486 - mape: 1.4115 - val_loss: 0.0530 - val_mape: 1.4691 - lr: 0.0010\n",
      "Epoch 79/500\n",
      "19/19 [==============================] - 0s 5ms/step - loss: 0.0471 - mape: 1.3895 - val_loss: 0.0514 - val_mape: 1.4481 - lr: 0.0010\n",
      "Epoch 80/500\n",
      "19/19 [==============================] - 0s 5ms/step - loss: 0.0457 - mape: 1.3687 - val_loss: 0.0498 - val_mape: 1.4274 - lr: 0.0010\n",
      "Epoch 81/500\n",
      "19/19 [==============================] - 0s 5ms/step - loss: 0.0443 - mape: 1.3480 - val_loss: 0.0483 - val_mape: 1.4041 - lr: 0.0010\n",
      "Epoch 82/500\n",
      "19/19 [==============================] - 0s 5ms/step - loss: 0.0430 - mape: 1.3281 - val_loss: 0.0470 - val_mape: 1.3853 - lr: 0.0010\n",
      "Epoch 83/500\n",
      "19/19 [==============================] - 0s 5ms/step - loss: 0.0418 - mape: 1.3091 - val_loss: 0.0456 - val_mape: 1.3661 - lr: 0.0010\n",
      "Epoch 84/500\n",
      "19/19 [==============================] - 0s 5ms/step - loss: 0.0406 - mape: 1.2896 - val_loss: 0.0442 - val_mape: 1.3458 - lr: 0.0010\n",
      "Epoch 85/500\n",
      "19/19 [==============================] - 0s 5ms/step - loss: 0.0395 - mape: 1.2706 - val_loss: 0.0430 - val_mape: 1.3272 - lr: 0.0010\n",
      "Epoch 86/500\n",
      "19/19 [==============================] - 0s 5ms/step - loss: 0.0384 - mape: 1.2523 - val_loss: 0.0419 - val_mape: 1.3107 - lr: 0.0010\n",
      "Epoch 87/500\n",
      "19/19 [==============================] - 0s 5ms/step - loss: 0.0373 - mape: 1.2362 - val_loss: 0.0407 - val_mape: 1.2934 - lr: 0.0010\n",
      "Epoch 88/500\n",
      "19/19 [==============================] - 0s 5ms/step - loss: 0.0364 - mape: 1.2191 - val_loss: 0.0396 - val_mape: 1.2739 - lr: 0.0010\n",
      "Epoch 89/500\n",
      "19/19 [==============================] - 0s 5ms/step - loss: 0.0354 - mape: 1.2022 - val_loss: 0.0386 - val_mape: 1.2592 - lr: 0.0010\n",
      "Epoch 90/500\n",
      "19/19 [==============================] - 0s 5ms/step - loss: 0.0345 - mape: 1.1874 - val_loss: 0.0376 - val_mape: 1.2435 - lr: 0.0010\n",
      "Epoch 91/500\n",
      "19/19 [==============================] - 0s 5ms/step - loss: 0.0337 - mape: 1.1709 - val_loss: 0.0367 - val_mape: 1.2264 - lr: 0.0010\n",
      "Epoch 92/500\n",
      "19/19 [==============================] - 0s 5ms/step - loss: 0.0328 - mape: 1.1552 - val_loss: 0.0358 - val_mape: 1.2131 - lr: 0.0010\n",
      "Epoch 93/500\n",
      "19/19 [==============================] - 0s 5ms/step - loss: 0.0321 - mape: 1.1418 - val_loss: 0.0350 - val_mape: 1.1998 - lr: 0.0010\n",
      "Epoch 94/500\n",
      "19/19 [==============================] - 0s 5ms/step - loss: 0.0313 - mape: 1.1264 - val_loss: 0.0341 - val_mape: 1.1842 - lr: 0.0010\n",
      "Epoch 95/500\n",
      "19/19 [==============================] - 0s 5ms/step - loss: 0.0306 - mape: 1.1131 - val_loss: 0.0334 - val_mape: 1.1722 - lr: 0.0010\n",
      "Epoch 96/500\n",
      "19/19 [==============================] - 0s 5ms/step - loss: 0.0299 - mape: 1.0991 - val_loss: 0.0326 - val_mape: 1.1560 - lr: 0.0010\n",
      "Epoch 97/500\n",
      "19/19 [==============================] - 0s 5ms/step - loss: 0.0293 - mape: 1.0854 - val_loss: 0.0319 - val_mape: 1.1431 - lr: 0.0010\n",
      "Epoch 98/500\n",
      "19/19 [==============================] - 0s 5ms/step - loss: 0.0287 - mape: 1.0726 - val_loss: 0.0313 - val_mape: 1.1328 - lr: 0.0010\n",
      "Epoch 99/500\n",
      "19/19 [==============================] - 0s 5ms/step - loss: 0.0281 - mape: 1.0625 - val_loss: 0.0307 - val_mape: 1.1216 - lr: 0.0010\n",
      "Epoch 100/500\n",
      "19/19 [==============================] - 0s 5ms/step - loss: 0.0275 - mape: 1.0498 - val_loss: 0.0301 - val_mape: 1.1093 - lr: 0.0010\n",
      "Epoch 101/500\n",
      "19/19 [==============================] - 0s 5ms/step - loss: 0.0270 - mape: 1.0404 - val_loss: 0.0295 - val_mape: 1.0978 - lr: 0.0010\n",
      "Epoch 102/500\n",
      "19/19 [==============================] - 0s 5ms/step - loss: 0.0265 - mape: 1.0276 - val_loss: 0.0290 - val_mape: 1.0854 - lr: 0.0010\n",
      "Epoch 103/500\n",
      "19/19 [==============================] - 0s 5ms/step - loss: 0.0260 - mape: 1.0172 - val_loss: 0.0285 - val_mape: 1.0749 - lr: 0.0010\n",
      "Epoch 104/500\n",
      "19/19 [==============================] - 0s 5ms/step - loss: 0.0256 - mape: 1.0066 - val_loss: 0.0280 - val_mape: 1.0662 - lr: 0.0010\n",
      "Epoch 105/500\n",
      "19/19 [==============================] - 0s 5ms/step - loss: 0.0252 - mape: 0.9996 - val_loss: 0.0276 - val_mape: 1.0575 - lr: 0.0010\n",
      "Epoch 106/500\n",
      "19/19 [==============================] - 0s 5ms/step - loss: 0.0248 - mape: 0.9884 - val_loss: 0.0271 - val_mape: 1.0473 - lr: 0.0010\n",
      "Epoch 107/500\n",
      "19/19 [==============================] - 0s 5ms/step - loss: 0.0244 - mape: 0.9816 - val_loss: 0.0267 - val_mape: 1.0389 - lr: 0.0010\n",
      "Epoch 108/500\n",
      "19/19 [==============================] - 0s 5ms/step - loss: 0.0240 - mape: 0.9708 - val_loss: 0.0262 - val_mape: 1.0283 - lr: 0.0010\n",
      "Epoch 109/500\n",
      "19/19 [==============================] - 0s 5ms/step - loss: 0.0237 - mape: 0.9631 - val_loss: 0.0259 - val_mape: 1.0205 - lr: 0.0010\n",
      "Epoch 110/500\n",
      "19/19 [==============================] - 0s 5ms/step - loss: 0.0233 - mape: 0.9550 - val_loss: 0.0256 - val_mape: 1.0138 - lr: 0.0010\n",
      "Epoch 111/500\n",
      "19/19 [==============================] - 0s 5ms/step - loss: 0.0230 - mape: 0.9502 - val_loss: 0.0252 - val_mape: 1.0062 - lr: 0.0010\n",
      "Epoch 112/500\n",
      "19/19 [==============================] - 0s 5ms/step - loss: 0.0227 - mape: 0.9405 - val_loss: 0.0249 - val_mape: 0.9985 - lr: 0.0010\n",
      "Epoch 113/500\n",
      "19/19 [==============================] - 0s 5ms/step - loss: 0.0224 - mape: 0.9362 - val_loss: 0.0246 - val_mape: 0.9929 - lr: 0.0010\n",
      "Epoch 114/500\n",
      "19/19 [==============================] - 0s 5ms/step - loss: 0.0222 - mape: 0.9273 - val_loss: 0.0242 - val_mape: 0.9837 - lr: 0.0010\n",
      "Epoch 115/500\n",
      "19/19 [==============================] - 0s 6ms/step - loss: 0.0219 - mape: 0.9216 - val_loss: 0.0240 - val_mape: 0.9783 - lr: 0.0010\n",
      "Epoch 116/500\n",
      "19/19 [==============================] - 0s 5ms/step - loss: 0.0216 - mape: 0.9152 - val_loss: 0.0237 - val_mape: 0.9737 - lr: 0.0010\n",
      "Epoch 117/500\n",
      "19/19 [==============================] - 0s 6ms/step - loss: 0.0215 - mape: 0.9126 - val_loss: 0.0235 - val_mape: 0.9681 - lr: 0.0010\n",
      "Epoch 118/500\n",
      "19/19 [==============================] - 0s 5ms/step - loss: 0.0212 - mape: 0.9045 - val_loss: 0.0232 - val_mape: 0.9611 - lr: 0.0010\n",
      "Epoch 119/500\n",
      "19/19 [==============================] - 0s 5ms/step - loss: 0.0210 - mape: 0.9002 - val_loss: 0.0231 - val_mape: 0.9588 - lr: 0.0010\n",
      "Epoch 120/500\n",
      "19/19 [==============================] - 0s 5ms/step - loss: 0.0208 - mape: 0.8978 - val_loss: 0.0228 - val_mape: 0.9532 - lr: 0.0010\n",
      "Epoch 121/500\n",
      "19/19 [==============================] - 0s 5ms/step - loss: 0.0206 - mape: 0.8898 - val_loss: 0.0226 - val_mape: 0.9485 - lr: 0.0010\n",
      "Epoch 122/500\n",
      "19/19 [==============================] - 0s 5ms/step - loss: 0.0205 - mape: 0.8887 - val_loss: 0.0224 - val_mape: 0.9442 - lr: 0.0010\n",
      "Epoch 123/500\n",
      "19/19 [==============================] - 0s 5ms/step - loss: 0.0203 - mape: 0.8812 - val_loss: 0.0222 - val_mape: 0.9387 - lr: 0.0010\n",
      "Epoch 124/500\n",
      "19/19 [==============================] - 0s 5ms/step - loss: 0.0201 - mape: 0.8785 - val_loss: 0.0221 - val_mape: 0.9350 - lr: 0.0010\n",
      "Epoch 125/500\n",
      "19/19 [==============================] - 0s 5ms/step - loss: 0.0199 - mape: 0.8738 - val_loss: 0.0219 - val_mape: 0.9321 - lr: 0.0010\n",
      "Epoch 126/500\n",
      "19/19 [==============================] - 0s 5ms/step - loss: 0.0198 - mape: 0.8727 - val_loss: 0.0217 - val_mape: 0.9272 - lr: 0.0010\n",
      "Epoch 127/500\n",
      "19/19 [==============================] - 0s 5ms/step - loss: 0.0196 - mape: 0.8659 - val_loss: 0.0216 - val_mape: 0.9238 - lr: 0.0010\n",
      "Epoch 128/500\n",
      "19/19 [==============================] - 0s 5ms/step - loss: 0.0195 - mape: 0.8653 - val_loss: 0.0214 - val_mape: 0.9200 - lr: 0.0010\n",
      "Epoch 129/500\n",
      "19/19 [==============================] - 0s 5ms/step - loss: 0.0194 - mape: 0.8588 - val_loss: 0.0213 - val_mape: 0.9154 - lr: 0.0010\n",
      "Epoch 130/500\n",
      "19/19 [==============================] - 0s 5ms/step - loss: 0.0193 - mape: 0.8574 - val_loss: 0.0212 - val_mape: 0.9129 - lr: 0.0010\n",
      "Epoch 131/500\n",
      "19/19 [==============================] - 0s 5ms/step - loss: 0.0191 - mape: 0.8534 - val_loss: 0.0211 - val_mape: 0.9112 - lr: 0.0010\n",
      "Epoch 132/500\n",
      "19/19 [==============================] - 0s 6ms/step - loss: 0.0191 - mape: 0.8536 - val_loss: 0.0209 - val_mape: 0.9061 - lr: 0.0010\n",
      "Epoch 133/500\n",
      "19/19 [==============================] - 0s 5ms/step - loss: 0.0189 - mape: 0.8476 - val_loss: 0.0208 - val_mape: 0.9051 - lr: 0.0010\n",
      "Epoch 134/500\n",
      "19/19 [==============================] - 0s 5ms/step - loss: 0.0188 - mape: 0.8484 - val_loss: 0.0207 - val_mape: 0.9003 - lr: 0.0010\n",
      "Epoch 135/500\n",
      "19/19 [==============================] - 0s 5ms/step - loss: 0.0187 - mape: 0.8428 - val_loss: 0.0206 - val_mape: 0.8985 - lr: 0.0010\n",
      "Epoch 136/500\n",
      "19/19 [==============================] - 0s 5ms/step - loss: 0.0186 - mape: 0.8422 - val_loss: 0.0205 - val_mape: 0.8964 - lr: 0.0010\n",
      "Epoch 137/500\n",
      "19/19 [==============================] - 0s 5ms/step - loss: 0.0185 - mape: 0.8394 - val_loss: 0.0204 - val_mape: 0.8953 - lr: 0.0010\n",
      "Epoch 138/500\n",
      "19/19 [==============================] - 0s 5ms/step - loss: 0.0185 - mape: 0.8394 - val_loss: 0.0203 - val_mape: 0.8911 - lr: 0.0010\n",
      "Epoch 139/500\n",
      "19/19 [==============================] - 0s 5ms/step - loss: 0.0184 - mape: 0.8347 - val_loss: 0.0202 - val_mape: 0.8903 - lr: 0.0010\n",
      "Epoch 140/500\n",
      "19/19 [==============================] - 0s 5ms/step - loss: 0.0183 - mape: 0.8359 - val_loss: 0.0201 - val_mape: 0.8867 - lr: 0.0010\n",
      "Epoch 141/500\n",
      "19/19 [==============================] - 0s 5ms/step - loss: 0.0182 - mape: 0.8309 - val_loss: 0.0201 - val_mape: 0.8853 - lr: 0.0010\n",
      "Epoch 142/500\n",
      "19/19 [==============================] - 0s 5ms/step - loss: 0.0182 - mape: 0.8307 - val_loss: 0.0200 - val_mape: 0.8830 - lr: 0.0010\n",
      "Epoch 143/500\n",
      "19/19 [==============================] - 0s 5ms/step - loss: 0.0181 - mape: 0.8279 - val_loss: 0.0199 - val_mape: 0.8827 - lr: 0.0010\n",
      "Epoch 144/500\n",
      "19/19 [==============================] - 0s 5ms/step - loss: 0.0180 - mape: 0.8290 - val_loss: 0.0198 - val_mape: 0.8786 - lr: 0.0010\n",
      "Epoch 145/500\n",
      "19/19 [==============================] - 0s 4ms/step - loss: 0.0179 - mape: 0.8243 - val_loss: 0.0198 - val_mape: 0.8787 - lr: 0.0010\n",
      "Epoch 146/500\n",
      "19/19 [==============================] - 0s 4ms/step - loss: 0.0179 - mape: 0.8257 - val_loss: 0.0196 - val_mape: 0.8750 - lr: 0.0010\n",
      "Epoch 147/500\n",
      "19/19 [==============================] - 0s 6ms/step - loss: 0.0178 - mape: 0.8218 - val_loss: 0.0196 - val_mape: 0.8742 - lr: 0.0010\n",
      "Epoch 148/500\n",
      "19/19 [==============================] - 0s 5ms/step - loss: 0.0178 - mape: 0.8215 - val_loss: 0.0195 - val_mape: 0.8725 - lr: 0.0010\n",
      "Epoch 149/500\n",
      "19/19 [==============================] - 0s 5ms/step - loss: 0.0177 - mape: 0.8193 - val_loss: 0.0195 - val_mape: 0.8723 - lr: 0.0010\n",
      "Epoch 150/500\n",
      "19/19 [==============================] - 0s 5ms/step - loss: 0.0177 - mape: 0.8198 - val_loss: 0.0194 - val_mape: 0.8684 - lr: 0.0010\n",
      "Epoch 151/500\n",
      "19/19 [==============================] - 0s 5ms/step - loss: 0.0176 - mape: 0.8162 - val_loss: 0.0194 - val_mape: 0.8693 - lr: 0.0010\n",
      "Epoch 152/500\n",
      "19/19 [==============================] - 0s 5ms/step - loss: 0.0176 - mape: 0.8176 - val_loss: 0.0193 - val_mape: 0.8651 - lr: 0.0010\n",
      "Epoch 153/500\n",
      "19/19 [==============================] - 0s 5ms/step - loss: 0.0175 - mape: 0.8139 - val_loss: 0.0193 - val_mape: 0.8655 - lr: 0.0010\n",
      "Epoch 154/500\n",
      "19/19 [==============================] - 0s 5ms/step - loss: 0.0175 - mape: 0.8138 - val_loss: 0.0193 - val_mape: 0.8638 - lr: 0.0010\n",
      "Epoch 155/500\n",
      "19/19 [==============================] - 0s 5ms/step - loss: 0.0171 - mape: 0.8020 - val_loss: 0.0197 - val_mape: 0.8774 - lr: 5.0000e-04\n",
      "Epoch 156/500\n",
      "19/19 [==============================] - 0s 5ms/step - loss: 0.0172 - mape: 0.8079 - val_loss: 0.0200 - val_mape: 0.8858 - lr: 5.0000e-04\n",
      "Epoch 157/500\n",
      "19/19 [==============================] - 0s 5ms/step - loss: 0.0171 - mape: 0.8037 - val_loss: 0.0193 - val_mape: 0.8639 - lr: 2.5000e-04\n",
      "Epoch 158/500\n",
      "19/19 [==============================] - 0s 5ms/step - loss: 0.0170 - mape: 0.8009 - val_loss: 0.0192 - val_mape: 0.8606 - lr: 2.5000e-04\n",
      "Epoch 159/500\n",
      "19/19 [==============================] - 0s 5ms/step - loss: 0.0168 - mape: 0.7954 - val_loss: 0.0193 - val_mape: 0.8626 - lr: 1.2500e-04\n",
      "Epoch 160/500\n",
      "19/19 [==============================] - 0s 5ms/step - loss: 0.0168 - mape: 0.7947 - val_loss: 0.0193 - val_mape: 0.8625 - lr: 1.2500e-04\n",
      "Epoch 161/500\n",
      "19/19 [==============================] - 0s 5ms/step - loss: 0.0167 - mape: 0.7942 - val_loss: 0.0193 - val_mape: 0.8632 - lr: 6.2500e-05\n",
      "Epoch 162/500\n",
      "19/19 [==============================] - 0s 5ms/step - loss: 0.0167 - mape: 0.7941 - val_loss: 0.0193 - val_mape: 0.8626 - lr: 6.2500e-05\n",
      "Epoch 163/500\n",
      "19/19 [==============================] - 0s 5ms/step - loss: 0.0167 - mape: 0.7935 - val_loss: 0.0193 - val_mape: 0.8629 - lr: 3.1250e-05\n",
      "Epoch 164/500\n",
      "19/19 [==============================] - 0s 4ms/step - loss: 0.0167 - mape: 0.7936 - val_loss: 0.0193 - val_mape: 0.8630 - lr: 3.1250e-05\n",
      "Epoch 165/500\n",
      "19/19 [==============================] - 0s 5ms/step - loss: 0.0167 - mape: 0.7933 - val_loss: 0.0193 - val_mape: 0.8630 - lr: 1.5625e-05\n",
      "Epoch 166/500\n",
      "19/19 [==============================] - 0s 5ms/step - loss: 0.0167 - mape: 0.7933 - val_loss: 0.0193 - val_mape: 0.8630 - lr: 1.5625e-05\n",
      "Epoch 167/500\n",
      "19/19 [==============================] - 0s 5ms/step - loss: 0.0167 - mape: 0.7932 - val_loss: 0.0193 - val_mape: 0.8630 - lr: 7.8125e-06\n"
     ]
    }
   ],
   "source": [
    "# Train model\n",
    "history = NN_model.fit(x=train_data,\n",
    "                        epochs=500,\n",
    "                        callbacks=callbacks_list,\n",
    "                        validation_data=test_data,\n",
    "                        steps_per_epoch=len(train_data),\n",
    "                        validation_steps=len(test_data))"
   ]
  },
  {
   "cell_type": "code",
   "execution_count": 30,
   "id": "3da4b4c1-5edf-4c1b-a200-8467f4356fb1",
   "metadata": {},
   "outputs": [
    {
     "data": {
      "text/html": [
       "<div>\n",
       "<style scoped>\n",
       "    .dataframe tbody tr th:only-of-type {\n",
       "        vertical-align: middle;\n",
       "    }\n",
       "\n",
       "    .dataframe tbody tr th {\n",
       "        vertical-align: top;\n",
       "    }\n",
       "\n",
       "    .dataframe thead th {\n",
       "        text-align: right;\n",
       "    }\n",
       "</style>\n",
       "<table border=\"1\" class=\"dataframe\">\n",
       "  <thead>\n",
       "    <tr style=\"text-align: right;\">\n",
       "      <th></th>\n",
       "      <th>MAPE</th>\n",
       "      <th>R2 score</th>\n",
       "    </tr>\n",
       "  </thead>\n",
       "  <tbody>\n",
       "    <tr>\n",
       "      <th>SVR</th>\n",
       "      <td>9.0922</td>\n",
       "      <td>0.9180</td>\n",
       "    </tr>\n",
       "    <tr>\n",
       "      <th>Ridge</th>\n",
       "      <td>9.6885</td>\n",
       "      <td>0.9108</td>\n",
       "    </tr>\n",
       "    <tr>\n",
       "      <th>ElasticNet</th>\n",
       "      <td>9.7661</td>\n",
       "      <td>0.9087</td>\n",
       "    </tr>\n",
       "    <tr>\n",
       "      <th>Lasso</th>\n",
       "      <td>9.8003</td>\n",
       "      <td>0.9083</td>\n",
       "    </tr>\n",
       "    <tr>\n",
       "      <th>LGBM</th>\n",
       "      <td>10.1644</td>\n",
       "      <td>0.8869</td>\n",
       "    </tr>\n",
       "    <tr>\n",
       "      <th>Neural network</th>\n",
       "      <td>10.4236</td>\n",
       "      <td>0.8909</td>\n",
       "    </tr>\n",
       "    <tr>\n",
       "      <th>Random forest</th>\n",
       "      <td>10.7479</td>\n",
       "      <td>0.8644</td>\n",
       "    </tr>\n",
       "  </tbody>\n",
       "</table>\n",
       "</div>"
      ],
      "text/plain": [
       "                  MAPE  R2 score\n",
       "SVR             9.0922    0.9180\n",
       "Ridge           9.6885    0.9108\n",
       "ElasticNet      9.7661    0.9087\n",
       "Lasso           9.8003    0.9083\n",
       "LGBM           10.1644    0.8869\n",
       "Neural network 10.4236    0.8909\n",
       "Random forest  10.7479    0.8644"
      ]
     },
     "execution_count": 30,
     "metadata": {},
     "output_type": "execute_result"
    }
   ],
   "source": [
    "NN_result = get_result(NN_model, X_test=X_test)\n",
    "\n",
    "all_results_1 = pd.DataFrame({\n",
    "    \"Lasso\": lasso_result_1,\n",
    "    \"Ridge\": ridge_result_1,\n",
    "    \"ElasticNet\": elastic_result_1,\n",
    "    \"Random forest\": random_forest_result_1,\n",
    "    \"SVR\": SVR_result_1,\n",
    "    \"LGBM\": LGBM_result_1,\n",
    "    \"Neural network\": NN_result\n",
    "})\n",
    "\n",
    "all_results_1.transpose().sort_values(by=\"MAPE\", ascending=True)"
   ]
  },
  {
   "cell_type": "markdown",
   "id": "6ebf9fbc-603c-426d-ad18-1db5a0e552e9",
   "metadata": {},
   "source": [
    "Mô hình NN bị overfit, thông thường NN model chỉ hoạt động tốt khi có nhiều dữ liệu.\n",
    "\n",
    "Cuối cùng chúng ta sẽ thử ensemble learning."
   ]
  },
  {
   "cell_type": "code",
   "execution_count": 31,
   "id": "50ef5e5f-6e76-404d-9394-4a61e8d4e80a",
   "metadata": {},
   "outputs": [],
   "source": [
    "lasso_model_ensemble = Lasso(alpha=0.0004)\n",
    "ridge_model_ensemble = Ridge(alpha=0.4)\n",
    "elastic_model_ensemble = ElasticNet(alpha=0.0006, l1_ratio=0.71)\n",
    "random_forest_ensemble = RandomForestRegressor(n_estimators=500)\n",
    "SVR_model_ensemble = SVR(gamma=\"auto\", C=15, epsilon=0.06)\n",
    "LGBM_model_ensemble = LGBMRegressor(num_leaves=4, learning_rate=0.007, n_estimators=3300, min_child_samples=11, reg_alpha=0.011, reg_lambda=0)"
   ]
  },
  {
   "cell_type": "markdown",
   "id": "bff90889-e7bb-4a76-8896-7e92d21d7082",
   "metadata": {},
   "source": [
    "Kết hợp 3 mô hình tốt nhất"
   ]
  },
  {
   "cell_type": "code",
   "execution_count": 32,
   "id": "e6d0b98e-f04a-4358-8ab6-6839eef09b98",
   "metadata": {},
   "outputs": [
    {
     "data": {
      "text/plain": [
       "{'weights': [8, 1, 1]}"
      ]
     },
     "execution_count": 32,
     "metadata": {},
     "output_type": "execute_result"
    }
   ],
   "source": [
    "top_3_param = {\n",
    "    \"weights\": [None, [8, 1, 1], [7, 2, 1], [6, 3, 1], [6, 2, 2], [5, 4, 1], [5, 3, 2], [4, 4, 2], [4, 3, 3]]\n",
    "}\n",
    "\n",
    "top_3_estimators = [(\"SVR\", SVR_model_ensemble), (\"Ridge\", ridge_model_ensemble), (\"Elastic\", elastic_model_ensemble)]\n",
    "\n",
    "top_3_model_search = VotingRegressor(estimators=top_3_estimators)\n",
    "top_3_search = GridSearchCV(estimator=top_3_model_search, param_grid=top_3_param)\n",
    "top_3_search.fit(X_train, y_train)\n",
    "top_3_search.best_params_"
   ]
  },
  {
   "cell_type": "code",
   "execution_count": 33,
   "id": "23f7782c-73e6-464f-90c9-7fe77992f8cb",
   "metadata": {},
   "outputs": [
    {
     "data": {
      "text/plain": [
       "{'MAPE': 9.157941172945137, 'R2 score': 0.917530963888799}"
      ]
     },
     "execution_count": 33,
     "metadata": {},
     "output_type": "execute_result"
    }
   ],
   "source": [
    "top_3_model = VotingRegressor(estimators=top_3_estimators, weights=[8, 1, 1])\n",
    "top_3_model.fit(X_train, y_train)\n",
    "top_3_result = get_result(top_3_model, X_test=X_test)\n",
    "top_3_result"
   ]
  },
  {
   "cell_type": "markdown",
   "id": "d2720ae8-ac3f-4387-9233-70744a702892",
   "metadata": {},
   "source": [
    "Top 4"
   ]
  },
  {
   "cell_type": "code",
   "execution_count": 34,
   "id": "3ea4f0d6-850a-4ba6-ab3f-789e50fb0dd2",
   "metadata": {},
   "outputs": [
    {
     "data": {
      "text/plain": [
       "{'weights': [7, 1, 1, 1]}"
      ]
     },
     "execution_count": 34,
     "metadata": {},
     "output_type": "execute_result"
    }
   ],
   "source": [
    "top_4_param = {\n",
    "    \"weights\": [None, [7, 1, 1, 1], [6, 2, 1, 1], [5, 3, 1, 1], [5, 2, 2, 1], [4, 4, 1, 1], [4, 3, 2, 1], [4, 2, 2, 2], [3, 3, 3, 1], [3, 3, 2, 2]]\n",
    "}\n",
    "\n",
    "top_4_estimators = [(\"SVR\", SVR_model_ensemble), (\"Ridge\", ridge_model_ensemble), (\"Elastic\", elastic_model_ensemble), (\"Lasso\", lasso_model_ensemble)]\n",
    "\n",
    "top_4_model_search = VotingRegressor(estimators=top_4_estimators)\n",
    "top_4_search = GridSearchCV(estimator=top_4_model_search, param_grid=top_4_param)\n",
    "top_4_search.fit(X_train, y_train)\n",
    "top_4_search.best_params_"
   ]
  },
  {
   "cell_type": "code",
   "execution_count": 35,
   "id": "341daf5f-ed9c-44ba-a4df-03c6a1ad0721",
   "metadata": {},
   "outputs": [
    {
     "data": {
      "text/plain": [
       "{'MAPE': 9.203485413134162, 'R2 score': 0.9169625169534042}"
      ]
     },
     "execution_count": 35,
     "metadata": {},
     "output_type": "execute_result"
    }
   ],
   "source": [
    "top_4_model = VotingRegressor(estimators=top_4_estimators, weights=[7, 1, 1, 1])\n",
    "top_4_model.fit(X_train, y_train)\n",
    "top_4_result = get_result(top_4_model, X_test=X_test)\n",
    "top_4_result"
   ]
  },
  {
   "cell_type": "markdown",
   "id": "53ccbee3-0c7c-4535-a22b-291779c0196c",
   "metadata": {},
   "source": [
    "Top 5"
   ]
  },
  {
   "cell_type": "code",
   "execution_count": 36,
   "id": "f879ae2e-f481-49f3-a056-20fd33d6f656",
   "metadata": {},
   "outputs": [
    {
     "data": {
      "text/plain": [
       "{'weights': [6, 1, 1, 1, 1]}"
      ]
     },
     "execution_count": 36,
     "metadata": {},
     "output_type": "execute_result"
    }
   ],
   "source": [
    "top_5_param = {\n",
    "    \"weights\": [None, [6, 1, 1, 1, 1], [5, 2, 1, 1, 1], [4, 3, 1, 1, 1], [4, 2, 2, 1, 1], [3, 3, 2, 1, 1], [3, 2, 2, 2, 1]]\n",
    "}\n",
    "\n",
    "top_5_estimators = [(\"SVR\", SVR_model_ensemble), (\"Ridge\", ridge_model_ensemble), (\"Elastic\", elastic_model_ensemble),\n",
    "                    (\"Lasso\", lasso_model_ensemble), (\"LGBM\", LGBM_model_ensemble)]\n",
    "\n",
    "top_5_model_search = VotingRegressor(estimators=top_5_estimators)\n",
    "top_5_search = GridSearchCV(estimator=top_5_model_search, param_grid=top_5_param)\n",
    "top_5_search.fit(X_train, y_train)\n",
    "top_5_search.best_params_"
   ]
  },
  {
   "cell_type": "code",
   "execution_count": 37,
   "id": "6f26fc6b-7a95-460a-931a-07351c1e482a",
   "metadata": {},
   "outputs": [
    {
     "data": {
      "text/plain": [
       "{'MAPE': 9.233621737443439, 'R2 score': 0.9160148023654435}"
      ]
     },
     "execution_count": 37,
     "metadata": {},
     "output_type": "execute_result"
    }
   ],
   "source": [
    "top_5_model = VotingRegressor(estimators=top_5_estimators, weights=[6, 1, 1, 1, 1])\n",
    "top_5_model.fit(X_train, y_train)\n",
    "top_5_result = get_result(top_5_model, X_test=X_test)\n",
    "top_5_result"
   ]
  },
  {
   "cell_type": "markdown",
   "id": "4a97887c-b9d5-4875-8ab4-fd87c8ba57db",
   "metadata": {},
   "source": [
    "Kết hợp tất cả 6 mô hình"
   ]
  },
  {
   "cell_type": "code",
   "execution_count": 38,
   "id": "afa85a97-a6db-43d7-a159-b94cfeeb0eff",
   "metadata": {},
   "outputs": [
    {
     "data": {
      "text/plain": [
       "{'weights': [5, 1, 1, 1, 1, 1]}"
      ]
     },
     "execution_count": 38,
     "metadata": {},
     "output_type": "execute_result"
    }
   ],
   "source": [
    "ensemble_param = {\n",
    "    \"weights\": [None, [5, 1, 1, 1, 1, 1], [4, 2, 1, 1, 1, 1], [3, 3, 1, 1, 1, 1], [3, 2, 2, 1, 1, 1], [2, 2, 2, 2, 1, 1]]\n",
    "}\n",
    "\n",
    "ensemble_estimators = [(\"SVR\", SVR_model_ensemble), (\"Ridge\", ridge_model_ensemble), (\"Elastic\", elastic_model_ensemble), \n",
    "                       (\"Lasso\", lasso_model_ensemble), (\"LGBM\", LGBM_model_ensemble), (\"Random Forest\", random_forest_ensemble)]\n",
    "\n",
    "ensemble_model_search = VotingRegressor(estimators=ensemble_estimators)\n",
    "ensemble_search = GridSearchCV(estimator=ensemble_model_search, param_grid=ensemble_param)\n",
    "ensemble_search.fit(X_train, y_train)\n",
    "ensemble_search.best_params_"
   ]
  },
  {
   "cell_type": "code",
   "execution_count": 39,
   "id": "8cf5ad09-db5c-4a80-a823-22662e2881d8",
   "metadata": {},
   "outputs": [
    {
     "data": {
      "text/plain": [
       "{'MAPE': 9.234037088878917, 'R2 score': 0.9142215524924373}"
      ]
     },
     "execution_count": 39,
     "metadata": {},
     "output_type": "execute_result"
    }
   ],
   "source": [
    "ensemble_model = VotingRegressor(estimators=ensemble_estimators, weights=[5, 1, 1, 1, 1, 1])\n",
    "ensemble_model.fit(X_train, y_train)\n",
    "ensemble_result = get_result(ensemble_model, X_test=X_test)\n",
    "ensemble_result"
   ]
  },
  {
   "cell_type": "code",
   "execution_count": 40,
   "id": "8088fed2-fd80-4956-8ef0-9a8761374e84",
   "metadata": {},
   "outputs": [
    {
     "data": {
      "text/html": [
       "<div>\n",
       "<style scoped>\n",
       "    .dataframe tbody tr th:only-of-type {\n",
       "        vertical-align: middle;\n",
       "    }\n",
       "\n",
       "    .dataframe tbody tr th {\n",
       "        vertical-align: top;\n",
       "    }\n",
       "\n",
       "    .dataframe thead th {\n",
       "        text-align: right;\n",
       "    }\n",
       "</style>\n",
       "<table border=\"1\" class=\"dataframe\">\n",
       "  <thead>\n",
       "    <tr style=\"text-align: right;\">\n",
       "      <th></th>\n",
       "      <th>MAPE</th>\n",
       "      <th>R2 score</th>\n",
       "    </tr>\n",
       "  </thead>\n",
       "  <tbody>\n",
       "    <tr>\n",
       "      <th>SVR</th>\n",
       "      <td>9.0922</td>\n",
       "      <td>0.9180</td>\n",
       "    </tr>\n",
       "    <tr>\n",
       "      <th>Top 3</th>\n",
       "      <td>9.1579</td>\n",
       "      <td>0.9175</td>\n",
       "    </tr>\n",
       "    <tr>\n",
       "      <th>Top 4</th>\n",
       "      <td>9.2035</td>\n",
       "      <td>0.9170</td>\n",
       "    </tr>\n",
       "    <tr>\n",
       "      <th>Top 5</th>\n",
       "      <td>9.2336</td>\n",
       "      <td>0.9160</td>\n",
       "    </tr>\n",
       "    <tr>\n",
       "      <th>All 6 model</th>\n",
       "      <td>9.2340</td>\n",
       "      <td>0.9142</td>\n",
       "    </tr>\n",
       "    <tr>\n",
       "      <th>Ridge</th>\n",
       "      <td>9.6885</td>\n",
       "      <td>0.9108</td>\n",
       "    </tr>\n",
       "    <tr>\n",
       "      <th>ElasticNet</th>\n",
       "      <td>9.7661</td>\n",
       "      <td>0.9087</td>\n",
       "    </tr>\n",
       "    <tr>\n",
       "      <th>Lasso</th>\n",
       "      <td>9.8003</td>\n",
       "      <td>0.9083</td>\n",
       "    </tr>\n",
       "    <tr>\n",
       "      <th>LGBM</th>\n",
       "      <td>10.1644</td>\n",
       "      <td>0.8869</td>\n",
       "    </tr>\n",
       "    <tr>\n",
       "      <th>Random forest</th>\n",
       "      <td>10.7479</td>\n",
       "      <td>0.8644</td>\n",
       "    </tr>\n",
       "  </tbody>\n",
       "</table>\n",
       "</div>"
      ],
      "text/plain": [
       "                 MAPE  R2 score\n",
       "SVR            9.0922    0.9180\n",
       "Top 3          9.1579    0.9175\n",
       "Top 4          9.2035    0.9170\n",
       "Top 5          9.2336    0.9160\n",
       "All 6 model    9.2340    0.9142\n",
       "Ridge          9.6885    0.9108\n",
       "ElasticNet     9.7661    0.9087\n",
       "Lasso          9.8003    0.9083\n",
       "LGBM          10.1644    0.8869\n",
       "Random forest 10.7479    0.8644"
      ]
     },
     "execution_count": 40,
     "metadata": {},
     "output_type": "execute_result"
    }
   ],
   "source": [
    "all_results_1 = pd.DataFrame({\n",
    "    \"Lasso\": lasso_result_1,\n",
    "    \"Ridge\": ridge_result_1,\n",
    "    \"ElasticNet\": elastic_result_1,\n",
    "    \"Random forest\": random_forest_result_1,\n",
    "    \"SVR\": SVR_result_1,\n",
    "    \"LGBM\": LGBM_result_1,\n",
    "    \"Top 3\": top_3_result,\n",
    "    \"Top 4\": top_4_result,\n",
    "    \"Top 5\": top_5_result,\n",
    "    \"All 6 model\": ensemble_result\n",
    "})\n",
    "\n",
    "all_results_1.transpose().sort_values(by=\"MAPE\", ascending=True)"
   ]
  },
  {
   "cell_type": "markdown",
   "id": "f25ac9ad-8d66-4b0e-928f-6549a5d49147",
   "metadata": {},
   "source": [
    "Hãy lấy ra các dự đoán sai nhất để quan sát"
   ]
  },
  {
   "cell_type": "code",
   "execution_count": 41,
   "id": "b4d55daa-f1b1-41a8-bf38-b232bf310aa0",
   "metadata": {},
   "outputs": [
    {
     "data": {
      "text/html": [
       "<div>\n",
       "<style scoped>\n",
       "    .dataframe tbody tr th:only-of-type {\n",
       "        vertical-align: middle;\n",
       "    }\n",
       "\n",
       "    .dataframe tbody tr th {\n",
       "        vertical-align: top;\n",
       "    }\n",
       "\n",
       "    .dataframe thead th {\n",
       "        text-align: right;\n",
       "    }\n",
       "</style>\n",
       "<table border=\"1\" class=\"dataframe\">\n",
       "  <thead>\n",
       "    <tr style=\"text-align: right;\">\n",
       "      <th></th>\n",
       "      <th>OverallQual</th>\n",
       "      <th>GrLivArea</th>\n",
       "      <th>GarageCars</th>\n",
       "      <th>Neighborhood</th>\n",
       "      <th>ExterQual</th>\n",
       "      <th>BsmtQual</th>\n",
       "      <th>KitchenQual</th>\n",
       "      <th>Price</th>\n",
       "      <th>Predict</th>\n",
       "      <th>Difference</th>\n",
       "    </tr>\n",
       "  </thead>\n",
       "  <tbody>\n",
       "    <tr>\n",
       "      <th>240</th>\n",
       "      <td>5.0000</td>\n",
       "      <td>1,456.0000</td>\n",
       "      <td>1.0000</td>\n",
       "      <td>Edwards</td>\n",
       "      <td>3.0000</td>\n",
       "      <td>2.0000</td>\n",
       "      <td>3.0000</td>\n",
       "      <td>91,500.0000</td>\n",
       "      <td>118,540.5226</td>\n",
       "      <td>29.5525</td>\n",
       "    </tr>\n",
       "    <tr>\n",
       "      <th>263</th>\n",
       "      <td>6.0000</td>\n",
       "      <td>918.0000</td>\n",
       "      <td>1.0000</td>\n",
       "      <td>SawyerW</td>\n",
       "      <td>3.0000</td>\n",
       "      <td>4.0000</td>\n",
       "      <td>3.0000</td>\n",
       "      <td>99,500.0000</td>\n",
       "      <td>130,124.4871</td>\n",
       "      <td>30.7784</td>\n",
       "    </tr>\n",
       "    <tr>\n",
       "      <th>39</th>\n",
       "      <td>6.0000</td>\n",
       "      <td>784.0000</td>\n",
       "      <td>2.0000</td>\n",
       "      <td>SawyerW</td>\n",
       "      <td>3.0000</td>\n",
       "      <td>2.0000</td>\n",
       "      <td>3.0000</td>\n",
       "      <td>76,000.0000</td>\n",
       "      <td>103,727.2719</td>\n",
       "      <td>36.4833</td>\n",
       "    </tr>\n",
       "    <tr>\n",
       "      <th>205</th>\n",
       "      <td>4.0000</td>\n",
       "      <td>796.0000</td>\n",
       "      <td>0.0000</td>\n",
       "      <td>IDOTRR</td>\n",
       "      <td>3.0000</td>\n",
       "      <td>3.0000</td>\n",
       "      <td>3.0000</td>\n",
       "      <td>55,000.0000</td>\n",
       "      <td>75,067.7151</td>\n",
       "      <td>36.4868</td>\n",
       "    </tr>\n",
       "    <tr>\n",
       "      <th>220</th>\n",
       "      <td>5.0000</td>\n",
       "      <td>1,235.0000</td>\n",
       "      <td>2.0000</td>\n",
       "      <td>NAmes</td>\n",
       "      <td>3.0000</td>\n",
       "      <td>3.0000</td>\n",
       "      <td>3.0000</td>\n",
       "      <td>98,600.0000</td>\n",
       "      <td>141,767.8244</td>\n",
       "      <td>43.7808</td>\n",
       "    </tr>\n",
       "    <tr>\n",
       "      <th>18</th>\n",
       "      <td>5.0000</td>\n",
       "      <td>1,006.0000</td>\n",
       "      <td>0.0000</td>\n",
       "      <td>Sawyer</td>\n",
       "      <td>3.0000</td>\n",
       "      <td>3.0000</td>\n",
       "      <td>3.0000</td>\n",
       "      <td>80,000.0000</td>\n",
       "      <td>115,282.6857</td>\n",
       "      <td>44.1034</td>\n",
       "    </tr>\n",
       "    <tr>\n",
       "      <th>15</th>\n",
       "      <td>3.0000</td>\n",
       "      <td>894.0000</td>\n",
       "      <td>3.0000</td>\n",
       "      <td>IDOTRR</td>\n",
       "      <td>2.0000</td>\n",
       "      <td>3.0000</td>\n",
       "      <td>3.0000</td>\n",
       "      <td>81,000.0000</td>\n",
       "      <td>116,762.0426</td>\n",
       "      <td>44.1507</td>\n",
       "    </tr>\n",
       "    <tr>\n",
       "      <th>54</th>\n",
       "      <td>6.0000</td>\n",
       "      <td>1,392.0000</td>\n",
       "      <td>2.0000</td>\n",
       "      <td>NAmes</td>\n",
       "      <td>3.0000</td>\n",
       "      <td>2.0000</td>\n",
       "      <td>3.0000</td>\n",
       "      <td>110,000.0000</td>\n",
       "      <td>171,908.0059</td>\n",
       "      <td>56.2800</td>\n",
       "    </tr>\n",
       "    <tr>\n",
       "      <th>156</th>\n",
       "      <td>5.0000</td>\n",
       "      <td>1,140.0000</td>\n",
       "      <td>0.0000</td>\n",
       "      <td>Mitchel</td>\n",
       "      <td>3.0000</td>\n",
       "      <td>4.0000</td>\n",
       "      <td>3.0000</td>\n",
       "      <td>84,500.0000</td>\n",
       "      <td>146,290.2540</td>\n",
       "      <td>73.1246</td>\n",
       "    </tr>\n",
       "    <tr>\n",
       "      <th>158</th>\n",
       "      <td>8.0000</td>\n",
       "      <td>1,795.0000</td>\n",
       "      <td>3.0000</td>\n",
       "      <td>Somerst</td>\n",
       "      <td>4.0000</td>\n",
       "      <td>5.0000</td>\n",
       "      <td>4.0000</td>\n",
       "      <td>147,000.0000</td>\n",
       "      <td>288,004.1899</td>\n",
       "      <td>95.9212</td>\n",
       "    </tr>\n",
       "  </tbody>\n",
       "</table>\n",
       "</div>"
      ],
      "text/plain": [
       "     OverallQual  GrLivArea  GarageCars Neighborhood  ExterQual  BsmtQual  \\\n",
       "240       5.0000 1,456.0000      1.0000      Edwards     3.0000    2.0000   \n",
       "263       6.0000   918.0000      1.0000      SawyerW     3.0000    4.0000   \n",
       "39        6.0000   784.0000      2.0000      SawyerW     3.0000    2.0000   \n",
       "205       4.0000   796.0000      0.0000       IDOTRR     3.0000    3.0000   \n",
       "220       5.0000 1,235.0000      2.0000        NAmes     3.0000    3.0000   \n",
       "18        5.0000 1,006.0000      0.0000       Sawyer     3.0000    3.0000   \n",
       "15        3.0000   894.0000      3.0000       IDOTRR     2.0000    3.0000   \n",
       "54        6.0000 1,392.0000      2.0000        NAmes     3.0000    2.0000   \n",
       "156       5.0000 1,140.0000      0.0000      Mitchel     3.0000    4.0000   \n",
       "158       8.0000 1,795.0000      3.0000      Somerst     4.0000    5.0000   \n",
       "\n",
       "     KitchenQual        Price      Predict  Difference  \n",
       "240       3.0000  91,500.0000 118,540.5226     29.5525  \n",
       "263       3.0000  99,500.0000 130,124.4871     30.7784  \n",
       "39        3.0000  76,000.0000 103,727.2719     36.4833  \n",
       "205       3.0000  55,000.0000  75,067.7151     36.4868  \n",
       "220       3.0000  98,600.0000 141,767.8244     43.7808  \n",
       "18        3.0000  80,000.0000 115,282.6857     44.1034  \n",
       "15        3.0000  81,000.0000 116,762.0426     44.1507  \n",
       "54        3.0000 110,000.0000 171,908.0059     56.2800  \n",
       "156       3.0000  84,500.0000 146,290.2540     73.1246  \n",
       "158       4.0000 147,000.0000 288,004.1899     95.9212  "
      ]
     },
     "execution_count": 41,
     "metadata": {},
     "output_type": "execute_result"
    }
   ],
   "source": [
    "columns = X_test.columns.to_list()\n",
    "dummy_columns = [x for x in columns if x not in numerical_columns]\n",
    "\n",
    "check_error_1 = pd.from_dummies(data=X_test[dummy_columns], sep=\"_\")\n",
    "check_error_1.reset_index(drop=True, inplace=True)\n",
    "\n",
    "check_error_2 = X_test[numerical_columns].reset_index(drop=True)\n",
    "\n",
    "check_error = pd.concat(objs=[check_error_2, check_error_1], axis=1)\n",
    "check_error[numerical_columns] = scaler.inverse_transform(check_error[numerical_columns])\n",
    "\n",
    "for f in skewed_features:\n",
    "    if f == \"SalePrice\":\n",
    "        continue\n",
    "    check_error[f] = np.expm1(check_error[f])\n",
    "    \n",
    "check_error[\"Price\"] = y_test.reset_index(drop=True)\n",
    "check_error[\"Predict\"] = SVR_model.predict(X=X_test)\n",
    "\n",
    "check_error[\"Price\"] = np.expm1(check_error[\"Price\"])\n",
    "check_error[\"Predict\"] = np.expm1(check_error[\"Predict\"])\n",
    "\n",
    "check_error[\"Difference\"] = (check_error[\"Predict\"] - check_error[\"Price\"]) / check_error[\"Price\"] * 100\n",
    "check_error[\"Difference\"] = check_error[\"Difference\"].abs()\n",
    "\n",
    "check_error.sort_values(by=\"Difference\", inplace=True)\n",
    "show_columns = [\"OverallQual\", \"GrLivArea\", \"GarageCars\", \"Neighborhood\", \"ExterQual\", \"BsmtQual\", \"KitchenQual\", \"Price\", \"Predict\", \"Difference\"]\n",
    "check_error[show_columns].tail(10)"
   ]
  },
  {
   "cell_type": "markdown",
   "id": "88e82ea7-fadf-417a-a02f-8cf57b1f2975",
   "metadata": {},
   "source": [
    "Dự đoán sai nhất của mô hình có vẻ là một điểm dữ liệu không chính xác. Tất cả các đặc trưng đều cho thấy đây là ngôi nhà tốt nhưng giá lại thấp hơn gần một nửa so với dự đoán.\n",
    "\n",
    "Thử nhóm dữ liệu theo 2 trường có ảnh hưởng lớn nhất là \"OverallQual\" và \"Neighborhood\""
   ]
  },
  {
   "cell_type": "code",
   "execution_count": 42,
   "id": "f0ce5400-53de-4b27-8d8f-7d87a8b892c9",
   "metadata": {},
   "outputs": [
    {
     "data": {
      "text/html": [
       "<div>\n",
       "<style scoped>\n",
       "    .dataframe tbody tr th:only-of-type {\n",
       "        vertical-align: middle;\n",
       "    }\n",
       "\n",
       "    .dataframe tbody tr th {\n",
       "        vertical-align: top;\n",
       "    }\n",
       "\n",
       "    .dataframe thead th {\n",
       "        text-align: right;\n",
       "    }\n",
       "</style>\n",
       "<table border=\"1\" class=\"dataframe\">\n",
       "  <thead>\n",
       "    <tr style=\"text-align: right;\">\n",
       "      <th></th>\n",
       "      <th>OverallQual</th>\n",
       "      <th>Neighborhood</th>\n",
       "      <th>Price</th>\n",
       "      <th>Predict</th>\n",
       "      <th>Difference</th>\n",
       "    </tr>\n",
       "  </thead>\n",
       "  <tbody>\n",
       "    <tr>\n",
       "      <th>0</th>\n",
       "      <td>2.0000</td>\n",
       "      <td>BrkSide</td>\n",
       "      <td>60,000.0000</td>\n",
       "      <td>69,488.0008</td>\n",
       "      <td>15.8133</td>\n",
       "    </tr>\n",
       "    <tr>\n",
       "      <th>60</th>\n",
       "      <td>7.0000</td>\n",
       "      <td>StoneBr</td>\n",
       "      <td>239,000.0000</td>\n",
       "      <td>201,083.1113</td>\n",
       "      <td>15.8648</td>\n",
       "    </tr>\n",
       "    <tr>\n",
       "      <th>43</th>\n",
       "      <td>6.0000</td>\n",
       "      <td>SawyerW</td>\n",
       "      <td>125,680.0000</td>\n",
       "      <td>140,535.4653</td>\n",
       "      <td>17.6968</td>\n",
       "    </tr>\n",
       "    <tr>\n",
       "      <th>74</th>\n",
       "      <td>9.0000</td>\n",
       "      <td>Somerst</td>\n",
       "      <td>370,878.0000</td>\n",
       "      <td>304,471.6219</td>\n",
       "      <td>17.9052</td>\n",
       "    </tr>\n",
       "    <tr>\n",
       "      <th>21</th>\n",
       "      <td>5.0000</td>\n",
       "      <td>Mitchel</td>\n",
       "      <td>132,650.0000</td>\n",
       "      <td>146,243.0574</td>\n",
       "      <td>18.5910</td>\n",
       "    </tr>\n",
       "    <tr>\n",
       "      <th>65</th>\n",
       "      <td>8.0000</td>\n",
       "      <td>NAmes</td>\n",
       "      <td>235,000.0000</td>\n",
       "      <td>278,880.3789</td>\n",
       "      <td>18.6725</td>\n",
       "    </tr>\n",
       "    <tr>\n",
       "      <th>30</th>\n",
       "      <td>6.0000</td>\n",
       "      <td>BrkSide</td>\n",
       "      <td>210,000.0000</td>\n",
       "      <td>162,568.1122</td>\n",
       "      <td>22.5866</td>\n",
       "    </tr>\n",
       "    <tr>\n",
       "      <th>64</th>\n",
       "      <td>8.0000</td>\n",
       "      <td>Gilbert</td>\n",
       "      <td>164,000.0000</td>\n",
       "      <td>209,283.6735</td>\n",
       "      <td>27.6120</td>\n",
       "    </tr>\n",
       "    <tr>\n",
       "      <th>6</th>\n",
       "      <td>4.0000</td>\n",
       "      <td>IDOTRR</td>\n",
       "      <td>55,000.0000</td>\n",
       "      <td>75,067.7151</td>\n",
       "      <td>36.4868</td>\n",
       "    </tr>\n",
       "    <tr>\n",
       "      <th>2</th>\n",
       "      <td>3.0000</td>\n",
       "      <td>IDOTRR</td>\n",
       "      <td>81,000.0000</td>\n",
       "      <td>116,762.0426</td>\n",
       "      <td>44.1507</td>\n",
       "    </tr>\n",
       "  </tbody>\n",
       "</table>\n",
       "</div>"
      ],
      "text/plain": [
       "    OverallQual Neighborhood        Price      Predict  Difference\n",
       "0        2.0000      BrkSide  60,000.0000  69,488.0008     15.8133\n",
       "60       7.0000      StoneBr 239,000.0000 201,083.1113     15.8648\n",
       "43       6.0000      SawyerW 125,680.0000 140,535.4653     17.6968\n",
       "74       9.0000      Somerst 370,878.0000 304,471.6219     17.9052\n",
       "21       5.0000      Mitchel 132,650.0000 146,243.0574     18.5910\n",
       "65       8.0000        NAmes 235,000.0000 278,880.3789     18.6725\n",
       "30       6.0000      BrkSide 210,000.0000 162,568.1122     22.5866\n",
       "64       8.0000      Gilbert 164,000.0000 209,283.6735     27.6120\n",
       "6        4.0000       IDOTRR  55,000.0000  75,067.7151     36.4868\n",
       "2        3.0000       IDOTRR  81,000.0000 116,762.0426     44.1507"
      ]
     },
     "execution_count": 42,
     "metadata": {},
     "output_type": "execute_result"
    }
   ],
   "source": [
    "check_mean_columns = [\"OverallQual\", \"Neighborhood\", \"Price\", \"Predict\", \"Difference\"]\n",
    "check_mean = check_error[check_mean_columns].groupby(by=[\"OverallQual\", \"Neighborhood\"], as_index=False).mean()\n",
    "\n",
    "check_mean.sort_values(by=\"Difference\", inplace=True)\n",
    "check_mean.tail(10)"
   ]
  },
  {
   "cell_type": "markdown",
   "id": "8b6fa589-573a-4b38-af73-091df2bc40d8",
   "metadata": {},
   "source": [
    "Dự đoán sai lệch thế nào với các nhóm \"OverallQual\""
   ]
  },
  {
   "cell_type": "code",
   "execution_count": 43,
   "id": "610d60b4-e602-448c-8112-01e8755f997e",
   "metadata": {},
   "outputs": [
    {
     "data": {
      "text/html": [
       "<div>\n",
       "<style scoped>\n",
       "    .dataframe tbody tr th:only-of-type {\n",
       "        vertical-align: middle;\n",
       "    }\n",
       "\n",
       "    .dataframe tbody tr th {\n",
       "        vertical-align: top;\n",
       "    }\n",
       "\n",
       "    .dataframe thead th {\n",
       "        text-align: right;\n",
       "    }\n",
       "</style>\n",
       "<table border=\"1\" class=\"dataframe\">\n",
       "  <thead>\n",
       "    <tr style=\"text-align: right;\">\n",
       "      <th></th>\n",
       "      <th>OverallQual</th>\n",
       "      <th>Price</th>\n",
       "      <th>Predict</th>\n",
       "      <th>Difference</th>\n",
       "    </tr>\n",
       "  </thead>\n",
       "  <tbody>\n",
       "    <tr>\n",
       "      <th>0</th>\n",
       "      <td>2.0000</td>\n",
       "      <td>60,000.0000</td>\n",
       "      <td>65,454.6283</td>\n",
       "      <td>9.0910</td>\n",
       "    </tr>\n",
       "    <tr>\n",
       "      <th>1</th>\n",
       "      <td>3.0000</td>\n",
       "      <td>88,000.0000</td>\n",
       "      <td>104,200.4160</td>\n",
       "      <td>23.8444</td>\n",
       "    </tr>\n",
       "    <tr>\n",
       "      <th>2</th>\n",
       "      <td>4.0000</td>\n",
       "      <td>109,885.0000</td>\n",
       "      <td>105,170.7542</td>\n",
       "      <td>11.4051</td>\n",
       "    </tr>\n",
       "    <tr>\n",
       "      <th>3</th>\n",
       "      <td>5.0000</td>\n",
       "      <td>134,381.8000</td>\n",
       "      <td>134,270.9371</td>\n",
       "      <td>9.2288</td>\n",
       "    </tr>\n",
       "    <tr>\n",
       "      <th>4</th>\n",
       "      <td>6.0000</td>\n",
       "      <td>161,409.4493</td>\n",
       "      <td>160,775.6866</td>\n",
       "      <td>9.6888</td>\n",
       "    </tr>\n",
       "    <tr>\n",
       "      <th>5</th>\n",
       "      <td>7.0000</td>\n",
       "      <td>197,990.7049</td>\n",
       "      <td>196,715.3229</td>\n",
       "      <td>6.6586</td>\n",
       "    </tr>\n",
       "    <tr>\n",
       "      <th>6</th>\n",
       "      <td>8.0000</td>\n",
       "      <td>266,853.6667</td>\n",
       "      <td>271,732.7662</td>\n",
       "      <td>10.0797</td>\n",
       "    </tr>\n",
       "    <tr>\n",
       "      <th>7</th>\n",
       "      <td>9.0000</td>\n",
       "      <td>363,897.6000</td>\n",
       "      <td>355,265.2614</td>\n",
       "      <td>7.4476</td>\n",
       "    </tr>\n",
       "    <tr>\n",
       "      <th>8</th>\n",
       "      <td>10.0000</td>\n",
       "      <td>458,475.0000</td>\n",
       "      <td>421,585.1313</td>\n",
       "      <td>8.0111</td>\n",
       "    </tr>\n",
       "  </tbody>\n",
       "</table>\n",
       "</div>"
      ],
      "text/plain": [
       "   OverallQual        Price      Predict  Difference\n",
       "0       2.0000  60,000.0000  65,454.6283      9.0910\n",
       "1       3.0000  88,000.0000 104,200.4160     23.8444\n",
       "2       4.0000 109,885.0000 105,170.7542     11.4051\n",
       "3       5.0000 134,381.8000 134,270.9371      9.2288\n",
       "4       6.0000 161,409.4493 160,775.6866      9.6888\n",
       "5       7.0000 197,990.7049 196,715.3229      6.6586\n",
       "6       8.0000 266,853.6667 271,732.7662     10.0797\n",
       "7       9.0000 363,897.6000 355,265.2614      7.4476\n",
       "8      10.0000 458,475.0000 421,585.1313      8.0111"
      ]
     },
     "execution_count": 43,
     "metadata": {},
     "output_type": "execute_result"
    }
   ],
   "source": [
    "check_error[[\"OverallQual\", \"Price\", \"Predict\", \"Difference\"]].groupby(by=[\"OverallQual\"], as_index=False).mean()"
   ]
  },
  {
   "cell_type": "markdown",
   "id": "f95c2d14-81df-45e2-b056-040aa2b062b4",
   "metadata": {},
   "source": [
    "Các ngôi nhà chất lượng thấp có dự đoán sai nhiều hơn"
   ]
  },
  {
   "cell_type": "code",
   "execution_count": 44,
   "id": "c4681c83-e95e-486c-bc25-f3b4ec5e3a05",
   "metadata": {},
   "outputs": [
    {
     "data": {
      "image/png": "[encoded data removed]",
      "text/plain": [
       "<Figure size 640x480 with 1 Axes>"
      ]
     },
     "metadata": {},
     "output_type": "display_data"
    }
   ],
   "source": [
    "sns.histplot(data[\"OverallQual\"])\n",
    "plt.show()"
   ]
  },
  {
   "cell_type": "markdown",
   "id": "e4835aa6-48bc-4076-acf0-adada7eae0b9",
   "metadata": {},
   "source": [
    "Ta sẽ cần thu thập thêm dữ liệu cho các ngôi nhà có chất lượng thấp < 4 và cao > 8\n",
    "\n",
    "Xem xét nhóm có dự đoán sai nhất \"OverallQual\" = 3 & \"Neighborhood\" = \"IDOTRR\""
   ]
  },
  {
   "cell_type": "code",
   "execution_count": 45,
   "id": "e40e7bd5-f3ce-40cb-a0c4-f3e9fd77469c",
   "metadata": {},
   "outputs": [
    {
     "data": {
      "text/html": [
       "<div>\n",
       "<style scoped>\n",
       "    .dataframe tbody tr th:only-of-type {\n",
       "        vertical-align: middle;\n",
       "    }\n",
       "\n",
       "    .dataframe tbody tr th {\n",
       "        vertical-align: top;\n",
       "    }\n",
       "\n",
       "    .dataframe thead th {\n",
       "        text-align: right;\n",
       "    }\n",
       "</style>\n",
       "<table border=\"1\" class=\"dataframe\">\n",
       "  <thead>\n",
       "    <tr style=\"text-align: right;\">\n",
       "      <th></th>\n",
       "      <th>OverallQual</th>\n",
       "      <th>GrLivArea</th>\n",
       "      <th>GarageCars</th>\n",
       "      <th>Neighborhood</th>\n",
       "      <th>ExterQual</th>\n",
       "      <th>BsmtQual</th>\n",
       "      <th>KitchenQual</th>\n",
       "      <th>SalePrice</th>\n",
       "    </tr>\n",
       "  </thead>\n",
       "  <tbody>\n",
       "    <tr>\n",
       "      <th>88</th>\n",
       "      <td>3</td>\n",
       "      <td>1,526.0000</td>\n",
       "      <td>0</td>\n",
       "      <td>IDOTRR</td>\n",
       "      <td>2.0000</td>\n",
       "      <td>3</td>\n",
       "      <td>2</td>\n",
       "      <td>85,000.0000</td>\n",
       "    </tr>\n",
       "    <tr>\n",
       "      <th>998</th>\n",
       "      <td>3</td>\n",
       "      <td>1,077.0000</td>\n",
       "      <td>1</td>\n",
       "      <td>IDOTRR</td>\n",
       "      <td>3.0000</td>\n",
       "      <td>3</td>\n",
       "      <td>3</td>\n",
       "      <td>91,000.0000</td>\n",
       "    </tr>\n",
       "    <tr>\n",
       "      <th>1061</th>\n",
       "      <td>3</td>\n",
       "      <td>894.0000</td>\n",
       "      <td>3</td>\n",
       "      <td>IDOTRR</td>\n",
       "      <td>2.0000</td>\n",
       "      <td>3</td>\n",
       "      <td>3</td>\n",
       "      <td>81,000.0000</td>\n",
       "    </tr>\n",
       "  </tbody>\n",
       "</table>\n",
       "</div>"
      ],
      "text/plain": [
       "      OverallQual  GrLivArea  GarageCars Neighborhood  ExterQual  BsmtQual  \\\n",
       "88              3 1,526.0000           0       IDOTRR     2.0000         3   \n",
       "998             3 1,077.0000           1       IDOTRR     3.0000         3   \n",
       "1061            3   894.0000           3       IDOTRR     2.0000         3   \n",
       "\n",
       "      KitchenQual   SalePrice  \n",
       "88              2 85,000.0000  \n",
       "998             3 91,000.0000  \n",
       "1061            3 81,000.0000  "
      ]
     },
     "execution_count": 45,
     "metadata": {},
     "output_type": "execute_result"
    }
   ],
   "source": [
    "check_price = data[[\"OverallQual\", \"GrLivArea\", \"GarageCars\", \"Neighborhood\", \"ExterQual\", \"BsmtQual\", \"KitchenQual\", \"SalePrice\"]].copy()\n",
    "\n",
    "for f in skewed_features:\n",
    "    if f in check_price.columns:\n",
    "        check_price[f] = np.expm1(check_price[f])\n",
    "\n",
    "check_price[(check_price[\"OverallQual\"] == 3) & (check_price[\"Neighborhood\"] == \"IDOTRR\")]"
   ]
  },
  {
   "cell_type": "markdown",
   "id": "01d4ce9b-7e44-4720-95c5-4e7184ad74f2",
   "metadata": {},
   "source": [
    "Chỉ có 3 điểm dữ liệu, điều này khiến mô hình dự đoán chưa chính xác\n",
    "\n",
    "Kiểm tra nhóm mà dự đoán sai nhất nằm trong đó"
   ]
  },
  {
   "cell_type": "code",
   "execution_count": 46,
   "id": "241f7125-cc62-4c55-8bb7-b5a05671d235",
   "metadata": {},
   "outputs": [
    {
     "data": {
      "text/html": [
       "<div>\n",
       "<style scoped>\n",
       "    .dataframe tbody tr th:only-of-type {\n",
       "        vertical-align: middle;\n",
       "    }\n",
       "\n",
       "    .dataframe tbody tr th {\n",
       "        vertical-align: top;\n",
       "    }\n",
       "\n",
       "    .dataframe thead th {\n",
       "        text-align: right;\n",
       "    }\n",
       "</style>\n",
       "<table border=\"1\" class=\"dataframe\">\n",
       "  <thead>\n",
       "    <tr style=\"text-align: right;\">\n",
       "      <th></th>\n",
       "      <th>OverallQual</th>\n",
       "      <th>GrLivArea</th>\n",
       "      <th>GarageCars</th>\n",
       "      <th>Neighborhood</th>\n",
       "      <th>ExterQual</th>\n",
       "      <th>BsmtQual</th>\n",
       "      <th>KitchenQual</th>\n",
       "      <th>Price</th>\n",
       "      <th>Predict</th>\n",
       "      <th>Difference</th>\n",
       "    </tr>\n",
       "  </thead>\n",
       "  <tbody>\n",
       "    <tr>\n",
       "      <th>158</th>\n",
       "      <td>8.0000</td>\n",
       "      <td>1,795.0000</td>\n",
       "      <td>3.0000</td>\n",
       "      <td>Somerst</td>\n",
       "      <td>4.0000</td>\n",
       "      <td>5.0000</td>\n",
       "      <td>4.0000</td>\n",
       "      <td>147,000.0000</td>\n",
       "      <td>288,004.1899</td>\n",
       "      <td>95.9212</td>\n",
       "    </tr>\n",
       "  </tbody>\n",
       "</table>\n",
       "</div>"
      ],
      "text/plain": [
       "     OverallQual  GrLivArea  GarageCars Neighborhood  ExterQual  BsmtQual  \\\n",
       "158       8.0000 1,795.0000      3.0000      Somerst     4.0000    5.0000   \n",
       "\n",
       "     KitchenQual        Price      Predict  Difference  \n",
       "158       4.0000 147,000.0000 288,004.1899     95.9212  "
      ]
     },
     "execution_count": 46,
     "metadata": {},
     "output_type": "execute_result"
    }
   ],
   "source": [
    "check_error[show_columns].tail(1)"
   ]
  },
  {
   "cell_type": "code",
   "execution_count": 47,
   "id": "c7d31820-96d9-4ec3-9b72-ed6331fb4109",
   "metadata": {},
   "outputs": [
    {
     "data": {
      "text/html": [
       "<div>\n",
       "<style scoped>\n",
       "    .dataframe tbody tr th:only-of-type {\n",
       "        vertical-align: middle;\n",
       "    }\n",
       "\n",
       "    .dataframe tbody tr th {\n",
       "        vertical-align: top;\n",
       "    }\n",
       "\n",
       "    .dataframe thead th {\n",
       "        text-align: right;\n",
       "    }\n",
       "</style>\n",
       "<table border=\"1\" class=\"dataframe\">\n",
       "  <thead>\n",
       "    <tr style=\"text-align: right;\">\n",
       "      <th></th>\n",
       "      <th>OverallQual</th>\n",
       "      <th>GrLivArea</th>\n",
       "      <th>GarageCars</th>\n",
       "      <th>ExterQual</th>\n",
       "      <th>BsmtQual</th>\n",
       "      <th>KitchenQual</th>\n",
       "      <th>SalePrice</th>\n",
       "    </tr>\n",
       "  </thead>\n",
       "  <tbody>\n",
       "    <tr>\n",
       "      <th>count</th>\n",
       "      <td>29.0000</td>\n",
       "      <td>29.0000</td>\n",
       "      <td>29.0000</td>\n",
       "      <td>29.0000</td>\n",
       "      <td>29.0000</td>\n",
       "      <td>29.0000</td>\n",
       "      <td>29.0000</td>\n",
       "    </tr>\n",
       "    <tr>\n",
       "      <th>mean</th>\n",
       "      <td>8.0000</td>\n",
       "      <td>1,729.8966</td>\n",
       "      <td>2.5172</td>\n",
       "      <td>3.9655</td>\n",
       "      <td>4.2069</td>\n",
       "      <td>4.1034</td>\n",
       "      <td>255,626.1379</td>\n",
       "    </tr>\n",
       "    <tr>\n",
       "      <th>std</th>\n",
       "      <td>0.0000</td>\n",
       "      <td>313.9503</td>\n",
       "      <td>0.5085</td>\n",
       "      <td>0.1857</td>\n",
       "      <td>0.4123</td>\n",
       "      <td>0.4093</td>\n",
       "      <td>55,302.6318</td>\n",
       "    </tr>\n",
       "    <tr>\n",
       "      <th>min</th>\n",
       "      <td>8.0000</td>\n",
       "      <td>1,247.0000</td>\n",
       "      <td>2.0000</td>\n",
       "      <td>3.0000</td>\n",
       "      <td>4.0000</td>\n",
       "      <td>3.0000</td>\n",
       "      <td>147,000.0000</td>\n",
       "    </tr>\n",
       "    <tr>\n",
       "      <th>25%</th>\n",
       "      <td>8.0000</td>\n",
       "      <td>1,563.0000</td>\n",
       "      <td>2.0000</td>\n",
       "      <td>4.0000</td>\n",
       "      <td>4.0000</td>\n",
       "      <td>4.0000</td>\n",
       "      <td>229,456.0000</td>\n",
       "    </tr>\n",
       "    <tr>\n",
       "      <th>50%</th>\n",
       "      <td>8.0000</td>\n",
       "      <td>1,636.0000</td>\n",
       "      <td>3.0000</td>\n",
       "      <td>4.0000</td>\n",
       "      <td>4.0000</td>\n",
       "      <td>4.0000</td>\n",
       "      <td>250,000.0000</td>\n",
       "    </tr>\n",
       "    <tr>\n",
       "      <th>75%</th>\n",
       "      <td>8.0000</td>\n",
       "      <td>1,939.0000</td>\n",
       "      <td>3.0000</td>\n",
       "      <td>4.0000</td>\n",
       "      <td>4.0000</td>\n",
       "      <td>4.0000</td>\n",
       "      <td>282,922.0000</td>\n",
       "    </tr>\n",
       "    <tr>\n",
       "      <th>max</th>\n",
       "      <td>8.0000</td>\n",
       "      <td>2,610.0000</td>\n",
       "      <td>3.0000</td>\n",
       "      <td>4.0000</td>\n",
       "      <td>5.0000</td>\n",
       "      <td>5.0000</td>\n",
       "      <td>423,000.0000</td>\n",
       "    </tr>\n",
       "  </tbody>\n",
       "</table>\n",
       "</div>"
      ],
      "text/plain": [
       "       OverallQual  GrLivArea  GarageCars  ExterQual  BsmtQual  KitchenQual  \\\n",
       "count      29.0000    29.0000     29.0000    29.0000   29.0000      29.0000   \n",
       "mean        8.0000 1,729.8966      2.5172     3.9655    4.2069       4.1034   \n",
       "std         0.0000   313.9503      0.5085     0.1857    0.4123       0.4093   \n",
       "min         8.0000 1,247.0000      2.0000     3.0000    4.0000       3.0000   \n",
       "25%         8.0000 1,563.0000      2.0000     4.0000    4.0000       4.0000   \n",
       "50%         8.0000 1,636.0000      3.0000     4.0000    4.0000       4.0000   \n",
       "75%         8.0000 1,939.0000      3.0000     4.0000    4.0000       4.0000   \n",
       "max         8.0000 2,610.0000      3.0000     4.0000    5.0000       5.0000   \n",
       "\n",
       "         SalePrice  \n",
       "count      29.0000  \n",
       "mean  255,626.1379  \n",
       "std    55,302.6318  \n",
       "min   147,000.0000  \n",
       "25%   229,456.0000  \n",
       "50%   250,000.0000  \n",
       "75%   282,922.0000  \n",
       "max   423,000.0000  "
      ]
     },
     "execution_count": 47,
     "metadata": {},
     "output_type": "execute_result"
    }
   ],
   "source": [
    "check_price[(check_price[\"OverallQual\"] == 8) & (check_price[\"Neighborhood\"] == \"Somerst\")].describe()"
   ]
  },
  {
   "cell_type": "markdown",
   "id": "e7160925-0171-4dbc-9910-c508f72d313c",
   "metadata": {},
   "source": [
    "Nhóm này có giá dao động khá lớn từ 147,000 tới 423,000. Nhưng các điểm dữ liệu khác được dự đoán không sai quá nhiều (trung bình dự đoán sao của nhóm là 13.32% so với điểm dữ liệu sai nhất là 96.04%), khả năng cao đây là điểm dữ liệu bất thường, sai sót."
   ]
  },
  {
   "cell_type": "code",
   "execution_count": 48,
   "id": "d4a07b11-bfb1-4892-84e4-64f29127ea95",
   "metadata": {},
   "outputs": [
    {
     "data": {
      "text/plain": [
       "[<matplotlib.lines.Line2D at 0x20475d8ea30>]"
      ]
     },
     "execution_count": 48,
     "metadata": {},
     "output_type": "execute_result"
    },
    {
     "data": {
      "image/png": "[encoded data removed]",
      "text/plain": [
       "<Figure size 640x480 with 1 Axes>"
      ]
     },
     "metadata": {},
     "output_type": "display_data"
    }
   ],
   "source": [
    "sns.scatterplot(x=np.expm1(y_test), y=np.expm1(SVR_model.predict(X=X_test)))\n",
    "plt.plot([0, 500000], [0, 500000], \"r\")"
   ]
  },
  {
   "cell_type": "markdown",
   "id": "36264aeb-b72b-4ab1-bac9-d46f7338768b",
   "metadata": {},
   "source": [
    "Một số dữ liệu giá nhà có giá dao động lớn, hoặc chỉ có 1 vài ngôi nhà có đặc trưng như thế khiến mô hình dự đoán không được tốt lắm. Tuy nhiên số này không nhiều và nhìn chung mô hình học kết hợp của chúng ta làm việc khá tốt trên hầu hết dữ liệu.\n",
    "\n",
    "Muốn cải thiện ta sẽ cần thu thập thêm dữ liệu về các ngôi nhà có chất lượng thấp dưới 4 và cao trên 8 để mô hình của chúng ta có thể học hết được các thông tin giá nhà."
   ]
  }
 ],
 "metadata": {
  "kernelspec": {
   "display_name": "Python 3 (ipykernel)",
   "language": "python",
   "name": "python3"
  },
  "language_info": {
   "codemirror_mode": {
    "name": "ipython",
    "version": 3
   },
   "file_extension": ".py",
   "mimetype": "text/x-python",
   "name": "python",
   "nbconvert_exporter": "python",
   "pygments_lexer": "ipython3",
   "version": "3.9.7"
  }
 },
 "nbformat": 4,
 "nbformat_minor": 5
}
