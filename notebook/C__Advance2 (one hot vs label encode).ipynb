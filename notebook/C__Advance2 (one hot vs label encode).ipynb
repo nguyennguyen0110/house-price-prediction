{
 "cells": [
  {
   "cell_type": "markdown",
   "id": "dc98679c-2ce0-49fc-bcd3-538a78cf3b9e",
   "metadata": {},
   "source": [
    "# 6. Advance"
   ]
  },
  {
   "cell_type": "markdown",
   "id": "d7f01a43-4e70-4c25-aacf-1d3264abcd3a",
   "metadata": {},
   "source": [
    "Load lại data."
   ]
  },
  {
   "cell_type": "code",
   "execution_count": 1,
   "id": "7bb337da-a643-451d-b063-b8a754a200e9",
   "metadata": {},
   "outputs": [],
   "source": [
    "import pandas as pd\n",
    "import matplotlib.pyplot as plt\n",
    "import seaborn as sns\n",
    "import numpy as np\n",
    "import tensorflow as tf\n",
    "import joblib\n",
    "\n",
    "from sklearn.linear_model import LinearRegression, ElasticNet, Lasso, Ridge\n",
    "from sklearn.ensemble import RandomForestRegressor, VotingRegressor\n",
    "from sklearn.svm import SVR\n",
    "from sklearn.metrics import r2_score, mean_absolute_percentage_error\n",
    "from sklearn.model_selection import train_test_split, GridSearchCV\n",
    "from sklearn.preprocessing import MinMaxScaler, RobustScaler\n",
    "from sklearn.pipeline import make_pipeline\n",
    "\n",
    "from lightgbm import LGBMRegressor\n",
    "from scipy.stats import skew\n",
    "\n",
    "pd.options.display.float_format = '{:,.4f}'.format"
   ]
  },
  {
   "cell_type": "code",
   "execution_count": 2,
   "id": "81ceeebf-11fa-4955-a28e-4bd77151d36e",
   "metadata": {},
   "outputs": [
    {
     "data": {
      "text/html": [
       "<div>\n",
       "<style scoped>\n",
       "    .dataframe tbody tr th:only-of-type {\n",
       "        vertical-align: middle;\n",
       "    }\n",
       "\n",
       "    .dataframe tbody tr th {\n",
       "        vertical-align: top;\n",
       "    }\n",
       "\n",
       "    .dataframe thead th {\n",
       "        text-align: right;\n",
       "    }\n",
       "</style>\n",
       "<table border=\"1\" class=\"dataframe\">\n",
       "  <thead>\n",
       "    <tr style=\"text-align: right;\">\n",
       "      <th></th>\n",
       "      <th>Id</th>\n",
       "      <th>MSSubClass</th>\n",
       "      <th>MSZoning</th>\n",
       "      <th>LotFrontage</th>\n",
       "      <th>LotArea</th>\n",
       "      <th>Street</th>\n",
       "      <th>Alley</th>\n",
       "      <th>LotShape</th>\n",
       "      <th>LandContour</th>\n",
       "      <th>Utilities</th>\n",
       "      <th>...</th>\n",
       "      <th>PoolArea</th>\n",
       "      <th>PoolQC</th>\n",
       "      <th>Fence</th>\n",
       "      <th>MiscFeature</th>\n",
       "      <th>MiscVal</th>\n",
       "      <th>MoSold</th>\n",
       "      <th>YrSold</th>\n",
       "      <th>SaleType</th>\n",
       "      <th>SaleCondition</th>\n",
       "      <th>SalePrice</th>\n",
       "    </tr>\n",
       "  </thead>\n",
       "  <tbody>\n",
       "    <tr>\n",
       "      <th>0</th>\n",
       "      <td>1</td>\n",
       "      <td>60</td>\n",
       "      <td>RL</td>\n",
       "      <td>65.0000</td>\n",
       "      <td>8450</td>\n",
       "      <td>Pave</td>\n",
       "      <td>NaN</td>\n",
       "      <td>Reg</td>\n",
       "      <td>Lvl</td>\n",
       "      <td>AllPub</td>\n",
       "      <td>...</td>\n",
       "      <td>0</td>\n",
       "      <td>NaN</td>\n",
       "      <td>NaN</td>\n",
       "      <td>NaN</td>\n",
       "      <td>0</td>\n",
       "      <td>2</td>\n",
       "      <td>2008</td>\n",
       "      <td>WD</td>\n",
       "      <td>Normal</td>\n",
       "      <td>208500</td>\n",
       "    </tr>\n",
       "    <tr>\n",
       "      <th>1</th>\n",
       "      <td>2</td>\n",
       "      <td>20</td>\n",
       "      <td>RL</td>\n",
       "      <td>80.0000</td>\n",
       "      <td>9600</td>\n",
       "      <td>Pave</td>\n",
       "      <td>NaN</td>\n",
       "      <td>Reg</td>\n",
       "      <td>Lvl</td>\n",
       "      <td>AllPub</td>\n",
       "      <td>...</td>\n",
       "      <td>0</td>\n",
       "      <td>NaN</td>\n",
       "      <td>NaN</td>\n",
       "      <td>NaN</td>\n",
       "      <td>0</td>\n",
       "      <td>5</td>\n",
       "      <td>2007</td>\n",
       "      <td>WD</td>\n",
       "      <td>Normal</td>\n",
       "      <td>181500</td>\n",
       "    </tr>\n",
       "    <tr>\n",
       "      <th>2</th>\n",
       "      <td>3</td>\n",
       "      <td>60</td>\n",
       "      <td>RL</td>\n",
       "      <td>68.0000</td>\n",
       "      <td>11250</td>\n",
       "      <td>Pave</td>\n",
       "      <td>NaN</td>\n",
       "      <td>IR1</td>\n",
       "      <td>Lvl</td>\n",
       "      <td>AllPub</td>\n",
       "      <td>...</td>\n",
       "      <td>0</td>\n",
       "      <td>NaN</td>\n",
       "      <td>NaN</td>\n",
       "      <td>NaN</td>\n",
       "      <td>0</td>\n",
       "      <td>9</td>\n",
       "      <td>2008</td>\n",
       "      <td>WD</td>\n",
       "      <td>Normal</td>\n",
       "      <td>223500</td>\n",
       "    </tr>\n",
       "    <tr>\n",
       "      <th>3</th>\n",
       "      <td>4</td>\n",
       "      <td>70</td>\n",
       "      <td>RL</td>\n",
       "      <td>60.0000</td>\n",
       "      <td>9550</td>\n",
       "      <td>Pave</td>\n",
       "      <td>NaN</td>\n",
       "      <td>IR1</td>\n",
       "      <td>Lvl</td>\n",
       "      <td>AllPub</td>\n",
       "      <td>...</td>\n",
       "      <td>0</td>\n",
       "      <td>NaN</td>\n",
       "      <td>NaN</td>\n",
       "      <td>NaN</td>\n",
       "      <td>0</td>\n",
       "      <td>2</td>\n",
       "      <td>2006</td>\n",
       "      <td>WD</td>\n",
       "      <td>Abnorml</td>\n",
       "      <td>140000</td>\n",
       "    </tr>\n",
       "    <tr>\n",
       "      <th>4</th>\n",
       "      <td>5</td>\n",
       "      <td>60</td>\n",
       "      <td>RL</td>\n",
       "      <td>84.0000</td>\n",
       "      <td>14260</td>\n",
       "      <td>Pave</td>\n",
       "      <td>NaN</td>\n",
       "      <td>IR1</td>\n",
       "      <td>Lvl</td>\n",
       "      <td>AllPub</td>\n",
       "      <td>...</td>\n",
       "      <td>0</td>\n",
       "      <td>NaN</td>\n",
       "      <td>NaN</td>\n",
       "      <td>NaN</td>\n",
       "      <td>0</td>\n",
       "      <td>12</td>\n",
       "      <td>2008</td>\n",
       "      <td>WD</td>\n",
       "      <td>Normal</td>\n",
       "      <td>250000</td>\n",
       "    </tr>\n",
       "  </tbody>\n",
       "</table>\n",
       "<p>5 rows × 81 columns</p>\n",
       "</div>"
      ],
      "text/plain": [
       "   Id  MSSubClass MSZoning  LotFrontage  LotArea Street Alley LotShape  \\\n",
       "0   1          60       RL      65.0000     8450   Pave   NaN      Reg   \n",
       "1   2          20       RL      80.0000     9600   Pave   NaN      Reg   \n",
       "2   3          60       RL      68.0000    11250   Pave   NaN      IR1   \n",
       "3   4          70       RL      60.0000     9550   Pave   NaN      IR1   \n",
       "4   5          60       RL      84.0000    14260   Pave   NaN      IR1   \n",
       "\n",
       "  LandContour Utilities  ... PoolArea PoolQC Fence MiscFeature MiscVal MoSold  \\\n",
       "0         Lvl    AllPub  ...        0    NaN   NaN         NaN       0      2   \n",
       "1         Lvl    AllPub  ...        0    NaN   NaN         NaN       0      5   \n",
       "2         Lvl    AllPub  ...        0    NaN   NaN         NaN       0      9   \n",
       "3         Lvl    AllPub  ...        0    NaN   NaN         NaN       0      2   \n",
       "4         Lvl    AllPub  ...        0    NaN   NaN         NaN       0     12   \n",
       "\n",
       "  YrSold  SaleType  SaleCondition  SalePrice  \n",
       "0   2008        WD         Normal     208500  \n",
       "1   2007        WD         Normal     181500  \n",
       "2   2008        WD         Normal     223500  \n",
       "3   2006        WD        Abnorml     140000  \n",
       "4   2008        WD         Normal     250000  \n",
       "\n",
       "[5 rows x 81 columns]"
      ]
     },
     "execution_count": 2,
     "metadata": {},
     "output_type": "execute_result"
    }
   ],
   "source": [
    "data = pd.read_csv(filepath_or_buffer=\"../data/house_price.csv\")\n",
    "data.head()"
   ]
  },
  {
   "cell_type": "markdown",
   "id": "1e8611c4-9f54-448f-9f18-38dfb55dac6f",
   "metadata": {},
   "source": [
    "Chuyển \"YearBuilt\" và \"YearRemodAdd\" thành tuổi"
   ]
  },
  {
   "cell_type": "code",
   "execution_count": 3,
   "id": "e26eda91-a148-4c8e-bb73-93f22cdcf7db",
   "metadata": {},
   "outputs": [],
   "source": [
    "data[\"HouseAge\"] = data[\"YrSold\"] - data[\"YearBuilt\"]\n",
    "data[\"RemodelAge\"] = data[\"YrSold\"] - data[\"YearRemodAdd\"]\n",
    "\n",
    "data = data.drop(columns=[\"YearBuilt\", \"YearRemodAdd\", \"YrSold\"])"
   ]
  },
  {
   "cell_type": "markdown",
   "id": "35370696-1081-48d6-9c63-1796313cd9cb",
   "metadata": {},
   "source": [
    "Lấy các đặc trưng đã chọn"
   ]
  },
  {
   "cell_type": "code",
   "execution_count": 4,
   "id": "5d7f7ad5-a515-4cfb-9fdd-77cc9b42cdce",
   "metadata": {},
   "outputs": [],
   "source": [
    "mi_columns = ['OverallQual', 'GrLivArea', 'GarageCars', 'TotalBsmtSF', 'ExterQual', 'BsmtQual', 'KitchenQual', '1stFlrSF', 'GarageArea', 'HouseAge',\n",
    "              'MSSubClass', 'GarageFinish', 'FullBath', 'LotFrontage', '2ndFlrSF', 'LotArea', 'TotRmsAbvGrd', 'RemodelAge', 'BsmtFinSF1', 'HeatingQC',\n",
    "              'Fireplaces', 'OpenPorchSF', 'BsmtUnfSF', 'OverallCond', 'MasVnrArea', 'HalfBath', 'BsmtExposure', 'GarageCond', 'WoodDeckSF',\n",
    "              'GarageQual', 'CentralAir', 'BedroomAbvGr', 'BsmtCond', 'PavedDrive', 'KitchenAbvGr', 'BsmtFullBath', 'ExterCond', 'ScreenPorch',\n",
    "              'EnclosedPorch', 'BsmtHalfBath',\n",
    "              'Neighborhood', 'GarageType', 'Foundation', 'Exterior2nd', 'BsmtFinType1', 'Exterior1st', 'MSZoning', 'MasVnrType', 'LotShape',\n",
    "              'HouseStyle', 'SaleType', 'SaleCondition', 'Electrical', 'BldgType', 'BsmtFinType2', 'LandContour', 'Condition1', 'Heating', 'RoofStyle',\n",
    "              'LotConfig', 'SalePrice']\n",
    "data = data[mi_columns]"
   ]
  },
  {
   "cell_type": "markdown",
   "id": "c72a741a-bea1-4499-8fe6-a1074920d0e8",
   "metadata": {},
   "source": [
    "Xử lý giá trị NaN và các outlier."
   ]
  },
  {
   "cell_type": "code",
   "execution_count": 5,
   "id": "d047d5b4-558e-4ba3-8f99-3720a99092cb",
   "metadata": {},
   "outputs": [],
   "source": [
    "fillna_values = {\n",
    "    \"LotFrontage\": 0,\n",
    "    \"MasVnrType\": \"None\",\n",
    "    \"MasVnrArea\": 0,\n",
    "    \"BsmtQual\": \"No_bsmt\",\n",
    "    \"BsmtCond\": \"No_bsmt\",\n",
    "    \"BsmtExposure\": \"No_bsmt\",\n",
    "    \"BsmtFinType1\": \"No_bsmt\",\n",
    "    \"BsmtFinType2\": \"No_bsmt\",\n",
    "    \"Electrical\": \"None\",\n",
    "    \"GarageType\": \"No_gara\",\n",
    "    \"GarageFinish\": \"No_gara\",\n",
    "    \"GarageQual\": \"No_gara\",\n",
    "    \"GarageCond\": \"No_gara\",\n",
    "}\n",
    "data = data.fillna(value=fillna_values)"
   ]
  },
  {
   "cell_type": "code",
   "execution_count": 6,
   "id": "783ef063-35ee-4d15-852f-3225fdecceb3",
   "metadata": {},
   "outputs": [],
   "source": [
    "# Sort data by \"SalePrice\" then remove 2 largest values\n",
    "data = data.sort_values(by=\"SalePrice\", ascending=False)\n",
    "data = data.drop(index=[data.index[0], data.index[1]])\n",
    "\n",
    "# Sort data by \"SalePrice\" then remove 5 smallest values\n",
    "data = data.sort_values(by=\"SalePrice\", ascending=True)\n",
    "data = data.drop(index=[data.index[0], data.index[1], data.index[2], data.index[3], data.index[4]])\n",
    "\n",
    "# Sort data by \"LotFrontage\" then remove largest value\n",
    "data = data.sort_values(by=\"LotFrontage\", ascending=False)\n",
    "data = data.drop(index=[data.index[0], data.index[1]])\n",
    "\n",
    "# Sort data by \"LotArea\" then remove 4 largest values\n",
    "data = data.sort_values(by=\"LotArea\", ascending=False)\n",
    "data = data.drop(index=[data.index[0], data.index[1], data.index[2], data.index[3]])\n",
    "\n",
    "# Sort data by \"GrLivArea\" then remove largest value\n",
    "data = data.sort_values(by=\"GrLivArea\", ascending=False)\n",
    "data = data.drop(index=[data.index[0]])"
   ]
  },
  {
   "cell_type": "markdown",
   "id": "b282551e-e410-4509-8558-a972ed89c01f",
   "metadata": {},
   "source": [
    "Không dùng Label Encoding để đoạn sau sẽ one-hot encoding"
   ]
  },
  {
   "cell_type": "code",
   "execution_count": 7,
   "id": "33a8589f-d73f-4aa8-bc29-c7ed75927b0a",
   "metadata": {},
   "outputs": [],
   "source": [
    "# data[\"ExterQual\"] = data[\"ExterQual\"].map({\"Po\": 1, \"Fa\": 2, \"TA\": 3, \"Gd\": 4, \"Ex\": 5})\n",
    "# data[\"ExterCond\"] = data[\"ExterCond\"].map({\"Po\": 1, \"Fa\": 2, \"TA\": 3, \"Gd\": 4, \"Ex\": 5})\n",
    "# data[\"BsmtQual\"] = data[\"BsmtQual\"].map({\"No_bsmt\": 0, \"Po\": 1, \"Fa\": 2, \"TA\": 3, \"Gd\": 4, \"Ex\": 5})\n",
    "# data[\"BsmtCond\"] = data[\"BsmtCond\"].map({\"No_bsmt\": 0, \"Po\": 1, \"Fa\": 2, \"TA\": 3, \"Gd\": 4, \"Ex\": 5})\n",
    "# data[\"BsmtExposure\"] = data[\"BsmtExposure\"].map({\"No_bsmt\": 0, \"No\": 1, \"Mn\": 2, \"Av\": 3, \"Gd\": 4})\n",
    "# data[\"HeatingQC\"] =data[\"HeatingQC\"].map({\"Po\": 1, \"Fa\": 2, \"TA\": 3, \"Gd\": 4, \"Ex\": 5})\n",
    "# data[\"CentralAir\"] =data[\"CentralAir\"].map({\"N\": 0, \"Y\": 1})\n",
    "# data[\"KitchenQual\"] = data[\"KitchenQual\"].map({\"Po\": 1, \"Fa\": 2, \"TA\": 3, \"Gd\": 4, \"Ex\": 5})\n",
    "# data[\"GarageFinish\"] = data[\"GarageFinish\"].map({\"No_gara\": 0, \"Unf\": 1, \"RFn\": 2, \"Fin\": 3})\n",
    "# data[\"GarageQual\"] = data[\"GarageQual\"].map({\"No_gara\": 0, \"Po\": 1, \"Fa\": 2, \"TA\": 3, \"Gd\": 4, \"Ex\": 5})\n",
    "# data[\"GarageCond\"] = data[\"GarageCond\"].map({\"No_gara\": 0, \"Po\": 1, \"Fa\": 2, \"TA\": 3, \"Gd\": 4, \"Ex\": 5})\n",
    "# data[\"PavedDrive\"] = data[\"PavedDrive\"].map({\"N\": 0, \"P\": 1, \"Y\": 2})"
   ]
  },
  {
   "cell_type": "markdown",
   "id": "35f8c16d-e8e8-414c-b1b1-18a09e9ff4b3",
   "metadata": {},
   "source": [
    "Xử lý các cột dạng số không có phân phối đều"
   ]
  },
  {
   "cell_type": "code",
   "execution_count": 8,
   "id": "103f607b-636b-441c-b501-6f2c830d872d",
   "metadata": {},
   "outputs": [],
   "source": [
    "numerical_columns = data.select_dtypes(exclude=[\"object\"]).columns.tolist()\n",
    "\n",
    "skewed_features = data[numerical_columns].apply(lambda x: skew(x.dropna()))\n",
    "skewed_features = skewed_features[skewed_features > 0.75]\n",
    "skewed_features = skewed_features.index\n",
    "\n",
    "for f in skewed_features:\n",
    "    data[f] = np.log1p(data[f])"
   ]
  },
  {
   "cell_type": "markdown",
   "id": "df8fac24-7d9f-4166-acb9-ef8c4fa3b8eb",
   "metadata": {},
   "source": [
    "Mã hóa one-hot cho tát cả các cột dạng category. Sau đó phân chia thành dữ liệu huấn luyện và kiểm tra."
   ]
  },
  {
   "cell_type": "code",
   "execution_count": 9,
   "id": "bd4018d8-f918-495b-8ee1-be5f4e57f853",
   "metadata": {},
   "outputs": [],
   "source": [
    "X = data.drop(columns=[\"SalePrice\"])\n",
    "y = data[\"SalePrice\"]\n",
    "\n",
    "X = pd.get_dummies(data=X)\n",
    "\n",
    "X_train, X_test, y_train, y_test = train_test_split(X, y, test_size=0.2, random_state=10)"
   ]
  },
  {
   "cell_type": "markdown",
   "id": "b4cfdcd7-859a-45a4-be73-11052bb949e4",
   "metadata": {
    "tags": []
   },
   "source": [
    "Chuẩn hóa các cột dạng số về khoảng giá trị 0 đến 1"
   ]
  },
  {
   "cell_type": "code",
   "execution_count": 10,
   "id": "eed89d06-29e5-4b36-8d5b-d6b11a8c0db7",
   "metadata": {},
   "outputs": [],
   "source": [
    "numerical_columns.remove(\"SalePrice\")\n",
    "\n",
    "scaler = MinMaxScaler()\n",
    "scaler.fit(X=X_train[numerical_columns])\n",
    "\n",
    "X_train[numerical_columns] = scaler.transform(X_train[numerical_columns])\n",
    "X_test[numerical_columns] = scaler.transform(X_test[numerical_columns])"
   ]
  },
  {
   "cell_type": "markdown",
   "id": "35a8badf-92cb-4061-9f73-2b48053c8ae9",
   "metadata": {},
   "source": [
    "Lập mô hình"
   ]
  },
  {
   "cell_type": "code",
   "execution_count": 11,
   "id": "443cc253-b7f4-45f0-93ce-9943f10717d9",
   "metadata": {},
   "outputs": [],
   "source": [
    "def get_result(model, X_test, y_test=y_test):\n",
    "    predictions = model.predict(X_test)\n",
    "    r2 = r2_score(y_true=np.expm1(y_test), y_pred=np.expm1(predictions))\n",
    "    mape = mean_absolute_percentage_error(y_true=np.expm1(y_test), y_pred=np.expm1(predictions))\n",
    "    return {\"MAPE\": mape*100, \"R2 score\": r2}"
   ]
  },
  {
   "cell_type": "code",
   "execution_count": 12,
   "id": "cc18f50a-6930-417d-8061-1e8cd7f0ea14",
   "metadata": {},
   "outputs": [],
   "source": [
    "lasso_model = Lasso()\n",
    "lasso_model.fit(X_train, y_train)\n",
    "lasso_result = get_result(lasso_model, X_test=X_test)\n",
    "\n",
    "ridge_model = Ridge()\n",
    "ridge_model.fit(X_train, y_train)\n",
    "ridge_result = get_result(ridge_model, X_test=X_test)\n",
    "\n",
    "elastic_model = ElasticNet()\n",
    "elastic_model.fit(X_train, y_train)\n",
    "elastic_result = get_result(elastic_model, X_test=X_test)\n",
    "\n",
    "random_forest = RandomForestRegressor()\n",
    "random_forest.fit(X_train, y_train)\n",
    "random_forest_result = get_result(random_forest, X_test=X_test)\n",
    "\n",
    "SVR_model = SVR()\n",
    "SVR_model.fit(X_train, y_train)\n",
    "SVR_result = get_result(SVR_model, X_test=X_test)\n",
    "\n",
    "LGBM_model = LGBMRegressor()\n",
    "LGBM_model.fit(X_train, y_train)\n",
    "LGBM_result = get_result(LGBM_model, X_test=X_test)"
   ]
  },
  {
   "cell_type": "code",
   "execution_count": 13,
   "id": "08f7d1d7-510e-4285-8803-fcd93aeb7f9c",
   "metadata": {},
   "outputs": [
    {
     "data": {
      "text/html": [
       "<div>\n",
       "<style scoped>\n",
       "    .dataframe tbody tr th:only-of-type {\n",
       "        vertical-align: middle;\n",
       "    }\n",
       "\n",
       "    .dataframe tbody tr th {\n",
       "        vertical-align: top;\n",
       "    }\n",
       "\n",
       "    .dataframe thead th {\n",
       "        text-align: right;\n",
       "    }\n",
       "</style>\n",
       "<table border=\"1\" class=\"dataframe\">\n",
       "  <thead>\n",
       "    <tr style=\"text-align: right;\">\n",
       "      <th></th>\n",
       "      <th>MAPE</th>\n",
       "      <th>R2 score</th>\n",
       "    </tr>\n",
       "  </thead>\n",
       "  <tbody>\n",
       "    <tr>\n",
       "      <th>Ridge</th>\n",
       "      <td>7.5570</td>\n",
       "      <td>0.9339</td>\n",
       "    </tr>\n",
       "    <tr>\n",
       "      <th>SVR</th>\n",
       "      <td>8.8609</td>\n",
       "      <td>0.9071</td>\n",
       "    </tr>\n",
       "    <tr>\n",
       "      <th>LGBM</th>\n",
       "      <td>8.9979</td>\n",
       "      <td>0.9009</td>\n",
       "    </tr>\n",
       "    <tr>\n",
       "      <th>Random forest</th>\n",
       "      <td>9.9028</td>\n",
       "      <td>0.8811</td>\n",
       "    </tr>\n",
       "    <tr>\n",
       "      <th>Lasso</th>\n",
       "      <td>30.4453</td>\n",
       "      <td>-0.0294</td>\n",
       "    </tr>\n",
       "    <tr>\n",
       "      <th>ElasticNet</th>\n",
       "      <td>30.4453</td>\n",
       "      <td>-0.0294</td>\n",
       "    </tr>\n",
       "  </tbody>\n",
       "</table>\n",
       "</div>"
      ],
      "text/plain": [
       "                 MAPE  R2 score\n",
       "Ridge          7.5570    0.9339\n",
       "SVR            8.8609    0.9071\n",
       "LGBM           8.9979    0.9009\n",
       "Random forest  9.9028    0.8811\n",
       "Lasso         30.4453   -0.0294\n",
       "ElasticNet    30.4453   -0.0294"
      ]
     },
     "execution_count": 13,
     "metadata": {},
     "output_type": "execute_result"
    }
   ],
   "source": [
    "all_results = pd.DataFrame({\n",
    "    \"Lasso\": lasso_result,\n",
    "    \"Ridge\": ridge_result,\n",
    "    \"ElasticNet\": elastic_result,\n",
    "    \"Random forest\": random_forest_result,\n",
    "    \"SVR\": SVR_result,\n",
    "    \"LGBM\": LGBM_result\n",
    "})\n",
    "\n",
    "all_results.transpose().sort_values(by=\"MAPE\", ascending=True)"
   ]
  },
  {
   "cell_type": "markdown",
   "id": "d5e471e0-6ae0-4eb5-a3b8-89d70514e705",
   "metadata": {},
   "source": [
    "Tạo lại các mô hình của chúng ta. Do các mô hình Lasso, Ridge, ElasticNet và SVR không hoạt động tốt với outlier (mà chúng ta lại có khá nhiều outliers trong dữ liệu) nên lần này ta sẽ dùng RobustScaler trước để tăng chất lượng"
   ]
  },
  {
   "cell_type": "code",
   "execution_count": 14,
   "id": "0823d8e6-b9e8-4ea3-8bf9-cdef11c84727",
   "metadata": {},
   "outputs": [
    {
     "data": {
      "text/plain": [
       "{'MAPE': 7.435991475531238, 'R2 score': 0.9348161919707139}"
      ]
     },
     "execution_count": 14,
     "metadata": {},
     "output_type": "execute_result"
    }
   ],
   "source": [
    "ridge_model_2 = make_pipeline(RobustScaler(), Ridge())\n",
    "ridge_model_2.fit(X_train, y_train)\n",
    "ridge_result_2 = get_result(ridge_model_2, X_test=X_test)\n",
    "ridge_result_2"
   ]
  },
  {
   "cell_type": "markdown",
   "id": "7b1d5b09-1321-4614-ab13-fc89afc70844",
   "metadata": {},
   "source": [
    "Chất lượng có cải thiện khi thêm RobustScaler.\n",
    "\n",
    "Để tìm tham số tốt nhất cho các mô hình ta dùng GridSearchCV.\n",
    "\n",
    "Đầu tiên là tìm tham số điều chuẩn \"alpha\" cho mô hình Lasso:"
   ]
  },
  {
   "cell_type": "code",
   "execution_count": 15,
   "id": "5136affb-5b42-4cc1-8543-70bf75bdfeaa",
   "metadata": {},
   "outputs": [
    {
     "data": {
      "text/plain": [
       "{'lasso__alpha': 0.0008}"
      ]
     },
     "execution_count": 15,
     "metadata": {},
     "output_type": "execute_result"
    }
   ],
   "source": [
    "# Tìm tham số alpha cho mô hình Lasso\n",
    "lasso_param = {\"lasso__alpha\": [0.0007, 0.0008, 0.0009]}\n",
    "lasso_model_search = make_pipeline(RobustScaler(), Lasso())\n",
    "lasso_search = GridSearchCV(estimator=lasso_model_search, param_grid=lasso_param)\n",
    "lasso_search.fit(X_train, y_train)\n",
    "lasso_search.best_params_"
   ]
  },
  {
   "cell_type": "code",
   "execution_count": 16,
   "id": "c1b4216d-3ba1-43d5-a373-fab6fe1c33d1",
   "metadata": {},
   "outputs": [
    {
     "data": {
      "text/plain": [
       "{'MAPE': 7.14794593933699, 'R2 score': 0.9364826278986254}"
      ]
     },
     "execution_count": 16,
     "metadata": {},
     "output_type": "execute_result"
    }
   ],
   "source": [
    "# Tạo model Lasso & lấy kết quả\n",
    "lasso_model = make_pipeline(RobustScaler(), Lasso(alpha=0.0008))\n",
    "lasso_model.fit(X_train, y_train)\n",
    "lasso_result_1 = get_result(lasso_model, X_test=X_test)\n",
    "lasso_result_1"
   ]
  },
  {
   "cell_type": "markdown",
   "id": "fcc668ab-068f-4a79-9793-c951ff97d370",
   "metadata": {},
   "source": [
    "Tiếp đến Ridge"
   ]
  },
  {
   "cell_type": "code",
   "execution_count": 17,
   "id": "7c24bddf-bafe-4dfe-8cee-f09d0fe34eef",
   "metadata": {},
   "outputs": [
    {
     "data": {
      "text/plain": [
       "{'ridge__alpha': 21}"
      ]
     },
     "execution_count": 17,
     "metadata": {},
     "output_type": "execute_result"
    }
   ],
   "source": [
    "# Tìm tham số alpha cho mô hình Ridge\n",
    "ridge_param = {\"ridge__alpha\": [20, 21, 22]}\n",
    "ridge_model_search = make_pipeline(RobustScaler(), Ridge())\n",
    "ridge_search = GridSearchCV(estimator=ridge_model_search, param_grid=ridge_param)\n",
    "ridge_search.fit(X_train, y_train)\n",
    "ridge_search.best_params_"
   ]
  },
  {
   "cell_type": "code",
   "execution_count": 18,
   "id": "211ec8cf-b8b3-46da-98e8-82c577424768",
   "metadata": {},
   "outputs": [
    {
     "data": {
      "text/plain": [
       "{'MAPE': 7.199741616589894, 'R2 score': 0.9367711006378596}"
      ]
     },
     "execution_count": 18,
     "metadata": {},
     "output_type": "execute_result"
    }
   ],
   "source": [
    "# Tạo model Ridge & lấy kết quả\n",
    "ridge_model = make_pipeline(RobustScaler(), Ridge(alpha=21))\n",
    "ridge_model.fit(X_train, y_train)\n",
    "ridge_result_1 = get_result(ridge_model, X_test=X_test)\n",
    "ridge_result_1"
   ]
  },
  {
   "cell_type": "markdown",
   "id": "e630bcce-aeba-44e4-8286-2204616742fd",
   "metadata": {},
   "source": [
    "Tiếp tục với ElasticNet. Do ElasticNet kết hợp cả điều chuẩn L1 và L2 nên chúng ta cần khám phá cả tỉ lệ của chúng nữa"
   ]
  },
  {
   "cell_type": "code",
   "execution_count": 19,
   "id": "8ac328da-4ad6-4317-82aa-b6ce59b622dd",
   "metadata": {},
   "outputs": [
    {
     "data": {
      "text/plain": [
       "{'elasticnet__alpha': 0.0012, 'elasticnet__l1_ratio': 0.62}"
      ]
     },
     "execution_count": 19,
     "metadata": {},
     "output_type": "execute_result"
    }
   ],
   "source": [
    "# Tìm tham số cho mô hình ElasticNet\n",
    "elastic_param = {\"elasticnet__alpha\": [0.0011, 0.0012, 0.0013], \"elasticnet__l1_ratio\": [0.61, 0.62, 0.63]}\n",
    "elastic_model_search = make_pipeline(RobustScaler(), ElasticNet())\n",
    "elastic_search = GridSearchCV(estimator=elastic_model_search, param_grid=elastic_param)\n",
    "elastic_search.fit(X_train, y_train)\n",
    "elastic_search.best_params_"
   ]
  },
  {
   "cell_type": "code",
   "execution_count": 20,
   "id": "1d1d5027-c44a-466e-9477-f9478037a8cf",
   "metadata": {},
   "outputs": [
    {
     "data": {
      "text/plain": [
       "{'MAPE': 7.157014197319558, 'R2 score': 0.9365161432275131}"
      ]
     },
     "execution_count": 20,
     "metadata": {},
     "output_type": "execute_result"
    }
   ],
   "source": [
    "# Tạo model ElasticNet & lấy kết quả\n",
    "elastic_model = make_pipeline(RobustScaler(), ElasticNet(alpha=0.0012, l1_ratio=0.62))\n",
    "elastic_model.fit(X_train, y_train)\n",
    "elastic_result_1 = get_result(elastic_model, X_test=X_test)\n",
    "elastic_result_1"
   ]
  },
  {
   "cell_type": "markdown",
   "id": "20e4cde2-bea3-4c3f-a794-59129a5a13cf",
   "metadata": {},
   "source": [
    "Có rất nhiều tham số trong mô hình RandomForestRegressor nhưng chúng ta sẽ chỉ tập trung vào 3 tham số cơ bản sau:\n",
    "- n_estimators: số cây quyết định được dùng\n",
    "- min_samples_split: số mẫu tối thiểu để tiếp tục phân nhánh cho node đó\n",
    "- min_samples_leaf: số mẫu tối thiểu ở một lá (leaf node)"
   ]
  },
  {
   "cell_type": "code",
   "execution_count": 30,
   "id": "aeb1bed1-98a2-41bf-8a84-b2060becc35a",
   "metadata": {
    "scrolled": true,
    "tags": []
   },
   "outputs": [
    {
     "data": {
      "text/plain": [
       "{'min_samples_leaf': 2, 'min_samples_split': 2, 'n_estimators': 140}"
      ]
     },
     "execution_count": 30,
     "metadata": {},
     "output_type": "execute_result"
    }
   ],
   "source": [
    "random_forest_param = {\n",
    "    \"n_estimators\": [100, 120, 140, 160],\n",
    "    \"min_samples_split\": [2, 3, 4],\n",
    "    \"min_samples_leaf\": [1, 2, 3]\n",
    "}\n",
    "random_forest_model = RandomForestRegressor()\n",
    "random_forest_search = GridSearchCV(estimator=random_forest_model, param_grid=random_forest_param)\n",
    "random_forest_search.fit(X_train, y_train)\n",
    "random_forest_search.best_params_\n",
    "\n",
    "# It takes very long to run this cell, below is the result in case Outputs of this cell is cleared\n",
    "# {'min_samples_leaf': 2, 'min_samples_split': 2, 'n_estimators': 140}"
   ]
  },
  {
   "cell_type": "code",
   "execution_count": 21,
   "id": "8befba16-d65b-4290-af5e-6ac6a5a5a64d",
   "metadata": {},
   "outputs": [
    {
     "data": {
      "text/plain": [
       "{'MAPE': 9.788261190053975, 'R2 score': 0.8810703385056358}"
      ]
     },
     "execution_count": 21,
     "metadata": {},
     "output_type": "execute_result"
    }
   ],
   "source": [
    "random_forest = RandomForestRegressor(n_estimators=140, min_samples_leaf=2)\n",
    "random_forest.fit(X_train, y_train)\n",
    "random_forest_result_1 = get_result(random_forest, X_test=X_test)\n",
    "random_forest_result_1"
   ]
  },
  {
   "cell_type": "markdown",
   "id": "0fd042d3-f420-44c7-9b18-f914acd3cd01",
   "metadata": {},
   "source": [
    "Chất lượng của Random Forest tăng một chút. Lưu ý Random Forest hoạt động dựa trên các cây quyết định, mà decision tree thì mỗi lần chạy sẽ cho kết quả khác nhau (chúng ta được khuyên rằng hãy huấn luyện mô hình decision tree nhiều lần và chọn mô hình có kết quả tốt nhất)."
   ]
  },
  {
   "cell_type": "markdown",
   "id": "d11f3d65-61a1-463c-b99c-ebb424049cd5",
   "metadata": {},
   "source": [
    "Ở mô hình SVR ta cũng sẽ chỉ điều chỉnh 3 tham số cơ bản:\n",
    "- gamma: hệ số cho nhân \"rbf\"\n",
    "- C: chỉ số điều chuẩn (càng lớn thì điều chuẩn càng giảm)\n",
    "- epsilon: nếu dự đoán tại một điểm có sai số nhỏ hơn epsilon thì không áp dụng điều chuẩn tại điểm đó"
   ]
  },
  {
   "cell_type": "code",
   "execution_count": 38,
   "id": "2fbfc3bd-3be3-40ff-a434-a35129f33459",
   "metadata": {},
   "outputs": [
    {
     "data": {
      "text/plain": [
       "{'svr__C': 2.1, 'svr__epsilon': 0.016, 'svr__gamma': 'auto'}"
      ]
     },
     "execution_count": 38,
     "metadata": {},
     "output_type": "execute_result"
    }
   ],
   "source": [
    "# Tìm tham số cho mô hình SVR\n",
    "SVR_param = {\n",
    "    \"svr__gamma\": [\"scale\", \"auto\"],\n",
    "    \"svr__C\": [2, 2.1, 2.2],\n",
    "    \"svr__epsilon\": [0.015, 0.016, 0.017]\n",
    "}\n",
    "SVR_model_search = make_pipeline(RobustScaler(), SVR())\n",
    "SVR_search = GridSearchCV(estimator=SVR_model_search, param_grid=SVR_param)\n",
    "SVR_search.fit(X_train, y_train)\n",
    "SVR_search.best_params_\n",
    "\n",
    "# It takes very long to run this cell, below is the result in case Outputs of this cell is cleared\n",
    "# {'svr__C': 2.1, 'svr__epsilon': 0.016, 'svr__gamma': 'auto'}"
   ]
  },
  {
   "cell_type": "code",
   "execution_count": 22,
   "id": "f0d492c0-e8c2-4b55-be45-11d573bf4d64",
   "metadata": {},
   "outputs": [
    {
     "data": {
      "text/plain": [
       "{'MAPE': 6.944694978496993, 'R2 score': 0.9395144832705842}"
      ]
     },
     "execution_count": 22,
     "metadata": {},
     "output_type": "execute_result"
    }
   ],
   "source": [
    "# Tạo model SVR & lấy kết quả\n",
    "SVR_model = make_pipeline(RobustScaler(), SVR(gamma=\"auto\", C=2.1, epsilon=0.016))\n",
    "SVR_model.fit(X_train, y_train)\n",
    "SVR_result_1 = get_result(SVR_model, X_test=X_test)\n",
    "SVR_result_1"
   ]
  },
  {
   "cell_type": "markdown",
   "id": "3d6f08d4-bdd4-4e3e-b7c0-26f8967e450a",
   "metadata": {},
   "source": [
    "Cuối cùng là LGBM, tập trung vào 6 trong số rất nhiều tham số của mô hình:\n",
    "- num_leaves: số \"lá\" tối đa của một \"cây\"\n",
    "- learning_rate: tốc độ học\n",
    "- n_estimators: số lượng cây tăng cường dùng trong mô hình\n",
    "- min_child_samples: số lượng tối thiểu cần có trong 1 lá\n",
    "- reg_alpha: điều chuẩn L1 trên trọng số\n",
    "- reg_lambda: điều chuẩn L2 trên trọng số"
   ]
  },
  {
   "cell_type": "code",
   "execution_count": 31,
   "id": "4c482f22-8173-435c-a08e-5b58bdb2ae56",
   "metadata": {},
   "outputs": [
    {
     "data": {
      "text/plain": [
       "{'learning_rate': 0.05,\n",
       " 'min_child_samples': 14,\n",
       " 'n_estimators': 3300,\n",
       " 'num_leaves': 2,\n",
       " 'reg_alpha': 0.007,\n",
       " 'reg_lambda': 0.0011}"
      ]
     },
     "execution_count": 31,
     "metadata": {},
     "output_type": "execute_result"
    }
   ],
   "source": [
    "# Tìm tham số cho mô hình LGBM\n",
    "LGBM_param = {\n",
    "    \"num_leaves\": [2, 3],\n",
    "    \"learning_rate\": [0.04, 0.05, 0.06],\n",
    "    \"n_estimators\": [3200, 3300, 3400],\n",
    "    \"min_child_samples\": [13, 14, 15],\n",
    "    \"reg_alpha\": [0.006, 0.007, 0.008],\n",
    "    \"reg_lambda\": [0.001, 0.0011, 0.0012]\n",
    "}\n",
    "LGBM_model_search = LGBMRegressor()\n",
    "LGBM_search = GridSearchCV(estimator=LGBM_model_search, param_grid=LGBM_param)\n",
    "LGBM_search.fit(X_train, y_train)\n",
    "LGBM_search.best_params_\n",
    "\n",
    "# It takes very long to run this cell, below is the result in case Outputs of this cell is cleared\n",
    "# {'learning_rate': 0.05, 'min_child_samples': 14, 'n_estimators': 3300, 'num_leaves': 2, 'reg_alpha': 0.007, 'reg_lambda': 0.0011}"
   ]
  },
  {
   "cell_type": "code",
   "execution_count": 32,
   "id": "17391abf-7e8d-4c3d-9007-5e90ef2eacfd",
   "metadata": {},
   "outputs": [
    {
     "data": {
      "text/plain": [
       "{'MAPE': 7.6814736814967075, 'R2 score': 0.9265301170002687}"
      ]
     },
     "execution_count": 32,
     "metadata": {},
     "output_type": "execute_result"
    }
   ],
   "source": [
    "LGBM_model = LGBMRegressor(num_leaves=2, learning_rate=0.05, n_estimators=3300, min_child_samples=14, reg_alpha=0.007, reg_lambda=0.0011)\n",
    "LGBM_model.fit(X_train, y_train)\n",
    "LGBM_result_1 = get_result(LGBM_model, X_test=X_test)\n",
    "LGBM_result_1"
   ]
  },
  {
   "cell_type": "markdown",
   "id": "43e01b2d-f9a9-409e-8e6c-e677fe752223",
   "metadata": {},
   "source": [
    "Hãy xem lại kết quả các mô hình của chúng ta sau khi tuning:"
   ]
  },
  {
   "cell_type": "code",
   "execution_count": 33,
   "id": "9b76d668-2bd4-41d3-92d5-5606d1528032",
   "metadata": {},
   "outputs": [
    {
     "data": {
      "text/html": [
       "<div>\n",
       "<style scoped>\n",
       "    .dataframe tbody tr th:only-of-type {\n",
       "        vertical-align: middle;\n",
       "    }\n",
       "\n",
       "    .dataframe tbody tr th {\n",
       "        vertical-align: top;\n",
       "    }\n",
       "\n",
       "    .dataframe thead th {\n",
       "        text-align: right;\n",
       "    }\n",
       "</style>\n",
       "<table border=\"1\" class=\"dataframe\">\n",
       "  <thead>\n",
       "    <tr style=\"text-align: right;\">\n",
       "      <th></th>\n",
       "      <th>MAPE</th>\n",
       "      <th>R2 score</th>\n",
       "    </tr>\n",
       "  </thead>\n",
       "  <tbody>\n",
       "    <tr>\n",
       "      <th>SVR</th>\n",
       "      <td>6.9447</td>\n",
       "      <td>0.9395</td>\n",
       "    </tr>\n",
       "    <tr>\n",
       "      <th>Lasso</th>\n",
       "      <td>7.1479</td>\n",
       "      <td>0.9365</td>\n",
       "    </tr>\n",
       "    <tr>\n",
       "      <th>ElasticNet</th>\n",
       "      <td>7.1570</td>\n",
       "      <td>0.9365</td>\n",
       "    </tr>\n",
       "    <tr>\n",
       "      <th>Ridge</th>\n",
       "      <td>7.1997</td>\n",
       "      <td>0.9368</td>\n",
       "    </tr>\n",
       "    <tr>\n",
       "      <th>LGBM</th>\n",
       "      <td>7.6815</td>\n",
       "      <td>0.9265</td>\n",
       "    </tr>\n",
       "    <tr>\n",
       "      <th>Random forest</th>\n",
       "      <td>9.7883</td>\n",
       "      <td>0.8811</td>\n",
       "    </tr>\n",
       "  </tbody>\n",
       "</table>\n",
       "</div>"
      ],
      "text/plain": [
       "                MAPE  R2 score\n",
       "SVR           6.9447    0.9395\n",
       "Lasso         7.1479    0.9365\n",
       "ElasticNet    7.1570    0.9365\n",
       "Ridge         7.1997    0.9368\n",
       "LGBM          7.6815    0.9265\n",
       "Random forest 9.7883    0.8811"
      ]
     },
     "execution_count": 33,
     "metadata": {},
     "output_type": "execute_result"
    }
   ],
   "source": [
    "all_results_1 = pd.DataFrame({\n",
    "    \"Lasso\": lasso_result_1,\n",
    "    \"Ridge\": ridge_result_1,\n",
    "    \"ElasticNet\": elastic_result_1,\n",
    "    \"Random forest\": random_forest_result_1,\n",
    "    \"SVR\": SVR_result_1,\n",
    "    \"LGBM\": LGBM_result_1\n",
    "})\n",
    "\n",
    "all_results_1.transpose().sort_values(by=\"MAPE\", ascending=True)"
   ]
  },
  {
   "cell_type": "code",
   "execution_count": 34,
   "id": "b3151a3d-fdb8-4935-a879-f8901f5cc853",
   "metadata": {},
   "outputs": [
    {
     "data": {
      "text/html": [
       "<div>\n",
       "<style scoped>\n",
       "    .dataframe tbody tr th:only-of-type {\n",
       "        vertical-align: middle;\n",
       "    }\n",
       "\n",
       "    .dataframe tbody tr th {\n",
       "        vertical-align: top;\n",
       "    }\n",
       "\n",
       "    .dataframe thead tr th {\n",
       "        text-align: left;\n",
       "    }\n",
       "</style>\n",
       "<table border=\"1\" class=\"dataframe\">\n",
       "  <thead>\n",
       "    <tr>\n",
       "      <th></th>\n",
       "      <th colspan=\"2\" halign=\"left\">Before tuning</th>\n",
       "      <th colspan=\"2\" halign=\"left\">After tuning</th>\n",
       "    </tr>\n",
       "    <tr>\n",
       "      <th></th>\n",
       "      <th>MAPE</th>\n",
       "      <th>R2 score</th>\n",
       "      <th>MAPE</th>\n",
       "      <th>R2 score</th>\n",
       "    </tr>\n",
       "  </thead>\n",
       "  <tbody>\n",
       "    <tr>\n",
       "      <th>Lasso</th>\n",
       "      <td>30.4453</td>\n",
       "      <td>-0.0294</td>\n",
       "      <td>7.1479</td>\n",
       "      <td>0.9365</td>\n",
       "    </tr>\n",
       "    <tr>\n",
       "      <th>Ridge</th>\n",
       "      <td>7.5570</td>\n",
       "      <td>0.9339</td>\n",
       "      <td>7.1997</td>\n",
       "      <td>0.9368</td>\n",
       "    </tr>\n",
       "    <tr>\n",
       "      <th>ElasticNet</th>\n",
       "      <td>30.4453</td>\n",
       "      <td>-0.0294</td>\n",
       "      <td>7.1570</td>\n",
       "      <td>0.9365</td>\n",
       "    </tr>\n",
       "    <tr>\n",
       "      <th>Random forest</th>\n",
       "      <td>9.9028</td>\n",
       "      <td>0.8811</td>\n",
       "      <td>9.7883</td>\n",
       "      <td>0.8811</td>\n",
       "    </tr>\n",
       "    <tr>\n",
       "      <th>SVR</th>\n",
       "      <td>8.8609</td>\n",
       "      <td>0.9071</td>\n",
       "      <td>6.9447</td>\n",
       "      <td>0.9395</td>\n",
       "    </tr>\n",
       "    <tr>\n",
       "      <th>LGBM</th>\n",
       "      <td>8.9979</td>\n",
       "      <td>0.9009</td>\n",
       "      <td>7.6815</td>\n",
       "      <td>0.9265</td>\n",
       "    </tr>\n",
       "  </tbody>\n",
       "</table>\n",
       "</div>"
      ],
      "text/plain": [
       "              Before tuning          After tuning         \n",
       "                       MAPE R2 score         MAPE R2 score\n",
       "Lasso               30.4453  -0.0294       7.1479   0.9365\n",
       "Ridge                7.5570   0.9339       7.1997   0.9368\n",
       "ElasticNet          30.4453  -0.0294       7.1570   0.9365\n",
       "Random forest        9.9028   0.8811       9.7883   0.8811\n",
       "SVR                  8.8609   0.9071       6.9447   0.9395\n",
       "LGBM                 8.9979   0.9009       7.6815   0.9265"
      ]
     },
     "execution_count": 34,
     "metadata": {},
     "output_type": "execute_result"
    }
   ],
   "source": [
    "pd.concat(objs=[all_results.transpose(), all_results_1.transpose()], axis=1, keys=[\"Before tuning\", \"After tuning\"])"
   ]
  },
  {
   "cell_type": "markdown",
   "id": "63cef0b0-7675-45f3-bbc2-a53ac9639d30",
   "metadata": {},
   "source": [
    "Hãy thử mô hình neural network xem sao"
   ]
  },
  {
   "cell_type": "code",
   "execution_count": 35,
   "id": "3d7a5f75-fce9-4a49-863e-d9d56d37ada4",
   "metadata": {},
   "outputs": [
    {
     "data": {
      "text/plain": [
       "(1156, 242)"
      ]
     },
     "execution_count": 35,
     "metadata": {},
     "output_type": "execute_result"
    }
   ],
   "source": [
    "# Create Dataset for faster process with tensorflow\n",
    "train_data = tf.data.Dataset.from_tensor_slices((X_train, y_train))\n",
    "test_data = tf.data.Dataset.from_tensor_slices((X_test, y_test))\n",
    "\n",
    "train_data = train_data.batch(batch_size=64).prefetch(tf.data.AUTOTUNE)\n",
    "test_data = test_data.batch(batch_size=64).prefetch(tf.data.AUTOTUNE)\n",
    "\n",
    "# Create a list of callback functions\n",
    "callbacks_list = [\n",
    "    tf.keras.callbacks.ReduceLROnPlateau(monitor=\"val_loss\", factor=0.5, patience=2, mode=\"min\"),\n",
    "    tf.keras.callbacks.EarlyStopping(monitor=\"val_loss\", patience=9, mode=\"min\")\n",
    "]\n",
    "\n",
    "X_train.shape"
   ]
  },
  {
   "cell_type": "code",
   "execution_count": 36,
   "id": "4014e546-4a8a-448f-862f-106538c60e91",
   "metadata": {},
   "outputs": [],
   "source": [
    "# Create model\n",
    "NN_model = tf.keras.models.Sequential(layers=[\n",
    "    tf.keras.layers.Dense(units=256, activation=\"relu\", input_shape=(242,)),\n",
    "    tf.keras.layers.Dense(units=1, activation=\"relu\")\n",
    "])\n",
    "\n",
    "# Compile model\n",
    "NN_model.compile(loss=\"mse\", optimizer=tf.keras.optimizers.Adam(learning_rate=0.001), metrics=[\"mape\"])"
   ]
  },
  {
   "cell_type": "code",
   "execution_count": 37,
   "id": "7ecf376d-7ecb-43b9-8b6b-ef9bc77a87b7",
   "metadata": {
    "scrolled": true,
    "tags": []
   },
   "outputs": [
    {
     "name": "stdout",
     "output_type": "stream",
     "text": [
      "Epoch 1/500\n",
      "19/19 [==============================] - 4s 16ms/step - loss: 62.6617 - mape: 62.0541 - val_loss: 3.3856 - val_mape: 14.8541 - lr: 0.0010\n",
      "Epoch 2/500\n",
      "19/19 [==============================] - 0s 4ms/step - loss: 2.7919 - mape: 12.4168 - val_loss: 1.2887 - val_mape: 8.5796 - lr: 0.0010\n",
      "Epoch 3/500\n",
      "19/19 [==============================] - 0s 4ms/step - loss: 0.5240 - mape: 5.1012 - val_loss: 0.4471 - val_mape: 4.7286 - lr: 0.0010\n",
      "Epoch 4/500\n",
      "19/19 [==============================] - 0s 5ms/step - loss: 0.2239 - mape: 3.1496 - val_loss: 0.1965 - val_mape: 2.8807 - lr: 0.0010\n",
      "Epoch 5/500\n",
      "19/19 [==============================] - 0s 5ms/step - loss: 0.1297 - mape: 2.3861 - val_loss: 0.1392 - val_mape: 2.4279 - lr: 0.0010\n",
      "Epoch 6/500\n",
      "19/19 [==============================] - 0s 3ms/step - loss: 0.1056 - mape: 2.1537 - val_loss: 0.1175 - val_mape: 2.2015 - lr: 0.0010\n",
      "Epoch 7/500\n",
      "19/19 [==============================] - 0s 3ms/step - loss: 0.0882 - mape: 1.9619 - val_loss: 0.1033 - val_mape: 2.0596 - lr: 0.0010\n",
      "Epoch 8/500\n",
      "19/19 [==============================] - 0s 5ms/step - loss: 0.0762 - mape: 1.8191 - val_loss: 0.0920 - val_mape: 1.9389 - lr: 0.0010\n",
      "Epoch 9/500\n",
      "19/19 [==============================] - 0s 5ms/step - loss: 0.0668 - mape: 1.7004 - val_loss: 0.0826 - val_mape: 1.8366 - lr: 0.0010\n",
      "Epoch 10/500\n",
      "19/19 [==============================] - 0s 6ms/step - loss: 0.0588 - mape: 1.5922 - val_loss: 0.0749 - val_mape: 1.7515 - lr: 0.0010\n",
      "Epoch 11/500\n",
      "19/19 [==============================] - 0s 4ms/step - loss: 0.0525 - mape: 1.5030 - val_loss: 0.0685 - val_mape: 1.6786 - lr: 0.0010\n",
      "Epoch 12/500\n",
      "19/19 [==============================] - 0s 4ms/step - loss: 0.0473 - mape: 1.4253 - val_loss: 0.0632 - val_mape: 1.6143 - lr: 0.0010\n",
      "Epoch 13/500\n",
      "19/19 [==============================] - 0s 4ms/step - loss: 0.0429 - mape: 1.3568 - val_loss: 0.0586 - val_mape: 1.5593 - lr: 0.0010\n",
      "Epoch 14/500\n",
      "19/19 [==============================] - 0s 4ms/step - loss: 0.0393 - mape: 1.2964 - val_loss: 0.0548 - val_mape: 1.5090 - lr: 0.0010\n",
      "Epoch 15/500\n",
      "19/19 [==============================] - 0s 6ms/step - loss: 0.0362 - mape: 1.2427 - val_loss: 0.0515 - val_mape: 1.4613 - lr: 0.0010\n",
      "Epoch 16/500\n",
      "19/19 [==============================] - 0s 5ms/step - loss: 0.0336 - mape: 1.1948 - val_loss: 0.0486 - val_mape: 1.4167 - lr: 0.0010\n",
      "Epoch 17/500\n",
      "19/19 [==============================] - 0s 6ms/step - loss: 0.0314 - mape: 1.1521 - val_loss: 0.0461 - val_mape: 1.3752 - lr: 0.0010\n",
      "Epoch 18/500\n",
      "19/19 [==============================] - 0s 5ms/step - loss: 0.0294 - mape: 1.1134 - val_loss: 0.0439 - val_mape: 1.3378 - lr: 0.0010\n",
      "Epoch 19/500\n",
      "19/19 [==============================] - 0s 4ms/step - loss: 0.0277 - mape: 1.0789 - val_loss: 0.0419 - val_mape: 1.3038 - lr: 0.0010\n",
      "Epoch 20/500\n",
      "19/19 [==============================] - 0s 5ms/step - loss: 0.0262 - mape: 1.0480 - val_loss: 0.0401 - val_mape: 1.2727 - lr: 0.0010\n",
      "Epoch 21/500\n",
      "19/19 [==============================] - 0s 5ms/step - loss: 0.0249 - mape: 1.0201 - val_loss: 0.0385 - val_mape: 1.2453 - lr: 0.0010\n",
      "Epoch 22/500\n",
      "19/19 [==============================] - 0s 5ms/step - loss: 0.0237 - mape: 0.9948 - val_loss: 0.0371 - val_mape: 1.2183 - lr: 0.0010\n",
      "Epoch 23/500\n",
      "19/19 [==============================] - 0s 4ms/step - loss: 0.0226 - mape: 0.9722 - val_loss: 0.0358 - val_mape: 1.1930 - lr: 0.0010\n",
      "Epoch 24/500\n",
      "19/19 [==============================] - 0s 5ms/step - loss: 0.0217 - mape: 0.9507 - val_loss: 0.0347 - val_mape: 1.1694 - lr: 0.0010\n",
      "Epoch 25/500\n",
      "19/19 [==============================] - 0s 5ms/step - loss: 0.0207 - mape: 0.9301 - val_loss: 0.0335 - val_mape: 1.1469 - lr: 0.0010\n",
      "Epoch 26/500\n",
      "19/19 [==============================] - 0s 5ms/step - loss: 0.0199 - mape: 0.9106 - val_loss: 0.0326 - val_mape: 1.1274 - lr: 0.0010\n",
      "Epoch 27/500\n",
      "19/19 [==============================] - 0s 4ms/step - loss: 0.0192 - mape: 0.8923 - val_loss: 0.0317 - val_mape: 1.1088 - lr: 0.0010\n",
      "Epoch 28/500\n",
      "19/19 [==============================] - 0s 4ms/step - loss: 0.0185 - mape: 0.8758 - val_loss: 0.0309 - val_mape: 1.0925 - lr: 0.0010\n",
      "Epoch 29/500\n",
      "19/19 [==============================] - 0s 6ms/step - loss: 0.0178 - mape: 0.8598 - val_loss: 0.0301 - val_mape: 1.0765 - lr: 0.0010\n",
      "Epoch 30/500\n",
      "19/19 [==============================] - 0s 5ms/step - loss: 0.0173 - mape: 0.8455 - val_loss: 0.0295 - val_mape: 1.0632 - lr: 0.0010\n",
      "Epoch 31/500\n",
      "19/19 [==============================] - 0s 5ms/step - loss: 0.0168 - mape: 0.8320 - val_loss: 0.0289 - val_mape: 1.0510 - lr: 0.0010\n",
      "Epoch 32/500\n",
      "19/19 [==============================] - 0s 5ms/step - loss: 0.0163 - mape: 0.8183 - val_loss: 0.0282 - val_mape: 1.0385 - lr: 0.0010\n",
      "Epoch 33/500\n",
      "19/19 [==============================] - 0s 4ms/step - loss: 0.0158 - mape: 0.8061 - val_loss: 0.0278 - val_mape: 1.0292 - lr: 0.0010\n",
      "Epoch 34/500\n",
      "19/19 [==============================] - 0s 4ms/step - loss: 0.0154 - mape: 0.7934 - val_loss: 0.0272 - val_mape: 1.0185 - lr: 0.0010\n",
      "Epoch 35/500\n",
      "19/19 [==============================] - 0s 7ms/step - loss: 0.0150 - mape: 0.7821 - val_loss: 0.0267 - val_mape: 1.0090 - lr: 0.0010\n",
      "Epoch 36/500\n",
      "19/19 [==============================] - 0s 6ms/step - loss: 0.0146 - mape: 0.7715 - val_loss: 0.0263 - val_mape: 1.0004 - lr: 0.0010\n",
      "Epoch 37/500\n",
      "19/19 [==============================] - 0s 4ms/step - loss: 0.0143 - mape: 0.7620 - val_loss: 0.0260 - val_mape: 0.9924 - lr: 0.0010\n",
      "Epoch 38/500\n",
      "19/19 [==============================] - 0s 5ms/step - loss: 0.0139 - mape: 0.7515 - val_loss: 0.0255 - val_mape: 0.9839 - lr: 0.0010\n",
      "Epoch 39/500\n",
      "19/19 [==============================] - 0s 5ms/step - loss: 0.0136 - mape: 0.7413 - val_loss: 0.0251 - val_mape: 0.9752 - lr: 0.0010\n",
      "Epoch 40/500\n",
      "19/19 [==============================] - 0s 4ms/step - loss: 0.0133 - mape: 0.7327 - val_loss: 0.0248 - val_mape: 0.9663 - lr: 0.0010\n",
      "Epoch 41/500\n",
      "19/19 [==============================] - 0s 5ms/step - loss: 0.0130 - mape: 0.7241 - val_loss: 0.0244 - val_mape: 0.9586 - lr: 0.0010\n",
      "Epoch 42/500\n",
      "19/19 [==============================] - 0s 6ms/step - loss: 0.0128 - mape: 0.7154 - val_loss: 0.0241 - val_mape: 0.9508 - lr: 0.0010\n",
      "Epoch 43/500\n",
      "19/19 [==============================] - 0s 4ms/step - loss: 0.0125 - mape: 0.7076 - val_loss: 0.0239 - val_mape: 0.9441 - lr: 0.0010\n",
      "Epoch 44/500\n",
      "19/19 [==============================] - 0s 3ms/step - loss: 0.0123 - mape: 0.6994 - val_loss: 0.0236 - val_mape: 0.9364 - lr: 0.0010\n",
      "Epoch 45/500\n",
      "19/19 [==============================] - 0s 4ms/step - loss: 0.0121 - mape: 0.6926 - val_loss: 0.0234 - val_mape: 0.9302 - lr: 0.0010\n",
      "Epoch 46/500\n",
      "19/19 [==============================] - 0s 4ms/step - loss: 0.0119 - mape: 0.6867 - val_loss: 0.0232 - val_mape: 0.9241 - lr: 0.0010\n",
      "Epoch 47/500\n",
      "19/19 [==============================] - 0s 4ms/step - loss: 0.0116 - mape: 0.6789 - val_loss: 0.0229 - val_mape: 0.9175 - lr: 0.0010\n",
      "Epoch 48/500\n",
      "19/19 [==============================] - 0s 6ms/step - loss: 0.0115 - mape: 0.6731 - val_loss: 0.0226 - val_mape: 0.9116 - lr: 0.0010\n",
      "Epoch 49/500\n",
      "19/19 [==============================] - 0s 5ms/step - loss: 0.0113 - mape: 0.6692 - val_loss: 0.0225 - val_mape: 0.9092 - lr: 0.0010\n",
      "Epoch 50/500\n",
      "19/19 [==============================] - 0s 5ms/step - loss: 0.0112 - mape: 0.6636 - val_loss: 0.0223 - val_mape: 0.9055 - lr: 0.0010\n",
      "Epoch 51/500\n",
      "19/19 [==============================] - 0s 5ms/step - loss: 0.0110 - mape: 0.6574 - val_loss: 0.0221 - val_mape: 0.8990 - lr: 0.0010\n",
      "Epoch 52/500\n",
      "19/19 [==============================] - 0s 4ms/step - loss: 0.0108 - mape: 0.6520 - val_loss: 0.0219 - val_mape: 0.8930 - lr: 0.0010\n",
      "Epoch 53/500\n",
      "19/19 [==============================] - 0s 4ms/step - loss: 0.0107 - mape: 0.6474 - val_loss: 0.0217 - val_mape: 0.8880 - lr: 0.0010\n",
      "Epoch 54/500\n",
      "19/19 [==============================] - 0s 6ms/step - loss: 0.0106 - mape: 0.6438 - val_loss: 0.0215 - val_mape: 0.8835 - lr: 0.0010\n",
      "Epoch 55/500\n",
      "19/19 [==============================] - 0s 5ms/step - loss: 0.0105 - mape: 0.6405 - val_loss: 0.0214 - val_mape: 0.8814 - lr: 0.0010\n",
      "Epoch 56/500\n",
      "19/19 [==============================] - 0s 4ms/step - loss: 0.0104 - mape: 0.6357 - val_loss: 0.0213 - val_mape: 0.8776 - lr: 0.0010\n",
      "Epoch 57/500\n",
      "19/19 [==============================] - 0s 4ms/step - loss: 0.0102 - mape: 0.6311 - val_loss: 0.0210 - val_mape: 0.8706 - lr: 0.0010\n",
      "Epoch 58/500\n",
      "19/19 [==============================] - 0s 6ms/step - loss: 0.0100 - mape: 0.6261 - val_loss: 0.0207 - val_mape: 0.8637 - lr: 0.0010\n",
      "Epoch 59/500\n",
      "19/19 [==============================] - 0s 5ms/step - loss: 0.0099 - mape: 0.6224 - val_loss: 0.0207 - val_mape: 0.8621 - lr: 0.0010\n",
      "Epoch 60/500\n",
      "19/19 [==============================] - 0s 4ms/step - loss: 0.0098 - mape: 0.6183 - val_loss: 0.0205 - val_mape: 0.8590 - lr: 0.0010\n",
      "Epoch 61/500\n",
      "19/19 [==============================] - 0s 4ms/step - loss: 0.0097 - mape: 0.6134 - val_loss: 0.0204 - val_mape: 0.8559 - lr: 0.0010\n",
      "Epoch 62/500\n",
      "19/19 [==============================] - 0s 4ms/step - loss: 0.0096 - mape: 0.6087 - val_loss: 0.0202 - val_mape: 0.8507 - lr: 0.0010\n",
      "Epoch 63/500\n",
      "19/19 [==============================] - 0s 5ms/step - loss: 0.0094 - mape: 0.6043 - val_loss: 0.0201 - val_mape: 0.8480 - lr: 0.0010\n",
      "Epoch 64/500\n",
      "19/19 [==============================] - 0s 4ms/step - loss: 0.0093 - mape: 0.6020 - val_loss: 0.0200 - val_mape: 0.8478 - lr: 0.0010\n",
      "Epoch 65/500\n",
      "19/19 [==============================] - 0s 4ms/step - loss: 0.0093 - mape: 0.5989 - val_loss: 0.0200 - val_mape: 0.8481 - lr: 0.0010\n",
      "Epoch 66/500\n",
      "19/19 [==============================] - 0s 4ms/step - loss: 0.0090 - mape: 0.5899 - val_loss: 0.0198 - val_mape: 0.8419 - lr: 5.0000e-04\n",
      "Epoch 67/500\n",
      "19/19 [==============================] - 0s 4ms/step - loss: 0.0090 - mape: 0.5904 - val_loss: 0.0197 - val_mape: 0.8407 - lr: 5.0000e-04\n",
      "Epoch 68/500\n",
      "19/19 [==============================] - 0s 4ms/step - loss: 0.0090 - mape: 0.5902 - val_loss: 0.0197 - val_mape: 0.8395 - lr: 5.0000e-04\n",
      "Epoch 69/500\n",
      "19/19 [==============================] - 0s 4ms/step - loss: 0.0089 - mape: 0.5886 - val_loss: 0.0196 - val_mape: 0.8374 - lr: 5.0000e-04\n",
      "Epoch 70/500\n",
      "19/19 [==============================] - 0s 4ms/step - loss: 0.0089 - mape: 0.5860 - val_loss: 0.0195 - val_mape: 0.8364 - lr: 5.0000e-04\n",
      "Epoch 71/500\n",
      "19/19 [==============================] - 0s 4ms/step - loss: 0.0088 - mape: 0.5840 - val_loss: 0.0195 - val_mape: 0.8357 - lr: 5.0000e-04\n",
      "Epoch 72/500\n",
      "19/19 [==============================] - 0s 4ms/step - loss: 0.0087 - mape: 0.5819 - val_loss: 0.0195 - val_mape: 0.8344 - lr: 5.0000e-04\n",
      "Epoch 73/500\n",
      "19/19 [==============================] - 0s 4ms/step - loss: 0.0086 - mape: 0.5776 - val_loss: 0.0194 - val_mape: 0.8332 - lr: 2.5000e-04\n",
      "Epoch 74/500\n",
      "19/19 [==============================] - 0s 4ms/step - loss: 0.0086 - mape: 0.5750 - val_loss: 0.0194 - val_mape: 0.8332 - lr: 2.5000e-04\n",
      "Epoch 75/500\n",
      "19/19 [==============================] - 0s 4ms/step - loss: 0.0085 - mape: 0.5741 - val_loss: 0.0194 - val_mape: 0.8324 - lr: 2.5000e-04\n",
      "Epoch 76/500\n",
      "19/19 [==============================] - 0s 5ms/step - loss: 0.0085 - mape: 0.5714 - val_loss: 0.0194 - val_mape: 0.8330 - lr: 1.2500e-04\n",
      "Epoch 77/500\n",
      "19/19 [==============================] - 0s 5ms/step - loss: 0.0085 - mape: 0.5708 - val_loss: 0.0193 - val_mape: 0.8324 - lr: 1.2500e-04\n",
      "Epoch 78/500\n",
      "19/19 [==============================] - 0s 5ms/step - loss: 0.0084 - mape: 0.5697 - val_loss: 0.0193 - val_mape: 0.8325 - lr: 6.2500e-05\n",
      "Epoch 79/500\n",
      "19/19 [==============================] - 0s 3ms/step - loss: 0.0084 - mape: 0.5694 - val_loss: 0.0193 - val_mape: 0.8323 - lr: 6.2500e-05\n",
      "Epoch 80/500\n",
      "19/19 [==============================] - 0s 5ms/step - loss: 0.0084 - mape: 0.5689 - val_loss: 0.0193 - val_mape: 0.8323 - lr: 3.1250e-05\n",
      "Epoch 81/500\n",
      "19/19 [==============================] - 0s 5ms/step - loss: 0.0084 - mape: 0.5687 - val_loss: 0.0193 - val_mape: 0.8322 - lr: 3.1250e-05\n",
      "Epoch 82/500\n",
      "19/19 [==============================] - 0s 5ms/step - loss: 0.0084 - mape: 0.5684 - val_loss: 0.0193 - val_mape: 0.8322 - lr: 1.5625e-05\n",
      "Epoch 83/500\n",
      "19/19 [==============================] - 0s 4ms/step - loss: 0.0084 - mape: 0.5684 - val_loss: 0.0193 - val_mape: 0.8322 - lr: 1.5625e-05\n",
      "Epoch 84/500\n",
      "19/19 [==============================] - 0s 5ms/step - loss: 0.0084 - mape: 0.5682 - val_loss: 0.0193 - val_mape: 0.8322 - lr: 7.8125e-06\n",
      "Epoch 85/500\n",
      "19/19 [==============================] - 0s 4ms/step - loss: 0.0084 - mape: 0.5682 - val_loss: 0.0193 - val_mape: 0.8321 - lr: 7.8125e-06\n",
      "Epoch 86/500\n",
      "19/19 [==============================] - 0s 4ms/step - loss: 0.0084 - mape: 0.5681 - val_loss: 0.0193 - val_mape: 0.8321 - lr: 3.9063e-06\n",
      "Epoch 87/500\n",
      "19/19 [==============================] - 0s 4ms/step - loss: 0.0084 - mape: 0.5681 - val_loss: 0.0193 - val_mape: 0.8321 - lr: 3.9063e-06\n",
      "Epoch 88/500\n",
      "19/19 [==============================] - 0s 5ms/step - loss: 0.0084 - mape: 0.5680 - val_loss: 0.0193 - val_mape: 0.8321 - lr: 1.9531e-06\n",
      "Epoch 89/500\n",
      "19/19 [==============================] - 0s 5ms/step - loss: 0.0084 - mape: 0.5680 - val_loss: 0.0193 - val_mape: 0.8321 - lr: 1.9531e-06\n",
      "Epoch 90/500\n",
      "19/19 [==============================] - 0s 5ms/step - loss: 0.0084 - mape: 0.5680 - val_loss: 0.0193 - val_mape: 0.8321 - lr: 9.7656e-07\n",
      "Epoch 91/500\n",
      "19/19 [==============================] - 0s 6ms/step - loss: 0.0084 - mape: 0.5680 - val_loss: 0.0193 - val_mape: 0.8321 - lr: 9.7656e-07\n",
      "Epoch 92/500\n",
      "19/19 [==============================] - 0s 6ms/step - loss: 0.0084 - mape: 0.5680 - val_loss: 0.0193 - val_mape: 0.8321 - lr: 4.8828e-07\n",
      "Epoch 93/500\n",
      "19/19 [==============================] - 0s 5ms/step - loss: 0.0084 - mape: 0.5680 - val_loss: 0.0193 - val_mape: 0.8321 - lr: 4.8828e-07\n",
      "Epoch 94/500\n",
      "19/19 [==============================] - 0s 5ms/step - loss: 0.0084 - mape: 0.5680 - val_loss: 0.0193 - val_mape: 0.8321 - lr: 2.4414e-07\n",
      "Epoch 95/500\n",
      "19/19 [==============================] - 0s 5ms/step - loss: 0.0084 - mape: 0.5680 - val_loss: 0.0193 - val_mape: 0.8321 - lr: 2.4414e-07\n",
      "Epoch 96/500\n",
      "19/19 [==============================] - 0s 5ms/step - loss: 0.0084 - mape: 0.5680 - val_loss: 0.0193 - val_mape: 0.8321 - lr: 1.2207e-07\n",
      "Epoch 97/500\n",
      "19/19 [==============================] - 0s 5ms/step - loss: 0.0084 - mape: 0.5680 - val_loss: 0.0193 - val_mape: 0.8321 - lr: 1.2207e-07\n",
      "Epoch 98/500\n",
      "19/19 [==============================] - 0s 4ms/step - loss: 0.0084 - mape: 0.5680 - val_loss: 0.0193 - val_mape: 0.8321 - lr: 6.1035e-08\n",
      "Epoch 99/500\n",
      "19/19 [==============================] - 0s 6ms/step - loss: 0.0084 - mape: 0.5680 - val_loss: 0.0193 - val_mape: 0.8321 - lr: 6.1035e-08\n",
      "Epoch 100/500\n",
      "19/19 [==============================] - 0s 6ms/step - loss: 0.0084 - mape: 0.5680 - val_loss: 0.0193 - val_mape: 0.8321 - lr: 3.0518e-08\n",
      "Epoch 101/500\n",
      "19/19 [==============================] - 0s 5ms/step - loss: 0.0084 - mape: 0.5680 - val_loss: 0.0193 - val_mape: 0.8321 - lr: 3.0518e-08\n",
      "Epoch 102/500\n",
      "19/19 [==============================] - 0s 6ms/step - loss: 0.0084 - mape: 0.5680 - val_loss: 0.0193 - val_mape: 0.8321 - lr: 1.5259e-08\n",
      "Epoch 103/500\n",
      "19/19 [==============================] - 0s 5ms/step - loss: 0.0084 - mape: 0.5680 - val_loss: 0.0193 - val_mape: 0.8321 - lr: 1.5259e-08\n",
      "Epoch 104/500\n",
      "19/19 [==============================] - 0s 5ms/step - loss: 0.0084 - mape: 0.5680 - val_loss: 0.0193 - val_mape: 0.8321 - lr: 7.6294e-09\n",
      "Epoch 105/500\n",
      "19/19 [==============================] - 0s 5ms/step - loss: 0.0084 - mape: 0.5680 - val_loss: 0.0193 - val_mape: 0.8321 - lr: 7.6294e-09\n",
      "Epoch 106/500\n",
      "19/19 [==============================] - 0s 5ms/step - loss: 0.0084 - mape: 0.5680 - val_loss: 0.0193 - val_mape: 0.8321 - lr: 3.8147e-09\n",
      "Epoch 107/500\n",
      "19/19 [==============================] - 0s 5ms/step - loss: 0.0084 - mape: 0.5680 - val_loss: 0.0193 - val_mape: 0.8321 - lr: 3.8147e-09\n",
      "Epoch 108/500\n",
      "19/19 [==============================] - 0s 5ms/step - loss: 0.0084 - mape: 0.5680 - val_loss: 0.0193 - val_mape: 0.8321 - lr: 1.9073e-09\n",
      "Epoch 109/500\n",
      "19/19 [==============================] - 0s 3ms/step - loss: 0.0084 - mape: 0.5680 - val_loss: 0.0193 - val_mape: 0.8321 - lr: 1.9073e-09\n",
      "Epoch 110/500\n",
      "19/19 [==============================] - 0s 4ms/step - loss: 0.0084 - mape: 0.5680 - val_loss: 0.0193 - val_mape: 0.8321 - lr: 9.5367e-10\n"
     ]
    }
   ],
   "source": [
    "# Train model\n",
    "history = NN_model.fit(x=train_data,\n",
    "                        epochs=500,\n",
    "                        callbacks=callbacks_list,\n",
    "                        validation_data=test_data,\n",
    "                        steps_per_epoch=len(train_data),\n",
    "                        validation_steps=len(test_data))"
   ]
  },
  {
   "cell_type": "code",
   "execution_count": 38,
   "id": "3da4b4c1-5edf-4c1b-a200-8467f4356fb1",
   "metadata": {},
   "outputs": [
    {
     "data": {
      "text/html": [
       "<div>\n",
       "<style scoped>\n",
       "    .dataframe tbody tr th:only-of-type {\n",
       "        vertical-align: middle;\n",
       "    }\n",
       "\n",
       "    .dataframe tbody tr th {\n",
       "        vertical-align: top;\n",
       "    }\n",
       "\n",
       "    .dataframe thead th {\n",
       "        text-align: right;\n",
       "    }\n",
       "</style>\n",
       "<table border=\"1\" class=\"dataframe\">\n",
       "  <thead>\n",
       "    <tr style=\"text-align: right;\">\n",
       "      <th></th>\n",
       "      <th>MAPE</th>\n",
       "      <th>R2 score</th>\n",
       "    </tr>\n",
       "  </thead>\n",
       "  <tbody>\n",
       "    <tr>\n",
       "      <th>SVR</th>\n",
       "      <td>6.9447</td>\n",
       "      <td>0.9395</td>\n",
       "    </tr>\n",
       "    <tr>\n",
       "      <th>Lasso</th>\n",
       "      <td>7.1479</td>\n",
       "      <td>0.9365</td>\n",
       "    </tr>\n",
       "    <tr>\n",
       "      <th>ElasticNet</th>\n",
       "      <td>7.1570</td>\n",
       "      <td>0.9365</td>\n",
       "    </tr>\n",
       "    <tr>\n",
       "      <th>Ridge</th>\n",
       "      <td>7.1997</td>\n",
       "      <td>0.9368</td>\n",
       "    </tr>\n",
       "    <tr>\n",
       "      <th>LGBM</th>\n",
       "      <td>7.6815</td>\n",
       "      <td>0.9265</td>\n",
       "    </tr>\n",
       "    <tr>\n",
       "      <th>Random forest</th>\n",
       "      <td>9.7883</td>\n",
       "      <td>0.8811</td>\n",
       "    </tr>\n",
       "    <tr>\n",
       "      <th>Neural network</th>\n",
       "      <td>9.9817</td>\n",
       "      <td>0.8840</td>\n",
       "    </tr>\n",
       "  </tbody>\n",
       "</table>\n",
       "</div>"
      ],
      "text/plain": [
       "                 MAPE  R2 score\n",
       "SVR            6.9447    0.9395\n",
       "Lasso          7.1479    0.9365\n",
       "ElasticNet     7.1570    0.9365\n",
       "Ridge          7.1997    0.9368\n",
       "LGBM           7.6815    0.9265\n",
       "Random forest  9.7883    0.8811\n",
       "Neural network 9.9817    0.8840"
      ]
     },
     "execution_count": 38,
     "metadata": {},
     "output_type": "execute_result"
    }
   ],
   "source": [
    "NN_result = get_result(NN_model, X_test=X_test)\n",
    "\n",
    "all_results_1 = pd.DataFrame({\n",
    "    \"Lasso\": lasso_result_1,\n",
    "    \"Ridge\": ridge_result_1,\n",
    "    \"ElasticNet\": elastic_result_1,\n",
    "    \"Random forest\": random_forest_result_1,\n",
    "    \"SVR\": SVR_result_1,\n",
    "    \"LGBM\": LGBM_result_1,\n",
    "    \"Neural network\": NN_result\n",
    "})\n",
    "\n",
    "all_results_1.transpose().sort_values(by=\"MAPE\", ascending=True)"
   ]
  },
  {
   "cell_type": "markdown",
   "id": "6ebf9fbc-603c-426d-ad18-1db5a0e552e9",
   "metadata": {},
   "source": [
    "Mô hình NN bị overfit và kết quả không được như các mô hình khác. Thông thường NN model chỉ hoạt động tốt khi có nhiều dữ liệu.\n",
    "\n",
    "Cuối cùng chúng ta sẽ thử ensemble learning."
   ]
  },
  {
   "cell_type": "code",
   "execution_count": 40,
   "id": "50ef5e5f-6e76-404d-9394-4a61e8d4e80a",
   "metadata": {},
   "outputs": [],
   "source": [
    "lasso_model_ensemble = make_pipeline(RobustScaler(), Lasso(alpha=0.0008))\n",
    "ridge_model_ensemble = make_pipeline(RobustScaler(), Ridge(alpha=21))\n",
    "elastic_model_ensemble = make_pipeline(RobustScaler(), ElasticNet(alpha=0.0012, l1_ratio=0.62))\n",
    "random_forest_ensemble = RandomForestRegressor(n_estimators=140, min_samples_leaf=2)\n",
    "SVR_model_ensemble = make_pipeline(RobustScaler(), SVR(gamma=\"auto\", C=2.1, epsilon=0.016))\n",
    "LGBM_model_ensemble = LGBMRegressor(num_leaves=2, learning_rate=0.05, n_estimators=3300, min_child_samples=14, reg_alpha=0.007, reg_lambda=0.0011)"
   ]
  },
  {
   "cell_type": "markdown",
   "id": "bff90889-e7bb-4a76-8896-7e92d21d7082",
   "metadata": {},
   "source": [
    "Kết hợp 3 mô hình tốt nhất"
   ]
  },
  {
   "cell_type": "code",
   "execution_count": 41,
   "id": "e6d0b98e-f04a-4358-8ab6-6839eef09b98",
   "metadata": {},
   "outputs": [
    {
     "data": {
      "text/plain": [
       "{'weights': [8, 1, 1]}"
      ]
     },
     "execution_count": 41,
     "metadata": {},
     "output_type": "execute_result"
    }
   ],
   "source": [
    "top_3_param = {\n",
    "    \"weights\": [None, [8, 1, 1], [7, 2, 1], [6, 3, 1], [6, 2, 2], [5, 4, 1], [5, 3, 2], [4, 4, 2], [4, 3, 3]]\n",
    "}\n",
    "\n",
    "top_3_estimators = [(\"SVR\", SVR_model_ensemble), (\"Ridge\", ridge_model_ensemble), (\"Elastic\", elastic_model_ensemble)]\n",
    "\n",
    "top_3_model_search = VotingRegressor(estimators=top_3_estimators)\n",
    "top_3_search = GridSearchCV(estimator=top_3_model_search, param_grid=top_3_param)\n",
    "top_3_search.fit(X_train, y_train)\n",
    "top_3_search.best_params_"
   ]
  },
  {
   "cell_type": "code",
   "execution_count": 42,
   "id": "23f7782c-73e6-464f-90c9-7fe77992f8cb",
   "metadata": {},
   "outputs": [
    {
     "data": {
      "text/plain": [
       "{'MAPE': 6.897375496680934, 'R2 score': 0.9403233264780841}"
      ]
     },
     "execution_count": 42,
     "metadata": {},
     "output_type": "execute_result"
    }
   ],
   "source": [
    "top_3_model = VotingRegressor(estimators=top_3_estimators, weights=[8, 1, 1])\n",
    "top_3_model.fit(X_train, y_train)\n",
    "top_3_result = get_result(top_3_model, X_test=X_test)\n",
    "top_3_result"
   ]
  },
  {
   "cell_type": "markdown",
   "id": "d2720ae8-ac3f-4387-9233-70744a702892",
   "metadata": {},
   "source": [
    "Top 4"
   ]
  },
  {
   "cell_type": "code",
   "execution_count": 43,
   "id": "3ea4f0d6-850a-4ba6-ab3f-789e50fb0dd2",
   "metadata": {},
   "outputs": [
    {
     "data": {
      "text/plain": [
       "{'weights': [7, 1, 1, 1]}"
      ]
     },
     "execution_count": 43,
     "metadata": {},
     "output_type": "execute_result"
    }
   ],
   "source": [
    "top_4_param = {\n",
    "    \"weights\": [None, [7, 1, 1, 1], [6, 2, 1, 1], [5, 3, 1, 1], [5, 2, 2, 1], [4, 4, 1, 1], [4, 3, 2, 1], [4, 2, 2, 2], [3, 3, 3, 1], [3, 3, 2, 2]]\n",
    "}\n",
    "\n",
    "top_4_estimators = [(\"SVR\", SVR_model_ensemble), (\"Ridge\", ridge_model_ensemble), (\"Elastic\", elastic_model_ensemble), (\"Lasso\", lasso_model_ensemble)]\n",
    "\n",
    "top_4_model_search = VotingRegressor(estimators=top_4_estimators)\n",
    "top_4_search = GridSearchCV(estimator=top_4_model_search, param_grid=top_4_param)\n",
    "top_4_search.fit(X_train, y_train)\n",
    "top_4_search.best_params_"
   ]
  },
  {
   "cell_type": "code",
   "execution_count": 44,
   "id": "341daf5f-ed9c-44ba-a4df-03c6a1ad0721",
   "metadata": {},
   "outputs": [
    {
     "data": {
      "text/plain": [
       "{'MAPE': 6.880602159521071, 'R2 score': 0.9405340588329975}"
      ]
     },
     "execution_count": 44,
     "metadata": {},
     "output_type": "execute_result"
    }
   ],
   "source": [
    "top_4_model = VotingRegressor(estimators=top_4_estimators, weights=[7, 1, 1, 1])\n",
    "top_4_model.fit(X_train, y_train)\n",
    "top_4_result = get_result(top_4_model, X_test=X_test)\n",
    "top_4_result"
   ]
  },
  {
   "cell_type": "markdown",
   "id": "53ccbee3-0c7c-4535-a22b-291779c0196c",
   "metadata": {},
   "source": [
    "Top 5"
   ]
  },
  {
   "cell_type": "code",
   "execution_count": 45,
   "id": "f879ae2e-f481-49f3-a056-20fd33d6f656",
   "metadata": {},
   "outputs": [
    {
     "data": {
      "text/plain": [
       "{'weights': [6, 1, 1, 1, 1]}"
      ]
     },
     "execution_count": 45,
     "metadata": {},
     "output_type": "execute_result"
    }
   ],
   "source": [
    "top_5_param = {\n",
    "    \"weights\": [None, [6, 1, 1, 1, 1], [5, 2, 1, 1, 1], [4, 3, 1, 1, 1], [4, 2, 2, 1, 1], [3, 3, 2, 1, 1], [3, 2, 2, 2, 1]]\n",
    "}\n",
    "\n",
    "top_5_estimators = [(\"SVR\", SVR_model_ensemble), (\"Ridge\", ridge_model_ensemble), (\"Elastic\", elastic_model_ensemble),\n",
    "                    (\"Lasso\", lasso_model_ensemble), (\"LGBM\", LGBM_model_ensemble)]\n",
    "\n",
    "top_5_model_search = VotingRegressor(estimators=top_5_estimators)\n",
    "top_5_search = GridSearchCV(estimator=top_5_model_search, param_grid=top_5_param)\n",
    "top_5_search.fit(X_train, y_train)\n",
    "top_5_search.best_params_"
   ]
  },
  {
   "cell_type": "code",
   "execution_count": 46,
   "id": "6f26fc6b-7a95-460a-931a-07351c1e482a",
   "metadata": {},
   "outputs": [
    {
     "data": {
      "text/plain": [
       "{'MAPE': 6.878623870085837, 'R2 score': 0.94026228028299}"
      ]
     },
     "execution_count": 46,
     "metadata": {},
     "output_type": "execute_result"
    }
   ],
   "source": [
    "top_5_model = VotingRegressor(estimators=top_5_estimators, weights=[6, 1, 1, 1, 1])\n",
    "top_5_model.fit(X_train, y_train)\n",
    "top_5_result = get_result(top_5_model, X_test=X_test)\n",
    "top_5_result"
   ]
  },
  {
   "cell_type": "markdown",
   "id": "4a97887c-b9d5-4875-8ab4-fd87c8ba57db",
   "metadata": {},
   "source": [
    "Kết hợp tất cả 6 mô hình"
   ]
  },
  {
   "cell_type": "code",
   "execution_count": 47,
   "id": "afa85a97-a6db-43d7-a159-b94cfeeb0eff",
   "metadata": {},
   "outputs": [
    {
     "data": {
      "text/plain": [
       "{'weights': [5, 1, 1, 1, 1, 1]}"
      ]
     },
     "execution_count": 47,
     "metadata": {},
     "output_type": "execute_result"
    }
   ],
   "source": [
    "ensemble_param = {\n",
    "    \"weights\": [None, [5, 1, 1, 1, 1, 1], [4, 2, 1, 1, 1, 1], [3, 3, 1, 1, 1, 1], [3, 2, 2, 1, 1, 1], [2, 2, 2, 2, 1, 1]]\n",
    "}\n",
    "\n",
    "ensemble_estimators = [(\"SVR\", SVR_model_ensemble), (\"Ridge\", ridge_model_ensemble), (\"Elastic\", elastic_model_ensemble), \n",
    "                       (\"Lasso\", lasso_model_ensemble), (\"LGBM\", LGBM_model_ensemble), (\"Random Forest\", random_forest_ensemble)]\n",
    "\n",
    "ensemble_model_search = VotingRegressor(estimators=ensemble_estimators)\n",
    "ensemble_search = GridSearchCV(estimator=ensemble_model_search, param_grid=ensemble_param)\n",
    "ensemble_search.fit(X_train, y_train)\n",
    "ensemble_search.best_params_"
   ]
  },
  {
   "cell_type": "code",
   "execution_count": 48,
   "id": "8cf5ad09-db5c-4a80-a823-22662e2881d8",
   "metadata": {},
   "outputs": [
    {
     "data": {
      "text/plain": [
       "{'MAPE': 6.915620537207596, 'R2 score': 0.9390067323537702}"
      ]
     },
     "execution_count": 48,
     "metadata": {},
     "output_type": "execute_result"
    }
   ],
   "source": [
    "ensemble_model = VotingRegressor(estimators=ensemble_estimators, weights=[5, 1, 1, 1, 1, 1])\n",
    "ensemble_model.fit(X_train, y_train)\n",
    "ensemble_result = get_result(ensemble_model, X_test=X_test)\n",
    "ensemble_result"
   ]
  },
  {
   "cell_type": "code",
   "execution_count": 49,
   "id": "8088fed2-fd80-4956-8ef0-9a8761374e84",
   "metadata": {},
   "outputs": [
    {
     "data": {
      "text/html": [
       "<div>\n",
       "<style scoped>\n",
       "    .dataframe tbody tr th:only-of-type {\n",
       "        vertical-align: middle;\n",
       "    }\n",
       "\n",
       "    .dataframe tbody tr th {\n",
       "        vertical-align: top;\n",
       "    }\n",
       "\n",
       "    .dataframe thead th {\n",
       "        text-align: right;\n",
       "    }\n",
       "</style>\n",
       "<table border=\"1\" class=\"dataframe\">\n",
       "  <thead>\n",
       "    <tr style=\"text-align: right;\">\n",
       "      <th></th>\n",
       "      <th>MAPE</th>\n",
       "      <th>R2 score</th>\n",
       "    </tr>\n",
       "  </thead>\n",
       "  <tbody>\n",
       "    <tr>\n",
       "      <th>Top 5</th>\n",
       "      <td>6.8786</td>\n",
       "      <td>0.9403</td>\n",
       "    </tr>\n",
       "    <tr>\n",
       "      <th>Top 4</th>\n",
       "      <td>6.8806</td>\n",
       "      <td>0.9405</td>\n",
       "    </tr>\n",
       "    <tr>\n",
       "      <th>Top 3</th>\n",
       "      <td>6.8974</td>\n",
       "      <td>0.9403</td>\n",
       "    </tr>\n",
       "    <tr>\n",
       "      <th>All 6 model</th>\n",
       "      <td>6.9156</td>\n",
       "      <td>0.9390</td>\n",
       "    </tr>\n",
       "    <tr>\n",
       "      <th>SVR</th>\n",
       "      <td>6.9447</td>\n",
       "      <td>0.9395</td>\n",
       "    </tr>\n",
       "    <tr>\n",
       "      <th>Lasso</th>\n",
       "      <td>7.1479</td>\n",
       "      <td>0.9365</td>\n",
       "    </tr>\n",
       "    <tr>\n",
       "      <th>ElasticNet</th>\n",
       "      <td>7.1570</td>\n",
       "      <td>0.9365</td>\n",
       "    </tr>\n",
       "    <tr>\n",
       "      <th>Ridge</th>\n",
       "      <td>7.1997</td>\n",
       "      <td>0.9368</td>\n",
       "    </tr>\n",
       "    <tr>\n",
       "      <th>LGBM</th>\n",
       "      <td>7.6815</td>\n",
       "      <td>0.9265</td>\n",
       "    </tr>\n",
       "    <tr>\n",
       "      <th>Random forest</th>\n",
       "      <td>9.7883</td>\n",
       "      <td>0.8811</td>\n",
       "    </tr>\n",
       "  </tbody>\n",
       "</table>\n",
       "</div>"
      ],
      "text/plain": [
       "                MAPE  R2 score\n",
       "Top 5         6.8786    0.9403\n",
       "Top 4         6.8806    0.9405\n",
       "Top 3         6.8974    0.9403\n",
       "All 6 model   6.9156    0.9390\n",
       "SVR           6.9447    0.9395\n",
       "Lasso         7.1479    0.9365\n",
       "ElasticNet    7.1570    0.9365\n",
       "Ridge         7.1997    0.9368\n",
       "LGBM          7.6815    0.9265\n",
       "Random forest 9.7883    0.8811"
      ]
     },
     "execution_count": 49,
     "metadata": {},
     "output_type": "execute_result"
    }
   ],
   "source": [
    "all_results_1 = pd.DataFrame({\n",
    "    \"Lasso\": lasso_result_1,\n",
    "    \"Ridge\": ridge_result_1,\n",
    "    \"ElasticNet\": elastic_result_1,\n",
    "    \"Random forest\": random_forest_result_1,\n",
    "    \"SVR\": SVR_result_1,\n",
    "    \"LGBM\": LGBM_result_1,\n",
    "    \"Top 3\": top_3_result,\n",
    "    \"Top 4\": top_4_result,\n",
    "    \"Top 5\": top_5_result,\n",
    "    \"All 6 model\": ensemble_result\n",
    "})\n",
    "\n",
    "all_results_1.transpose().sort_values(by=\"MAPE\", ascending=True)"
   ]
  },
  {
   "cell_type": "markdown",
   "id": "f25ac9ad-8d66-4b0e-928f-6549a5d49147",
   "metadata": {},
   "source": [
    "Hãy lấy ra các dự đoán sai nhất để quan sát"
   ]
  },
  {
   "cell_type": "code",
   "execution_count": 50,
   "id": "b4d55daa-f1b1-41a8-bf38-b232bf310aa0",
   "metadata": {},
   "outputs": [
    {
     "data": {
      "text/html": [
       "<div>\n",
       "<style scoped>\n",
       "    .dataframe tbody tr th:only-of-type {\n",
       "        vertical-align: middle;\n",
       "    }\n",
       "\n",
       "    .dataframe tbody tr th {\n",
       "        vertical-align: top;\n",
       "    }\n",
       "\n",
       "    .dataframe thead th {\n",
       "        text-align: right;\n",
       "    }\n",
       "</style>\n",
       "<table border=\"1\" class=\"dataframe\">\n",
       "  <thead>\n",
       "    <tr style=\"text-align: right;\">\n",
       "      <th></th>\n",
       "      <th>OverallQual</th>\n",
       "      <th>GrLivArea</th>\n",
       "      <th>GarageCars</th>\n",
       "      <th>Neighborhood</th>\n",
       "      <th>ExterQual</th>\n",
       "      <th>BsmtQual</th>\n",
       "      <th>KitchenQual</th>\n",
       "      <th>Price</th>\n",
       "      <th>Predict</th>\n",
       "      <th>Difference</th>\n",
       "    </tr>\n",
       "  </thead>\n",
       "  <tbody>\n",
       "    <tr>\n",
       "      <th>205</th>\n",
       "      <td>4.0000</td>\n",
       "      <td>796.0000</td>\n",
       "      <td>0.0000</td>\n",
       "      <td>IDOTRR</td>\n",
       "      <td>TA</td>\n",
       "      <td>TA</td>\n",
       "      <td>TA</td>\n",
       "      <td>55,000.0000</td>\n",
       "      <td>66,972.6025</td>\n",
       "      <td>21.7684</td>\n",
       "    </tr>\n",
       "    <tr>\n",
       "      <th>263</th>\n",
       "      <td>6.0000</td>\n",
       "      <td>918.0000</td>\n",
       "      <td>1.0000</td>\n",
       "      <td>SawyerW</td>\n",
       "      <td>TA</td>\n",
       "      <td>Gd</td>\n",
       "      <td>TA</td>\n",
       "      <td>99,500.0000</td>\n",
       "      <td>121,225.2694</td>\n",
       "      <td>21.8344</td>\n",
       "    </tr>\n",
       "    <tr>\n",
       "      <th>277</th>\n",
       "      <td>4.0000</td>\n",
       "      <td>960.0000</td>\n",
       "      <td>1.0000</td>\n",
       "      <td>Edwards</td>\n",
       "      <td>TA</td>\n",
       "      <td>TA</td>\n",
       "      <td>TA</td>\n",
       "      <td>112,000.0000</td>\n",
       "      <td>84,437.7130</td>\n",
       "      <td>24.6092</td>\n",
       "    </tr>\n",
       "    <tr>\n",
       "      <th>24</th>\n",
       "      <td>8.0000</td>\n",
       "      <td>1,752.0000</td>\n",
       "      <td>2.0000</td>\n",
       "      <td>Gilbert</td>\n",
       "      <td>Gd</td>\n",
       "      <td>Gd</td>\n",
       "      <td>TA</td>\n",
       "      <td>164,000.0000</td>\n",
       "      <td>205,862.0585</td>\n",
       "      <td>25.5256</td>\n",
       "    </tr>\n",
       "    <tr>\n",
       "      <th>18</th>\n",
       "      <td>5.0000</td>\n",
       "      <td>1,006.0000</td>\n",
       "      <td>0.0000</td>\n",
       "      <td>Sawyer</td>\n",
       "      <td>TA</td>\n",
       "      <td>TA</td>\n",
       "      <td>TA</td>\n",
       "      <td>80,000.0000</td>\n",
       "      <td>101,788.3330</td>\n",
       "      <td>27.2354</td>\n",
       "    </tr>\n",
       "    <tr>\n",
       "      <th>54</th>\n",
       "      <td>6.0000</td>\n",
       "      <td>1,392.0000</td>\n",
       "      <td>2.0000</td>\n",
       "      <td>NAmes</td>\n",
       "      <td>TA</td>\n",
       "      <td>Fa</td>\n",
       "      <td>TA</td>\n",
       "      <td>110,000.0000</td>\n",
       "      <td>145,247.1866</td>\n",
       "      <td>32.0429</td>\n",
       "    </tr>\n",
       "    <tr>\n",
       "      <th>115</th>\n",
       "      <td>6.0000</td>\n",
       "      <td>2,201.0000</td>\n",
       "      <td>2.0000</td>\n",
       "      <td>Edwards</td>\n",
       "      <td>Gd</td>\n",
       "      <td>Gd</td>\n",
       "      <td>Gd</td>\n",
       "      <td>274,970.0000</td>\n",
       "      <td>184,012.1724</td>\n",
       "      <td>33.0792</td>\n",
       "    </tr>\n",
       "    <tr>\n",
       "      <th>15</th>\n",
       "      <td>3.0000</td>\n",
       "      <td>894.0000</td>\n",
       "      <td>3.0000</td>\n",
       "      <td>IDOTRR</td>\n",
       "      <td>Fa</td>\n",
       "      <td>TA</td>\n",
       "      <td>TA</td>\n",
       "      <td>81,000.0000</td>\n",
       "      <td>111,222.0183</td>\n",
       "      <td>37.3111</td>\n",
       "    </tr>\n",
       "    <tr>\n",
       "      <th>156</th>\n",
       "      <td>5.0000</td>\n",
       "      <td>1,140.0000</td>\n",
       "      <td>0.0000</td>\n",
       "      <td>Mitchel</td>\n",
       "      <td>TA</td>\n",
       "      <td>Gd</td>\n",
       "      <td>TA</td>\n",
       "      <td>84,500.0000</td>\n",
       "      <td>137,006.7361</td>\n",
       "      <td>62.1381</td>\n",
       "    </tr>\n",
       "    <tr>\n",
       "      <th>158</th>\n",
       "      <td>8.0000</td>\n",
       "      <td>1,795.0000</td>\n",
       "      <td>3.0000</td>\n",
       "      <td>Somerst</td>\n",
       "      <td>Gd</td>\n",
       "      <td>Ex</td>\n",
       "      <td>Gd</td>\n",
       "      <td>147,000.0000</td>\n",
       "      <td>286,017.1594</td>\n",
       "      <td>94.5695</td>\n",
       "    </tr>\n",
       "  </tbody>\n",
       "</table>\n",
       "</div>"
      ],
      "text/plain": [
       "     OverallQual  GrLivArea  GarageCars Neighborhood ExterQual BsmtQual  \\\n",
       "205       4.0000   796.0000      0.0000       IDOTRR        TA       TA   \n",
       "263       6.0000   918.0000      1.0000      SawyerW        TA       Gd   \n",
       "277       4.0000   960.0000      1.0000      Edwards        TA       TA   \n",
       "24        8.0000 1,752.0000      2.0000      Gilbert        Gd       Gd   \n",
       "18        5.0000 1,006.0000      0.0000       Sawyer        TA       TA   \n",
       "54        6.0000 1,392.0000      2.0000        NAmes        TA       Fa   \n",
       "115       6.0000 2,201.0000      2.0000      Edwards        Gd       Gd   \n",
       "15        3.0000   894.0000      3.0000       IDOTRR        Fa       TA   \n",
       "156       5.0000 1,140.0000      0.0000      Mitchel        TA       Gd   \n",
       "158       8.0000 1,795.0000      3.0000      Somerst        Gd       Ex   \n",
       "\n",
       "    KitchenQual        Price      Predict  Difference  \n",
       "205          TA  55,000.0000  66,972.6025     21.7684  \n",
       "263          TA  99,500.0000 121,225.2694     21.8344  \n",
       "277          TA 112,000.0000  84,437.7130     24.6092  \n",
       "24           TA 164,000.0000 205,862.0585     25.5256  \n",
       "18           TA  80,000.0000 101,788.3330     27.2354  \n",
       "54           TA 110,000.0000 145,247.1866     32.0429  \n",
       "115          Gd 274,970.0000 184,012.1724     33.0792  \n",
       "15           TA  81,000.0000 111,222.0183     37.3111  \n",
       "156          TA  84,500.0000 137,006.7361     62.1381  \n",
       "158          Gd 147,000.0000 286,017.1594     94.5695  "
      ]
     },
     "execution_count": 50,
     "metadata": {},
     "output_type": "execute_result"
    }
   ],
   "source": [
    "columns = X_test.columns.to_list()\n",
    "dummy_columns = [x for x in columns if x not in numerical_columns]\n",
    "\n",
    "check_error_1 = pd.from_dummies(data=X_test[dummy_columns], sep=\"_\")\n",
    "check_error_1.reset_index(drop=True, inplace=True)\n",
    "\n",
    "check_error_2 = X_test[numerical_columns].reset_index(drop=True)\n",
    "\n",
    "check_error = pd.concat(objs=[check_error_2, check_error_1], axis=1)\n",
    "check_error[numerical_columns] = scaler.inverse_transform(check_error[numerical_columns])\n",
    "\n",
    "for f in skewed_features:\n",
    "    if f == \"SalePrice\":\n",
    "        continue\n",
    "    check_error[f] = np.expm1(check_error[f])\n",
    "    \n",
    "check_error[\"Price\"] = y_test.reset_index(drop=True)\n",
    "check_error[\"Predict\"] = top_5_model.predict(X=X_test)\n",
    "\n",
    "check_error[\"Price\"] = np.expm1(check_error[\"Price\"])\n",
    "check_error[\"Predict\"] = np.expm1(check_error[\"Predict\"])\n",
    "\n",
    "check_error[\"Difference\"] = (check_error[\"Predict\"] - check_error[\"Price\"]) / check_error[\"Price\"] * 100\n",
    "check_error[\"Difference\"] = check_error[\"Difference\"].abs()\n",
    "\n",
    "check_error.sort_values(by=\"Difference\", inplace=True)\n",
    "show_columns = [\"OverallQual\", \"GrLivArea\", \"GarageCars\", \"Neighborhood\", \"ExterQual\", \"BsmtQual\", \"KitchenQual\", \"Price\", \"Predict\", \"Difference\"]\n",
    "check_error[show_columns].tail(10)"
   ]
  },
  {
   "cell_type": "markdown",
   "id": "88e82ea7-fadf-417a-a02f-8cf57b1f2975",
   "metadata": {},
   "source": [
    "Dự đoán sai nhất của mô hình có vẻ là một điểm dữ liệu không chính xác. Tất cả các đặc trưng đều cho thấy đây là ngôi nhà tốt nhưng giá lại thấp hơn gần một nửa so với dự đoán.\n",
    "\n",
    "Thử nhóm dữ liệu theo 2 trường có ảnh hưởng lớn nhất là \"OverallQual\" và \"Neighborhood\""
   ]
  },
  {
   "cell_type": "code",
   "execution_count": 51,
   "id": "f0ce5400-53de-4b27-8d8f-7d87a8b892c9",
   "metadata": {},
   "outputs": [
    {
     "data": {
      "text/html": [
       "<div>\n",
       "<style scoped>\n",
       "    .dataframe tbody tr th:only-of-type {\n",
       "        vertical-align: middle;\n",
       "    }\n",
       "\n",
       "    .dataframe tbody tr th {\n",
       "        vertical-align: top;\n",
       "    }\n",
       "\n",
       "    .dataframe thead th {\n",
       "        text-align: right;\n",
       "    }\n",
       "</style>\n",
       "<table border=\"1\" class=\"dataframe\">\n",
       "  <thead>\n",
       "    <tr style=\"text-align: right;\">\n",
       "      <th></th>\n",
       "      <th>OverallQual</th>\n",
       "      <th>Neighborhood</th>\n",
       "      <th>Price</th>\n",
       "      <th>Predict</th>\n",
       "      <th>Difference</th>\n",
       "    </tr>\n",
       "  </thead>\n",
       "  <tbody>\n",
       "    <tr>\n",
       "      <th>61</th>\n",
       "      <td>7.0000</td>\n",
       "      <td>Timber</td>\n",
       "      <td>218,750.0000</td>\n",
       "      <td>220,922.0127</td>\n",
       "      <td>12.0746</td>\n",
       "    </tr>\n",
       "    <tr>\n",
       "      <th>5</th>\n",
       "      <td>4.0000</td>\n",
       "      <td>Edwards</td>\n",
       "      <td>121,333.3333</td>\n",
       "      <td>107,709.2460</td>\n",
       "      <td>12.1691</td>\n",
       "    </tr>\n",
       "    <tr>\n",
       "      <th>33</th>\n",
       "      <td>6.0000</td>\n",
       "      <td>Edwards</td>\n",
       "      <td>186,995.7143</td>\n",
       "      <td>162,805.8706</td>\n",
       "      <td>12.4540</td>\n",
       "    </tr>\n",
       "    <tr>\n",
       "      <th>30</th>\n",
       "      <td>6.0000</td>\n",
       "      <td>BrkSide</td>\n",
       "      <td>210,000.0000</td>\n",
       "      <td>183,082.3961</td>\n",
       "      <td>12.8179</td>\n",
       "    </tr>\n",
       "    <tr>\n",
       "      <th>69</th>\n",
       "      <td>8.0000</td>\n",
       "      <td>Somerst</td>\n",
       "      <td>246,113.6364</td>\n",
       "      <td>249,270.3746</td>\n",
       "      <td>12.8963</td>\n",
       "    </tr>\n",
       "    <tr>\n",
       "      <th>21</th>\n",
       "      <td>5.0000</td>\n",
       "      <td>Mitchel</td>\n",
       "      <td>132,650.0000</td>\n",
       "      <td>140,064.8004</td>\n",
       "      <td>13.4815</td>\n",
       "    </tr>\n",
       "    <tr>\n",
       "      <th>28</th>\n",
       "      <td>5.0000</td>\n",
       "      <td>Timber</td>\n",
       "      <td>167,500.0000</td>\n",
       "      <td>144,329.4932</td>\n",
       "      <td>13.8331</td>\n",
       "    </tr>\n",
       "    <tr>\n",
       "      <th>6</th>\n",
       "      <td>4.0000</td>\n",
       "      <td>IDOTRR</td>\n",
       "      <td>55,000.0000</td>\n",
       "      <td>66,972.6025</td>\n",
       "      <td>21.7684</td>\n",
       "    </tr>\n",
       "    <tr>\n",
       "      <th>64</th>\n",
       "      <td>8.0000</td>\n",
       "      <td>Gilbert</td>\n",
       "      <td>164,000.0000</td>\n",
       "      <td>205,862.0585</td>\n",
       "      <td>25.5256</td>\n",
       "    </tr>\n",
       "    <tr>\n",
       "      <th>2</th>\n",
       "      <td>3.0000</td>\n",
       "      <td>IDOTRR</td>\n",
       "      <td>81,000.0000</td>\n",
       "      <td>111,222.0183</td>\n",
       "      <td>37.3111</td>\n",
       "    </tr>\n",
       "  </tbody>\n",
       "</table>\n",
       "</div>"
      ],
      "text/plain": [
       "    OverallQual Neighborhood        Price      Predict  Difference\n",
       "61       7.0000       Timber 218,750.0000 220,922.0127     12.0746\n",
       "5        4.0000      Edwards 121,333.3333 107,709.2460     12.1691\n",
       "33       6.0000      Edwards 186,995.7143 162,805.8706     12.4540\n",
       "30       6.0000      BrkSide 210,000.0000 183,082.3961     12.8179\n",
       "69       8.0000      Somerst 246,113.6364 249,270.3746     12.8963\n",
       "21       5.0000      Mitchel 132,650.0000 140,064.8004     13.4815\n",
       "28       5.0000       Timber 167,500.0000 144,329.4932     13.8331\n",
       "6        4.0000       IDOTRR  55,000.0000  66,972.6025     21.7684\n",
       "64       8.0000      Gilbert 164,000.0000 205,862.0585     25.5256\n",
       "2        3.0000       IDOTRR  81,000.0000 111,222.0183     37.3111"
      ]
     },
     "execution_count": 51,
     "metadata": {},
     "output_type": "execute_result"
    }
   ],
   "source": [
    "check_mean_columns = [\"OverallQual\", \"Neighborhood\", \"Price\", \"Predict\", \"Difference\"]\n",
    "check_mean = check_error[check_mean_columns].groupby(by=[\"OverallQual\", \"Neighborhood\"], as_index=False).mean()\n",
    "\n",
    "check_mean.sort_values(by=\"Difference\", inplace=True)\n",
    "check_mean.tail(10)"
   ]
  },
  {
   "cell_type": "markdown",
   "id": "8b6fa589-573a-4b38-af73-091df2bc40d8",
   "metadata": {},
   "source": [
    "Dự đoán sai lệch thế nào với các nhóm \"OverallQual\""
   ]
  },
  {
   "cell_type": "code",
   "execution_count": 52,
   "id": "610d60b4-e602-448c-8112-01e8755f997e",
   "metadata": {},
   "outputs": [
    {
     "data": {
      "text/html": [
       "<div>\n",
       "<style scoped>\n",
       "    .dataframe tbody tr th:only-of-type {\n",
       "        vertical-align: middle;\n",
       "    }\n",
       "\n",
       "    .dataframe tbody tr th {\n",
       "        vertical-align: top;\n",
       "    }\n",
       "\n",
       "    .dataframe thead th {\n",
       "        text-align: right;\n",
       "    }\n",
       "</style>\n",
       "<table border=\"1\" class=\"dataframe\">\n",
       "  <thead>\n",
       "    <tr style=\"text-align: right;\">\n",
       "      <th></th>\n",
       "      <th>OverallQual</th>\n",
       "      <th>Price</th>\n",
       "      <th>Predict</th>\n",
       "      <th>Difference</th>\n",
       "    </tr>\n",
       "  </thead>\n",
       "  <tbody>\n",
       "    <tr>\n",
       "      <th>0</th>\n",
       "      <td>2.0000</td>\n",
       "      <td>60,000.0000</td>\n",
       "      <td>60,648.3919</td>\n",
       "      <td>3.2911</td>\n",
       "    </tr>\n",
       "    <tr>\n",
       "      <th>1</th>\n",
       "      <td>3.0000</td>\n",
       "      <td>88,000.0000</td>\n",
       "      <td>107,239.2135</td>\n",
       "      <td>23.0010</td>\n",
       "    </tr>\n",
       "    <tr>\n",
       "      <th>2</th>\n",
       "      <td>4.0000</td>\n",
       "      <td>109,885.0000</td>\n",
       "      <td>103,475.3538</td>\n",
       "      <td>10.6791</td>\n",
       "    </tr>\n",
       "    <tr>\n",
       "      <th>3</th>\n",
       "      <td>5.0000</td>\n",
       "      <td>134,381.8000</td>\n",
       "      <td>133,312.5216</td>\n",
       "      <td>6.0681</td>\n",
       "    </tr>\n",
       "    <tr>\n",
       "      <th>4</th>\n",
       "      <td>6.0000</td>\n",
       "      <td>161,409.4493</td>\n",
       "      <td>158,948.9143</td>\n",
       "      <td>7.1927</td>\n",
       "    </tr>\n",
       "    <tr>\n",
       "      <th>5</th>\n",
       "      <td>7.0000</td>\n",
       "      <td>197,990.7049</td>\n",
       "      <td>197,365.6930</td>\n",
       "      <td>5.5955</td>\n",
       "    </tr>\n",
       "    <tr>\n",
       "      <th>6</th>\n",
       "      <td>8.0000</td>\n",
       "      <td>266,853.6667</td>\n",
       "      <td>266,642.3075</td>\n",
       "      <td>7.7978</td>\n",
       "    </tr>\n",
       "    <tr>\n",
       "      <th>7</th>\n",
       "      <td>9.0000</td>\n",
       "      <td>363,897.6000</td>\n",
       "      <td>368,945.2471</td>\n",
       "      <td>6.7100</td>\n",
       "    </tr>\n",
       "    <tr>\n",
       "      <th>8</th>\n",
       "      <td>10.0000</td>\n",
       "      <td>458,475.0000</td>\n",
       "      <td>449,967.1412</td>\n",
       "      <td>2.0039</td>\n",
       "    </tr>\n",
       "  </tbody>\n",
       "</table>\n",
       "</div>"
      ],
      "text/plain": [
       "   OverallQual        Price      Predict  Difference\n",
       "0       2.0000  60,000.0000  60,648.3919      3.2911\n",
       "1       3.0000  88,000.0000 107,239.2135     23.0010\n",
       "2       4.0000 109,885.0000 103,475.3538     10.6791\n",
       "3       5.0000 134,381.8000 133,312.5216      6.0681\n",
       "4       6.0000 161,409.4493 158,948.9143      7.1927\n",
       "5       7.0000 197,990.7049 197,365.6930      5.5955\n",
       "6       8.0000 266,853.6667 266,642.3075      7.7978\n",
       "7       9.0000 363,897.6000 368,945.2471      6.7100\n",
       "8      10.0000 458,475.0000 449,967.1412      2.0039"
      ]
     },
     "execution_count": 52,
     "metadata": {},
     "output_type": "execute_result"
    }
   ],
   "source": [
    "check_error[[\"OverallQual\", \"Price\", \"Predict\", \"Difference\"]].groupby(by=[\"OverallQual\"], as_index=False).mean()"
   ]
  },
  {
   "cell_type": "markdown",
   "id": "f95c2d14-81df-45e2-b056-040aa2b062b4",
   "metadata": {},
   "source": [
    "Các ngôi nhà chất lượng thấp có dự đoán sai nhiều hơn"
   ]
  },
  {
   "cell_type": "code",
   "execution_count": 53,
   "id": "c4681c83-e95e-486c-bc25-f3b4ec5e3a05",
   "metadata": {},
   "outputs": [
    {
     "data": {
      "image/png": "[encoded data removed]",
      "text/plain": [
       "<Figure size 640x480 with 1 Axes>"
      ]
     },
     "metadata": {},
     "output_type": "display_data"
    }
   ],
   "source": [
    "sns.histplot(data[\"OverallQual\"])\n",
    "plt.show()"
   ]
  },
  {
   "cell_type": "markdown",
   "id": "e4835aa6-48bc-4076-acf0-adada7eae0b9",
   "metadata": {},
   "source": [
    "Ta sẽ cần thu thập thêm dữ liệu cho các ngôi nhà có chất lượng thấp < 4 và cao > 8\n",
    "\n",
    "Xem xét nhóm có dự đoán sai nhất \"OverallQual\" = 3 & \"Neighborhood\" = \"IDOTRR\""
   ]
  },
  {
   "cell_type": "code",
   "execution_count": 54,
   "id": "e40e7bd5-f3ce-40cb-a0c4-f3e9fd77469c",
   "metadata": {},
   "outputs": [
    {
     "data": {
      "text/html": [
       "<div>\n",
       "<style scoped>\n",
       "    .dataframe tbody tr th:only-of-type {\n",
       "        vertical-align: middle;\n",
       "    }\n",
       "\n",
       "    .dataframe tbody tr th {\n",
       "        vertical-align: top;\n",
       "    }\n",
       "\n",
       "    .dataframe thead th {\n",
       "        text-align: right;\n",
       "    }\n",
       "</style>\n",
       "<table border=\"1\" class=\"dataframe\">\n",
       "  <thead>\n",
       "    <tr style=\"text-align: right;\">\n",
       "      <th></th>\n",
       "      <th>OverallQual</th>\n",
       "      <th>GrLivArea</th>\n",
       "      <th>GarageCars</th>\n",
       "      <th>Neighborhood</th>\n",
       "      <th>ExterQual</th>\n",
       "      <th>BsmtQual</th>\n",
       "      <th>KitchenQual</th>\n",
       "      <th>SalePrice</th>\n",
       "    </tr>\n",
       "  </thead>\n",
       "  <tbody>\n",
       "    <tr>\n",
       "      <th>88</th>\n",
       "      <td>3</td>\n",
       "      <td>1,526.0000</td>\n",
       "      <td>0</td>\n",
       "      <td>IDOTRR</td>\n",
       "      <td>Fa</td>\n",
       "      <td>TA</td>\n",
       "      <td>Fa</td>\n",
       "      <td>85,000.0000</td>\n",
       "    </tr>\n",
       "    <tr>\n",
       "      <th>998</th>\n",
       "      <td>3</td>\n",
       "      <td>1,077.0000</td>\n",
       "      <td>1</td>\n",
       "      <td>IDOTRR</td>\n",
       "      <td>TA</td>\n",
       "      <td>TA</td>\n",
       "      <td>TA</td>\n",
       "      <td>91,000.0000</td>\n",
       "    </tr>\n",
       "    <tr>\n",
       "      <th>1061</th>\n",
       "      <td>3</td>\n",
       "      <td>894.0000</td>\n",
       "      <td>3</td>\n",
       "      <td>IDOTRR</td>\n",
       "      <td>Fa</td>\n",
       "      <td>TA</td>\n",
       "      <td>TA</td>\n",
       "      <td>81,000.0000</td>\n",
       "    </tr>\n",
       "  </tbody>\n",
       "</table>\n",
       "</div>"
      ],
      "text/plain": [
       "      OverallQual  GrLivArea  GarageCars Neighborhood ExterQual BsmtQual  \\\n",
       "88              3 1,526.0000           0       IDOTRR        Fa       TA   \n",
       "998             3 1,077.0000           1       IDOTRR        TA       TA   \n",
       "1061            3   894.0000           3       IDOTRR        Fa       TA   \n",
       "\n",
       "     KitchenQual   SalePrice  \n",
       "88            Fa 85,000.0000  \n",
       "998           TA 91,000.0000  \n",
       "1061          TA 81,000.0000  "
      ]
     },
     "execution_count": 54,
     "metadata": {},
     "output_type": "execute_result"
    }
   ],
   "source": [
    "check_price = data[[\"OverallQual\", \"GrLivArea\", \"GarageCars\", \"Neighborhood\", \"ExterQual\", \"BsmtQual\", \"KitchenQual\", \"SalePrice\"]].copy()\n",
    "\n",
    "for f in skewed_features:\n",
    "    if f in check_price.columns:\n",
    "        check_price[f] = np.expm1(check_price[f])\n",
    "\n",
    "check_price[(check_price[\"OverallQual\"] == 3) & (check_price[\"Neighborhood\"] == \"IDOTRR\")]"
   ]
  },
  {
   "cell_type": "markdown",
   "id": "01d4ce9b-7e44-4720-95c5-4e7184ad74f2",
   "metadata": {},
   "source": [
    "Chỉ có 3 điểm dữ liệu, điều này khiến mô hình dự đoán chưa chính xác\n",
    "\n",
    "Kiểm tra nhóm mà dự đoán sai nhất nằm trong đó"
   ]
  },
  {
   "cell_type": "code",
   "execution_count": 55,
   "id": "241f7125-cc62-4c55-8bb7-b5a05671d235",
   "metadata": {},
   "outputs": [
    {
     "data": {
      "text/html": [
       "<div>\n",
       "<style scoped>\n",
       "    .dataframe tbody tr th:only-of-type {\n",
       "        vertical-align: middle;\n",
       "    }\n",
       "\n",
       "    .dataframe tbody tr th {\n",
       "        vertical-align: top;\n",
       "    }\n",
       "\n",
       "    .dataframe thead th {\n",
       "        text-align: right;\n",
       "    }\n",
       "</style>\n",
       "<table border=\"1\" class=\"dataframe\">\n",
       "  <thead>\n",
       "    <tr style=\"text-align: right;\">\n",
       "      <th></th>\n",
       "      <th>OverallQual</th>\n",
       "      <th>GrLivArea</th>\n",
       "      <th>GarageCars</th>\n",
       "      <th>Neighborhood</th>\n",
       "      <th>ExterQual</th>\n",
       "      <th>BsmtQual</th>\n",
       "      <th>KitchenQual</th>\n",
       "      <th>Price</th>\n",
       "      <th>Predict</th>\n",
       "      <th>Difference</th>\n",
       "    </tr>\n",
       "  </thead>\n",
       "  <tbody>\n",
       "    <tr>\n",
       "      <th>158</th>\n",
       "      <td>8.0000</td>\n",
       "      <td>1,795.0000</td>\n",
       "      <td>3.0000</td>\n",
       "      <td>Somerst</td>\n",
       "      <td>Gd</td>\n",
       "      <td>Ex</td>\n",
       "      <td>Gd</td>\n",
       "      <td>147,000.0000</td>\n",
       "      <td>286,017.1594</td>\n",
       "      <td>94.5695</td>\n",
       "    </tr>\n",
       "  </tbody>\n",
       "</table>\n",
       "</div>"
      ],
      "text/plain": [
       "     OverallQual  GrLivArea  GarageCars Neighborhood ExterQual BsmtQual  \\\n",
       "158       8.0000 1,795.0000      3.0000      Somerst        Gd       Ex   \n",
       "\n",
       "    KitchenQual        Price      Predict  Difference  \n",
       "158          Gd 147,000.0000 286,017.1594     94.5695  "
      ]
     },
     "execution_count": 55,
     "metadata": {},
     "output_type": "execute_result"
    }
   ],
   "source": [
    "check_error[show_columns].tail(1)"
   ]
  },
  {
   "cell_type": "code",
   "execution_count": 56,
   "id": "c7d31820-96d9-4ec3-9b72-ed6331fb4109",
   "metadata": {},
   "outputs": [
    {
     "data": {
      "text/html": [
       "<div>\n",
       "<style scoped>\n",
       "    .dataframe tbody tr th:only-of-type {\n",
       "        vertical-align: middle;\n",
       "    }\n",
       "\n",
       "    .dataframe tbody tr th {\n",
       "        vertical-align: top;\n",
       "    }\n",
       "\n",
       "    .dataframe thead th {\n",
       "        text-align: right;\n",
       "    }\n",
       "</style>\n",
       "<table border=\"1\" class=\"dataframe\">\n",
       "  <thead>\n",
       "    <tr style=\"text-align: right;\">\n",
       "      <th></th>\n",
       "      <th>OverallQual</th>\n",
       "      <th>GrLivArea</th>\n",
       "      <th>GarageCars</th>\n",
       "      <th>SalePrice</th>\n",
       "    </tr>\n",
       "  </thead>\n",
       "  <tbody>\n",
       "    <tr>\n",
       "      <th>count</th>\n",
       "      <td>29.0000</td>\n",
       "      <td>29.0000</td>\n",
       "      <td>29.0000</td>\n",
       "      <td>29.0000</td>\n",
       "    </tr>\n",
       "    <tr>\n",
       "      <th>mean</th>\n",
       "      <td>8.0000</td>\n",
       "      <td>1,729.8966</td>\n",
       "      <td>2.5172</td>\n",
       "      <td>255,626.1379</td>\n",
       "    </tr>\n",
       "    <tr>\n",
       "      <th>std</th>\n",
       "      <td>0.0000</td>\n",
       "      <td>313.9503</td>\n",
       "      <td>0.5085</td>\n",
       "      <td>55,302.6318</td>\n",
       "    </tr>\n",
       "    <tr>\n",
       "      <th>min</th>\n",
       "      <td>8.0000</td>\n",
       "      <td>1,247.0000</td>\n",
       "      <td>2.0000</td>\n",
       "      <td>147,000.0000</td>\n",
       "    </tr>\n",
       "    <tr>\n",
       "      <th>25%</th>\n",
       "      <td>8.0000</td>\n",
       "      <td>1,563.0000</td>\n",
       "      <td>2.0000</td>\n",
       "      <td>229,456.0000</td>\n",
       "    </tr>\n",
       "    <tr>\n",
       "      <th>50%</th>\n",
       "      <td>8.0000</td>\n",
       "      <td>1,636.0000</td>\n",
       "      <td>3.0000</td>\n",
       "      <td>250,000.0000</td>\n",
       "    </tr>\n",
       "    <tr>\n",
       "      <th>75%</th>\n",
       "      <td>8.0000</td>\n",
       "      <td>1,939.0000</td>\n",
       "      <td>3.0000</td>\n",
       "      <td>282,922.0000</td>\n",
       "    </tr>\n",
       "    <tr>\n",
       "      <th>max</th>\n",
       "      <td>8.0000</td>\n",
       "      <td>2,610.0000</td>\n",
       "      <td>3.0000</td>\n",
       "      <td>423,000.0000</td>\n",
       "    </tr>\n",
       "  </tbody>\n",
       "</table>\n",
       "</div>"
      ],
      "text/plain": [
       "       OverallQual  GrLivArea  GarageCars    SalePrice\n",
       "count      29.0000    29.0000     29.0000      29.0000\n",
       "mean        8.0000 1,729.8966      2.5172 255,626.1379\n",
       "std         0.0000   313.9503      0.5085  55,302.6318\n",
       "min         8.0000 1,247.0000      2.0000 147,000.0000\n",
       "25%         8.0000 1,563.0000      2.0000 229,456.0000\n",
       "50%         8.0000 1,636.0000      3.0000 250,000.0000\n",
       "75%         8.0000 1,939.0000      3.0000 282,922.0000\n",
       "max         8.0000 2,610.0000      3.0000 423,000.0000"
      ]
     },
     "execution_count": 56,
     "metadata": {},
     "output_type": "execute_result"
    }
   ],
   "source": [
    "check_price[(check_price[\"OverallQual\"] == 8) & (check_price[\"Neighborhood\"] == \"Somerst\")].describe()"
   ]
  },
  {
   "cell_type": "markdown",
   "id": "e7160925-0171-4dbc-9910-c508f72d313c",
   "metadata": {},
   "source": [
    "Nhóm này có giá dao động khá lớn từ 147,000 tới 423,000. Nhưng các điểm dữ liệu khác được dự đoán không sai quá nhiều (trung bình dự đoán sao của nhóm là 13.32% so với điểm dữ liệu sai nhất là 96.04%), khả năng cao đây là điểm dữ liệu bất thường, sai sót."
   ]
  },
  {
   "cell_type": "code",
   "execution_count": 57,
   "id": "d4a07b11-bfb1-4892-84e4-64f29127ea95",
   "metadata": {},
   "outputs": [
    {
     "data": {
      "text/plain": [
       "[<matplotlib.lines.Line2D at 0x20375e2bee0>]"
      ]
     },
     "execution_count": 57,
     "metadata": {},
     "output_type": "execute_result"
    },
    {
     "data": {
      "image/png": "[encoded data removed]",
      "text/plain": [
       "<Figure size 640x480 with 1 Axes>"
      ]
     },
     "metadata": {},
     "output_type": "display_data"
    }
   ],
   "source": [
    "sns.scatterplot(x=np.expm1(y_test), y=np.expm1(top_5_model.predict(X=X_test)))\n",
    "plt.plot([0, 500000], [0, 500000], \"r\")"
   ]
  },
  {
   "cell_type": "markdown",
   "id": "36264aeb-b72b-4ab1-bac9-d46f7338768b",
   "metadata": {},
   "source": [
    "Một số dữ liệu giá nhà có giá dao động lớn, hoặc chỉ có 1 vài ngôi nhà có đặc trưng như thế khiến mô hình dự đoán không được tốt lắm. Tuy nhiên số này không nhiều và nhìn chung mô hình học kết hợp của chúng ta làm việc khá tốt trên hầu hết dữ liệu.\n",
    "\n",
    "Muốn cải thiện ta sẽ cần thu thập thêm dữ liệu về các ngôi nhà có chất lượng thấp dưới 4 và cao trên 8 để mô hình của chúng ta có thể học hết được các thông tin giá nhà."
   ]
  }
 ],
 "metadata": {
  "kernelspec": {
   "display_name": "Python 3 (ipykernel)",
   "language": "python",
   "name": "python3"
  },
  "language_info": {
   "codemirror_mode": {
    "name": "ipython",
    "version": 3
   },
   "file_extension": ".py",
   "mimetype": "text/x-python",
   "name": "python",
   "nbconvert_exporter": "python",
   "pygments_lexer": "ipython3",
   "version": "3.9.7"
  }
 },
 "nbformat": 4,
 "nbformat_minor": 5
}
