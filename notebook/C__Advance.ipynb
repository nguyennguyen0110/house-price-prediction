{
 "cells": [
  {
   "cell_type": "markdown",
   "id": "dc98679c-2ce0-49fc-bcd3-538a78cf3b9e",
   "metadata": {},
   "source": [
    "# 6. Advance"
   ]
  },
  {
   "cell_type": "markdown",
   "id": "d7f01a43-4e70-4c25-aacf-1d3264abcd3a",
   "metadata": {},
   "source": [
    "Load lại data."
   ]
  },
  {
   "cell_type": "code",
   "execution_count": 1,
   "id": "7bb337da-a643-451d-b063-b8a754a200e9",
   "metadata": {},
   "outputs": [],
   "source": [
    "import pandas as pd\n",
    "import matplotlib.pyplot as plt\n",
    "import seaborn as sns\n",
    "import numpy as np\n",
    "import tensorflow as tf\n",
    "import joblib\n",
    "\n",
    "from sklearn.linear_model import LinearRegression, ElasticNet, Lasso, Ridge\n",
    "from sklearn.ensemble import RandomForestRegressor, VotingRegressor\n",
    "from sklearn.svm import SVR\n",
    "from sklearn.metrics import r2_score, mean_absolute_percentage_error\n",
    "from sklearn.model_selection import train_test_split, GridSearchCV\n",
    "from sklearn.preprocessing import MinMaxScaler, RobustScaler\n",
    "from sklearn.pipeline import make_pipeline\n",
    "\n",
    "from lightgbm import LGBMRegressor\n",
    "from scipy.stats import skew\n",
    "\n",
    "pd.options.display.float_format = '{:,.4f}'.format"
   ]
  },
  {
   "cell_type": "code",
   "execution_count": 2,
   "id": "81ceeebf-11fa-4955-a28e-4bd77151d36e",
   "metadata": {},
   "outputs": [
    {
     "data": {
      "text/html": [
       "<div>\n",
       "<style scoped>\n",
       "    .dataframe tbody tr th:only-of-type {\n",
       "        vertical-align: middle;\n",
       "    }\n",
       "\n",
       "    .dataframe tbody tr th {\n",
       "        vertical-align: top;\n",
       "    }\n",
       "\n",
       "    .dataframe thead th {\n",
       "        text-align: right;\n",
       "    }\n",
       "</style>\n",
       "<table border=\"1\" class=\"dataframe\">\n",
       "  <thead>\n",
       "    <tr style=\"text-align: right;\">\n",
       "      <th></th>\n",
       "      <th>Id</th>\n",
       "      <th>MSSubClass</th>\n",
       "      <th>MSZoning</th>\n",
       "      <th>LotFrontage</th>\n",
       "      <th>LotArea</th>\n",
       "      <th>Street</th>\n",
       "      <th>Alley</th>\n",
       "      <th>LotShape</th>\n",
       "      <th>LandContour</th>\n",
       "      <th>Utilities</th>\n",
       "      <th>...</th>\n",
       "      <th>PoolArea</th>\n",
       "      <th>PoolQC</th>\n",
       "      <th>Fence</th>\n",
       "      <th>MiscFeature</th>\n",
       "      <th>MiscVal</th>\n",
       "      <th>MoSold</th>\n",
       "      <th>YrSold</th>\n",
       "      <th>SaleType</th>\n",
       "      <th>SaleCondition</th>\n",
       "      <th>SalePrice</th>\n",
       "    </tr>\n",
       "  </thead>\n",
       "  <tbody>\n",
       "    <tr>\n",
       "      <th>0</th>\n",
       "      <td>1</td>\n",
       "      <td>60</td>\n",
       "      <td>RL</td>\n",
       "      <td>65.0000</td>\n",
       "      <td>8450</td>\n",
       "      <td>Pave</td>\n",
       "      <td>NaN</td>\n",
       "      <td>Reg</td>\n",
       "      <td>Lvl</td>\n",
       "      <td>AllPub</td>\n",
       "      <td>...</td>\n",
       "      <td>0</td>\n",
       "      <td>NaN</td>\n",
       "      <td>NaN</td>\n",
       "      <td>NaN</td>\n",
       "      <td>0</td>\n",
       "      <td>2</td>\n",
       "      <td>2008</td>\n",
       "      <td>WD</td>\n",
       "      <td>Normal</td>\n",
       "      <td>208500</td>\n",
       "    </tr>\n",
       "    <tr>\n",
       "      <th>1</th>\n",
       "      <td>2</td>\n",
       "      <td>20</td>\n",
       "      <td>RL</td>\n",
       "      <td>80.0000</td>\n",
       "      <td>9600</td>\n",
       "      <td>Pave</td>\n",
       "      <td>NaN</td>\n",
       "      <td>Reg</td>\n",
       "      <td>Lvl</td>\n",
       "      <td>AllPub</td>\n",
       "      <td>...</td>\n",
       "      <td>0</td>\n",
       "      <td>NaN</td>\n",
       "      <td>NaN</td>\n",
       "      <td>NaN</td>\n",
       "      <td>0</td>\n",
       "      <td>5</td>\n",
       "      <td>2007</td>\n",
       "      <td>WD</td>\n",
       "      <td>Normal</td>\n",
       "      <td>181500</td>\n",
       "    </tr>\n",
       "    <tr>\n",
       "      <th>2</th>\n",
       "      <td>3</td>\n",
       "      <td>60</td>\n",
       "      <td>RL</td>\n",
       "      <td>68.0000</td>\n",
       "      <td>11250</td>\n",
       "      <td>Pave</td>\n",
       "      <td>NaN</td>\n",
       "      <td>IR1</td>\n",
       "      <td>Lvl</td>\n",
       "      <td>AllPub</td>\n",
       "      <td>...</td>\n",
       "      <td>0</td>\n",
       "      <td>NaN</td>\n",
       "      <td>NaN</td>\n",
       "      <td>NaN</td>\n",
       "      <td>0</td>\n",
       "      <td>9</td>\n",
       "      <td>2008</td>\n",
       "      <td>WD</td>\n",
       "      <td>Normal</td>\n",
       "      <td>223500</td>\n",
       "    </tr>\n",
       "    <tr>\n",
       "      <th>3</th>\n",
       "      <td>4</td>\n",
       "      <td>70</td>\n",
       "      <td>RL</td>\n",
       "      <td>60.0000</td>\n",
       "      <td>9550</td>\n",
       "      <td>Pave</td>\n",
       "      <td>NaN</td>\n",
       "      <td>IR1</td>\n",
       "      <td>Lvl</td>\n",
       "      <td>AllPub</td>\n",
       "      <td>...</td>\n",
       "      <td>0</td>\n",
       "      <td>NaN</td>\n",
       "      <td>NaN</td>\n",
       "      <td>NaN</td>\n",
       "      <td>0</td>\n",
       "      <td>2</td>\n",
       "      <td>2006</td>\n",
       "      <td>WD</td>\n",
       "      <td>Abnorml</td>\n",
       "      <td>140000</td>\n",
       "    </tr>\n",
       "    <tr>\n",
       "      <th>4</th>\n",
       "      <td>5</td>\n",
       "      <td>60</td>\n",
       "      <td>RL</td>\n",
       "      <td>84.0000</td>\n",
       "      <td>14260</td>\n",
       "      <td>Pave</td>\n",
       "      <td>NaN</td>\n",
       "      <td>IR1</td>\n",
       "      <td>Lvl</td>\n",
       "      <td>AllPub</td>\n",
       "      <td>...</td>\n",
       "      <td>0</td>\n",
       "      <td>NaN</td>\n",
       "      <td>NaN</td>\n",
       "      <td>NaN</td>\n",
       "      <td>0</td>\n",
       "      <td>12</td>\n",
       "      <td>2008</td>\n",
       "      <td>WD</td>\n",
       "      <td>Normal</td>\n",
       "      <td>250000</td>\n",
       "    </tr>\n",
       "  </tbody>\n",
       "</table>\n",
       "<p>5 rows × 81 columns</p>\n",
       "</div>"
      ],
      "text/plain": [
       "   Id  MSSubClass MSZoning  LotFrontage  LotArea Street Alley LotShape  \\\n",
       "0   1          60       RL      65.0000     8450   Pave   NaN      Reg   \n",
       "1   2          20       RL      80.0000     9600   Pave   NaN      Reg   \n",
       "2   3          60       RL      68.0000    11250   Pave   NaN      IR1   \n",
       "3   4          70       RL      60.0000     9550   Pave   NaN      IR1   \n",
       "4   5          60       RL      84.0000    14260   Pave   NaN      IR1   \n",
       "\n",
       "  LandContour Utilities  ... PoolArea PoolQC Fence MiscFeature MiscVal MoSold  \\\n",
       "0         Lvl    AllPub  ...        0    NaN   NaN         NaN       0      2   \n",
       "1         Lvl    AllPub  ...        0    NaN   NaN         NaN       0      5   \n",
       "2         Lvl    AllPub  ...        0    NaN   NaN         NaN       0      9   \n",
       "3         Lvl    AllPub  ...        0    NaN   NaN         NaN       0      2   \n",
       "4         Lvl    AllPub  ...        0    NaN   NaN         NaN       0     12   \n",
       "\n",
       "  YrSold  SaleType  SaleCondition  SalePrice  \n",
       "0   2008        WD         Normal     208500  \n",
       "1   2007        WD         Normal     181500  \n",
       "2   2008        WD         Normal     223500  \n",
       "3   2006        WD        Abnorml     140000  \n",
       "4   2008        WD         Normal     250000  \n",
       "\n",
       "[5 rows x 81 columns]"
      ]
     },
     "execution_count": 2,
     "metadata": {},
     "output_type": "execute_result"
    }
   ],
   "source": [
    "data = pd.read_csv(filepath_or_buffer=\"../data/house_price.csv\")\n",
    "data.head()"
   ]
  },
  {
   "cell_type": "markdown",
   "id": "1e8611c4-9f54-448f-9f18-38dfb55dac6f",
   "metadata": {},
   "source": [
    "Chuyển \"YearBuilt\" và \"YearRemodAdd\" thành tuổi"
   ]
  },
  {
   "cell_type": "code",
   "execution_count": 3,
   "id": "e26eda91-a148-4c8e-bb73-93f22cdcf7db",
   "metadata": {},
   "outputs": [],
   "source": [
    "data[\"HouseAge\"] = data[\"YrSold\"] - data[\"YearBuilt\"]\n",
    "data[\"RemodelAge\"] = data[\"YrSold\"] - data[\"YearRemodAdd\"]\n",
    "\n",
    "data = data.drop(columns=[\"YearBuilt\", \"YearRemodAdd\", \"YrSold\"])"
   ]
  },
  {
   "cell_type": "markdown",
   "id": "35370696-1081-48d6-9c63-1796313cd9cb",
   "metadata": {},
   "source": [
    "Lấy các đặc trưng đã chọn"
   ]
  },
  {
   "cell_type": "code",
   "execution_count": 4,
   "id": "5d7f7ad5-a515-4cfb-9fdd-77cc9b42cdce",
   "metadata": {},
   "outputs": [],
   "source": [
    "mi_columns = ['OverallQual', 'GrLivArea', 'GarageCars', 'TotalBsmtSF', 'ExterQual', 'BsmtQual', 'KitchenQual', '1stFlrSF', 'GarageArea', 'HouseAge',\n",
    "              'MSSubClass', 'GarageFinish', 'FullBath', 'LotFrontage', '2ndFlrSF', 'LotArea', 'TotRmsAbvGrd', 'RemodelAge', 'BsmtFinSF1', 'HeatingQC',\n",
    "              'Fireplaces', 'OpenPorchSF', 'BsmtUnfSF', 'OverallCond', 'MasVnrArea', 'HalfBath', 'BsmtExposure', 'GarageCond', 'WoodDeckSF',\n",
    "              'GarageQual', 'CentralAir', 'BedroomAbvGr', 'BsmtCond', 'PavedDrive', 'KitchenAbvGr', 'BsmtFullBath', 'ExterCond', 'ScreenPorch',\n",
    "              'EnclosedPorch', 'BsmtHalfBath',\n",
    "              'Neighborhood', 'GarageType', 'Foundation', 'Exterior2nd', 'BsmtFinType1', 'Exterior1st', 'MSZoning', 'MasVnrType', 'LotShape',\n",
    "              'HouseStyle', 'SaleType', 'SaleCondition', 'Electrical', 'BldgType', 'BsmtFinType2', 'LandContour', 'Condition1', 'Heating', 'RoofStyle',\n",
    "              'LotConfig', 'SalePrice']\n",
    "data = data[mi_columns]"
   ]
  },
  {
   "cell_type": "markdown",
   "id": "c72a741a-bea1-4499-8fe6-a1074920d0e8",
   "metadata": {},
   "source": [
    "Xử lý giá trị NaN và các outlier."
   ]
  },
  {
   "cell_type": "code",
   "execution_count": 5,
   "id": "d047d5b4-558e-4ba3-8f99-3720a99092cb",
   "metadata": {},
   "outputs": [],
   "source": [
    "fillna_values = {\n",
    "    \"LotFrontage\": 0,\n",
    "    \"MasVnrType\": \"None\",\n",
    "    \"MasVnrArea\": 0,\n",
    "    \"BsmtQual\": \"No_bsmt\",\n",
    "    \"BsmtCond\": \"No_bsmt\",\n",
    "    \"BsmtExposure\": \"No_bsmt\",\n",
    "    \"BsmtFinType1\": \"No_bsmt\",\n",
    "    \"BsmtFinType2\": \"No_bsmt\",\n",
    "    \"Electrical\": \"None\",\n",
    "    \"GarageType\": \"No_gara\",\n",
    "    \"GarageFinish\": \"No_gara\",\n",
    "    \"GarageQual\": \"No_gara\",\n",
    "    \"GarageCond\": \"No_gara\",\n",
    "}\n",
    "data = data.fillna(value=fillna_values)"
   ]
  },
  {
   "cell_type": "code",
   "execution_count": 6,
   "id": "783ef063-35ee-4d15-852f-3225fdecceb3",
   "metadata": {},
   "outputs": [],
   "source": [
    "# Sort data by \"SalePrice\" then remove 2 largest values\n",
    "data = data.sort_values(by=\"SalePrice\", ascending=False)\n",
    "data = data.drop(index=[data.index[0], data.index[1]])\n",
    "\n",
    "# Sort data by \"SalePrice\" then remove 5 smallest values\n",
    "data = data.sort_values(by=\"SalePrice\", ascending=True)\n",
    "data = data.drop(index=[data.index[0], data.index[1], data.index[2], data.index[3], data.index[4]])\n",
    "\n",
    "# Sort data by \"LotFrontage\" then remove largest value\n",
    "data = data.sort_values(by=\"LotFrontage\", ascending=False)\n",
    "data = data.drop(index=[data.index[0], data.index[1]])\n",
    "\n",
    "# Sort data by \"LotArea\" then remove 4 largest values\n",
    "data = data.sort_values(by=\"LotArea\", ascending=False)\n",
    "data = data.drop(index=[data.index[0], data.index[1], data.index[2], data.index[3]])\n",
    "\n",
    "# Sort data by \"GrLivArea\" then remove largest value\n",
    "data = data.sort_values(by=\"GrLivArea\", ascending=False)\n",
    "data = data.drop(index=[data.index[0]])"
   ]
  },
  {
   "cell_type": "markdown",
   "id": "b282551e-e410-4509-8558-a972ed89c01f",
   "metadata": {},
   "source": [
    "Label Encoding"
   ]
  },
  {
   "cell_type": "code",
   "execution_count": 7,
   "id": "33a8589f-d73f-4aa8-bc29-c7ed75927b0a",
   "metadata": {},
   "outputs": [],
   "source": [
    "data[\"ExterQual\"] = data[\"ExterQual\"].map({\"Po\": 1, \"Fa\": 2, \"TA\": 3, \"Gd\": 4, \"Ex\": 5})\n",
    "data[\"ExterCond\"] = data[\"ExterCond\"].map({\"Po\": 1, \"Fa\": 2, \"TA\": 3, \"Gd\": 4, \"Ex\": 5})\n",
    "data[\"BsmtQual\"] = data[\"BsmtQual\"].map({\"No_bsmt\": 0, \"Po\": 1, \"Fa\": 2, \"TA\": 3, \"Gd\": 4, \"Ex\": 5})\n",
    "data[\"BsmtCond\"] = data[\"BsmtCond\"].map({\"No_bsmt\": 0, \"Po\": 1, \"Fa\": 2, \"TA\": 3, \"Gd\": 4, \"Ex\": 5})\n",
    "data[\"BsmtExposure\"] = data[\"BsmtExposure\"].map({\"No_bsmt\": 0, \"No\": 1, \"Mn\": 2, \"Av\": 3, \"Gd\": 4})\n",
    "data[\"HeatingQC\"] =data[\"HeatingQC\"].map({\"Po\": 1, \"Fa\": 2, \"TA\": 3, \"Gd\": 4, \"Ex\": 5})\n",
    "data[\"CentralAir\"] =data[\"CentralAir\"].map({\"N\": 0, \"Y\": 1})\n",
    "data[\"KitchenQual\"] = data[\"KitchenQual\"].map({\"Po\": 1, \"Fa\": 2, \"TA\": 3, \"Gd\": 4, \"Ex\": 5})\n",
    "data[\"GarageFinish\"] = data[\"GarageFinish\"].map({\"No_gara\": 0, \"Unf\": 1, \"RFn\": 2, \"Fin\": 3})\n",
    "data[\"GarageQual\"] = data[\"GarageQual\"].map({\"No_gara\": 0, \"Po\": 1, \"Fa\": 2, \"TA\": 3, \"Gd\": 4, \"Ex\": 5})\n",
    "data[\"GarageCond\"] = data[\"GarageCond\"].map({\"No_gara\": 0, \"Po\": 1, \"Fa\": 2, \"TA\": 3, \"Gd\": 4, \"Ex\": 5})\n",
    "data[\"PavedDrive\"] = data[\"PavedDrive\"].map({\"N\": 0, \"P\": 1, \"Y\": 2})"
   ]
  },
  {
   "cell_type": "markdown",
   "id": "35f8c16d-e8e8-414c-b1b1-18a09e9ff4b3",
   "metadata": {},
   "source": [
    "Xử lý các cột dạng số không có phân phối đều"
   ]
  },
  {
   "cell_type": "code",
   "execution_count": 8,
   "id": "103f607b-636b-441c-b501-6f2c830d872d",
   "metadata": {},
   "outputs": [],
   "source": [
    "numerical_columns = data.select_dtypes(exclude=[\"object\"]).columns.tolist()\n",
    "\n",
    "skewed_features = data[numerical_columns].apply(lambda x: skew(x.dropna()))\n",
    "skewed_features = skewed_features[skewed_features > 0.75]\n",
    "skewed_features = skewed_features.index\n",
    "\n",
    "for f in skewed_features:\n",
    "    data[f] = np.log1p(data[f])"
   ]
  },
  {
   "cell_type": "markdown",
   "id": "df8fac24-7d9f-4166-acb9-ef8c4fa3b8eb",
   "metadata": {},
   "source": [
    "Mã hóa one-hot cho tát cả các cột dạng category. Sau đó phân chia thành dữ liệu huấn luyện và kiểm tra."
   ]
  },
  {
   "cell_type": "code",
   "execution_count": 9,
   "id": "bd4018d8-f918-495b-8ee1-be5f4e57f853",
   "metadata": {},
   "outputs": [],
   "source": [
    "X = data.drop(columns=[\"SalePrice\"])\n",
    "y = data[\"SalePrice\"]\n",
    "\n",
    "X = pd.get_dummies(data=X)\n",
    "\n",
    "X_train, X_test, y_train, y_test = train_test_split(X, y, test_size=0.2, random_state=10)"
   ]
  },
  {
   "cell_type": "markdown",
   "id": "b4cfdcd7-859a-45a4-be73-11052bb949e4",
   "metadata": {
    "tags": []
   },
   "source": [
    "Chuẩn hóa các cột dạng số về khoảng giá trị 0 đến 1"
   ]
  },
  {
   "cell_type": "code",
   "execution_count": 10,
   "id": "eed89d06-29e5-4b36-8d5b-d6b11a8c0db7",
   "metadata": {},
   "outputs": [],
   "source": [
    "numerical_columns.remove(\"SalePrice\")\n",
    "\n",
    "scaler = MinMaxScaler()\n",
    "scaler.fit(X=X_train[numerical_columns])\n",
    "\n",
    "X_train[numerical_columns] = scaler.transform(X_train[numerical_columns])\n",
    "X_test[numerical_columns] = scaler.transform(X_test[numerical_columns])"
   ]
  },
  {
   "cell_type": "markdown",
   "id": "35a8badf-92cb-4061-9f73-2b48053c8ae9",
   "metadata": {},
   "source": [
    "Lập mô hình"
   ]
  },
  {
   "cell_type": "code",
   "execution_count": 11,
   "id": "443cc253-b7f4-45f0-93ce-9943f10717d9",
   "metadata": {},
   "outputs": [],
   "source": [
    "def get_result(model, X_test, y_test=y_test):\n",
    "    predictions = model.predict(X_test)\n",
    "    r2 = r2_score(y_true=np.expm1(y_test), y_pred=np.expm1(predictions))\n",
    "    mape = mean_absolute_percentage_error(y_true=np.expm1(y_test), y_pred=np.expm1(predictions))\n",
    "    return {\"MAPE\": mape*100, \"R2 score\": r2}"
   ]
  },
  {
   "cell_type": "code",
   "execution_count": 12,
   "id": "cc18f50a-6930-417d-8061-1e8cd7f0ea14",
   "metadata": {},
   "outputs": [],
   "source": [
    "lasso_model = Lasso()\n",
    "lasso_model.fit(X_train, y_train)\n",
    "lasso_result = get_result(lasso_model, X_test=X_test)\n",
    "\n",
    "ridge_model = Ridge()\n",
    "ridge_model.fit(X_train, y_train)\n",
    "ridge_result = get_result(ridge_model, X_test=X_test)\n",
    "\n",
    "elastic_model = ElasticNet()\n",
    "elastic_model.fit(X_train, y_train)\n",
    "elastic_result = get_result(elastic_model, X_test=X_test)\n",
    "\n",
    "random_forest = RandomForestRegressor()\n",
    "random_forest.fit(X_train, y_train)\n",
    "random_forest_result = get_result(random_forest, X_test=X_test)\n",
    "\n",
    "SVR_model = SVR()\n",
    "SVR_model.fit(X_train, y_train)\n",
    "SVR_result = get_result(SVR_model, X_test=X_test)\n",
    "\n",
    "LGBM_model = LGBMRegressor()\n",
    "LGBM_model.fit(X_train, y_train)\n",
    "LGBM_result = get_result(LGBM_model, X_test=X_test)"
   ]
  },
  {
   "cell_type": "code",
   "execution_count": 13,
   "id": "e6a8196a-2bf0-446c-8389-a4ad0d6f708d",
   "metadata": {},
   "outputs": [
    {
     "data": {
      "text/html": [
       "<div>\n",
       "<style scoped>\n",
       "    .dataframe tbody tr th:only-of-type {\n",
       "        vertical-align: middle;\n",
       "    }\n",
       "\n",
       "    .dataframe tbody tr th {\n",
       "        vertical-align: top;\n",
       "    }\n",
       "\n",
       "    .dataframe thead th {\n",
       "        text-align: right;\n",
       "    }\n",
       "</style>\n",
       "<table border=\"1\" class=\"dataframe\">\n",
       "  <thead>\n",
       "    <tr style=\"text-align: right;\">\n",
       "      <th></th>\n",
       "      <th>MAPE</th>\n",
       "      <th>R2 score</th>\n",
       "    </tr>\n",
       "  </thead>\n",
       "  <tbody>\n",
       "    <tr>\n",
       "      <th>Ridge</th>\n",
       "      <td>7.5760</td>\n",
       "      <td>0.9332</td>\n",
       "    </tr>\n",
       "    <tr>\n",
       "      <th>LGBM</th>\n",
       "      <td>8.6180</td>\n",
       "      <td>0.9100</td>\n",
       "    </tr>\n",
       "    <tr>\n",
       "      <th>SVR</th>\n",
       "      <td>8.6810</td>\n",
       "      <td>0.9123</td>\n",
       "    </tr>\n",
       "    <tr>\n",
       "      <th>Random forest</th>\n",
       "      <td>9.9676</td>\n",
       "      <td>0.8810</td>\n",
       "    </tr>\n",
       "    <tr>\n",
       "      <th>Lasso</th>\n",
       "      <td>30.4453</td>\n",
       "      <td>-0.0294</td>\n",
       "    </tr>\n",
       "    <tr>\n",
       "      <th>ElasticNet</th>\n",
       "      <td>30.4453</td>\n",
       "      <td>-0.0294</td>\n",
       "    </tr>\n",
       "  </tbody>\n",
       "</table>\n",
       "</div>"
      ],
      "text/plain": [
       "                 MAPE  R2 score\n",
       "Ridge          7.5760    0.9332\n",
       "LGBM           8.6180    0.9100\n",
       "SVR            8.6810    0.9123\n",
       "Random forest  9.9676    0.8810\n",
       "Lasso         30.4453   -0.0294\n",
       "ElasticNet    30.4453   -0.0294"
      ]
     },
     "execution_count": 13,
     "metadata": {},
     "output_type": "execute_result"
    }
   ],
   "source": [
    "all_results = pd.DataFrame({\n",
    "    \"Lasso\": lasso_result,\n",
    "    \"Ridge\": ridge_result,\n",
    "    \"ElasticNet\": elastic_result,\n",
    "    \"Random forest\": random_forest_result,\n",
    "    \"SVR\": SVR_result,\n",
    "    \"LGBM\": LGBM_result\n",
    "})\n",
    "\n",
    "all_results.transpose().sort_values(by=\"MAPE\", ascending=True)"
   ]
  },
  {
   "cell_type": "markdown",
   "id": "d5e471e0-6ae0-4eb5-a3b8-89d70514e705",
   "metadata": {},
   "source": [
    "Tạo lại các mô hình của chúng ta. Do các mô hình Lasso, Ridge, ElasticNet và SVR không hoạt động tốt với outlier (mà chúng ta lại có khá nhiều outliers trong dữ liệu) nên lần này ta sẽ dùng RobustScaler trước để tăng chất lượng"
   ]
  },
  {
   "cell_type": "code",
   "execution_count": 14,
   "id": "0823d8e6-b9e8-4ea3-8bf9-cdef11c84727",
   "metadata": {},
   "outputs": [
    {
     "data": {
      "text/plain": [
       "{'MAPE': 7.548599102024594, 'R2 score': 0.9333542521284866}"
      ]
     },
     "execution_count": 14,
     "metadata": {},
     "output_type": "execute_result"
    }
   ],
   "source": [
    "ridge_model_2 = make_pipeline(RobustScaler(), Ridge())\n",
    "ridge_model_2.fit(X_train, y_train)\n",
    "ridge_result_2 = get_result(ridge_model_2, X_test=X_test)\n",
    "ridge_result_2"
   ]
  },
  {
   "cell_type": "markdown",
   "id": "7b1d5b09-1321-4614-ab13-fc89afc70844",
   "metadata": {},
   "source": [
    "Chất lượng có cải thiện khi thêm RobustScaler.\n",
    "\n",
    "Để tìm tham số tốt nhất cho các mô hình ta dùng GridSearchCV.\n",
    "\n",
    "Đầu tiên là tìm tham số điều chuẩn \"alpha\" cho mô hình Lasso:"
   ]
  },
  {
   "cell_type": "code",
   "execution_count": 15,
   "id": "5136affb-5b42-4cc1-8543-70bf75bdfeaa",
   "metadata": {},
   "outputs": [
    {
     "data": {
      "text/plain": [
       "{'lasso__alpha': 0.0006}"
      ]
     },
     "execution_count": 15,
     "metadata": {},
     "output_type": "execute_result"
    }
   ],
   "source": [
    "# Tìm tham số alpha cho mô hình Lasso\n",
    "lasso_param = {\"lasso__alpha\": [0.0005, 0.0006, 0.0007]}\n",
    "lasso_model_search = make_pipeline(RobustScaler(), Lasso())\n",
    "lasso_search = GridSearchCV(estimator=lasso_model_search, param_grid=lasso_param)\n",
    "lasso_search.fit(X_train, y_train)\n",
    "lasso_search.best_params_"
   ]
  },
  {
   "cell_type": "code",
   "execution_count": 16,
   "id": "c1b4216d-3ba1-43d5-a373-fab6fe1c33d1",
   "metadata": {},
   "outputs": [
    {
     "data": {
      "text/plain": [
       "{'MAPE': 7.330565078753752, 'R2 score': 0.9350646662586036}"
      ]
     },
     "execution_count": 16,
     "metadata": {},
     "output_type": "execute_result"
    }
   ],
   "source": [
    "# Tạo model Lasso & lấy kết quả\n",
    "lasso_model = make_pipeline(RobustScaler(), Lasso(alpha=0.0006))\n",
    "lasso_model.fit(X_train, y_train)\n",
    "lasso_result_1 = get_result(lasso_model, X_test=X_test)\n",
    "lasso_result_1"
   ]
  },
  {
   "cell_type": "markdown",
   "id": "fcc668ab-068f-4a79-9793-c951ff97d370",
   "metadata": {},
   "source": [
    "Tiếp đến Ridge"
   ]
  },
  {
   "cell_type": "code",
   "execution_count": 17,
   "id": "7c24bddf-bafe-4dfe-8cee-f09d0fe34eef",
   "metadata": {},
   "outputs": [
    {
     "data": {
      "text/plain": [
       "{'ridge__alpha': 16}"
      ]
     },
     "execution_count": 17,
     "metadata": {},
     "output_type": "execute_result"
    }
   ],
   "source": [
    "# Tìm tham số alpha cho mô hình Ridge\n",
    "ridge_param = {\"ridge__alpha\": [15, 16, 17]}\n",
    "ridge_model_search = make_pipeline(RobustScaler(), Ridge())\n",
    "ridge_search = GridSearchCV(estimator=ridge_model_search, param_grid=ridge_param)\n",
    "ridge_search.fit(X_train, y_train)\n",
    "ridge_search.best_params_"
   ]
  },
  {
   "cell_type": "code",
   "execution_count": 18,
   "id": "211ec8cf-b8b3-46da-98e8-82c577424768",
   "metadata": {},
   "outputs": [
    {
     "data": {
      "text/plain": [
       "{'MAPE': 7.255224232045644, 'R2 score': 0.9364922429950249}"
      ]
     },
     "execution_count": 18,
     "metadata": {},
     "output_type": "execute_result"
    }
   ],
   "source": [
    "# Tạo model Ridge & lấy kết quả\n",
    "ridge_model = make_pipeline(RobustScaler(), Ridge(alpha=16))\n",
    "ridge_model.fit(X_train, y_train)\n",
    "ridge_result_1 = get_result(ridge_model, X_test=X_test)\n",
    "ridge_result_1"
   ]
  },
  {
   "cell_type": "markdown",
   "id": "e630bcce-aeba-44e4-8286-2204616742fd",
   "metadata": {},
   "source": [
    "Tiếp tục với ElasticNet. Do ElasticNet kết hợp cả điều chuẩn L1 và L2 nên chúng ta cần khám phá cả tỉ lệ của chúng nữa"
   ]
  },
  {
   "cell_type": "code",
   "execution_count": 19,
   "id": "8ac328da-4ad6-4317-82aa-b6ce59b622dd",
   "metadata": {},
   "outputs": [
    {
     "data": {
      "text/plain": [
       "{'elasticnet__alpha': 0.0009, 'elasticnet__l1_ratio': 0.62}"
      ]
     },
     "execution_count": 19,
     "metadata": {},
     "output_type": "execute_result"
    }
   ],
   "source": [
    "# Tìm tham số cho mô hình ElasticNet\n",
    "elastic_param = {\"elasticnet__alpha\": [0.0008, 0.0009, 0.001], \"elasticnet__l1_ratio\": [0.61, 0.62, 0.63]}\n",
    "elastic_model_search = make_pipeline(RobustScaler(), ElasticNet())\n",
    "elastic_search = GridSearchCV(estimator=elastic_model_search, param_grid=elastic_param)\n",
    "elastic_search.fit(X_train, y_train)\n",
    "elastic_search.best_params_"
   ]
  },
  {
   "cell_type": "code",
   "execution_count": 20,
   "id": "1d1d5027-c44a-466e-9477-f9478037a8cf",
   "metadata": {},
   "outputs": [
    {
     "data": {
      "text/plain": [
       "{'MAPE': 7.324726749195697, 'R2 score': 0.9350961955760414}"
      ]
     },
     "execution_count": 20,
     "metadata": {},
     "output_type": "execute_result"
    }
   ],
   "source": [
    "# Tạo model ElasticNet & lấy kết quả\n",
    "elastic_model = make_pipeline(RobustScaler(), ElasticNet(alpha=0.0009, l1_ratio=0.62))\n",
    "elastic_model.fit(X_train, y_train)\n",
    "elastic_result_1 = get_result(elastic_model, X_test=X_test)\n",
    "elastic_result_1"
   ]
  },
  {
   "cell_type": "markdown",
   "id": "20e4cde2-bea3-4c3f-a794-59129a5a13cf",
   "metadata": {},
   "source": [
    "Có rất nhiều tham số trong mô hình RandomForestRegressor nhưng chúng ta sẽ chỉ tập trung vào 3 tham số cơ bản sau:\n",
    "- n_estimators: số cây quyết định được dùng\n",
    "- min_samples_split: số mẫu tối thiểu để tiếp tục phân nhánh cho node đó\n",
    "- min_samples_leaf: số mẫu tối thiểu ở một lá (leaf node)"
   ]
  },
  {
   "cell_type": "code",
   "execution_count": 24,
   "id": "aeb1bed1-98a2-41bf-8a84-b2060becc35a",
   "metadata": {
    "scrolled": true,
    "tags": []
   },
   "outputs": [
    {
     "data": {
      "text/plain": [
       "{'min_samples_leaf': 2, 'min_samples_split': 2, 'n_estimators': 120}"
      ]
     },
     "execution_count": 24,
     "metadata": {},
     "output_type": "execute_result"
    }
   ],
   "source": [
    "random_forest_param = {\n",
    "    \"n_estimators\": [100, 120, 140, 160],\n",
    "    \"min_samples_split\": [2, 3, 4],\n",
    "    \"min_samples_leaf\": [1, 2, 3]\n",
    "}\n",
    "random_forest_model = RandomForestRegressor()\n",
    "random_forest_search = GridSearchCV(estimator=random_forest_model, param_grid=random_forest_param)\n",
    "random_forest_search.fit(X_train, y_train)\n",
    "random_forest_search.best_params_\n",
    "\n",
    "# It takes very long to run this cell, below is the result in case Outputs of this cell is cleared\n",
    "# {'min_samples_leaf': 2, 'min_samples_split': 2, 'n_estimators': 120}"
   ]
  },
  {
   "cell_type": "code",
   "execution_count": 27,
   "id": "8befba16-d65b-4290-af5e-6ac6a5a5a64d",
   "metadata": {},
   "outputs": [
    {
     "data": {
      "text/plain": [
       "{'MAPE': 9.787797319502873, 'R2 score': 0.8831989196595826}"
      ]
     },
     "execution_count": 27,
     "metadata": {},
     "output_type": "execute_result"
    }
   ],
   "source": [
    "random_forest = RandomForestRegressor(n_estimators=120, min_samples_leaf=2)\n",
    "random_forest.fit(X_train, y_train)\n",
    "random_forest_result_1 = get_result(random_forest, X_test=X_test)\n",
    "random_forest_result_1"
   ]
  },
  {
   "cell_type": "markdown",
   "id": "0fd042d3-f420-44c7-9b18-f914acd3cd01",
   "metadata": {},
   "source": [
    "Chất lượng của Random Forest tăng một chút. Lưu ý Random Forest hoạt động dựa trên các cây quyết định, mà decision tree thì mỗi lần chạy sẽ cho kết quả khác nhau (chúng ta được khuyên rằng hãy huấn luyện mô hình decision tree nhiều lần và chọn mô hình có kết quả tốt nhất)."
   ]
  },
  {
   "cell_type": "markdown",
   "id": "d11f3d65-61a1-463c-b99c-ebb424049cd5",
   "metadata": {},
   "source": [
    "Ở mô hình SVR ta cũng sẽ chỉ điều chỉnh 3 tham số cơ bản:\n",
    "- gamma: hệ số cho nhân \"rbf\"\n",
    "- C: chỉ số điều chuẩn (càng lớn thì điều chuẩn càng giảm)\n",
    "- epsilon: nếu dự đoán tại một điểm có sai số nhỏ hơn epsilon thì không áp dụng điều chuẩn tại điểm đó"
   ]
  },
  {
   "cell_type": "code",
   "execution_count": 30,
   "id": "2fbfc3bd-3be3-40ff-a434-a35129f33459",
   "metadata": {},
   "outputs": [
    {
     "data": {
      "text/plain": [
       "{'svr__C': 2, 'svr__epsilon': 0.01, 'svr__gamma': 'auto'}"
      ]
     },
     "execution_count": 30,
     "metadata": {},
     "output_type": "execute_result"
    }
   ],
   "source": [
    "# Tìm tham số cho mô hình SVR\n",
    "SVR_param = {\n",
    "    \"svr__gamma\": [\"scale\", \"auto\"],\n",
    "    \"svr__C\": [1.9, 2, 2.1],\n",
    "    \"svr__epsilon\": [0.009, 0.01, 0.011]\n",
    "}\n",
    "SVR_model_search = make_pipeline(RobustScaler(), SVR())\n",
    "SVR_search = GridSearchCV(estimator=SVR_model_search, param_grid=SVR_param)\n",
    "SVR_search.fit(X_train, y_train)\n",
    "SVR_search.best_params_\n",
    "\n",
    "# # It takes very long to run this cell, below is the result in case Outputs of this cell is cleared\n",
    "# {'svr__C': 2, 'svr__epsilon': 0.01, 'svr__gamma': 'auto'}"
   ]
  },
  {
   "cell_type": "code",
   "execution_count": 31,
   "id": "f0d492c0-e8c2-4b55-be45-11d573bf4d64",
   "metadata": {},
   "outputs": [
    {
     "data": {
      "text/plain": [
       "{'MAPE': 6.979686323423992, 'R2 score': 0.9388084533159239}"
      ]
     },
     "execution_count": 31,
     "metadata": {},
     "output_type": "execute_result"
    }
   ],
   "source": [
    "# Tạo model SVR & lấy kết quả\n",
    "SVR_model = make_pipeline(RobustScaler(), SVR(gamma=\"auto\", C=2, epsilon=0.01))\n",
    "SVR_model.fit(X_train, y_train)\n",
    "SVR_result_1 = get_result(SVR_model, X_test=X_test)\n",
    "SVR_result_1"
   ]
  },
  {
   "cell_type": "markdown",
   "id": "3d6f08d4-bdd4-4e3e-b7c0-26f8967e450a",
   "metadata": {},
   "source": [
    "Cuối cùng là LGBM, tập trung vào 6 trong số rất nhiều tham số của mô hình:\n",
    "- num_leaves: số \"lá\" tối đa của một \"cây\"\n",
    "- learning_rate: tốc độ học\n",
    "- n_estimators: số lượng cây tăng cường dùng trong mô hình\n",
    "- min_child_samples: số lượng tối thiểu cần có trong 1 lá\n",
    "- reg_alpha: điều chuẩn L1 trên trọng số\n",
    "- reg_lambda: điều chuẩn L2 trên trọng số"
   ]
  },
  {
   "cell_type": "code",
   "execution_count": 37,
   "id": "4c482f22-8173-435c-a08e-5b58bdb2ae56",
   "metadata": {},
   "outputs": [
    {
     "data": {
      "text/plain": [
       "{'learning_rate': 0.05,\n",
       " 'min_child_samples': 14,\n",
       " 'n_estimators': 3000,\n",
       " 'num_leaves': 2,\n",
       " 'reg_alpha': 0.003,\n",
       " 'reg_lambda': 0.0011}"
      ]
     },
     "execution_count": 37,
     "metadata": {},
     "output_type": "execute_result"
    }
   ],
   "source": [
    "# Tìm tham số cho mô hình LGBM\n",
    "LGBM_param = {\n",
    "    \"num_leaves\": [2, 3],\n",
    "    \"learning_rate\": [0.04, 0.05, 0.06],\n",
    "    \"n_estimators\": [2900, 3000, 3100],\n",
    "    \"min_child_samples\": [13, 14, 15],\n",
    "    \"reg_alpha\": [0.002, 0.003, 0.004],\n",
    "    \"reg_lambda\": [0.001, 0.0011, 0.0012]\n",
    "}\n",
    "LGBM_model_search = LGBMRegressor()\n",
    "LGBM_search = GridSearchCV(estimator=LGBM_model_search, param_grid=LGBM_param)\n",
    "LGBM_search.fit(X_train, y_train)\n",
    "LGBM_search.best_params_\n",
    "\n",
    "# It takes very long to run this cell, below is the result in case Outputs of this cell is cleared\n",
    "# {'learning_rate': 0.05, 'min_child_samples': 14, 'n_estimators': 3000, 'num_leaves': 2, 'reg_alpha': 0.003, 'reg_lambda': 0.0011}"
   ]
  },
  {
   "cell_type": "code",
   "execution_count": 38,
   "id": "17391abf-7e8d-4c3d-9007-5e90ef2eacfd",
   "metadata": {},
   "outputs": [
    {
     "data": {
      "text/plain": [
       "{'MAPE': 7.7815082050627105, 'R2 score': 0.9272029487952697}"
      ]
     },
     "execution_count": 38,
     "metadata": {},
     "output_type": "execute_result"
    }
   ],
   "source": [
    "LGBM_model = LGBMRegressor(num_leaves=2, learning_rate=0.05, n_estimators=3000, min_child_samples=14, reg_alpha=0.003, reg_lambda=0.0011)\n",
    "LGBM_model.fit(X_train, y_train)\n",
    "LGBM_result_1 = get_result(LGBM_model, X_test=X_test)\n",
    "LGBM_result_1"
   ]
  },
  {
   "cell_type": "markdown",
   "id": "3d23c028-717f-4501-8155-d4d89575b861",
   "metadata": {},
   "source": [
    "Chất lượng tăng lên so với mặc định. Chú ý là tính chất mô hình LGBM cũng dựa trên các cây quyết định như Random Forest."
   ]
  },
  {
   "cell_type": "markdown",
   "id": "202ad8db-82d1-4ae7-b362-09bc1b6f50da",
   "metadata": {},
   "source": [
    "Ngoài ra ta cũng cần lưu ý là GridSearchCV tim ra giá trị tham số hoạt động tốt nhất dựa trên tập huấn luyện nên rất có khà năng overfitting tập huấn luyện, nghĩa là các tham số đó chỉ cho kết quả tốt nhất khi đánh giá trên tập huấn luyện nhưng khi dùng mô hình đó cho tập kiểm định thì kết quả không tốt.\n",
    "\n",
    "**NOTE:** việc tuning ở trên được thực hiện nhiều lần. Ban đầu chọn một số giá trị xung quanh giá trị mặc định (hoặc nhỏ/lớn hơn giá trị mặc định tùy tham số), sau đó tùy thuộc giá trị tốt nhất tìm được mà xê dịch khoảng giá trị lựa chọn nhỏ/lớn hơn hoặc tập trung vào một khoảng chi tiết hơn (zooming)."
   ]
  },
  {
   "cell_type": "markdown",
   "id": "43e01b2d-f9a9-409e-8e6c-e677fe752223",
   "metadata": {},
   "source": [
    "Hãy xem lại kết quả các mô hình của chúng ta sau khi tuning:"
   ]
  },
  {
   "cell_type": "code",
   "execution_count": 39,
   "id": "9b76d668-2bd4-41d3-92d5-5606d1528032",
   "metadata": {},
   "outputs": [
    {
     "data": {
      "text/html": [
       "<div>\n",
       "<style scoped>\n",
       "    .dataframe tbody tr th:only-of-type {\n",
       "        vertical-align: middle;\n",
       "    }\n",
       "\n",
       "    .dataframe tbody tr th {\n",
       "        vertical-align: top;\n",
       "    }\n",
       "\n",
       "    .dataframe thead th {\n",
       "        text-align: right;\n",
       "    }\n",
       "</style>\n",
       "<table border=\"1\" class=\"dataframe\">\n",
       "  <thead>\n",
       "    <tr style=\"text-align: right;\">\n",
       "      <th></th>\n",
       "      <th>MAPE</th>\n",
       "      <th>R2 score</th>\n",
       "    </tr>\n",
       "  </thead>\n",
       "  <tbody>\n",
       "    <tr>\n",
       "      <th>SVR</th>\n",
       "      <td>6.9797</td>\n",
       "      <td>0.9388</td>\n",
       "    </tr>\n",
       "    <tr>\n",
       "      <th>Ridge</th>\n",
       "      <td>7.2552</td>\n",
       "      <td>0.9365</td>\n",
       "    </tr>\n",
       "    <tr>\n",
       "      <th>ElasticNet</th>\n",
       "      <td>7.3247</td>\n",
       "      <td>0.9351</td>\n",
       "    </tr>\n",
       "    <tr>\n",
       "      <th>Lasso</th>\n",
       "      <td>7.3306</td>\n",
       "      <td>0.9351</td>\n",
       "    </tr>\n",
       "    <tr>\n",
       "      <th>LGBM</th>\n",
       "      <td>7.7815</td>\n",
       "      <td>0.9272</td>\n",
       "    </tr>\n",
       "    <tr>\n",
       "      <th>Random forest</th>\n",
       "      <td>9.7878</td>\n",
       "      <td>0.8832</td>\n",
       "    </tr>\n",
       "  </tbody>\n",
       "</table>\n",
       "</div>"
      ],
      "text/plain": [
       "                MAPE  R2 score\n",
       "SVR           6.9797    0.9388\n",
       "Ridge         7.2552    0.9365\n",
       "ElasticNet    7.3247    0.9351\n",
       "Lasso         7.3306    0.9351\n",
       "LGBM          7.7815    0.9272\n",
       "Random forest 9.7878    0.8832"
      ]
     },
     "execution_count": 39,
     "metadata": {},
     "output_type": "execute_result"
    }
   ],
   "source": [
    "all_results_1 = pd.DataFrame({\n",
    "    \"Lasso\": lasso_result_1,\n",
    "    \"Ridge\": ridge_result_1,\n",
    "    \"ElasticNet\": elastic_result_1,\n",
    "    \"Random forest\": random_forest_result_1,\n",
    "    \"SVR\": SVR_result_1,\n",
    "    \"LGBM\": LGBM_result_1\n",
    "})\n",
    "\n",
    "all_results_1.transpose().sort_values(by=\"MAPE\", ascending=True)"
   ]
  },
  {
   "cell_type": "code",
   "execution_count": 40,
   "id": "b3151a3d-fdb8-4935-a879-f8901f5cc853",
   "metadata": {},
   "outputs": [
    {
     "data": {
      "text/html": [
       "<div>\n",
       "<style scoped>\n",
       "    .dataframe tbody tr th:only-of-type {\n",
       "        vertical-align: middle;\n",
       "    }\n",
       "\n",
       "    .dataframe tbody tr th {\n",
       "        vertical-align: top;\n",
       "    }\n",
       "\n",
       "    .dataframe thead tr th {\n",
       "        text-align: left;\n",
       "    }\n",
       "</style>\n",
       "<table border=\"1\" class=\"dataframe\">\n",
       "  <thead>\n",
       "    <tr>\n",
       "      <th></th>\n",
       "      <th colspan=\"2\" halign=\"left\">Before tuning</th>\n",
       "      <th colspan=\"2\" halign=\"left\">After tuning</th>\n",
       "    </tr>\n",
       "    <tr>\n",
       "      <th></th>\n",
       "      <th>MAPE</th>\n",
       "      <th>R2 score</th>\n",
       "      <th>MAPE</th>\n",
       "      <th>R2 score</th>\n",
       "    </tr>\n",
       "  </thead>\n",
       "  <tbody>\n",
       "    <tr>\n",
       "      <th>Lasso</th>\n",
       "      <td>30.4453</td>\n",
       "      <td>-0.0294</td>\n",
       "      <td>7.3306</td>\n",
       "      <td>0.9351</td>\n",
       "    </tr>\n",
       "    <tr>\n",
       "      <th>Ridge</th>\n",
       "      <td>7.5760</td>\n",
       "      <td>0.9332</td>\n",
       "      <td>7.2552</td>\n",
       "      <td>0.9365</td>\n",
       "    </tr>\n",
       "    <tr>\n",
       "      <th>ElasticNet</th>\n",
       "      <td>30.4453</td>\n",
       "      <td>-0.0294</td>\n",
       "      <td>7.3247</td>\n",
       "      <td>0.9351</td>\n",
       "    </tr>\n",
       "    <tr>\n",
       "      <th>Random forest</th>\n",
       "      <td>9.9676</td>\n",
       "      <td>0.8810</td>\n",
       "      <td>9.7878</td>\n",
       "      <td>0.8832</td>\n",
       "    </tr>\n",
       "    <tr>\n",
       "      <th>SVR</th>\n",
       "      <td>8.6810</td>\n",
       "      <td>0.9123</td>\n",
       "      <td>6.9797</td>\n",
       "      <td>0.9388</td>\n",
       "    </tr>\n",
       "    <tr>\n",
       "      <th>LGBM</th>\n",
       "      <td>8.6180</td>\n",
       "      <td>0.9100</td>\n",
       "      <td>7.7815</td>\n",
       "      <td>0.9272</td>\n",
       "    </tr>\n",
       "  </tbody>\n",
       "</table>\n",
       "</div>"
      ],
      "text/plain": [
       "              Before tuning          After tuning         \n",
       "                       MAPE R2 score         MAPE R2 score\n",
       "Lasso               30.4453  -0.0294       7.3306   0.9351\n",
       "Ridge                7.5760   0.9332       7.2552   0.9365\n",
       "ElasticNet          30.4453  -0.0294       7.3247   0.9351\n",
       "Random forest        9.9676   0.8810       9.7878   0.8832\n",
       "SVR                  8.6810   0.9123       6.9797   0.9388\n",
       "LGBM                 8.6180   0.9100       7.7815   0.9272"
      ]
     },
     "execution_count": 40,
     "metadata": {},
     "output_type": "execute_result"
    }
   ],
   "source": [
    "pd.concat(objs=[all_results.transpose(), all_results_1.transpose()], axis=1, keys=[\"Before tuning\", \"After tuning\"])"
   ]
  },
  {
   "cell_type": "markdown",
   "id": "63cef0b0-7675-45f3-bbc2-a53ac9639d30",
   "metadata": {},
   "source": [
    "Hãy thử mô hình neural network xem sao"
   ]
  },
  {
   "cell_type": "code",
   "execution_count": 41,
   "id": "3d7a5f75-fce9-4a49-863e-d9d56d37ada4",
   "metadata": {},
   "outputs": [
    {
     "data": {
      "text/plain": [
       "(1156, 200)"
      ]
     },
     "execution_count": 41,
     "metadata": {},
     "output_type": "execute_result"
    }
   ],
   "source": [
    "# Create Dataset for faster process with tensorflow\n",
    "train_data = tf.data.Dataset.from_tensor_slices((X_train, y_train))\n",
    "test_data = tf.data.Dataset.from_tensor_slices((X_test, y_test))\n",
    "\n",
    "train_data = train_data.batch(batch_size=64).prefetch(tf.data.AUTOTUNE)\n",
    "test_data = test_data.batch(batch_size=64).prefetch(tf.data.AUTOTUNE)\n",
    "\n",
    "# Create a list of callback functions\n",
    "callbacks_list = [\n",
    "    tf.keras.callbacks.ReduceLROnPlateau(monitor=\"val_loss\", factor=0.5, patience=2, mode=\"min\"),\n",
    "    tf.keras.callbacks.EarlyStopping(monitor=\"val_loss\", patience=9, mode=\"min\")\n",
    "]\n",
    "\n",
    "X_train.shape"
   ]
  },
  {
   "cell_type": "code",
   "execution_count": 44,
   "id": "4014e546-4a8a-448f-862f-106538c60e91",
   "metadata": {},
   "outputs": [],
   "source": [
    "# Create model\n",
    "NN_model = tf.keras.models.Sequential(layers=[\n",
    "    tf.keras.layers.Dense(units=256, activation=\"relu\", input_shape=(200,)),\n",
    "    tf.keras.layers.Dense(units=1, activation=\"relu\")\n",
    "])\n",
    "\n",
    "# Compile model\n",
    "NN_model.compile(loss=\"mse\", optimizer=tf.keras.optimizers.Adam(learning_rate=0.001), metrics=[\"mape\"])"
   ]
  },
  {
   "cell_type": "code",
   "execution_count": 45,
   "id": "7ecf376d-7ecb-43b9-8b6b-ef9bc77a87b7",
   "metadata": {
    "scrolled": true,
    "tags": []
   },
   "outputs": [
    {
     "name": "stdout",
     "output_type": "stream",
     "text": [
      "Epoch 1/500\n",
      "19/19 [==============================] - 1s 12ms/step - loss: 78.9339 - mape: 71.4618 - val_loss: 14.2745 - val_mape: 31.2331 - lr: 0.0010\n",
      "Epoch 2/500\n",
      "19/19 [==============================] - 0s 6ms/step - loss: 3.8769 - mape: 13.8563 - val_loss: 3.3188 - val_mape: 13.9981 - lr: 0.0010\n",
      "Epoch 3/500\n",
      "19/19 [==============================] - 0s 5ms/step - loss: 1.1923 - mape: 7.1482 - val_loss: 0.6091 - val_mape: 5.1948 - lr: 0.0010\n",
      "Epoch 4/500\n",
      "19/19 [==============================] - 0s 5ms/step - loss: 0.4455 - mape: 4.3229 - val_loss: 0.2978 - val_mape: 3.5013 - lr: 0.0010\n",
      "Epoch 5/500\n",
      "19/19 [==============================] - 0s 6ms/step - loss: 0.2617 - mape: 3.3058 - val_loss: 0.2416 - val_mape: 3.1231 - lr: 0.0010\n",
      "Epoch 6/500\n",
      "19/19 [==============================] - 0s 5ms/step - loss: 0.2038 - mape: 2.9054 - val_loss: 0.2057 - val_mape: 2.8972 - lr: 0.0010\n",
      "Epoch 7/500\n",
      "19/19 [==============================] - 0s 6ms/step - loss: 0.1680 - mape: 2.6455 - val_loss: 0.1775 - val_mape: 2.7021 - lr: 0.0010\n",
      "Epoch 8/500\n",
      "19/19 [==============================] - 0s 6ms/step - loss: 0.1421 - mape: 2.4322 - val_loss: 0.1546 - val_mape: 2.5315 - lr: 0.0010\n",
      "Epoch 9/500\n",
      "19/19 [==============================] - 0s 5ms/step - loss: 0.1217 - mape: 2.2432 - val_loss: 0.1358 - val_mape: 2.3788 - lr: 0.0010\n",
      "Epoch 10/500\n",
      "19/19 [==============================] - 0s 6ms/step - loss: 0.1056 - mape: 2.0798 - val_loss: 0.1202 - val_mape: 2.2397 - lr: 0.0010\n",
      "Epoch 11/500\n",
      "19/19 [==============================] - 0s 6ms/step - loss: 0.0926 - mape: 1.9446 - val_loss: 0.1077 - val_mape: 2.1193 - lr: 0.0010\n",
      "Epoch 12/500\n",
      "19/19 [==============================] - 0s 5ms/step - loss: 0.0822 - mape: 1.8330 - val_loss: 0.0975 - val_mape: 2.0192 - lr: 0.0010\n",
      "Epoch 13/500\n",
      "19/19 [==============================] - 0s 6ms/step - loss: 0.0735 - mape: 1.7343 - val_loss: 0.0891 - val_mape: 1.9339 - lr: 0.0010\n",
      "Epoch 14/500\n",
      "19/19 [==============================] - 0s 6ms/step - loss: 0.0664 - mape: 1.6485 - val_loss: 0.0819 - val_mape: 1.8598 - lr: 0.0010\n",
      "Epoch 15/500\n",
      "19/19 [==============================] - 0s 6ms/step - loss: 0.0605 - mape: 1.5750 - val_loss: 0.0758 - val_mape: 1.7929 - lr: 0.0010\n",
      "Epoch 16/500\n",
      "19/19 [==============================] - 0s 6ms/step - loss: 0.0554 - mape: 1.5081 - val_loss: 0.0706 - val_mape: 1.7347 - lr: 0.0010\n",
      "Epoch 17/500\n",
      "19/19 [==============================] - 0s 6ms/step - loss: 0.0510 - mape: 1.4520 - val_loss: 0.0661 - val_mape: 1.6804 - lr: 0.0010\n",
      "Epoch 18/500\n",
      "19/19 [==============================] - 0s 6ms/step - loss: 0.0472 - mape: 1.4003 - val_loss: 0.0621 - val_mape: 1.6311 - lr: 0.0010\n",
      "Epoch 19/500\n",
      "19/19 [==============================] - 0s 7ms/step - loss: 0.0440 - mape: 1.3532 - val_loss: 0.0587 - val_mape: 1.5866 - lr: 0.0010\n",
      "Epoch 20/500\n",
      "19/19 [==============================] - 0s 6ms/step - loss: 0.0411 - mape: 1.3087 - val_loss: 0.0557 - val_mape: 1.5435 - lr: 0.0010\n",
      "Epoch 21/500\n",
      "19/19 [==============================] - 0s 6ms/step - loss: 0.0386 - mape: 1.2670 - val_loss: 0.0527 - val_mape: 1.5003 - lr: 0.0010\n",
      "Epoch 22/500\n",
      "19/19 [==============================] - 0s 6ms/step - loss: 0.0362 - mape: 1.2263 - val_loss: 0.0499 - val_mape: 1.4603 - lr: 0.0010\n",
      "Epoch 23/500\n",
      "19/19 [==============================] - 0s 6ms/step - loss: 0.0341 - mape: 1.1875 - val_loss: 0.0475 - val_mape: 1.4263 - lr: 0.0010\n",
      "Epoch 24/500\n",
      "19/19 [==============================] - 0s 5ms/step - loss: 0.0321 - mape: 1.1528 - val_loss: 0.0454 - val_mape: 1.3935 - lr: 0.0010\n",
      "Epoch 25/500\n",
      "19/19 [==============================] - 0s 6ms/step - loss: 0.0303 - mape: 1.1170 - val_loss: 0.0435 - val_mape: 1.3657 - lr: 0.0010\n",
      "Epoch 26/500\n",
      "19/19 [==============================] - 0s 5ms/step - loss: 0.0286 - mape: 1.0843 - val_loss: 0.0419 - val_mape: 1.3341 - lr: 0.0010\n",
      "Epoch 27/500\n",
      "19/19 [==============================] - 0s 5ms/step - loss: 0.0272 - mape: 1.0538 - val_loss: 0.0403 - val_mape: 1.3066 - lr: 0.0010\n",
      "Epoch 28/500\n",
      "19/19 [==============================] - 0s 5ms/step - loss: 0.0259 - mape: 1.0276 - val_loss: 0.0390 - val_mape: 1.2793 - lr: 0.0010\n",
      "Epoch 29/500\n",
      "19/19 [==============================] - 0s 5ms/step - loss: 0.0247 - mape: 1.0011 - val_loss: 0.0379 - val_mape: 1.2561 - lr: 0.0010\n",
      "Epoch 30/500\n",
      "19/19 [==============================] - 0s 5ms/step - loss: 0.0236 - mape: 0.9771 - val_loss: 0.0369 - val_mape: 1.2374 - lr: 0.0010\n",
      "Epoch 31/500\n",
      "19/19 [==============================] - 0s 5ms/step - loss: 0.0226 - mape: 0.9577 - val_loss: 0.0360 - val_mape: 1.2193 - lr: 0.0010\n",
      "Epoch 32/500\n",
      "19/19 [==============================] - 0s 5ms/step - loss: 0.0218 - mape: 0.9379 - val_loss: 0.0353 - val_mape: 1.1975 - lr: 0.0010\n",
      "Epoch 33/500\n",
      "19/19 [==============================] - 0s 5ms/step - loss: 0.0209 - mape: 0.9169 - val_loss: 0.0346 - val_mape: 1.1884 - lr: 0.0010\n",
      "Epoch 34/500\n",
      "19/19 [==============================] - 0s 5ms/step - loss: 0.0202 - mape: 0.9027 - val_loss: 0.0340 - val_mape: 1.1660 - lr: 0.0010\n",
      "Epoch 35/500\n",
      "19/19 [==============================] - 0s 5ms/step - loss: 0.0194 - mape: 0.8823 - val_loss: 0.0333 - val_mape: 1.1582 - lr: 0.0010\n",
      "Epoch 36/500\n",
      "19/19 [==============================] - 0s 6ms/step - loss: 0.0188 - mape: 0.8701 - val_loss: 0.0328 - val_mape: 1.1453 - lr: 0.0010\n",
      "Epoch 37/500\n",
      "19/19 [==============================] - 0s 5ms/step - loss: 0.0182 - mape: 0.8555 - val_loss: 0.0322 - val_mape: 1.1285 - lr: 0.0010\n",
      "Epoch 38/500\n",
      "19/19 [==============================] - 0s 5ms/step - loss: 0.0176 - mape: 0.8384 - val_loss: 0.0317 - val_mape: 1.1233 - lr: 0.0010\n",
      "Epoch 39/500\n",
      "19/19 [==============================] - 0s 5ms/step - loss: 0.0171 - mape: 0.8278 - val_loss: 0.0314 - val_mape: 1.1112 - lr: 0.0010\n",
      "Epoch 40/500\n",
      "19/19 [==============================] - 0s 5ms/step - loss: 0.0166 - mape: 0.8136 - val_loss: 0.0310 - val_mape: 1.1028 - lr: 0.0010\n",
      "Epoch 41/500\n",
      "19/19 [==============================] - 0s 5ms/step - loss: 0.0160 - mape: 0.7988 - val_loss: 0.0305 - val_mape: 1.0965 - lr: 0.0010\n",
      "Epoch 42/500\n",
      "19/19 [==============================] - 0s 5ms/step - loss: 0.0156 - mape: 0.7891 - val_loss: 0.0301 - val_mape: 1.0829 - lr: 0.0010\n",
      "Epoch 43/500\n",
      "19/19 [==============================] - 0s 5ms/step - loss: 0.0151 - mape: 0.7746 - val_loss: 0.0298 - val_mape: 1.0798 - lr: 0.0010\n",
      "Epoch 44/500\n",
      "19/19 [==============================] - 0s 6ms/step - loss: 0.0148 - mape: 0.7664 - val_loss: 0.0295 - val_mape: 1.0724 - lr: 0.0010\n",
      "Epoch 45/500\n",
      "19/19 [==============================] - 0s 5ms/step - loss: 0.0144 - mape: 0.7563 - val_loss: 0.0291 - val_mape: 1.0653 - lr: 0.0010\n",
      "Epoch 46/500\n",
      "19/19 [==============================] - 0s 6ms/step - loss: 0.0140 - mape: 0.7450 - val_loss: 0.0289 - val_mape: 1.0553 - lr: 0.0010\n",
      "Epoch 47/500\n",
      "19/19 [==============================] - 0s 5ms/step - loss: 0.0136 - mape: 0.7321 - val_loss: 0.0287 - val_mape: 1.0541 - lr: 0.0010\n",
      "Epoch 48/500\n",
      "19/19 [==============================] - 0s 5ms/step - loss: 0.0133 - mape: 0.7254 - val_loss: 0.0285 - val_mape: 1.0500 - lr: 0.0010\n",
      "Epoch 49/500\n",
      "19/19 [==============================] - 0s 5ms/step - loss: 0.0130 - mape: 0.7182 - val_loss: 0.0283 - val_mape: 1.0492 - lr: 0.0010\n",
      "Epoch 50/500\n",
      "19/19 [==============================] - 0s 5ms/step - loss: 0.0128 - mape: 0.7116 - val_loss: 0.0281 - val_mape: 1.0365 - lr: 0.0010\n",
      "Epoch 51/500\n",
      "19/19 [==============================] - 0s 5ms/step - loss: 0.0125 - mape: 0.7007 - val_loss: 0.0280 - val_mape: 1.0339 - lr: 0.0010\n",
      "Epoch 52/500\n",
      "19/19 [==============================] - 0s 5ms/step - loss: 0.0122 - mape: 0.6936 - val_loss: 0.0277 - val_mape: 1.0322 - lr: 0.0010\n",
      "Epoch 53/500\n",
      "19/19 [==============================] - 0s 5ms/step - loss: 0.0120 - mape: 0.6877 - val_loss: 0.0275 - val_mape: 1.0257 - lr: 0.0010\n",
      "Epoch 54/500\n",
      "19/19 [==============================] - 0s 5ms/step - loss: 0.0118 - mape: 0.6807 - val_loss: 0.0274 - val_mape: 1.0239 - lr: 0.0010\n",
      "Epoch 55/500\n",
      "19/19 [==============================] - 0s 5ms/step - loss: 0.0116 - mape: 0.6752 - val_loss: 0.0272 - val_mape: 1.0222 - lr: 0.0010\n",
      "Epoch 56/500\n",
      "19/19 [==============================] - 0s 5ms/step - loss: 0.0114 - mape: 0.6684 - val_loss: 0.0270 - val_mape: 1.0209 - lr: 0.0010\n",
      "Epoch 57/500\n",
      "19/19 [==============================] - 0s 5ms/step - loss: 0.0112 - mape: 0.6632 - val_loss: 0.0270 - val_mape: 1.0136 - lr: 0.0010\n",
      "Epoch 58/500\n",
      "19/19 [==============================] - 0s 5ms/step - loss: 0.0110 - mape: 0.6555 - val_loss: 0.0269 - val_mape: 1.0124 - lr: 0.0010\n",
      "Epoch 59/500\n",
      "19/19 [==============================] - 0s 5ms/step - loss: 0.0108 - mape: 0.6505 - val_loss: 0.0266 - val_mape: 1.0088 - lr: 0.0010\n",
      "Epoch 60/500\n",
      "19/19 [==============================] - 0s 6ms/step - loss: 0.0106 - mape: 0.6458 - val_loss: 0.0265 - val_mape: 1.0085 - lr: 0.0010\n",
      "Epoch 61/500\n",
      "19/19 [==============================] - 0s 5ms/step - loss: 0.0105 - mape: 0.6410 - val_loss: 0.0263 - val_mape: 1.0084 - lr: 0.0010\n",
      "Epoch 62/500\n",
      "19/19 [==============================] - 0s 5ms/step - loss: 0.0103 - mape: 0.6364 - val_loss: 0.0262 - val_mape: 1.0007 - lr: 0.0010\n",
      "Epoch 63/500\n",
      "19/19 [==============================] - 0s 5ms/step - loss: 0.0101 - mape: 0.6287 - val_loss: 0.0262 - val_mape: 1.0000 - lr: 0.0010\n",
      "Epoch 64/500\n",
      "19/19 [==============================] - 0s 5ms/step - loss: 0.0100 - mape: 0.6241 - val_loss: 0.0260 - val_mape: 0.9978 - lr: 0.0010\n",
      "Epoch 65/500\n",
      "19/19 [==============================] - 0s 5ms/step - loss: 0.0098 - mape: 0.6182 - val_loss: 0.0258 - val_mape: 0.9932 - lr: 0.0010\n",
      "Epoch 66/500\n",
      "19/19 [==============================] - 0s 5ms/step - loss: 0.0097 - mape: 0.6136 - val_loss: 0.0258 - val_mape: 0.9956 - lr: 0.0010\n",
      "Epoch 67/500\n",
      "19/19 [==============================] - 0s 5ms/step - loss: 0.0096 - mape: 0.6106 - val_loss: 0.0256 - val_mape: 0.9938 - lr: 0.0010\n",
      "Epoch 68/500\n",
      "19/19 [==============================] - 0s 5ms/step - loss: 0.0094 - mape: 0.6055 - val_loss: 0.0256 - val_mape: 0.9960 - lr: 0.0010\n",
      "Epoch 69/500\n",
      "19/19 [==============================] - 0s 5ms/step - loss: 0.0093 - mape: 0.6002 - val_loss: 0.0255 - val_mape: 0.9881 - lr: 0.0010\n",
      "Epoch 70/500\n",
      "19/19 [==============================] - 0s 5ms/step - loss: 0.0091 - mape: 0.5957 - val_loss: 0.0255 - val_mape: 0.9863 - lr: 0.0010\n",
      "Epoch 71/500\n",
      "19/19 [==============================] - 0s 5ms/step - loss: 0.0090 - mape: 0.5909 - val_loss: 0.0254 - val_mape: 0.9840 - lr: 0.0010\n",
      "Epoch 72/500\n",
      "19/19 [==============================] - 0s 5ms/step - loss: 0.0086 - mape: 0.5760 - val_loss: 0.0253 - val_mape: 0.9792 - lr: 5.0000e-04\n",
      "Epoch 73/500\n",
      "19/19 [==============================] - 0s 6ms/step - loss: 0.0085 - mape: 0.5718 - val_loss: 0.0252 - val_mape: 0.9778 - lr: 5.0000e-04\n",
      "Epoch 74/500\n",
      "19/19 [==============================] - 0s 5ms/step - loss: 0.0085 - mape: 0.5693 - val_loss: 0.0251 - val_mape: 0.9773 - lr: 5.0000e-04\n",
      "Epoch 75/500\n",
      "19/19 [==============================] - 0s 5ms/step - loss: 0.0084 - mape: 0.5671 - val_loss: 0.0251 - val_mape: 0.9785 - lr: 5.0000e-04\n",
      "Epoch 76/500\n",
      "19/19 [==============================] - 0s 5ms/step - loss: 0.0083 - mape: 0.5643 - val_loss: 0.0251 - val_mape: 0.9763 - lr: 5.0000e-04\n",
      "Epoch 77/500\n",
      "19/19 [==============================] - 0s 5ms/step - loss: 0.0082 - mape: 0.5580 - val_loss: 0.0251 - val_mape: 0.9758 - lr: 2.5000e-04\n",
      "Epoch 78/500\n",
      "19/19 [==============================] - 0s 5ms/step - loss: 0.0081 - mape: 0.5575 - val_loss: 0.0252 - val_mape: 0.9769 - lr: 2.5000e-04\n",
      "Epoch 79/500\n",
      "19/19 [==============================] - 0s 5ms/step - loss: 0.0081 - mape: 0.5546 - val_loss: 0.0252 - val_mape: 0.9768 - lr: 1.2500e-04\n",
      "Epoch 80/500\n",
      "19/19 [==============================] - 0s 5ms/step - loss: 0.0080 - mape: 0.5542 - val_loss: 0.0251 - val_mape: 0.9764 - lr: 1.2500e-04\n",
      "Epoch 81/500\n",
      "19/19 [==============================] - 0s 5ms/step - loss: 0.0080 - mape: 0.5526 - val_loss: 0.0251 - val_mape: 0.9761 - lr: 6.2500e-05\n",
      "Epoch 82/500\n",
      "19/19 [==============================] - 0s 5ms/step - loss: 0.0080 - mape: 0.5524 - val_loss: 0.0251 - val_mape: 0.9762 - lr: 6.2500e-05\n",
      "Epoch 83/500\n",
      "19/19 [==============================] - 0s 6ms/step - loss: 0.0080 - mape: 0.5517 - val_loss: 0.0251 - val_mape: 0.9761 - lr: 3.1250e-05\n",
      "Epoch 84/500\n",
      "19/19 [==============================] - 0s 5ms/step - loss: 0.0080 - mape: 0.5516 - val_loss: 0.0251 - val_mape: 0.9761 - lr: 3.1250e-05\n",
      "Epoch 85/500\n",
      "19/19 [==============================] - 0s 5ms/step - loss: 0.0080 - mape: 0.5513 - val_loss: 0.0251 - val_mape: 0.9761 - lr: 1.5625e-05\n"
     ]
    }
   ],
   "source": [
    "# Train model\n",
    "history = NN_model.fit(x=train_data,\n",
    "                        epochs=500,\n",
    "                        callbacks=callbacks_list,\n",
    "                        validation_data=test_data,\n",
    "                        steps_per_epoch=len(train_data),\n",
    "                        validation_steps=len(test_data))"
   ]
  },
  {
   "cell_type": "code",
   "execution_count": 46,
   "id": "3da4b4c1-5edf-4c1b-a200-8467f4356fb1",
   "metadata": {},
   "outputs": [
    {
     "data": {
      "text/html": [
       "<div>\n",
       "<style scoped>\n",
       "    .dataframe tbody tr th:only-of-type {\n",
       "        vertical-align: middle;\n",
       "    }\n",
       "\n",
       "    .dataframe tbody tr th {\n",
       "        vertical-align: top;\n",
       "    }\n",
       "\n",
       "    .dataframe thead th {\n",
       "        text-align: right;\n",
       "    }\n",
       "</style>\n",
       "<table border=\"1\" class=\"dataframe\">\n",
       "  <thead>\n",
       "    <tr style=\"text-align: right;\">\n",
       "      <th></th>\n",
       "      <th>MAPE</th>\n",
       "      <th>R2 score</th>\n",
       "    </tr>\n",
       "  </thead>\n",
       "  <tbody>\n",
       "    <tr>\n",
       "      <th>SVR</th>\n",
       "      <td>6.9797</td>\n",
       "      <td>0.9388</td>\n",
       "    </tr>\n",
       "    <tr>\n",
       "      <th>Ridge</th>\n",
       "      <td>7.2552</td>\n",
       "      <td>0.9365</td>\n",
       "    </tr>\n",
       "    <tr>\n",
       "      <th>ElasticNet</th>\n",
       "      <td>7.3247</td>\n",
       "      <td>0.9351</td>\n",
       "    </tr>\n",
       "    <tr>\n",
       "      <th>Lasso</th>\n",
       "      <td>7.3306</td>\n",
       "      <td>0.9351</td>\n",
       "    </tr>\n",
       "    <tr>\n",
       "      <th>LGBM</th>\n",
       "      <td>7.7815</td>\n",
       "      <td>0.9272</td>\n",
       "    </tr>\n",
       "    <tr>\n",
       "      <th>Random forest</th>\n",
       "      <td>9.7878</td>\n",
       "      <td>0.8832</td>\n",
       "    </tr>\n",
       "    <tr>\n",
       "      <th>Neural network</th>\n",
       "      <td>11.6575</td>\n",
       "      <td>0.8616</td>\n",
       "    </tr>\n",
       "  </tbody>\n",
       "</table>\n",
       "</div>"
      ],
      "text/plain": [
       "                  MAPE  R2 score\n",
       "SVR             6.9797    0.9388\n",
       "Ridge           7.2552    0.9365\n",
       "ElasticNet      7.3247    0.9351\n",
       "Lasso           7.3306    0.9351\n",
       "LGBM            7.7815    0.9272\n",
       "Random forest   9.7878    0.8832\n",
       "Neural network 11.6575    0.8616"
      ]
     },
     "execution_count": 46,
     "metadata": {},
     "output_type": "execute_result"
    }
   ],
   "source": [
    "NN_result = get_result(NN_model, X_test=X_test)\n",
    "\n",
    "all_results_1 = pd.DataFrame({\n",
    "    \"Lasso\": lasso_result_1,\n",
    "    \"Ridge\": ridge_result_1,\n",
    "    \"ElasticNet\": elastic_result_1,\n",
    "    \"Random forest\": random_forest_result_1,\n",
    "    \"SVR\": SVR_result_1,\n",
    "    \"LGBM\": LGBM_result_1,\n",
    "    \"Neural network\": NN_result\n",
    "})\n",
    "\n",
    "all_results_1.transpose().sort_values(by=\"MAPE\", ascending=True)"
   ]
  },
  {
   "cell_type": "markdown",
   "id": "6ebf9fbc-603c-426d-ad18-1db5a0e552e9",
   "metadata": {},
   "source": [
    "Mô hình NN bị overfit và kết quả không được như các mô hình khác. Thông thường NN model chỉ hoạt động tốt khi có nhiều dữ liệu.\n",
    "\n",
    "Cuối cùng chúng ta sẽ thử ensemble learning."
   ]
  },
  {
   "cell_type": "code",
   "execution_count": 47,
   "id": "50ef5e5f-6e76-404d-9394-4a61e8d4e80a",
   "metadata": {},
   "outputs": [],
   "source": [
    "lasso_model_ensemble = make_pipeline(RobustScaler(), Lasso(alpha=0.0006))\n",
    "ridge_model_ensemble = make_pipeline(RobustScaler(), Ridge(alpha=16))\n",
    "elastic_model_ensemble = make_pipeline(RobustScaler(), ElasticNet(alpha=0.0009, l1_ratio=0.62))\n",
    "random_forest_ensemble = RandomForestRegressor(n_estimators=120, min_samples_leaf=2)\n",
    "SVR_model_ensemble = make_pipeline(RobustScaler(), SVR(gamma=\"auto\", C=2, epsilon=0.01))\n",
    "LGBM_model_ensemble = LGBMRegressor(num_leaves=2, learning_rate=0.05, n_estimators=3000, min_child_samples=14, reg_alpha=0.003, reg_lambda=0.0011)"
   ]
  },
  {
   "cell_type": "markdown",
   "id": "bff90889-e7bb-4a76-8896-7e92d21d7082",
   "metadata": {},
   "source": [
    "Kết hợp 3 mô hình tốt nhất"
   ]
  },
  {
   "cell_type": "code",
   "execution_count": 48,
   "id": "e6d0b98e-f04a-4358-8ab6-6839eef09b98",
   "metadata": {},
   "outputs": [
    {
     "data": {
      "text/plain": [
       "{'weights': [8, 1, 1]}"
      ]
     },
     "execution_count": 48,
     "metadata": {},
     "output_type": "execute_result"
    }
   ],
   "source": [
    "top_3_param = {\n",
    "    \"weights\": [None, [8, 1, 1], [7, 2, 1], [6, 3, 1], [6, 2, 2], [5, 4, 1], [5, 3, 2], [4, 4, 2], [4, 3, 3]]\n",
    "}\n",
    "\n",
    "top_3_estimators = [(\"SVR\", SVR_model_ensemble), (\"Ridge\", ridge_model_ensemble), (\"Elastic\", elastic_model_ensemble)]\n",
    "\n",
    "top_3_model_search = VotingRegressor(estimators=top_3_estimators)\n",
    "top_3_search = GridSearchCV(estimator=top_3_model_search, param_grid=top_3_param)\n",
    "top_3_search.fit(X_train, y_train)\n",
    "top_3_search.best_params_"
   ]
  },
  {
   "cell_type": "code",
   "execution_count": 49,
   "id": "23f7782c-73e6-464f-90c9-7fe77992f8cb",
   "metadata": {},
   "outputs": [
    {
     "data": {
      "text/plain": [
       "{'MAPE': 6.90228756670271, 'R2 score': 0.9403436801419496}"
      ]
     },
     "execution_count": 49,
     "metadata": {},
     "output_type": "execute_result"
    }
   ],
   "source": [
    "top_3_model = VotingRegressor(estimators=top_3_estimators, weights=[8, 1, 1])\n",
    "top_3_model.fit(X_train, y_train)\n",
    "top_3_result = get_result(top_3_model, X_test=X_test)\n",
    "top_3_result"
   ]
  },
  {
   "cell_type": "markdown",
   "id": "d2720ae8-ac3f-4387-9233-70744a702892",
   "metadata": {},
   "source": [
    "Top 4"
   ]
  },
  {
   "cell_type": "code",
   "execution_count": 50,
   "id": "3ea4f0d6-850a-4ba6-ab3f-789e50fb0dd2",
   "metadata": {},
   "outputs": [
    {
     "data": {
      "text/plain": [
       "{'weights': [7, 1, 1, 1]}"
      ]
     },
     "execution_count": 50,
     "metadata": {},
     "output_type": "execute_result"
    }
   ],
   "source": [
    "top_4_param = {\n",
    "    \"weights\": [None, [7, 1, 1, 1], [6, 2, 1, 1], [5, 3, 1, 1], [5, 2, 2, 1], [4, 4, 1, 1], [4, 3, 2, 1], [4, 2, 2, 2], [3, 3, 3, 1], [3, 3, 2, 2]]\n",
    "}\n",
    "\n",
    "top_4_estimators = [(\"SVR\", SVR_model_ensemble), (\"Ridge\", ridge_model_ensemble), (\"Elastic\", elastic_model_ensemble), (\"Lasso\", lasso_model_ensemble)]\n",
    "\n",
    "top_4_model_search = VotingRegressor(estimators=top_4_estimators)\n",
    "top_4_search = GridSearchCV(estimator=top_4_model_search, param_grid=top_4_param)\n",
    "top_4_search.fit(X_train, y_train)\n",
    "top_4_search.best_params_"
   ]
  },
  {
   "cell_type": "code",
   "execution_count": 51,
   "id": "341daf5f-ed9c-44ba-a4df-03c6a1ad0721",
   "metadata": {},
   "outputs": [
    {
     "data": {
      "text/plain": [
       "{'MAPE': 6.888763890481709, 'R2 score': 0.9407580854873347}"
      ]
     },
     "execution_count": 51,
     "metadata": {},
     "output_type": "execute_result"
    }
   ],
   "source": [
    "top_4_model = VotingRegressor(estimators=top_4_estimators, weights=[7, 1, 1, 1])\n",
    "top_4_model.fit(X_train, y_train)\n",
    "top_4_result = get_result(top_4_model, X_test=X_test)\n",
    "top_4_result"
   ]
  },
  {
   "cell_type": "markdown",
   "id": "53ccbee3-0c7c-4535-a22b-291779c0196c",
   "metadata": {},
   "source": [
    "Top 5"
   ]
  },
  {
   "cell_type": "code",
   "execution_count": 52,
   "id": "f879ae2e-f481-49f3-a056-20fd33d6f656",
   "metadata": {},
   "outputs": [
    {
     "data": {
      "text/plain": [
       "{'weights': [6, 1, 1, 1, 1]}"
      ]
     },
     "execution_count": 52,
     "metadata": {},
     "output_type": "execute_result"
    }
   ],
   "source": [
    "top_5_param = {\n",
    "    \"weights\": [None, [6, 1, 1, 1, 1], [5, 2, 1, 1, 1], [4, 3, 1, 1, 1], [4, 2, 2, 1, 1], [3, 3, 2, 1, 1], [3, 2, 2, 2, 1]]\n",
    "}\n",
    "\n",
    "top_5_estimators = [(\"SVR\", SVR_model_ensemble), (\"Ridge\", ridge_model_ensemble), (\"Elastic\", elastic_model_ensemble),\n",
    "                    (\"Lasso\", lasso_model_ensemble), (\"LGBM\", LGBM_model_ensemble)]\n",
    "\n",
    "top_5_model_search = VotingRegressor(estimators=top_5_estimators)\n",
    "top_5_search = GridSearchCV(estimator=top_5_model_search, param_grid=top_5_param)\n",
    "top_5_search.fit(X_train, y_train)\n",
    "top_5_search.best_params_"
   ]
  },
  {
   "cell_type": "code",
   "execution_count": 53,
   "id": "6f26fc6b-7a95-460a-931a-07351c1e482a",
   "metadata": {},
   "outputs": [
    {
     "data": {
      "text/plain": [
       "{'MAPE': 6.882211774360643, 'R2 score': 0.9407867720867024}"
      ]
     },
     "execution_count": 53,
     "metadata": {},
     "output_type": "execute_result"
    }
   ],
   "source": [
    "top_5_model = VotingRegressor(estimators=top_5_estimators, weights=[6, 1, 1, 1, 1])\n",
    "top_5_model.fit(X_train, y_train)\n",
    "top_5_result = get_result(top_5_model, X_test=X_test)\n",
    "top_5_result"
   ]
  },
  {
   "cell_type": "markdown",
   "id": "4a97887c-b9d5-4875-8ab4-fd87c8ba57db",
   "metadata": {},
   "source": [
    "Kết hợp tất cả 6 mô hình"
   ]
  },
  {
   "cell_type": "code",
   "execution_count": 54,
   "id": "afa85a97-a6db-43d7-a159-b94cfeeb0eff",
   "metadata": {},
   "outputs": [
    {
     "data": {
      "text/plain": [
       "{'weights': [5, 1, 1, 1, 1, 1]}"
      ]
     },
     "execution_count": 54,
     "metadata": {},
     "output_type": "execute_result"
    }
   ],
   "source": [
    "ensemble_param = {\n",
    "    \"weights\": [None, [5, 1, 1, 1, 1, 1], [4, 2, 1, 1, 1, 1], [3, 3, 1, 1, 1, 1], [3, 2, 2, 1, 1, 1], [2, 2, 2, 2, 1, 1]]\n",
    "}\n",
    "\n",
    "ensemble_estimators = [(\"SVR\", SVR_model_ensemble), (\"Ridge\", ridge_model_ensemble), (\"Elastic\", elastic_model_ensemble), \n",
    "                       (\"Lasso\", lasso_model_ensemble), (\"LGBM\", LGBM_model_ensemble), (\"Random Forest\", random_forest_ensemble)]\n",
    "\n",
    "ensemble_model_search = VotingRegressor(estimators=ensemble_estimators)\n",
    "ensemble_search = GridSearchCV(estimator=ensemble_model_search, param_grid=ensemble_param)\n",
    "ensemble_search.fit(X_train, y_train)\n",
    "ensemble_search.best_params_"
   ]
  },
  {
   "cell_type": "code",
   "execution_count": 55,
   "id": "8cf5ad09-db5c-4a80-a823-22662e2881d8",
   "metadata": {},
   "outputs": [
    {
     "data": {
      "text/plain": [
       "{'MAPE': 6.90096070495296, 'R2 score': 0.9396169949503611}"
      ]
     },
     "execution_count": 55,
     "metadata": {},
     "output_type": "execute_result"
    }
   ],
   "source": [
    "ensemble_model = VotingRegressor(estimators=ensemble_estimators, weights=[5, 1, 1, 1, 1, 1])\n",
    "ensemble_model.fit(X_train, y_train)\n",
    "ensemble_result = get_result(ensemble_model, X_test=X_test)\n",
    "ensemble_result"
   ]
  },
  {
   "cell_type": "code",
   "execution_count": 56,
   "id": "8088fed2-fd80-4956-8ef0-9a8761374e84",
   "metadata": {},
   "outputs": [
    {
     "data": {
      "text/html": [
       "<div>\n",
       "<style scoped>\n",
       "    .dataframe tbody tr th:only-of-type {\n",
       "        vertical-align: middle;\n",
       "    }\n",
       "\n",
       "    .dataframe tbody tr th {\n",
       "        vertical-align: top;\n",
       "    }\n",
       "\n",
       "    .dataframe thead th {\n",
       "        text-align: right;\n",
       "    }\n",
       "</style>\n",
       "<table border=\"1\" class=\"dataframe\">\n",
       "  <thead>\n",
       "    <tr style=\"text-align: right;\">\n",
       "      <th></th>\n",
       "      <th>MAPE</th>\n",
       "      <th>R2 score</th>\n",
       "    </tr>\n",
       "  </thead>\n",
       "  <tbody>\n",
       "    <tr>\n",
       "      <th>Top 5</th>\n",
       "      <td>6.8822</td>\n",
       "      <td>0.9408</td>\n",
       "    </tr>\n",
       "    <tr>\n",
       "      <th>Top 4</th>\n",
       "      <td>6.8888</td>\n",
       "      <td>0.9408</td>\n",
       "    </tr>\n",
       "    <tr>\n",
       "      <th>All 6 model</th>\n",
       "      <td>6.9010</td>\n",
       "      <td>0.9396</td>\n",
       "    </tr>\n",
       "    <tr>\n",
       "      <th>Top 3</th>\n",
       "      <td>6.9023</td>\n",
       "      <td>0.9403</td>\n",
       "    </tr>\n",
       "    <tr>\n",
       "      <th>SVR</th>\n",
       "      <td>6.9797</td>\n",
       "      <td>0.9388</td>\n",
       "    </tr>\n",
       "    <tr>\n",
       "      <th>Ridge</th>\n",
       "      <td>7.2552</td>\n",
       "      <td>0.9365</td>\n",
       "    </tr>\n",
       "    <tr>\n",
       "      <th>ElasticNet</th>\n",
       "      <td>7.3247</td>\n",
       "      <td>0.9351</td>\n",
       "    </tr>\n",
       "    <tr>\n",
       "      <th>Lasso</th>\n",
       "      <td>7.3306</td>\n",
       "      <td>0.9351</td>\n",
       "    </tr>\n",
       "    <tr>\n",
       "      <th>LGBM</th>\n",
       "      <td>7.7815</td>\n",
       "      <td>0.9272</td>\n",
       "    </tr>\n",
       "    <tr>\n",
       "      <th>Random forest</th>\n",
       "      <td>9.7878</td>\n",
       "      <td>0.8832</td>\n",
       "    </tr>\n",
       "  </tbody>\n",
       "</table>\n",
       "</div>"
      ],
      "text/plain": [
       "                MAPE  R2 score\n",
       "Top 5         6.8822    0.9408\n",
       "Top 4         6.8888    0.9408\n",
       "All 6 model   6.9010    0.9396\n",
       "Top 3         6.9023    0.9403\n",
       "SVR           6.9797    0.9388\n",
       "Ridge         7.2552    0.9365\n",
       "ElasticNet    7.3247    0.9351\n",
       "Lasso         7.3306    0.9351\n",
       "LGBM          7.7815    0.9272\n",
       "Random forest 9.7878    0.8832"
      ]
     },
     "execution_count": 56,
     "metadata": {},
     "output_type": "execute_result"
    }
   ],
   "source": [
    "all_results_1 = pd.DataFrame({\n",
    "    \"Lasso\": lasso_result_1,\n",
    "    \"Ridge\": ridge_result_1,\n",
    "    \"ElasticNet\": elastic_result_1,\n",
    "    \"Random forest\": random_forest_result_1,\n",
    "    \"SVR\": SVR_result_1,\n",
    "    \"LGBM\": LGBM_result_1,\n",
    "    \"Top 3\": top_3_result,\n",
    "    \"Top 4\": top_4_result,\n",
    "    \"Top 5\": top_5_result,\n",
    "    \"All 6 model\": ensemble_result\n",
    "})\n",
    "\n",
    "all_results_1.transpose().sort_values(by=\"MAPE\", ascending=True)"
   ]
  },
  {
   "cell_type": "markdown",
   "id": "f25ac9ad-8d66-4b0e-928f-6549a5d49147",
   "metadata": {},
   "source": [
    "Hãy lấy ra các dự đoán sai nhất để quan sát"
   ]
  },
  {
   "cell_type": "code",
   "execution_count": 58,
   "id": "b4d55daa-f1b1-41a8-bf38-b232bf310aa0",
   "metadata": {},
   "outputs": [
    {
     "data": {
      "text/html": [
       "<div>\n",
       "<style scoped>\n",
       "    .dataframe tbody tr th:only-of-type {\n",
       "        vertical-align: middle;\n",
       "    }\n",
       "\n",
       "    .dataframe tbody tr th {\n",
       "        vertical-align: top;\n",
       "    }\n",
       "\n",
       "    .dataframe thead th {\n",
       "        text-align: right;\n",
       "    }\n",
       "</style>\n",
       "<table border=\"1\" class=\"dataframe\">\n",
       "  <thead>\n",
       "    <tr style=\"text-align: right;\">\n",
       "      <th></th>\n",
       "      <th>OverallQual</th>\n",
       "      <th>GrLivArea</th>\n",
       "      <th>GarageCars</th>\n",
       "      <th>Neighborhood</th>\n",
       "      <th>ExterQual</th>\n",
       "      <th>BsmtQual</th>\n",
       "      <th>KitchenQual</th>\n",
       "      <th>Price</th>\n",
       "      <th>Predict</th>\n",
       "      <th>Difference</th>\n",
       "    </tr>\n",
       "  </thead>\n",
       "  <tbody>\n",
       "    <tr>\n",
       "      <th>35</th>\n",
       "      <td>4.0000</td>\n",
       "      <td>864.0000</td>\n",
       "      <td>2.0000</td>\n",
       "      <td>NAmes</td>\n",
       "      <td>3.0000</td>\n",
       "      <td>3.0000</td>\n",
       "      <td>3.0000</td>\n",
       "      <td>97,000.0000</td>\n",
       "      <td>117,703.2936</td>\n",
       "      <td>21.3436</td>\n",
       "    </tr>\n",
       "    <tr>\n",
       "      <th>241</th>\n",
       "      <td>6.0000</td>\n",
       "      <td>987.0000</td>\n",
       "      <td>1.0000</td>\n",
       "      <td>BrDale</td>\n",
       "      <td>3.0000</td>\n",
       "      <td>3.0000</td>\n",
       "      <td>3.0000</td>\n",
       "      <td>83,000.0000</td>\n",
       "      <td>101,224.3931</td>\n",
       "      <td>21.9571</td>\n",
       "    </tr>\n",
       "    <tr>\n",
       "      <th>24</th>\n",
       "      <td>8.0000</td>\n",
       "      <td>1,752.0000</td>\n",
       "      <td>2.0000</td>\n",
       "      <td>Gilbert</td>\n",
       "      <td>4.0000</td>\n",
       "      <td>4.0000</td>\n",
       "      <td>3.0000</td>\n",
       "      <td>164,000.0000</td>\n",
       "      <td>204,200.6548</td>\n",
       "      <td>24.5126</td>\n",
       "    </tr>\n",
       "    <tr>\n",
       "      <th>277</th>\n",
       "      <td>4.0000</td>\n",
       "      <td>960.0000</td>\n",
       "      <td>1.0000</td>\n",
       "      <td>Edwards</td>\n",
       "      <td>3.0000</td>\n",
       "      <td>3.0000</td>\n",
       "      <td>3.0000</td>\n",
       "      <td>112,000.0000</td>\n",
       "      <td>84,364.2802</td>\n",
       "      <td>24.6747</td>\n",
       "    </tr>\n",
       "    <tr>\n",
       "      <th>18</th>\n",
       "      <td>5.0000</td>\n",
       "      <td>1,006.0000</td>\n",
       "      <td>0.0000</td>\n",
       "      <td>Sawyer</td>\n",
       "      <td>3.0000</td>\n",
       "      <td>3.0000</td>\n",
       "      <td>3.0000</td>\n",
       "      <td>80,000.0000</td>\n",
       "      <td>100,757.0869</td>\n",
       "      <td>25.9464</td>\n",
       "    </tr>\n",
       "    <tr>\n",
       "      <th>115</th>\n",
       "      <td>6.0000</td>\n",
       "      <td>2,201.0000</td>\n",
       "      <td>2.0000</td>\n",
       "      <td>Edwards</td>\n",
       "      <td>4.0000</td>\n",
       "      <td>4.0000</td>\n",
       "      <td>4.0000</td>\n",
       "      <td>274,970.0000</td>\n",
       "      <td>191,271.3842</td>\n",
       "      <td>30.4392</td>\n",
       "    </tr>\n",
       "    <tr>\n",
       "      <th>54</th>\n",
       "      <td>6.0000</td>\n",
       "      <td>1,392.0000</td>\n",
       "      <td>2.0000</td>\n",
       "      <td>NAmes</td>\n",
       "      <td>3.0000</td>\n",
       "      <td>2.0000</td>\n",
       "      <td>3.0000</td>\n",
       "      <td>110,000.0000</td>\n",
       "      <td>144,714.2308</td>\n",
       "      <td>31.5584</td>\n",
       "    </tr>\n",
       "    <tr>\n",
       "      <th>15</th>\n",
       "      <td>3.0000</td>\n",
       "      <td>894.0000</td>\n",
       "      <td>3.0000</td>\n",
       "      <td>IDOTRR</td>\n",
       "      <td>2.0000</td>\n",
       "      <td>3.0000</td>\n",
       "      <td>3.0000</td>\n",
       "      <td>81,000.0000</td>\n",
       "      <td>106,959.0007</td>\n",
       "      <td>32.0481</td>\n",
       "    </tr>\n",
       "    <tr>\n",
       "      <th>156</th>\n",
       "      <td>5.0000</td>\n",
       "      <td>1,140.0000</td>\n",
       "      <td>0.0000</td>\n",
       "      <td>Mitchel</td>\n",
       "      <td>3.0000</td>\n",
       "      <td>4.0000</td>\n",
       "      <td>3.0000</td>\n",
       "      <td>84,500.0000</td>\n",
       "      <td>137,291.9162</td>\n",
       "      <td>62.4756</td>\n",
       "    </tr>\n",
       "    <tr>\n",
       "      <th>158</th>\n",
       "      <td>8.0000</td>\n",
       "      <td>1,795.0000</td>\n",
       "      <td>3.0000</td>\n",
       "      <td>Somerst</td>\n",
       "      <td>4.0000</td>\n",
       "      <td>5.0000</td>\n",
       "      <td>4.0000</td>\n",
       "      <td>147,000.0000</td>\n",
       "      <td>287,289.1801</td>\n",
       "      <td>95.4348</td>\n",
       "    </tr>\n",
       "  </tbody>\n",
       "</table>\n",
       "</div>"
      ],
      "text/plain": [
       "     OverallQual  GrLivArea  GarageCars Neighborhood  ExterQual  BsmtQual  \\\n",
       "35        4.0000   864.0000      2.0000        NAmes     3.0000    3.0000   \n",
       "241       6.0000   987.0000      1.0000       BrDale     3.0000    3.0000   \n",
       "24        8.0000 1,752.0000      2.0000      Gilbert     4.0000    4.0000   \n",
       "277       4.0000   960.0000      1.0000      Edwards     3.0000    3.0000   \n",
       "18        5.0000 1,006.0000      0.0000       Sawyer     3.0000    3.0000   \n",
       "115       6.0000 2,201.0000      2.0000      Edwards     4.0000    4.0000   \n",
       "54        6.0000 1,392.0000      2.0000        NAmes     3.0000    2.0000   \n",
       "15        3.0000   894.0000      3.0000       IDOTRR     2.0000    3.0000   \n",
       "156       5.0000 1,140.0000      0.0000      Mitchel     3.0000    4.0000   \n",
       "158       8.0000 1,795.0000      3.0000      Somerst     4.0000    5.0000   \n",
       "\n",
       "     KitchenQual        Price      Predict  Difference  \n",
       "35        3.0000  97,000.0000 117,703.2936     21.3436  \n",
       "241       3.0000  83,000.0000 101,224.3931     21.9571  \n",
       "24        3.0000 164,000.0000 204,200.6548     24.5126  \n",
       "277       3.0000 112,000.0000  84,364.2802     24.6747  \n",
       "18        3.0000  80,000.0000 100,757.0869     25.9464  \n",
       "115       4.0000 274,970.0000 191,271.3842     30.4392  \n",
       "54        3.0000 110,000.0000 144,714.2308     31.5584  \n",
       "15        3.0000  81,000.0000 106,959.0007     32.0481  \n",
       "156       3.0000  84,500.0000 137,291.9162     62.4756  \n",
       "158       4.0000 147,000.0000 287,289.1801     95.4348  "
      ]
     },
     "execution_count": 58,
     "metadata": {},
     "output_type": "execute_result"
    }
   ],
   "source": [
    "columns = X_test.columns.to_list()\n",
    "dummy_columns = [x for x in columns if x not in numerical_columns]\n",
    "\n",
    "check_error_1 = pd.from_dummies(data=X_test[dummy_columns], sep=\"_\")\n",
    "check_error_1.reset_index(drop=True, inplace=True)\n",
    "\n",
    "check_error_2 = X_test[numerical_columns].reset_index(drop=True)\n",
    "\n",
    "check_error = pd.concat(objs=[check_error_2, check_error_1], axis=1)\n",
    "check_error[numerical_columns] = scaler.inverse_transform(check_error[numerical_columns])\n",
    "\n",
    "for f in skewed_features:\n",
    "    if f == \"SalePrice\":\n",
    "        continue\n",
    "    check_error[f] = np.expm1(check_error[f])\n",
    "    \n",
    "check_error[\"Price\"] = y_test.reset_index(drop=True)\n",
    "check_error[\"Predict\"] = top_5_model.predict(X=X_test)\n",
    "\n",
    "check_error[\"Price\"] = np.expm1(check_error[\"Price\"])\n",
    "check_error[\"Predict\"] = np.expm1(check_error[\"Predict\"])\n",
    "\n",
    "check_error[\"Difference\"] = (check_error[\"Predict\"] - check_error[\"Price\"]) / check_error[\"Price\"] * 100\n",
    "check_error[\"Difference\"] = check_error[\"Difference\"].abs()\n",
    "\n",
    "check_error.sort_values(by=\"Difference\", inplace=True)\n",
    "show_columns = [\"OverallQual\", \"GrLivArea\", \"GarageCars\", \"Neighborhood\", \"ExterQual\", \"BsmtQual\", \"KitchenQual\", \"Price\", \"Predict\", \"Difference\"]\n",
    "check_error[show_columns].tail(10)"
   ]
  },
  {
   "cell_type": "markdown",
   "id": "88e82ea7-fadf-417a-a02f-8cf57b1f2975",
   "metadata": {},
   "source": [
    "Dự đoán sai nhất của mô hình có vẻ là một điểm dữ liệu không chính xác. Tất cả các đặc trưng đều cho thấy đây là ngôi nhà tốt nhưng giá lại thấp hơn gần một nửa so với dự đoán.\n",
    "\n",
    "Thử nhóm dữ liệu theo 2 trường có ảnh hưởng lớn nhất là \"OverallQual\" và \"Neighborhood\""
   ]
  },
  {
   "cell_type": "code",
   "execution_count": 59,
   "id": "f0ce5400-53de-4b27-8d8f-7d87a8b892c9",
   "metadata": {},
   "outputs": [
    {
     "data": {
      "text/html": [
       "<div>\n",
       "<style scoped>\n",
       "    .dataframe tbody tr th:only-of-type {\n",
       "        vertical-align: middle;\n",
       "    }\n",
       "\n",
       "    .dataframe tbody tr th {\n",
       "        vertical-align: top;\n",
       "    }\n",
       "\n",
       "    .dataframe thead th {\n",
       "        text-align: right;\n",
       "    }\n",
       "</style>\n",
       "<table border=\"1\" class=\"dataframe\">\n",
       "  <thead>\n",
       "    <tr style=\"text-align: right;\">\n",
       "      <th></th>\n",
       "      <th>OverallQual</th>\n",
       "      <th>Neighborhood</th>\n",
       "      <th>Price</th>\n",
       "      <th>Predict</th>\n",
       "      <th>Difference</th>\n",
       "    </tr>\n",
       "  </thead>\n",
       "  <tbody>\n",
       "    <tr>\n",
       "      <th>14</th>\n",
       "      <td>5.0000</td>\n",
       "      <td>BrkSide</td>\n",
       "      <td>140,000.0000</td>\n",
       "      <td>121,989.1784</td>\n",
       "      <td>12.5431</td>\n",
       "    </tr>\n",
       "    <tr>\n",
       "      <th>29</th>\n",
       "      <td>6.0000</td>\n",
       "      <td>BrDale</td>\n",
       "      <td>89,466.6667</td>\n",
       "      <td>100,104.8121</td>\n",
       "      <td>12.6417</td>\n",
       "    </tr>\n",
       "    <tr>\n",
       "      <th>33</th>\n",
       "      <td>6.0000</td>\n",
       "      <td>Edwards</td>\n",
       "      <td>186,995.7143</td>\n",
       "      <td>163,891.9140</td>\n",
       "      <td>12.7366</td>\n",
       "    </tr>\n",
       "    <tr>\n",
       "      <th>21</th>\n",
       "      <td>5.0000</td>\n",
       "      <td>Mitchel</td>\n",
       "      <td>132,650.0000</td>\n",
       "      <td>139,812.1063</td>\n",
       "      <td>12.8018</td>\n",
       "    </tr>\n",
       "    <tr>\n",
       "      <th>30</th>\n",
       "      <td>6.0000</td>\n",
       "      <td>BrkSide</td>\n",
       "      <td>210,000.0000</td>\n",
       "      <td>182,443.5715</td>\n",
       "      <td>13.1221</td>\n",
       "    </tr>\n",
       "    <tr>\n",
       "      <th>69</th>\n",
       "      <td>8.0000</td>\n",
       "      <td>Somerst</td>\n",
       "      <td>246,113.6364</td>\n",
       "      <td>250,985.9051</td>\n",
       "      <td>13.2255</td>\n",
       "    </tr>\n",
       "    <tr>\n",
       "      <th>76</th>\n",
       "      <td>9.0000</td>\n",
       "      <td>Timber</td>\n",
       "      <td>378,500.0000</td>\n",
       "      <td>322,494.0313</td>\n",
       "      <td>14.7968</td>\n",
       "    </tr>\n",
       "    <tr>\n",
       "      <th>6</th>\n",
       "      <td>4.0000</td>\n",
       "      <td>IDOTRR</td>\n",
       "      <td>55,000.0000</td>\n",
       "      <td>65,009.5319</td>\n",
       "      <td>18.1991</td>\n",
       "    </tr>\n",
       "    <tr>\n",
       "      <th>64</th>\n",
       "      <td>8.0000</td>\n",
       "      <td>Gilbert</td>\n",
       "      <td>164,000.0000</td>\n",
       "      <td>204,200.6548</td>\n",
       "      <td>24.5126</td>\n",
       "    </tr>\n",
       "    <tr>\n",
       "      <th>2</th>\n",
       "      <td>3.0000</td>\n",
       "      <td>IDOTRR</td>\n",
       "      <td>81,000.0000</td>\n",
       "      <td>106,959.0007</td>\n",
       "      <td>32.0481</td>\n",
       "    </tr>\n",
       "  </tbody>\n",
       "</table>\n",
       "</div>"
      ],
      "text/plain": [
       "    OverallQual Neighborhood        Price      Predict  Difference\n",
       "14       5.0000      BrkSide 140,000.0000 121,989.1784     12.5431\n",
       "29       6.0000       BrDale  89,466.6667 100,104.8121     12.6417\n",
       "33       6.0000      Edwards 186,995.7143 163,891.9140     12.7366\n",
       "21       5.0000      Mitchel 132,650.0000 139,812.1063     12.8018\n",
       "30       6.0000      BrkSide 210,000.0000 182,443.5715     13.1221\n",
       "69       8.0000      Somerst 246,113.6364 250,985.9051     13.2255\n",
       "76       9.0000       Timber 378,500.0000 322,494.0313     14.7968\n",
       "6        4.0000       IDOTRR  55,000.0000  65,009.5319     18.1991\n",
       "64       8.0000      Gilbert 164,000.0000 204,200.6548     24.5126\n",
       "2        3.0000       IDOTRR  81,000.0000 106,959.0007     32.0481"
      ]
     },
     "execution_count": 59,
     "metadata": {},
     "output_type": "execute_result"
    }
   ],
   "source": [
    "check_mean_columns = [\"OverallQual\", \"Neighborhood\", \"Price\", \"Predict\", \"Difference\"]\n",
    "check_mean = check_error[check_mean_columns].groupby(by=[\"OverallQual\", \"Neighborhood\"], as_index=False).mean()\n",
    "\n",
    "check_mean.sort_values(by=\"Difference\", inplace=True)\n",
    "check_mean.tail(10)"
   ]
  },
  {
   "cell_type": "markdown",
   "id": "8b6fa589-573a-4b38-af73-091df2bc40d8",
   "metadata": {},
   "source": [
    "Dự đoán sai lệch thế nào với các nhóm \"OverallQual\""
   ]
  },
  {
   "cell_type": "code",
   "execution_count": 60,
   "id": "610d60b4-e602-448c-8112-01e8755f997e",
   "metadata": {},
   "outputs": [
    {
     "data": {
      "text/html": [
       "<div>\n",
       "<style scoped>\n",
       "    .dataframe tbody tr th:only-of-type {\n",
       "        vertical-align: middle;\n",
       "    }\n",
       "\n",
       "    .dataframe tbody tr th {\n",
       "        vertical-align: top;\n",
       "    }\n",
       "\n",
       "    .dataframe thead th {\n",
       "        text-align: right;\n",
       "    }\n",
       "</style>\n",
       "<table border=\"1\" class=\"dataframe\">\n",
       "  <thead>\n",
       "    <tr style=\"text-align: right;\">\n",
       "      <th></th>\n",
       "      <th>OverallQual</th>\n",
       "      <th>Price</th>\n",
       "      <th>Predict</th>\n",
       "      <th>Difference</th>\n",
       "    </tr>\n",
       "  </thead>\n",
       "  <tbody>\n",
       "    <tr>\n",
       "      <th>0</th>\n",
       "      <td>2.0000</td>\n",
       "      <td>60,000.0000</td>\n",
       "      <td>62,017.5918</td>\n",
       "      <td>4.5442</td>\n",
       "    </tr>\n",
       "    <tr>\n",
       "      <th>1</th>\n",
       "      <td>3.0000</td>\n",
       "      <td>88,000.0000</td>\n",
       "      <td>104,617.3416</td>\n",
       "      <td>19.8534</td>\n",
       "    </tr>\n",
       "    <tr>\n",
       "      <th>2</th>\n",
       "      <td>4.0000</td>\n",
       "      <td>109,885.0000</td>\n",
       "      <td>103,868.0568</td>\n",
       "      <td>10.8933</td>\n",
       "    </tr>\n",
       "    <tr>\n",
       "      <th>3</th>\n",
       "      <td>5.0000</td>\n",
       "      <td>134,381.8000</td>\n",
       "      <td>133,537.0730</td>\n",
       "      <td>5.8827</td>\n",
       "    </tr>\n",
       "    <tr>\n",
       "      <th>4</th>\n",
       "      <td>6.0000</td>\n",
       "      <td>161,409.4493</td>\n",
       "      <td>158,701.1485</td>\n",
       "      <td>7.5206</td>\n",
       "    </tr>\n",
       "    <tr>\n",
       "      <th>5</th>\n",
       "      <td>7.0000</td>\n",
       "      <td>197,990.7049</td>\n",
       "      <td>197,120.8030</td>\n",
       "      <td>5.3769</td>\n",
       "    </tr>\n",
       "    <tr>\n",
       "      <th>6</th>\n",
       "      <td>8.0000</td>\n",
       "      <td>266,853.6667</td>\n",
       "      <td>266,652.3410</td>\n",
       "      <td>7.9831</td>\n",
       "    </tr>\n",
       "    <tr>\n",
       "      <th>7</th>\n",
       "      <td>9.0000</td>\n",
       "      <td>363,897.6000</td>\n",
       "      <td>362,781.9523</td>\n",
       "      <td>6.3083</td>\n",
       "    </tr>\n",
       "    <tr>\n",
       "      <th>8</th>\n",
       "      <td>10.0000</td>\n",
       "      <td>458,475.0000</td>\n",
       "      <td>440,485.5441</td>\n",
       "      <td>3.9073</td>\n",
       "    </tr>\n",
       "  </tbody>\n",
       "</table>\n",
       "</div>"
      ],
      "text/plain": [
       "   OverallQual        Price      Predict  Difference\n",
       "0       2.0000  60,000.0000  62,017.5918      4.5442\n",
       "1       3.0000  88,000.0000 104,617.3416     19.8534\n",
       "2       4.0000 109,885.0000 103,868.0568     10.8933\n",
       "3       5.0000 134,381.8000 133,537.0730      5.8827\n",
       "4       6.0000 161,409.4493 158,701.1485      7.5206\n",
       "5       7.0000 197,990.7049 197,120.8030      5.3769\n",
       "6       8.0000 266,853.6667 266,652.3410      7.9831\n",
       "7       9.0000 363,897.6000 362,781.9523      6.3083\n",
       "8      10.0000 458,475.0000 440,485.5441      3.9073"
      ]
     },
     "execution_count": 60,
     "metadata": {},
     "output_type": "execute_result"
    }
   ],
   "source": [
    "check_error[[\"OverallQual\", \"Price\", \"Predict\", \"Difference\"]].groupby(by=[\"OverallQual\"], as_index=False).mean()"
   ]
  },
  {
   "cell_type": "markdown",
   "id": "f95c2d14-81df-45e2-b056-040aa2b062b4",
   "metadata": {},
   "source": [
    "Các ngôi nhà chất lượng thấp có dự đoán sai nhiều hơn"
   ]
  },
  {
   "cell_type": "code",
   "execution_count": 61,
   "id": "c4681c83-e95e-486c-bc25-f3b4ec5e3a05",
   "metadata": {},
   "outputs": [
    {
     "data": {
      "image/png": "[encoded data removed]",
      "text/plain": [
       "<Figure size 640x480 with 1 Axes>"
      ]
     },
     "metadata": {},
     "output_type": "display_data"
    }
   ],
   "source": [
    "sns.histplot(data[\"OverallQual\"])\n",
    "plt.show()"
   ]
  },
  {
   "cell_type": "markdown",
   "id": "e4835aa6-48bc-4076-acf0-adada7eae0b9",
   "metadata": {},
   "source": [
    "Ta sẽ cần thu thập thêm dữ liệu cho các ngôi nhà có chất lượng thấp < 4 và cao > 8\n",
    "\n",
    "Xem xét nhóm có dự đoán sai nhất \"OverallQual\" = 3 & \"Neighborhood\" = \"IDOTRR\""
   ]
  },
  {
   "cell_type": "code",
   "execution_count": 63,
   "id": "e40e7bd5-f3ce-40cb-a0c4-f3e9fd77469c",
   "metadata": {},
   "outputs": [
    {
     "data": {
      "text/html": [
       "<div>\n",
       "<style scoped>\n",
       "    .dataframe tbody tr th:only-of-type {\n",
       "        vertical-align: middle;\n",
       "    }\n",
       "\n",
       "    .dataframe tbody tr th {\n",
       "        vertical-align: top;\n",
       "    }\n",
       "\n",
       "    .dataframe thead th {\n",
       "        text-align: right;\n",
       "    }\n",
       "</style>\n",
       "<table border=\"1\" class=\"dataframe\">\n",
       "  <thead>\n",
       "    <tr style=\"text-align: right;\">\n",
       "      <th></th>\n",
       "      <th>OverallQual</th>\n",
       "      <th>GrLivArea</th>\n",
       "      <th>GarageCars</th>\n",
       "      <th>Neighborhood</th>\n",
       "      <th>ExterQual</th>\n",
       "      <th>BsmtQual</th>\n",
       "      <th>KitchenQual</th>\n",
       "      <th>SalePrice</th>\n",
       "    </tr>\n",
       "  </thead>\n",
       "  <tbody>\n",
       "    <tr>\n",
       "      <th>88</th>\n",
       "      <td>3</td>\n",
       "      <td>1,526.0000</td>\n",
       "      <td>0</td>\n",
       "      <td>IDOTRR</td>\n",
       "      <td>2.0000</td>\n",
       "      <td>3</td>\n",
       "      <td>2</td>\n",
       "      <td>85,000.0000</td>\n",
       "    </tr>\n",
       "    <tr>\n",
       "      <th>998</th>\n",
       "      <td>3</td>\n",
       "      <td>1,077.0000</td>\n",
       "      <td>1</td>\n",
       "      <td>IDOTRR</td>\n",
       "      <td>3.0000</td>\n",
       "      <td>3</td>\n",
       "      <td>3</td>\n",
       "      <td>91,000.0000</td>\n",
       "    </tr>\n",
       "    <tr>\n",
       "      <th>1061</th>\n",
       "      <td>3</td>\n",
       "      <td>894.0000</td>\n",
       "      <td>3</td>\n",
       "      <td>IDOTRR</td>\n",
       "      <td>2.0000</td>\n",
       "      <td>3</td>\n",
       "      <td>3</td>\n",
       "      <td>81,000.0000</td>\n",
       "    </tr>\n",
       "  </tbody>\n",
       "</table>\n",
       "</div>"
      ],
      "text/plain": [
       "      OverallQual  GrLivArea  GarageCars Neighborhood  ExterQual  BsmtQual  \\\n",
       "88              3 1,526.0000           0       IDOTRR     2.0000         3   \n",
       "998             3 1,077.0000           1       IDOTRR     3.0000         3   \n",
       "1061            3   894.0000           3       IDOTRR     2.0000         3   \n",
       "\n",
       "      KitchenQual   SalePrice  \n",
       "88              2 85,000.0000  \n",
       "998             3 91,000.0000  \n",
       "1061            3 81,000.0000  "
      ]
     },
     "execution_count": 63,
     "metadata": {},
     "output_type": "execute_result"
    }
   ],
   "source": [
    "check_price = data[[\"OverallQual\", \"GrLivArea\", \"GarageCars\", \"Neighborhood\", \"ExterQual\", \"BsmtQual\", \"KitchenQual\", \"SalePrice\"]].copy()\n",
    "\n",
    "for f in skewed_features:\n",
    "    if f in check_price.columns:\n",
    "        check_price[f] = np.expm1(check_price[f])\n",
    "\n",
    "check_price[(check_price[\"OverallQual\"] == 3) & (check_price[\"Neighborhood\"] == \"IDOTRR\")]"
   ]
  },
  {
   "cell_type": "markdown",
   "id": "01d4ce9b-7e44-4720-95c5-4e7184ad74f2",
   "metadata": {},
   "source": [
    "Chỉ có 3 điểm dữ liệu, điều này khiến mô hình dự đoán chưa chính xác\n",
    "\n",
    "Kiểm tra nhóm mà dự đoán sai nhất nằm trong đó"
   ]
  },
  {
   "cell_type": "code",
   "execution_count": 64,
   "id": "241f7125-cc62-4c55-8bb7-b5a05671d235",
   "metadata": {},
   "outputs": [
    {
     "data": {
      "text/html": [
       "<div>\n",
       "<style scoped>\n",
       "    .dataframe tbody tr th:only-of-type {\n",
       "        vertical-align: middle;\n",
       "    }\n",
       "\n",
       "    .dataframe tbody tr th {\n",
       "        vertical-align: top;\n",
       "    }\n",
       "\n",
       "    .dataframe thead th {\n",
       "        text-align: right;\n",
       "    }\n",
       "</style>\n",
       "<table border=\"1\" class=\"dataframe\">\n",
       "  <thead>\n",
       "    <tr style=\"text-align: right;\">\n",
       "      <th></th>\n",
       "      <th>OverallQual</th>\n",
       "      <th>GrLivArea</th>\n",
       "      <th>GarageCars</th>\n",
       "      <th>Neighborhood</th>\n",
       "      <th>ExterQual</th>\n",
       "      <th>BsmtQual</th>\n",
       "      <th>KitchenQual</th>\n",
       "      <th>Price</th>\n",
       "      <th>Predict</th>\n",
       "      <th>Difference</th>\n",
       "    </tr>\n",
       "  </thead>\n",
       "  <tbody>\n",
       "    <tr>\n",
       "      <th>158</th>\n",
       "      <td>8.0000</td>\n",
       "      <td>1,795.0000</td>\n",
       "      <td>3.0000</td>\n",
       "      <td>Somerst</td>\n",
       "      <td>4.0000</td>\n",
       "      <td>5.0000</td>\n",
       "      <td>4.0000</td>\n",
       "      <td>147,000.0000</td>\n",
       "      <td>287,289.1801</td>\n",
       "      <td>95.4348</td>\n",
       "    </tr>\n",
       "  </tbody>\n",
       "</table>\n",
       "</div>"
      ],
      "text/plain": [
       "     OverallQual  GrLivArea  GarageCars Neighborhood  ExterQual  BsmtQual  \\\n",
       "158       8.0000 1,795.0000      3.0000      Somerst     4.0000    5.0000   \n",
       "\n",
       "     KitchenQual        Price      Predict  Difference  \n",
       "158       4.0000 147,000.0000 287,289.1801     95.4348  "
      ]
     },
     "execution_count": 64,
     "metadata": {},
     "output_type": "execute_result"
    }
   ],
   "source": [
    "check_error[show_columns].tail(1)"
   ]
  },
  {
   "cell_type": "code",
   "execution_count": 65,
   "id": "c7d31820-96d9-4ec3-9b72-ed6331fb4109",
   "metadata": {},
   "outputs": [
    {
     "data": {
      "text/html": [
       "<div>\n",
       "<style scoped>\n",
       "    .dataframe tbody tr th:only-of-type {\n",
       "        vertical-align: middle;\n",
       "    }\n",
       "\n",
       "    .dataframe tbody tr th {\n",
       "        vertical-align: top;\n",
       "    }\n",
       "\n",
       "    .dataframe thead th {\n",
       "        text-align: right;\n",
       "    }\n",
       "</style>\n",
       "<table border=\"1\" class=\"dataframe\">\n",
       "  <thead>\n",
       "    <tr style=\"text-align: right;\">\n",
       "      <th></th>\n",
       "      <th>OverallQual</th>\n",
       "      <th>GrLivArea</th>\n",
       "      <th>GarageCars</th>\n",
       "      <th>ExterQual</th>\n",
       "      <th>BsmtQual</th>\n",
       "      <th>KitchenQual</th>\n",
       "      <th>SalePrice</th>\n",
       "    </tr>\n",
       "  </thead>\n",
       "  <tbody>\n",
       "    <tr>\n",
       "      <th>count</th>\n",
       "      <td>29.0000</td>\n",
       "      <td>29.0000</td>\n",
       "      <td>29.0000</td>\n",
       "      <td>29.0000</td>\n",
       "      <td>29.0000</td>\n",
       "      <td>29.0000</td>\n",
       "      <td>29.0000</td>\n",
       "    </tr>\n",
       "    <tr>\n",
       "      <th>mean</th>\n",
       "      <td>8.0000</td>\n",
       "      <td>1,729.8966</td>\n",
       "      <td>2.5172</td>\n",
       "      <td>3.9655</td>\n",
       "      <td>4.2069</td>\n",
       "      <td>4.1034</td>\n",
       "      <td>255,626.1379</td>\n",
       "    </tr>\n",
       "    <tr>\n",
       "      <th>std</th>\n",
       "      <td>0.0000</td>\n",
       "      <td>313.9503</td>\n",
       "      <td>0.5085</td>\n",
       "      <td>0.1857</td>\n",
       "      <td>0.4123</td>\n",
       "      <td>0.4093</td>\n",
       "      <td>55,302.6318</td>\n",
       "    </tr>\n",
       "    <tr>\n",
       "      <th>min</th>\n",
       "      <td>8.0000</td>\n",
       "      <td>1,247.0000</td>\n",
       "      <td>2.0000</td>\n",
       "      <td>3.0000</td>\n",
       "      <td>4.0000</td>\n",
       "      <td>3.0000</td>\n",
       "      <td>147,000.0000</td>\n",
       "    </tr>\n",
       "    <tr>\n",
       "      <th>25%</th>\n",
       "      <td>8.0000</td>\n",
       "      <td>1,563.0000</td>\n",
       "      <td>2.0000</td>\n",
       "      <td>4.0000</td>\n",
       "      <td>4.0000</td>\n",
       "      <td>4.0000</td>\n",
       "      <td>229,456.0000</td>\n",
       "    </tr>\n",
       "    <tr>\n",
       "      <th>50%</th>\n",
       "      <td>8.0000</td>\n",
       "      <td>1,636.0000</td>\n",
       "      <td>3.0000</td>\n",
       "      <td>4.0000</td>\n",
       "      <td>4.0000</td>\n",
       "      <td>4.0000</td>\n",
       "      <td>250,000.0000</td>\n",
       "    </tr>\n",
       "    <tr>\n",
       "      <th>75%</th>\n",
       "      <td>8.0000</td>\n",
       "      <td>1,939.0000</td>\n",
       "      <td>3.0000</td>\n",
       "      <td>4.0000</td>\n",
       "      <td>4.0000</td>\n",
       "      <td>4.0000</td>\n",
       "      <td>282,922.0000</td>\n",
       "    </tr>\n",
       "    <tr>\n",
       "      <th>max</th>\n",
       "      <td>8.0000</td>\n",
       "      <td>2,610.0000</td>\n",
       "      <td>3.0000</td>\n",
       "      <td>4.0000</td>\n",
       "      <td>5.0000</td>\n",
       "      <td>5.0000</td>\n",
       "      <td>423,000.0000</td>\n",
       "    </tr>\n",
       "  </tbody>\n",
       "</table>\n",
       "</div>"
      ],
      "text/plain": [
       "       OverallQual  GrLivArea  GarageCars  ExterQual  BsmtQual  KitchenQual  \\\n",
       "count      29.0000    29.0000     29.0000    29.0000   29.0000      29.0000   \n",
       "mean        8.0000 1,729.8966      2.5172     3.9655    4.2069       4.1034   \n",
       "std         0.0000   313.9503      0.5085     0.1857    0.4123       0.4093   \n",
       "min         8.0000 1,247.0000      2.0000     3.0000    4.0000       3.0000   \n",
       "25%         8.0000 1,563.0000      2.0000     4.0000    4.0000       4.0000   \n",
       "50%         8.0000 1,636.0000      3.0000     4.0000    4.0000       4.0000   \n",
       "75%         8.0000 1,939.0000      3.0000     4.0000    4.0000       4.0000   \n",
       "max         8.0000 2,610.0000      3.0000     4.0000    5.0000       5.0000   \n",
       "\n",
       "         SalePrice  \n",
       "count      29.0000  \n",
       "mean  255,626.1379  \n",
       "std    55,302.6318  \n",
       "min   147,000.0000  \n",
       "25%   229,456.0000  \n",
       "50%   250,000.0000  \n",
       "75%   282,922.0000  \n",
       "max   423,000.0000  "
      ]
     },
     "execution_count": 65,
     "metadata": {},
     "output_type": "execute_result"
    }
   ],
   "source": [
    "check_price[(check_price[\"OverallQual\"] == 8) & (check_price[\"Neighborhood\"] == \"Somerst\")].describe()"
   ]
  },
  {
   "cell_type": "markdown",
   "id": "e7160925-0171-4dbc-9910-c508f72d313c",
   "metadata": {},
   "source": [
    "Nhóm này có giá dao động khá lớn từ 147,000 tới 423,000. Nhưng các điểm dữ liệu khác được dự đoán không sai quá nhiều (trung bình dự đoán sao của nhóm là 13.22% so với điểm dữ liệu sai nhất là 95.4%), khả năng cao đây là điểm dữ liệu bất thường, sai sót."
   ]
  },
  {
   "cell_type": "code",
   "execution_count": 72,
   "id": "d4a07b11-bfb1-4892-84e4-64f29127ea95",
   "metadata": {},
   "outputs": [
    {
     "data": {
      "text/plain": [
       "[<matplotlib.lines.Line2D at 0x2af046635e0>]"
      ]
     },
     "execution_count": 72,
     "metadata": {},
     "output_type": "execute_result"
    },
    {
     "data": {
      "image/png": "[encoded data removed]",
      "text/plain": [
       "<Figure size 640x480 with 1 Axes>"
      ]
     },
     "metadata": {},
     "output_type": "display_data"
    }
   ],
   "source": [
    "sns.scatterplot(x=np.expm1(y_test), y=np.expm1(top_5_model.predict(X=X_test)))\n",
    "plt.plot([0, 500000], [0, 500000], \"r\")"
   ]
  },
  {
   "cell_type": "markdown",
   "id": "36264aeb-b72b-4ab1-bac9-d46f7338768b",
   "metadata": {},
   "source": [
    "Một số dữ liệu giá nhà có giá dao động lớn, hoặc chỉ có 1 vài ngôi nhà có đặc trưng như thế khiến mô hình dự đoán không được tốt lắm. Tuy nhiên số này không nhiều và nhìn chung mô hình học kết hợp của chúng ta làm việc khá tốt trên hầu hết dữ liệu.\n",
    "\n",
    "Muốn cải thiện ta sẽ cần thu thập thêm dữ liệu về các ngôi nhà có chất lượng thấp dưới 4 và cao trên 8 để mô hình của chúng ta có thể học hết được các thông tin giá nhà.\n",
    "\n",
    "Tạo lại mô hình, huấn luyện với toàn bộ dữ liệu và lưu chúng để có thể sử dụng sau này."
   ]
  },
  {
   "cell_type": "code",
   "execution_count": 37,
   "id": "268fe3ba-d646-4761-b3ef-2c1782c41fad",
   "metadata": {},
   "outputs": [],
   "source": [
    "X_scaler = MinMaxScaler()\n",
    "X_scaler.fit(X[numerical_columns])\n",
    "X[numerical_columns] = X_scaler.transform(X[numerical_columns])"
   ]
  },
  {
   "cell_type": "code",
   "execution_count": 17,
   "id": "3254f1c5-7162-46ae-8984-79126a385f5e",
   "metadata": {},
   "outputs": [
    {
     "data": {
      "text/plain": [
       "['../src/models/scaler.joblib']"
      ]
     },
     "execution_count": 17,
     "metadata": {},
     "output_type": "execute_result"
    }
   ],
   "source": [
    "joblib.dump(value=X_scaler, filename=\"../src/models/scaler.joblib\")"
   ]
  },
  {
   "cell_type": "code",
   "execution_count": 73,
   "id": "2cf5bef7-24b8-4afb-94a4-36b7b29643ef",
   "metadata": {},
   "outputs": [
    {
     "data": {
      "text/plain": [
       "['../src/models/ensemble_model.joblib']"
      ]
     },
     "execution_count": 73,
     "metadata": {},
     "output_type": "execute_result"
    }
   ],
   "source": [
    "top_5_model = VotingRegressor(estimators=top_5_estimators, weights=[6, 1, 1, 1, 1])\n",
    "top_5_model.fit(X, y)\n",
    "\n",
    "joblib.dump(value=top_5_model, filename=\"../src/models/ensemble_model.joblib\")"
   ]
  },
  {
   "cell_type": "markdown",
   "id": "e356e8e7-312e-47e8-9a68-b091c1446af1",
   "metadata": {},
   "source": [
    "Dự đoán bằng mô hình tốt nhất và submit để xem kết quả"
   ]
  },
  {
   "cell_type": "code",
   "execution_count": null,
   "id": "db026f15-802b-4f3d-a714-ba842bce796a",
   "metadata": {},
   "outputs": [],
   "source": [
    "test_data = pd.read_csv(filepath_or_buffer=\"../data/test.csv\")\n",
    "\n",
    "test_data[\"HouseAge\"] = test_data[\"YrSold\"] - test_data[\"YearBuilt\"]\n",
    "test_data[\"RemodelAge\"] = test_data[\"YrSold\"] - test_data[\"YearRemodAdd\"]\n",
    "\n",
    "test_data = test_data.drop(columns=[\"YearBuilt\", \"YearRemodAdd\", \"YrSold\"])\n",
    "\n",
    "mi_columns = ['OverallQual', 'GrLivArea', 'GarageCars', 'TotalBsmtSF', 'ExterQual', 'BsmtQual', 'KitchenQual', '1stFlrSF', 'GarageArea', 'HouseAge',\n",
    "              'MSSubClass', 'GarageFinish', 'FullBath', 'LotFrontage', '2ndFlrSF', 'LotArea', 'TotRmsAbvGrd', 'RemodelAge', 'BsmtFinSF1', 'HeatingQC',\n",
    "              'Fireplaces', 'OpenPorchSF', 'BsmtUnfSF', 'OverallCond', 'MasVnrArea', 'HalfBath', 'BsmtExposure', 'GarageCond', 'WoodDeckSF',\n",
    "              'GarageQual', 'CentralAir', 'BedroomAbvGr', 'BsmtCond', 'PavedDrive', 'KitchenAbvGr', 'BsmtFullBath', 'ExterCond', 'ScreenPorch',\n",
    "              'EnclosedPorch', 'BsmtHalfBath',\n",
    "              'Neighborhood', 'GarageType', 'Foundation', 'Exterior2nd', 'BsmtFinType1', 'Exterior1st', 'MSZoning', 'MasVnrType', 'LotShape',\n",
    "              'HouseStyle', 'SaleType', 'SaleCondition', 'Electrical', 'BldgType', 'BsmtFinType2', 'LandContour', 'Condition1', 'Heating', 'RoofStyle',\n",
    "              'LotConfig']\n",
    "test_data = test_data[mi_columns]\n",
    "\n",
    "nan_columns = test_data.columns[test_data.isna().any()]\n",
    "test_data[nan_columns].info()"
   ]
  },
  {
   "cell_type": "code",
   "execution_count": 55,
   "id": "6366bfe6-df86-4103-8e83-f5f6da39831a",
   "metadata": {},
   "outputs": [],
   "source": [
    "fillna_values = {\n",
    "    \"GarageCars\": 0,\n",
    "    \"TotalBsmtSF\": 0,\n",
    "    \"BsmtQual\": \"No_bsmt\",\n",
    "    \"KitchenQual\": \"No\",\n",
    "    \"GarageArea\": 0,\n",
    "    \"GarageFinish\": \"No_gara\",\n",
    "    \"LotFrontage\": 0,\n",
    "    \"BsmtFinSF1\": 0,\n",
    "    \"BsmtUnfSF\": 0,\n",
    "    \"MasVnrArea\": 0,\n",
    "    \"BsmtExposure\": \"No_bsmt\",\n",
    "    \"GarageCond\": \"No_gara\",\n",
    "    \"GarageQual\": \"No_gara\",\n",
    "    \"BsmtCond\": \"No_bsmt\",\n",
    "    \"BsmtFullBath\": 0,\n",
    "    \"BsmtHalfBath\": 0,\n",
    "    \"GarageType\": \"No_gara\",\n",
    "    \"Exterior2nd\": \"Other\",\n",
    "    \"BsmtFinType1\": \"No_bsmt\",\n",
    "    \"Exterior1st\": \"BrkComm\",  # Can not use \"Other\" as our train data don't has it\n",
    "    \"MSZoning\": \"C (all)\",\n",
    "    \"MasVnrType\": \"None\",\n",
    "    \"SaleType\": \"Oth\",\n",
    "    \"BsmtFinType2\": \"No_bsmt\"\n",
    "}\n",
    "test_data = test_data.fillna(value=fillna_values)"
   ]
  },
  {
   "cell_type": "code",
   "execution_count": 56,
   "id": "06ea14f8-b408-4476-bef0-1d777acb97b2",
   "metadata": {},
   "outputs": [],
   "source": [
    "test_data[\"ExterQual\"] = test_data[\"ExterQual\"].map({\"Po\": 1, \"Fa\": 2, \"TA\": 3, \"Gd\": 4, \"Ex\": 5})\n",
    "test_data[\"ExterCond\"] = test_data[\"ExterCond\"].map({\"Po\": 1, \"Fa\": 2, \"TA\": 3, \"Gd\": 4, \"Ex\": 5})\n",
    "test_data[\"BsmtQual\"] = test_data[\"BsmtQual\"].map({\"No_bsmt\": 0, \"Po\": 1, \"Fa\": 2, \"TA\": 3, \"Gd\": 4, \"Ex\": 5})\n",
    "test_data[\"BsmtCond\"] = test_data[\"BsmtCond\"].map({\"No_bsmt\": 0, \"Po\": 1, \"Fa\": 2, \"TA\": 3, \"Gd\": 4, \"Ex\": 5})\n",
    "test_data[\"BsmtExposure\"] = test_data[\"BsmtExposure\"].map({\"No_bsmt\": 0, \"No\": 1, \"Mn\": 2, \"Av\": 3, \"Gd\": 4, \"Ex\": 5})\n",
    "test_data[\"HeatingQC\"] = test_data[\"HeatingQC\"].map({\"Po\": 1, \"Fa\": 2, \"TA\": 3, \"Gd\": 4, \"Ex\": 5})\n",
    "test_data[\"CentralAir\"] = test_data[\"CentralAir\"].map({\"N\": 0, \"Y\": 1})\n",
    "test_data[\"KitchenQual\"] = test_data[\"KitchenQual\"].map({\"No\": 0, \"Po\": 1, \"Fa\": 2, \"TA\": 3, \"Gd\": 4, \"Ex\": 5})\n",
    "test_data[\"GarageFinish\"] = test_data[\"GarageFinish\"].map({\"No_gara\": 0, \"Unf\": 1, \"RFn\": 2, \"Fin\": 3})\n",
    "test_data[\"GarageQual\"] = test_data[\"GarageQual\"].map({\"No_gara\": 0, \"Po\": 1, \"Fa\": 2, \"TA\": 3, \"Gd\": 4, \"Ex\": 5})\n",
    "test_data[\"GarageCond\"] = test_data[\"GarageCond\"].map({\"No_gara\": 0, \"Po\": 1, \"Fa\": 2, \"TA\": 3, \"Gd\": 4, \"Ex\": 5})\n",
    "test_data[\"PavedDrive\"] = test_data[\"PavedDrive\"].map({\"N\": 0, \"P\": 1, \"Y\": 2})"
   ]
  },
  {
   "cell_type": "code",
   "execution_count": 57,
   "id": "7c821451-0f01-465e-b71c-8b33109647df",
   "metadata": {},
   "outputs": [],
   "source": [
    "for f in skewed_features:\n",
    "    if f in mi_columns:\n",
    "        test_data[f] = np.log1p(test_data[f])\n",
    "\n",
    "test_data = pd.get_dummies(data=test_data)"
   ]
  },
  {
   "cell_type": "code",
   "execution_count": 59,
   "id": "7b2a963d-1d18-4a35-bb93-369893230d35",
   "metadata": {},
   "outputs": [],
   "source": [
    "# Make sure all dummy columns in out test data\n",
    "one_hot_fields = ['Neighborhood_Blmngtn', 'Neighborhood_Blueste', 'Neighborhood_BrDale', 'Neighborhood_BrkSide', 'Neighborhood_ClearCr',\n",
    "                  'Neighborhood_CollgCr', 'Neighborhood_Crawfor', 'Neighborhood_Edwards', 'Neighborhood_Gilbert', 'Neighborhood_IDOTRR',\n",
    "                  'Neighborhood_MeadowV', 'Neighborhood_Mitchel', 'Neighborhood_NAmes', 'Neighborhood_NPkVill', 'Neighborhood_NWAmes',\n",
    "                  'Neighborhood_NoRidge', 'Neighborhood_NridgHt', 'Neighborhood_OldTown', 'Neighborhood_SWISU', 'Neighborhood_Sawyer',\n",
    "                  'Neighborhood_SawyerW', 'Neighborhood_Somerst', 'Neighborhood_StoneBr', 'Neighborhood_Timber', 'Neighborhood_Veenker',\n",
    "                  'GarageType_2Types', 'GarageType_Attchd', 'GarageType_Basment', 'GarageType_BuiltIn', 'GarageType_CarPort',\n",
    "                  'GarageType_Detchd', 'GarageType_No_gara',\n",
    "                  'Foundation_BrkTil', 'Foundation_CBlock', 'Foundation_PConc', 'Foundation_Slab', 'Foundation_Stone', 'Foundation_Wood',\n",
    "                  'Exterior2nd_AsbShng', 'Exterior2nd_AsphShn', 'Exterior2nd_Brk Cmn', 'Exterior2nd_BrkFace', 'Exterior2nd_CBlock',\n",
    "                  'Exterior2nd_CmentBd', 'Exterior2nd_HdBoard', 'Exterior2nd_ImStucc', 'Exterior2nd_MetalSd', 'Exterior2nd_Other',\n",
    "                  'Exterior2nd_Plywood', 'Exterior2nd_Stone', 'Exterior2nd_Stucco', 'Exterior2nd_VinylSd', 'Exterior2nd_Wd Sdng',\n",
    "                  'Exterior2nd_Wd Shng',\n",
    "                  'BsmtFinType1_ALQ', 'BsmtFinType1_BLQ', 'BsmtFinType1_GLQ', 'BsmtFinType1_LwQ', 'BsmtFinType1_No_bsmt',\n",
    "                  'BsmtFinType1_Rec', 'BsmtFinType1_Unf',\n",
    "                  'Exterior1st_AsbShng', 'Exterior1st_AsphShn', 'Exterior1st_BrkComm', 'Exterior1st_BrkFace', 'Exterior1st_CBlock',\n",
    "                  'Exterior1st_CemntBd', 'Exterior1st_HdBoard', 'Exterior1st_ImStucc', 'Exterior1st_MetalSd', 'Exterior1st_Plywood',\n",
    "                  'Exterior1st_Stone', 'Exterior1st_Stucco', 'Exterior1st_VinylSd', 'Exterior1st_Wd Sdng', 'Exterior1st_WdShing',\n",
    "                  'MSZoning_C (all)', 'MSZoning_FV', 'MSZoning_RH', 'MSZoning_RL', 'MSZoning_RM',\n",
    "                  'MasVnrType_BrkCmn', 'MasVnrType_BrkFace', 'MasVnrType_None', 'MasVnrType_Stone',\n",
    "                  'LotShape_IR1', 'LotShape_IR2', 'LotShape_IR3', 'LotShape_Reg',\n",
    "                  'HouseStyle_1.5Fin', 'HouseStyle_1.5Unf', 'HouseStyle_1Story', 'HouseStyle_2.5Fin', 'HouseStyle_2.5Unf',\n",
    "                  'HouseStyle_2Story', 'HouseStyle_SFoyer', 'HouseStyle_SLvl',\n",
    "                  'SaleType_COD', 'SaleType_CWD', 'SaleType_Con', 'SaleType_ConLD', 'SaleType_ConLI', 'SaleType_ConLw',\n",
    "                  'SaleType_New', 'SaleType_Oth', 'SaleType_WD',\n",
    "                  'SaleCondition_Abnorml', 'SaleCondition_AdjLand', 'SaleCondition_Alloca', 'SaleCondition_Family',\n",
    "                  'SaleCondition_Normal', 'SaleCondition_Partial',\n",
    "                  'Electrical_FuseA', 'Electrical_FuseF', 'Electrical_FuseP', 'Electrical_Mix', 'Electrical_None', 'Electrical_SBrkr',\n",
    "                  'BldgType_1Fam', 'BldgType_2fmCon', 'BldgType_Duplex', 'BldgType_Twnhs', 'BldgType_TwnhsE',\n",
    "                  'BsmtFinType2_ALQ', 'BsmtFinType2_BLQ', 'BsmtFinType2_GLQ', 'BsmtFinType2_LwQ', 'BsmtFinType2_No_bsmt',\n",
    "                  'BsmtFinType2_Rec', 'BsmtFinType2_Unf',\n",
    "                  'LandContour_Bnk', 'LandContour_HLS', 'LandContour_Low', 'LandContour_Lvl',\n",
    "                  'Condition1_Artery', 'Condition1_Feedr', 'Condition1_Norm', 'Condition1_PosA', 'Condition1_PosN',\n",
    "                  'Condition1_RRAe', 'Condition1_RRAn', 'Condition1_RRNe', 'Condition1_RRNn',\n",
    "                  'Heating_Floor', 'Heating_GasA', 'Heating_GasW', 'Heating_Grav', 'Heating_OthW', 'Heating_Wall',\n",
    "                  'RoofStyle_Flat', 'RoofStyle_Gable', 'RoofStyle_Gambrel', 'RoofStyle_Hip', 'RoofStyle_Mansard', 'RoofStyle_Shed',\n",
    "                  'LotConfig_Corner', 'LotConfig_CulDSac', 'LotConfig_FR2', 'LotConfig_FR3', 'LotConfig_Inside']\n",
    "for field in one_hot_fields:\n",
    "    if field not in test_data.columns:\n",
    "        test_data[field] = 0"
   ]
  },
  {
   "cell_type": "code",
   "execution_count": 20,
   "id": "8d56ef07-e75d-4ef2-a1e7-d7cff5cbc916",
   "metadata": {},
   "outputs": [],
   "source": [
    "scaler = joblib.load(filename=\"../src/models/scaler.joblib\")"
   ]
  },
  {
   "cell_type": "code",
   "execution_count": 60,
   "id": "6e987864-f3df-482c-b955-148d2629e755",
   "metadata": {},
   "outputs": [],
   "source": [
    "test_data[numerical_columns] = scaler.transform(test_data[numerical_columns])\n",
    "\n",
    "# Make sure test data has correct columns order\n",
    "test_data = test_data[X.columns]"
   ]
  },
  {
   "cell_type": "code",
   "execution_count": 35,
   "id": "e059934d-3e5d-42d1-bbe1-9645ddf06f06",
   "metadata": {},
   "outputs": [],
   "source": [
    "load_model = joblib.load(filename=\"../src/models/ensemble_model.joblib\")"
   ]
  },
  {
   "cell_type": "code",
   "execution_count": 62,
   "id": "9f81fcff-a68b-45b8-8eab-70ba46756a79",
   "metadata": {},
   "outputs": [],
   "source": [
    "predict = load_model.predict(X=test_data)\n",
    "\n",
    "submit = pd.DataFrame(data=np.expm1(predict), columns=[\"SalePrice\"])\n",
    "submit[\"Id\"] = test_data.index + 1461\n",
    "\n",
    "submit = submit[[\"Id\", \"SalePrice\"]]\n",
    "\n",
    "submit.to_csv(path_or_buf=\"../data/submit.csv\", index=False)"
   ]
  },
  {
   "cell_type": "markdown",
   "id": "7a1205d0-4d57-4094-8647-760483105625",
   "metadata": {},
   "source": [
    "Hạng 404 trên 4,237 teams tham gia (ghi nhận lúc nộp bài 10:06 AM 18 March 2023), cũng không phải quá tệ nhưng có nghĩa ta vẫn còn có thể cải thiện thêm kết quả của mình bằng feature engineer và các cách xây dựng, tinh chỉnh mô hình.\n",
    "\n",
    "Nếu xem các bài dự thi top sẽ thấy score rất cao thậm chí bằng 0 (dự đoán chính xác 100%). Vô xem tab thảo luận sẽ thấy họ đã cheat bằng cách lấy dữ liệu giá nhà bị rò rỉ để làm bài dự thi. Nếu loại ra các bài thi cheat này có lẽ thứ hạng của chúng ta còn cao hơn nữa."
   ]
  },
  {
   "cell_type": "markdown",
   "id": "9ef9efc0-fd94-4444-ac5a-f9c55b09d8cf",
   "metadata": {},
   "source": [
    "[Tìm tên team \"Nguyen Nguyen #5\"](https://www.kaggle.com/competitions/house-prices-advanced-regression-techniques/leaderboard#)"
   ]
  },
  {
   "cell_type": "markdown",
   "id": "ae75a7bc-dde3-4c52-b6c3-4194676faac2",
   "metadata": {},
   "source": [
    "Hiện tại ta đang cố đạt độ chính xác cao nhất trong dự đoán giá nhà. Khi xây dựng API cung cấp dự đoán ta có thể xem xét feature selection để chọn ít đặc trưng hơn nữa, cho dù phải đánh đổi lấy độ chính xác trong dự đoán. Vì hiện tại ta có tới 60 đặc trưng cần cung cấp thông tin cho việc dự đoán. Cá nhân tôi sẵn sàng đổi 1% độ chính xác nếu chỉ cần cung cấp một nửa số thông tin đó và 3% độ chính xác nếu chỉ cần cung cấp 10 - 15 thông tin thay vì 60 thông tin về ngôi nhà."
   ]
  }
 ],
 "metadata": {
  "kernelspec": {
   "display_name": "Python 3 (ipykernel)",
   "language": "python",
   "name": "python3"
  },
  "language_info": {
   "codemirror_mode": {
    "name": "ipython",
    "version": 3
   },
   "file_extension": ".py",
   "mimetype": "text/x-python",
   "name": "python",
   "nbconvert_exporter": "python",
   "pygments_lexer": "ipython3",
   "version": "3.9.7"
  }
 },
 "nbformat": 4,
 "nbformat_minor": 5
}
